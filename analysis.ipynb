{
 "cells": [
  {
   "cell_type": "markdown",
   "id": "0a5b2583-23de-403c-9a77-69fbafb0500f",
   "metadata": {},
   "source": [
    "# Aragon Association\n"
   ]
  },
  {
   "cell_type": "code",
   "execution_count": 1,
   "id": "d7fbeb54-0a72-4cfa-aa0e-2a364be3302b",
   "metadata": {
    "tags": []
   },
   "outputs": [
    {
     "data": {
      "text/html": [
       "<img src=\"https://assets.website-files.com/5e997428d0f2eb13a90aec8c/5ea0200074850783b428f55a_graph02.svg\"/>"
      ],
      "text/plain": [
       "<IPython.core.display.Image object>"
      ]
     },
     "execution_count": 1,
     "metadata": {},
     "output_type": "execute_result"
    }
   ],
   "source": [
    "from IPython.display import Image\n",
    "from IPython.core.display import HTML \n",
    "Image(url= \"https://assets.website-files.com/5e997428d0f2eb13a90aec8c/5ea0200074850783b428f55a_graph02.svg\")"
   ]
  },
  {
   "cell_type": "markdown",
   "id": "a6cec257-e5fa-4342-98e6-7de95fcef3ef",
   "metadata": {},
   "source": [
    "# Findings for the the Vochain community board"
   ]
  },
  {
   "cell_type": "code",
   "execution_count": 2,
   "id": "07d3ef11-783c-4db5-90fe-fc9ed98858bc",
   "metadata": {
    "tags": []
   },
   "outputs": [
    {
     "data": {
      "text/html": [
       "<img src=\"data:image/jpeg;base64,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\"/>"
      ],
      "text/plain": [
       "<IPython.core.display.Image object>"
      ]
     },
     "execution_count": 2,
     "metadata": {},
     "output_type": "execute_result"
    }
   ],
   "source": [
    "Image(url= \"data:image/jpeg;base64,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\")"
   ]
  },
  {
   "cell_type": "code",
   "execution_count": 3,
   "id": "1280d797-5475-4622-b101-3de7a8abb660",
   "metadata": {
    "tags": []
   },
   "outputs": [],
   "source": [
    "from _utils.voc_const import *\n",
    "from _const import *\n",
    "from datetime import timedelta\n",
    "import pandas as pd\n",
    "pd.set_option('display.max_rows', 500)\n",
    "pd.set_option('display.float_format', lambda x: '%.2f' % x)\n",
    "import plotly.express as px\n",
    "import plotly.io as pio\n",
    "import plotly.graph_objects as go\n",
    "pio.renderers.default = 'iframe_connected'\n",
    "\n",
    "from _utils._analysis import *\n",
    "from _utils._mongo import get_df_processes, col_envelopes, get_df_envelopes"
   ]
  },
  {
   "cell_type": "code",
   "execution_count": 4,
   "id": "b9874a37-dba7-4cd3-8078-46fc5b8981ef",
   "metadata": {
    "tags": []
   },
   "outputs": [],
   "source": [
    "# Load datasets\n",
    "df_processes = get_df_processes()\n",
    "# df_processes, MIN_KNOWN_DATE = add_time_cols(df_processes, AVG_BLOCK_TIME_SECS)\n",
    "df_envelopes = get_df_envelopes()"
   ]
  },
  {
   "cell_type": "code",
   "execution_count": 5,
   "id": "7217ad36-064e-4085-9822-d3adb53bc3a0",
   "metadata": {},
   "outputs": [
    {
     "data": {
      "text/plain": [
       "(168, 6)"
      ]
     },
     "execution_count": 5,
     "metadata": {},
     "output_type": "execute_result"
    }
   ],
   "source": [
    "df_processes.shape"
   ]
  },
  {
   "cell_type": "code",
   "execution_count": 6,
   "id": "c0c9b159-520d-45f4-885f-da4b0d87b5ca",
   "metadata": {},
   "outputs": [
    {
     "data": {
      "text/html": [
       "<div>\n",
       "<style scoped>\n",
       "    .dataframe tbody tr th:only-of-type {\n",
       "        vertical-align: middle;\n",
       "    }\n",
       "\n",
       "    .dataframe tbody tr th {\n",
       "        vertical-align: top;\n",
       "    }\n",
       "\n",
       "    .dataframe thead th {\n",
       "        text-align: right;\n",
       "    }\n",
       "</style>\n",
       "<table border=\"1\" class=\"dataframe\">\n",
       "  <thead>\n",
       "    <tr style=\"text-align: right;\">\n",
       "      <th></th>\n",
       "      <th>_id</th>\n",
       "      <th>creationTime</th>\n",
       "      <th>endBlock</th>\n",
       "      <th>startBlock</th>\n",
       "      <th>entityId</th>\n",
       "      <th>processId</th>\n",
       "    </tr>\n",
       "  </thead>\n",
       "  <tbody>\n",
       "    <tr>\n",
       "      <th>0</th>\n",
       "      <td>60bd100ee4899af574e8b1bb</td>\n",
       "      <td>2021-05-12T15:23:16Z</td>\n",
       "      <td>541</td>\n",
       "      <td>41</td>\n",
       "      <td>359e67ac4c5311cbd6571a20eaf6e879a466d154</td>\n",
       "      <td>53f31a0fb02a3ea7467e80ad250d43c935d3dc15924c40...</td>\n",
       "    </tr>\n",
       "    <tr>\n",
       "      <th>1</th>\n",
       "      <td>60bd100ee4899af574e8b1bc</td>\n",
       "      <td>2021-05-12T15:26:01Z</td>\n",
       "      <td>110179</td>\n",
       "      <td>39553</td>\n",
       "      <td>f0f8d83cdab2f9514bef0319f1b434267be36b5c</td>\n",
       "      <td>bf022de42ef2d7a5f9d9b2737843dfc88cf93253966124...</td>\n",
       "    </tr>\n",
       "    <tr>\n",
       "      <th>2</th>\n",
       "      <td>60bd100ee4899af574e8b1bd</td>\n",
       "      <td>2021-05-12T15:26:01Z</td>\n",
       "      <td>110178</td>\n",
       "      <td>40945</td>\n",
       "      <td>f0f8d83cdab2f9514bef0319f1b434267be36b5c</td>\n",
       "      <td>fe20607cf3f94060b3edc5d2ece161557d7359d10eb84f...</td>\n",
       "    </tr>\n",
       "    <tr>\n",
       "      <th>3</th>\n",
       "      <td>60bd100ee4899af574e8b1be</td>\n",
       "      <td>2021-05-12T15:26:01Z</td>\n",
       "      <td>168676</td>\n",
       "      <td>43325</td>\n",
       "      <td>f0f8d83cdab2f9514bef0319f1b434267be36b5c</td>\n",
       "      <td>853f582a39dbb70c48468a1685fac0d9b901a3014a75eb...</td>\n",
       "    </tr>\n",
       "    <tr>\n",
       "      <th>4</th>\n",
       "      <td>60bd100ee4899af574e8b1bf</td>\n",
       "      <td>2021-05-12T15:26:01Z</td>\n",
       "      <td>71897</td>\n",
       "      <td>317</td>\n",
       "      <td>f0f8d83cdab2f9514bef0319f1b434267be36b5c</td>\n",
       "      <td>631ada2c7b2fc4d5cb2a6cb68d945565d1471956becf63...</td>\n",
       "    </tr>\n",
       "  </tbody>\n",
       "</table>\n",
       "</div>"
      ],
      "text/plain": [
       "                        _id          creationTime  endBlock  startBlock  \\\n",
       "0  60bd100ee4899af574e8b1bb  2021-05-12T15:23:16Z       541          41   \n",
       "1  60bd100ee4899af574e8b1bc  2021-05-12T15:26:01Z    110179       39553   \n",
       "2  60bd100ee4899af574e8b1bd  2021-05-12T15:26:01Z    110178       40945   \n",
       "3  60bd100ee4899af574e8b1be  2021-05-12T15:26:01Z    168676       43325   \n",
       "4  60bd100ee4899af574e8b1bf  2021-05-12T15:26:01Z     71897         317   \n",
       "\n",
       "                                   entityId  \\\n",
       "0  359e67ac4c5311cbd6571a20eaf6e879a466d154   \n",
       "1  f0f8d83cdab2f9514bef0319f1b434267be36b5c   \n",
       "2  f0f8d83cdab2f9514bef0319f1b434267be36b5c   \n",
       "3  f0f8d83cdab2f9514bef0319f1b434267be36b5c   \n",
       "4  f0f8d83cdab2f9514bef0319f1b434267be36b5c   \n",
       "\n",
       "                                           processId  \n",
       "0  53f31a0fb02a3ea7467e80ad250d43c935d3dc15924c40...  \n",
       "1  bf022de42ef2d7a5f9d9b2737843dfc88cf93253966124...  \n",
       "2  fe20607cf3f94060b3edc5d2ece161557d7359d10eb84f...  \n",
       "3  853f582a39dbb70c48468a1685fac0d9b901a3014a75eb...  \n",
       "4  631ada2c7b2fc4d5cb2a6cb68d945565d1471956becf63...  "
      ]
     },
     "execution_count": 6,
     "metadata": {},
     "output_type": "execute_result"
    }
   ],
   "source": [
    "df_processes.head()"
   ]
  },
  {
   "cell_type": "code",
   "execution_count": 7,
   "id": "9755f09c-599f-462d-863a-835fe46ce4bc",
   "metadata": {},
   "outputs": [
    {
     "data": {
      "text/plain": [
       "(30544, 6)"
      ]
     },
     "execution_count": 7,
     "metadata": {},
     "output_type": "execute_result"
    }
   ],
   "source": [
    "df_envelopes.shape"
   ]
  },
  {
   "cell_type": "code",
   "execution_count": 8,
   "id": "13c82aee-e0f8-4c49-b3d5-4b0c562a6cda",
   "metadata": {},
   "outputs": [
    {
     "data": {
      "text/html": [
       "<div>\n",
       "<style scoped>\n",
       "    .dataframe tbody tr th:only-of-type {\n",
       "        vertical-align: middle;\n",
       "    }\n",
       "\n",
       "    .dataframe tbody tr th {\n",
       "        vertical-align: top;\n",
       "    }\n",
       "\n",
       "    .dataframe thead th {\n",
       "        text-align: right;\n",
       "    }\n",
       "</style>\n",
       "<table border=\"1\" class=\"dataframe\">\n",
       "  <thead>\n",
       "    <tr style=\"text-align: right;\">\n",
       "      <th></th>\n",
       "      <th>_id</th>\n",
       "      <th>height</th>\n",
       "      <th>nullifier</th>\n",
       "      <th>process_id</th>\n",
       "      <th>weight</th>\n",
       "      <th>vote_ts</th>\n",
       "    </tr>\n",
       "  </thead>\n",
       "  <tbody>\n",
       "    <tr>\n",
       "      <th>0</th>\n",
       "      <td>60bd100ee4899af574e8b263</td>\n",
       "      <td>42</td>\n",
       "      <td>00c5a14b3aa62f810fd829e076fd8b46d52fe5a709a738...</td>\n",
       "      <td>53f31a0fb02a3ea7467e80ad250d43c935d3dc15924c40...</td>\n",
       "      <td>1</td>\n",
       "      <td>2021-05-12 15:27:28</td>\n",
       "    </tr>\n",
       "    <tr>\n",
       "      <th>1</th>\n",
       "      <td>60bd100ee4899af574e8b264</td>\n",
       "      <td>42</td>\n",
       "      <td>012de59c7121f8f9d97edcfc43b7504c7e89a9312bc6ac...</td>\n",
       "      <td>53f31a0fb02a3ea7467e80ad250d43c935d3dc15924c40...</td>\n",
       "      <td>1</td>\n",
       "      <td>2021-05-12 15:27:28</td>\n",
       "    </tr>\n",
       "    <tr>\n",
       "      <th>2</th>\n",
       "      <td>60bd100ee4899af574e8b265</td>\n",
       "      <td>42</td>\n",
       "      <td>01be3123076729594d89e457a46a7b3751b3fd25f1ef29...</td>\n",
       "      <td>53f31a0fb02a3ea7467e80ad250d43c935d3dc15924c40...</td>\n",
       "      <td>1</td>\n",
       "      <td>2021-05-12 15:27:28</td>\n",
       "    </tr>\n",
       "    <tr>\n",
       "      <th>3</th>\n",
       "      <td>60bd100ee4899af574e8b266</td>\n",
       "      <td>42</td>\n",
       "      <td>020a34edc52b6d5281580fea3857dfc8bce9a322984b15...</td>\n",
       "      <td>53f31a0fb02a3ea7467e80ad250d43c935d3dc15924c40...</td>\n",
       "      <td>1</td>\n",
       "      <td>2021-05-12 15:27:28</td>\n",
       "    </tr>\n",
       "    <tr>\n",
       "      <th>4</th>\n",
       "      <td>60bd100ee4899af574e8b267</td>\n",
       "      <td>42</td>\n",
       "      <td>0234a78af57502e716ac6ca9616359f660cdf76b33febb...</td>\n",
       "      <td>53f31a0fb02a3ea7467e80ad250d43c935d3dc15924c40...</td>\n",
       "      <td>1</td>\n",
       "      <td>2021-05-12 15:27:28</td>\n",
       "    </tr>\n",
       "  </tbody>\n",
       "</table>\n",
       "</div>"
      ],
      "text/plain": [
       "                        _id  height  \\\n",
       "0  60bd100ee4899af574e8b263      42   \n",
       "1  60bd100ee4899af574e8b264      42   \n",
       "2  60bd100ee4899af574e8b265      42   \n",
       "3  60bd100ee4899af574e8b266      42   \n",
       "4  60bd100ee4899af574e8b267      42   \n",
       "\n",
       "                                           nullifier  \\\n",
       "0  00c5a14b3aa62f810fd829e076fd8b46d52fe5a709a738...   \n",
       "1  012de59c7121f8f9d97edcfc43b7504c7e89a9312bc6ac...   \n",
       "2  01be3123076729594d89e457a46a7b3751b3fd25f1ef29...   \n",
       "3  020a34edc52b6d5281580fea3857dfc8bce9a322984b15...   \n",
       "4  0234a78af57502e716ac6ca9616359f660cdf76b33febb...   \n",
       "\n",
       "                                          process_id weight  \\\n",
       "0  53f31a0fb02a3ea7467e80ad250d43c935d3dc15924c40...      1   \n",
       "1  53f31a0fb02a3ea7467e80ad250d43c935d3dc15924c40...      1   \n",
       "2  53f31a0fb02a3ea7467e80ad250d43c935d3dc15924c40...      1   \n",
       "3  53f31a0fb02a3ea7467e80ad250d43c935d3dc15924c40...      1   \n",
       "4  53f31a0fb02a3ea7467e80ad250d43c935d3dc15924c40...      1   \n",
       "\n",
       "              vote_ts  \n",
       "0 2021-05-12 15:27:28  \n",
       "1 2021-05-12 15:27:28  \n",
       "2 2021-05-12 15:27:28  \n",
       "3 2021-05-12 15:27:28  \n",
       "4 2021-05-12 15:27:28  "
      ]
     },
     "execution_count": 8,
     "metadata": {},
     "output_type": "execute_result"
    }
   ],
   "source": [
    "df_envelopes.head()"
   ]
  },
  {
   "cell_type": "markdown",
   "id": "cda7d10d-3f90-492b-9975-b05f5d098369",
   "metadata": {},
   "source": [
    "---"
   ]
  },
  {
   "cell_type": "markdown",
   "id": "fcb298ee-ad72-4f32-9646-86ca3f4f4be5",
   "metadata": {},
   "source": [
    "# General metrics\n",
    "Our general metrics for `entities`, `processes` and  `envelopes` are the following:\n",
    "\n",
    "*(Each point is one day)*"
   ]
  },
  {
   "cell_type": "code",
   "execution_count": 9,
   "id": "9a4ea0d4-916d-4482-8744-befc2da8b431",
   "metadata": {},
   "outputs": [],
   "source": [
    "global_indicators = globalIndicadors(df_processes, df_envelopes, AVG_BLOCK_TIME_SECS)"
   ]
  },
  {
   "cell_type": "code",
   "execution_count": 10,
   "id": "9adf0c07-c9ad-46dd-a7e2-658d99eb1b8e",
   "metadata": {},
   "outputs": [
    {
     "data": {
      "text/html": [
       "<iframe\n",
       "    scrolling=\"no\"\n",
       "    width=\"100%\"\n",
       "    height=\"545px\"\n",
       "    src=\"iframe_figures/figure_10.html\"\n",
       "    frameborder=\"0\"\n",
       "    allowfullscreen\n",
       "></iframe>\n"
      ]
     },
     "metadata": {},
     "output_type": "display_data"
    }
   ],
   "source": [
    "global_indicators.plot_processes()"
   ]
  },
  {
   "cell_type": "markdown",
   "id": "7acc4e87-3f9b-40b1-9e65-61418a1d15f3",
   "metadata": {},
   "source": [
    "### Processes are having a consisten growth up to 168 (8 more than last measure)"
   ]
  },
  {
   "cell_type": "markdown",
   "id": "2c64a0d1-4f65-4e84-a2ba-c05075400fd1",
   "metadata": {},
   "source": [
    "---"
   ]
  },
  {
   "cell_type": "code",
   "execution_count": 11,
   "id": "36ed8579-ac9f-46fb-969f-a4a485fd9f99",
   "metadata": {},
   "outputs": [
    {
     "data": {
      "text/html": [
       "<iframe\n",
       "    scrolling=\"no\"\n",
       "    width=\"100%\"\n",
       "    height=\"545px\"\n",
       "    src=\"iframe_figures/figure_11.html\"\n",
       "    frameborder=\"0\"\n",
       "    allowfullscreen\n",
       "></iframe>\n"
      ]
     },
     "metadata": {},
     "output_type": "display_data"
    }
   ],
   "source": [
    "global_indicators.plot_entities()"
   ]
  },
  {
   "cell_type": "markdown",
   "id": "dbbb4450-1afe-4c25-8193-5a4dd6993147",
   "metadata": {},
   "source": [
    "### Entities count is flat around 61 (1 more than last measure)"
   ]
  },
  {
   "cell_type": "markdown",
   "id": "78daab3e-84b4-4f2c-b0e7-640ef8040442",
   "metadata": {},
   "source": [
    "---"
   ]
  },
  {
   "cell_type": "code",
   "execution_count": 12,
   "id": "88577a91-3b61-423d-8ec2-eb0c0a590c72",
   "metadata": {},
   "outputs": [
    {
     "data": {
      "text/html": [
       "<iframe\n",
       "    scrolling=\"no\"\n",
       "    width=\"100%\"\n",
       "    height=\"545px\"\n",
       "    src=\"iframe_figures/figure_12.html\"\n",
       "    frameborder=\"0\"\n",
       "    allowfullscreen\n",
       "></iframe>\n"
      ]
     },
     "metadata": {},
     "output_type": "display_data"
    }
   ],
   "source": [
    "global_indicators.plot_votes()"
   ]
  },
  {
   "cell_type": "markdown",
   "id": "f02f6480-111e-4f49-b927-e989fe61fe8e",
   "metadata": {},
   "source": [
    "### Votes count is flat around 30K (only 2 more than last measure)\n",
    "We can see a huge increase in during 13/05/2021 and being flat since then."
   ]
  },
  {
   "cell_type": "code",
   "execution_count": 13,
   "id": "c202fae2-ad82-46ee-8b14-68d72eea1b6e",
   "metadata": {},
   "outputs": [
    {
     "data": {
      "text/html": [
       "<div>\n",
       "<style scoped>\n",
       "    .dataframe tbody tr th:only-of-type {\n",
       "        vertical-align: middle;\n",
       "    }\n",
       "\n",
       "    .dataframe tbody tr th {\n",
       "        vertical-align: top;\n",
       "    }\n",
       "\n",
       "    .dataframe thead th {\n",
       "        text-align: right;\n",
       "    }\n",
       "</style>\n",
       "<table border=\"1\" class=\"dataframe\">\n",
       "  <thead>\n",
       "    <tr style=\"text-align: right;\">\n",
       "      <th></th>\n",
       "      <th>nullifier</th>\n",
       "    </tr>\n",
       "    <tr>\n",
       "      <th>vote_ts</th>\n",
       "      <th></th>\n",
       "    </tr>\n",
       "  </thead>\n",
       "  <tbody>\n",
       "    <tr>\n",
       "      <th>2021-05-12 00:00:00+00:00</th>\n",
       "      <td>275</td>\n",
       "    </tr>\n",
       "    <tr>\n",
       "      <th>2021-05-13 00:00:00+00:00</th>\n",
       "      <td>30541</td>\n",
       "    </tr>\n",
       "    <tr>\n",
       "      <th>2021-05-14 00:00:00+00:00</th>\n",
       "      <td>30541</td>\n",
       "    </tr>\n",
       "    <tr>\n",
       "      <th>2021-05-15 00:00:00+00:00</th>\n",
       "      <td>30541</td>\n",
       "    </tr>\n",
       "    <tr>\n",
       "      <th>2021-05-16 00:00:00+00:00</th>\n",
       "      <td>30541</td>\n",
       "    </tr>\n",
       "    <tr>\n",
       "      <th>2021-05-17 00:00:00+00:00</th>\n",
       "      <td>30541</td>\n",
       "    </tr>\n",
       "    <tr>\n",
       "      <th>2021-05-18 00:00:00+00:00</th>\n",
       "      <td>30541</td>\n",
       "    </tr>\n",
       "    <tr>\n",
       "      <th>2021-05-19 00:00:00+00:00</th>\n",
       "      <td>30542</td>\n",
       "    </tr>\n",
       "    <tr>\n",
       "      <th>2021-05-20 00:00:00+00:00</th>\n",
       "      <td>30542</td>\n",
       "    </tr>\n",
       "    <tr>\n",
       "      <th>2021-05-21 00:00:00+00:00</th>\n",
       "      <td>30542</td>\n",
       "    </tr>\n",
       "    <tr>\n",
       "      <th>2021-05-22 00:00:00+00:00</th>\n",
       "      <td>30542</td>\n",
       "    </tr>\n",
       "    <tr>\n",
       "      <th>2021-05-23 00:00:00+00:00</th>\n",
       "      <td>30544</td>\n",
       "    </tr>\n",
       "  </tbody>\n",
       "</table>\n",
       "</div>"
      ],
      "text/plain": [
       "                           nullifier\n",
       "vote_ts                             \n",
       "2021-05-12 00:00:00+00:00        275\n",
       "2021-05-13 00:00:00+00:00      30541\n",
       "2021-05-14 00:00:00+00:00      30541\n",
       "2021-05-15 00:00:00+00:00      30541\n",
       "2021-05-16 00:00:00+00:00      30541\n",
       "2021-05-17 00:00:00+00:00      30541\n",
       "2021-05-18 00:00:00+00:00      30541\n",
       "2021-05-19 00:00:00+00:00      30542\n",
       "2021-05-20 00:00:00+00:00      30542\n",
       "2021-05-21 00:00:00+00:00      30542\n",
       "2021-05-22 00:00:00+00:00      30542\n",
       "2021-05-23 00:00:00+00:00      30544"
      ]
     },
     "execution_count": 13,
     "metadata": {},
     "output_type": "execute_result"
    }
   ],
   "source": [
    "global_indicators.votes_evol.to_frame()"
   ]
  },
  {
   "cell_type": "markdown",
   "id": "c1e14b23-0ebb-4749-ae6d-f229fae0f0ba",
   "metadata": {},
   "source": [
    "---"
   ]
  },
  {
   "cell_type": "code",
   "execution_count": 14,
   "id": "a8327125-408c-4dd9-b5a2-d891f413070d",
   "metadata": {},
   "outputs": [
    {
     "data": {
      "text/html": [
       "<iframe\n",
       "    scrolling=\"no\"\n",
       "    width=\"100%\"\n",
       "    height=\"545px\"\n",
       "    src=\"iframe_figures/figure_14.html\"\n",
       "    frameborder=\"0\"\n",
       "    allowfullscreen\n",
       "></iframe>\n"
      ]
     },
     "metadata": {},
     "output_type": "display_data"
    }
   ],
   "source": [
    "global_indicators.plot_votes_per_process()"
   ]
  },
  {
   "cell_type": "code",
   "execution_count": 15,
   "id": "0ee6b7b5-29b0-42d8-a784-c0ff265bdd81",
   "metadata": {},
   "outputs": [
    {
     "name": "stdout",
     "output_type": "stream",
     "text": [
      "Proccesess with votes:  26\n"
     ]
    }
   ],
   "source": [
    "print(\"Proccesess with votes: \", len(global_indicators.votes_per_process))"
   ]
  },
  {
   "cell_type": "markdown",
   "id": "192473b7-fc5f-499c-8b56-750a609a0fa6",
   "metadata": {},
   "source": [
    "From 168 `processes`, 26 had votes (15%)."
   ]
  },
  {
   "cell_type": "markdown",
   "id": "937a26d7-3603-4e71-99da-61a070c56cb0",
   "metadata": {},
   "source": [
    "---"
   ]
  },
  {
   "cell_type": "code",
   "execution_count": 16,
   "id": "0c695145-6635-4e37-8e54-219fac12a7ce",
   "metadata": {},
   "outputs": [
    {
     "data": {
      "text/html": [
       "<iframe\n",
       "    scrolling=\"no\"\n",
       "    width=\"100%\"\n",
       "    height=\"545px\"\n",
       "    src=\"iframe_figures/figure_16.html\"\n",
       "    frameborder=\"0\"\n",
       "    allowfullscreen\n",
       "></iframe>\n"
      ]
     },
     "metadata": {},
     "output_type": "display_data"
    }
   ],
   "source": [
    "global_indicators.plot_votes_per_entity()\n"
   ]
  },
  {
   "cell_type": "code",
   "execution_count": 17,
   "id": "18bc2c69-b371-4f95-8d7e-2f23be936dfe",
   "metadata": {},
   "outputs": [
    {
     "name": "stdout",
     "output_type": "stream",
     "text": [
      "Descriptive stats: \n",
      " count     61.00\n",
      "mean     500.72\n",
      "std     2127.29\n",
      "min        0.00\n",
      "25%        0.00\n",
      "50%        0.00\n",
      "75%        1.00\n",
      "max     9932.00\n",
      "Name: votes_count, dtype: float64\n"
     ]
    }
   ],
   "source": [
    "print(\"Descriptive stats: \\n\", global_indicators.votes_per_entity.describe())"
   ]
  },
  {
   "cell_type": "markdown",
   "id": "2a4cb641-1d50-44b1-92c6-62f45e096136",
   "metadata": {},
   "source": [
    "From 61 `entities`, 16 processes with votes (26%).\n",
    "Mean is affected by outliers (mean 500 but median is 0)."
   ]
  },
  {
   "cell_type": "code",
   "execution_count": 18,
   "id": "9746830a-1fa5-43e8-951b-75691c00189e",
   "metadata": {},
   "outputs": [
    {
     "name": "stdout",
     "output_type": "stream",
     "text": [
      "Entities with votes:  17\n"
     ]
    }
   ],
   "source": [
    "print(\"Entities with votes: \", (global_indicators.votes_per_entity > 0 ).sum())\n"
   ]
  },
  {
   "cell_type": "markdown",
   "id": "59950ae9-1dbd-4089-b1fd-c1b579707838",
   "metadata": {},
   "source": [
    "---"
   ]
  },
  {
   "cell_type": "code",
   "execution_count": 19,
   "id": "91373224-3c90-4db8-b70f-7faf6a6989f9",
   "metadata": {},
   "outputs": [
    {
     "data": {
      "text/html": [
       "<iframe\n",
       "    scrolling=\"no\"\n",
       "    width=\"100%\"\n",
       "    height=\"545px\"\n",
       "    src=\"iframe_figures/figure_19.html\"\n",
       "    frameborder=\"0\"\n",
       "    allowfullscreen\n",
       "></iframe>\n"
      ]
     },
     "metadata": {},
     "output_type": "display_data"
    }
   ],
   "source": [
    "global_indicators.plot_processes_per_entity()"
   ]
  },
  {
   "cell_type": "code",
   "execution_count": 20,
   "id": "e5476174-82be-430e-8f4c-e507f12221f5",
   "metadata": {},
   "outputs": [
    {
     "name": "stdout",
     "output_type": "stream",
     "text": [
      "Descriptive stats: \n",
      " count   61.00\n",
      "mean     2.75\n",
      "std      7.69\n",
      "min      1.00\n",
      "25%      1.00\n",
      "50%      1.00\n",
      "75%      1.00\n",
      "max     55.00\n",
      "Name: processId, dtype: float64\n"
     ]
    }
   ],
   "source": [
    "print(\"Descriptive stats: \\n\", global_indicators.processes_per_entity.describe())"
   ]
  },
  {
   "cell_type": "markdown",
   "id": "e90db6d3-d1d6-4462-88ed-4c4b29aee4e3",
   "metadata": {},
   "source": [
    "Wide majority of entities have only one process, being 55 the max. for `f0f8d83cdab2f9514bef0319f1b434267be36b5c`\n",
    "\n",
    "Although entity `e50a97585b8a530677a0402e8df7e1424e3a31f7` has only 1 process, it's the one with most votes (9.9k)"
   ]
  },
  {
   "cell_type": "code",
   "execution_count": 21,
   "id": "8456cd4e-f760-460a-ac64-0c93064503c3",
   "metadata": {},
   "outputs": [
    {
     "data": {
      "text/html": [
       "<div>\n",
       "<style scoped>\n",
       "    .dataframe tbody tr th:only-of-type {\n",
       "        vertical-align: middle;\n",
       "    }\n",
       "\n",
       "    .dataframe tbody tr th {\n",
       "        vertical-align: top;\n",
       "    }\n",
       "\n",
       "    .dataframe thead th {\n",
       "        text-align: right;\n",
       "    }\n",
       "</style>\n",
       "<table border=\"1\" class=\"dataframe\">\n",
       "  <thead>\n",
       "    <tr style=\"text-align: right;\">\n",
       "      <th></th>\n",
       "      <th>_id</th>\n",
       "      <th>creationTime</th>\n",
       "      <th>endBlock</th>\n",
       "      <th>startBlock</th>\n",
       "      <th>entityId</th>\n",
       "      <th>processId</th>\n",
       "      <th>blocks</th>\n",
       "      <th>proccess_duration_d</th>\n",
       "      <th>creationTime_ts</th>\n",
       "      <th>endingTime_ts</th>\n",
       "      <th>votes_count</th>\n",
       "    </tr>\n",
       "  </thead>\n",
       "  <tbody>\n",
       "    <tr>\n",
       "      <th>31</th>\n",
       "      <td>60bd100ee4899af574e8b1da</td>\n",
       "      <td>2021-05-13T16:10:00Z</td>\n",
       "      <td>9155</td>\n",
       "      <td>8655</td>\n",
       "      <td>e50a97585b8a530677a0402e8df7e1424e3a31f7</td>\n",
       "      <td>16ef4d7af7489d8fbe113e6dcb58e9aeb5deac49a83b9e...</td>\n",
       "      <td>500</td>\n",
       "      <td>0.03</td>\n",
       "      <td>2021-05-13 16:10:00+00:00</td>\n",
       "      <td>2021-05-13 17:00:00+00:00</td>\n",
       "      <td>9932.00</td>\n",
       "    </tr>\n",
       "    <tr>\n",
       "      <th>29</th>\n",
       "      <td>60bd100ee4899af574e8b1d8</td>\n",
       "      <td>2021-05-13T15:57:11Z</td>\n",
       "      <td>9082</td>\n",
       "      <td>8582</td>\n",
       "      <td>5cd2dd081bfab5b99363eee9dd712ba446e8218e</td>\n",
       "      <td>7bbe11efa4597621c26a8b3ea3fe5e3ae1cc457e3b17ea...</td>\n",
       "      <td>500</td>\n",
       "      <td>0.03</td>\n",
       "      <td>2021-05-13 15:57:11+00:00</td>\n",
       "      <td>2021-05-13 16:47:11+00:00</td>\n",
       "      <td>9825.00</td>\n",
       "    </tr>\n",
       "    <tr>\n",
       "      <th>30</th>\n",
       "      <td>60bd100ee4899af574e8b1d9</td>\n",
       "      <td>2021-05-13T15:59:56Z</td>\n",
       "      <td>9097</td>\n",
       "      <td>8597</td>\n",
       "      <td>f887ae647fedae2e5bd0e9ceaed69ed4e89b7935</td>\n",
       "      <td>fbdf7c83153d889d1683ba3c286b2dc5025d1e75a20464...</td>\n",
       "      <td>500</td>\n",
       "      <td>0.03</td>\n",
       "      <td>2021-05-13 15:59:56+00:00</td>\n",
       "      <td>2021-05-13 16:49:56+00:00</td>\n",
       "      <td>9553.00</td>\n",
       "    </tr>\n",
       "    <tr>\n",
       "      <th>32</th>\n",
       "      <td>60bd100ee4899af574e8b1db</td>\n",
       "      <td>2021-05-13T16:45:46Z</td>\n",
       "      <td>9331</td>\n",
       "      <td>8831</td>\n",
       "      <td>2811f8f44c7f4d8d7e50d795f962c1d98df1f7c4</td>\n",
       "      <td>85f3a5394c7e186ab5172e7a1d1dfa7c5b7e707b06b31c...</td>\n",
       "      <td>500</td>\n",
       "      <td>0.03</td>\n",
       "      <td>2021-05-13 16:45:46+00:00</td>\n",
       "      <td>2021-05-13 17:35:46+00:00</td>\n",
       "      <td>500.00</td>\n",
       "    </tr>\n",
       "    <tr>\n",
       "      <th>33</th>\n",
       "      <td>60bd100ee4899af574e8b1dc</td>\n",
       "      <td>2021-05-13T16:50:40Z</td>\n",
       "      <td>9355</td>\n",
       "      <td>8855</td>\n",
       "      <td>e95226ab61be1eab06fa3dea5f556e6d4a8500b4</td>\n",
       "      <td>a5d79fbbd4054e40ebab3278647d7bab83afaecba7535f...</td>\n",
       "      <td>500</td>\n",
       "      <td>0.03</td>\n",
       "      <td>2021-05-13 16:50:40+00:00</td>\n",
       "      <td>2021-05-13 17:40:40+00:00</td>\n",
       "      <td>266.00</td>\n",
       "    </tr>\n",
       "    <tr>\n",
       "      <th>0</th>\n",
       "      <td>60bd100ee4899af574e8b1bb</td>\n",
       "      <td>2021-05-12T15:23:16Z</td>\n",
       "      <td>541</td>\n",
       "      <td>41</td>\n",
       "      <td>359e67ac4c5311cbd6571a20eaf6e879a466d154</td>\n",
       "      <td>53f31a0fb02a3ea7467e80ad250d43c935d3dc15924c40...</td>\n",
       "      <td>500</td>\n",
       "      <td>0.03</td>\n",
       "      <td>2021-05-12 15:23:16+00:00</td>\n",
       "      <td>2021-05-12 16:13:16+00:00</td>\n",
       "      <td>200.00</td>\n",
       "    </tr>\n",
       "    <tr>\n",
       "      <th>35</th>\n",
       "      <td>60bd100ee4899af574e8b1de</td>\n",
       "      <td>2021-05-13T17:53:31Z</td>\n",
       "      <td>9660</td>\n",
       "      <td>9160</td>\n",
       "      <td>9f3f676430c0cca8ea9646b81fba2b197b990ec4</td>\n",
       "      <td>c74e2c141cfe5b961ea215f77f788af2c9478d63b06536...</td>\n",
       "      <td>500</td>\n",
       "      <td>0.03</td>\n",
       "      <td>2021-05-13 17:53:31+00:00</td>\n",
       "      <td>2021-05-13 18:43:31+00:00</td>\n",
       "      <td>128.00</td>\n",
       "    </tr>\n",
       "    <tr>\n",
       "      <th>11</th>\n",
       "      <td>60bd100ee4899af574e8b1c6</td>\n",
       "      <td>2021-05-12T20:52:10Z</td>\n",
       "      <td>62434</td>\n",
       "      <td>1954</td>\n",
       "      <td>8605d9f7e19e4568944640c7c95693d950f2daf3</td>\n",
       "      <td>fb7bd01987e1d8bb0ad5eb8b65e26fcbdd56787f33bc9b...</td>\n",
       "      <td>60480</td>\n",
       "      <td>4.20</td>\n",
       "      <td>2021-05-12 20:52:10+00:00</td>\n",
       "      <td>2021-05-17 01:40:10+00:00</td>\n",
       "      <td>50.00</td>\n",
       "    </tr>\n",
       "    <tr>\n",
       "      <th>21</th>\n",
       "      <td>60bd100ee4899af574e8b1d0</td>\n",
       "      <td>2021-05-13T14:50:01Z</td>\n",
       "      <td>8695</td>\n",
       "      <td>8195</td>\n",
       "      <td>af4c894863b45f3d450b31f96954da2fea672bfa</td>\n",
       "      <td>35fb0d73a5092a143a9c628f5f43b10b226cb3f48721a1...</td>\n",
       "      <td>500</td>\n",
       "      <td>0.03</td>\n",
       "      <td>2021-05-13 14:50:01+00:00</td>\n",
       "      <td>2021-05-13 15:40:01+00:00</td>\n",
       "      <td>20.00</td>\n",
       "    </tr>\n",
       "    <tr>\n",
       "      <th>13</th>\n",
       "      <td>60bd100ee4899af574e8b1c8</td>\n",
       "      <td>2021-05-12T21:42:41Z</td>\n",
       "      <td>2739</td>\n",
       "      <td>2239</td>\n",
       "      <td>8c8a5f4d994eba4b36a3cb0ab04a66a72d961483</td>\n",
       "      <td>f3f42e1db4a38c78956fd5284c488f0ddca6f2996ae279...</td>\n",
       "      <td>500</td>\n",
       "      <td>0.03</td>\n",
       "      <td>2021-05-12 21:42:41+00:00</td>\n",
       "      <td>2021-05-12 22:32:41+00:00</td>\n",
       "      <td>20.00</td>\n",
       "    </tr>\n",
       "    <tr>\n",
       "      <th>17</th>\n",
       "      <td>60bd100ee4899af574e8b1cc</td>\n",
       "      <td>2021-05-13T13:15:00Z</td>\n",
       "      <td>8144</td>\n",
       "      <td>7644</td>\n",
       "      <td>ed1d79d82e84514d8aeb11f8fed8c207303efb01</td>\n",
       "      <td>48dd26ca7371e65b3e9e21f9b51a5bcc82c63883b1d144...</td>\n",
       "      <td>500</td>\n",
       "      <td>0.03</td>\n",
       "      <td>2021-05-13 13:15:00+00:00</td>\n",
       "      <td>2021-05-13 14:05:00+00:00</td>\n",
       "      <td>20.00</td>\n",
       "    </tr>\n",
       "    <tr>\n",
       "      <th>34</th>\n",
       "      <td>60bd100ee4899af574e8b1dd</td>\n",
       "      <td>2021-05-13T16:53:06Z</td>\n",
       "      <td>9367</td>\n",
       "      <td>8867</td>\n",
       "      <td>7551500f28ba9c27a76f96f42260429a835768b3</td>\n",
       "      <td>60ffb0579efe26c8ac68f6b15fc7467846db9b5770ba72...</td>\n",
       "      <td>500</td>\n",
       "      <td>0.03</td>\n",
       "      <td>2021-05-13 16:53:06+00:00</td>\n",
       "      <td>2021-05-13 17:43:06+00:00</td>\n",
       "      <td>10.00</td>\n",
       "    </tr>\n",
       "    <tr>\n",
       "      <th>4</th>\n",
       "      <td>60bd100ee4899af574e8b1bf</td>\n",
       "      <td>2021-05-12T15:26:01Z</td>\n",
       "      <td>71897</td>\n",
       "      <td>317</td>\n",
       "      <td>f0f8d83cdab2f9514bef0319f1b434267be36b5c</td>\n",
       "      <td>631ada2c7b2fc4d5cb2a6cb68d945565d1471956becf63...</td>\n",
       "      <td>71580</td>\n",
       "      <td>4.97</td>\n",
       "      <td>2021-05-12 15:26:01+00:00</td>\n",
       "      <td>2021-05-17 14:44:01+00:00</td>\n",
       "      <td>3.00</td>\n",
       "    </tr>\n",
       "    <tr>\n",
       "      <th>22</th>\n",
       "      <td>60bd100ee4899af574e8b1d1</td>\n",
       "      <td>2021-05-13T15:23:23Z</td>\n",
       "      <td>75205</td>\n",
       "      <td>8413</td>\n",
       "      <td>fb36170605f23ddd26b146ccd8d3f16f5c738535</td>\n",
       "      <td>2f976d5cbc12cadd99dc8c57a0876adae3d3d2d361a556...</td>\n",
       "      <td>66792</td>\n",
       "      <td>4.64</td>\n",
       "      <td>2021-05-13 15:23:23+00:00</td>\n",
       "      <td>2021-05-18 06:42:35+00:00</td>\n",
       "      <td>3.00</td>\n",
       "    </tr>\n",
       "    <tr>\n",
       "      <th>3</th>\n",
       "      <td>60bd100ee4899af574e8b1be</td>\n",
       "      <td>2021-05-12T15:26:01Z</td>\n",
       "      <td>168676</td>\n",
       "      <td>43325</td>\n",
       "      <td>f0f8d83cdab2f9514bef0319f1b434267be36b5c</td>\n",
       "      <td>853f582a39dbb70c48468a1685fac0d9b901a3014a75eb...</td>\n",
       "      <td>125351</td>\n",
       "      <td>8.70</td>\n",
       "      <td>2021-05-12 15:26:01+00:00</td>\n",
       "      <td>2021-05-21 08:21:07+00:00</td>\n",
       "      <td>2.00</td>\n",
       "    </tr>\n",
       "    <tr>\n",
       "      <th>5</th>\n",
       "      <td>60bd100ee4899af574e8b1c0</td>\n",
       "      <td>2021-05-12T15:31:01Z</td>\n",
       "      <td>61154</td>\n",
       "      <td>2686</td>\n",
       "      <td>f0f8d83cdab2f9514bef0319f1b434267be36b5c</td>\n",
       "      <td>a1c52ab1bbb81185d37ea5c80af2691e32b598a2a90393...</td>\n",
       "      <td>58468</td>\n",
       "      <td>4.06</td>\n",
       "      <td>2021-05-12 15:31:01+00:00</td>\n",
       "      <td>2021-05-16 16:57:49+00:00</td>\n",
       "      <td>2.00</td>\n",
       "    </tr>\n",
       "    <tr>\n",
       "      <th>6</th>\n",
       "      <td>60bd100ee4899af574e8b1c1</td>\n",
       "      <td>2021-05-12T15:36:53Z</td>\n",
       "      <td>77860</td>\n",
       "      <td>2686</td>\n",
       "      <td>f0f8d83cdab2f9514bef0319f1b434267be36b5c</td>\n",
       "      <td>9a20ab76d743e2d787e8b11118a2ad7f6dc99c3faa0419...</td>\n",
       "      <td>75174</td>\n",
       "      <td>5.22</td>\n",
       "      <td>2021-05-12 15:36:53+00:00</td>\n",
       "      <td>2021-05-17 20:54:17+00:00</td>\n",
       "      <td>1.00</td>\n",
       "    </tr>\n",
       "    <tr>\n",
       "      <th>7</th>\n",
       "      <td>60bd100ee4899af574e8b1c2</td>\n",
       "      <td>2021-05-12T15:40:41Z</td>\n",
       "      <td>127976</td>\n",
       "      <td>2686</td>\n",
       "      <td>f0f8d83cdab2f9514bef0319f1b434267be36b5c</td>\n",
       "      <td>c3e08a1c1e9bddd1100c1869185f7e9ae3cf215ce1db48...</td>\n",
       "      <td>125290</td>\n",
       "      <td>8.70</td>\n",
       "      <td>2021-05-12 15:40:41+00:00</td>\n",
       "      <td>2021-05-21 08:29:41+00:00</td>\n",
       "      <td>1.00</td>\n",
       "    </tr>\n",
       "    <tr>\n",
       "      <th>2</th>\n",
       "      <td>60bd100ee4899af574e8b1bd</td>\n",
       "      <td>2021-05-12T15:26:01Z</td>\n",
       "      <td>110178</td>\n",
       "      <td>40945</td>\n",
       "      <td>f0f8d83cdab2f9514bef0319f1b434267be36b5c</td>\n",
       "      <td>fe20607cf3f94060b3edc5d2ece161557d7359d10eb84f...</td>\n",
       "      <td>69233</td>\n",
       "      <td>4.81</td>\n",
       "      <td>2021-05-12 15:26:01+00:00</td>\n",
       "      <td>2021-05-17 10:49:19+00:00</td>\n",
       "      <td>1.00</td>\n",
       "    </tr>\n",
       "    <tr>\n",
       "      <th>10</th>\n",
       "      <td>60bd100ee4899af574e8b1c5</td>\n",
       "      <td>2021-05-12T20:46:08Z</td>\n",
       "      <td>2115</td>\n",
       "      <td>1955</td>\n",
       "      <td>5592ec0cfb4dbc12d3ab100b257153436a1f0fea</td>\n",
       "      <td>6ce4a6de41baf8246c2b1affebf4d1c759bb6148abecf4...</td>\n",
       "      <td>160</td>\n",
       "      <td>0.01</td>\n",
       "      <td>2021-05-12 20:46:08+00:00</td>\n",
       "      <td>2021-05-12 21:02:08+00:00</td>\n",
       "      <td>1.00</td>\n",
       "    </tr>\n",
       "  </tbody>\n",
       "</table>\n",
       "</div>"
      ],
      "text/plain": [
       "                         _id          creationTime  endBlock  startBlock  \\\n",
       "31  60bd100ee4899af574e8b1da  2021-05-13T16:10:00Z      9155        8655   \n",
       "29  60bd100ee4899af574e8b1d8  2021-05-13T15:57:11Z      9082        8582   \n",
       "30  60bd100ee4899af574e8b1d9  2021-05-13T15:59:56Z      9097        8597   \n",
       "32  60bd100ee4899af574e8b1db  2021-05-13T16:45:46Z      9331        8831   \n",
       "33  60bd100ee4899af574e8b1dc  2021-05-13T16:50:40Z      9355        8855   \n",
       "0   60bd100ee4899af574e8b1bb  2021-05-12T15:23:16Z       541          41   \n",
       "35  60bd100ee4899af574e8b1de  2021-05-13T17:53:31Z      9660        9160   \n",
       "11  60bd100ee4899af574e8b1c6  2021-05-12T20:52:10Z     62434        1954   \n",
       "21  60bd100ee4899af574e8b1d0  2021-05-13T14:50:01Z      8695        8195   \n",
       "13  60bd100ee4899af574e8b1c8  2021-05-12T21:42:41Z      2739        2239   \n",
       "17  60bd100ee4899af574e8b1cc  2021-05-13T13:15:00Z      8144        7644   \n",
       "34  60bd100ee4899af574e8b1dd  2021-05-13T16:53:06Z      9367        8867   \n",
       "4   60bd100ee4899af574e8b1bf  2021-05-12T15:26:01Z     71897         317   \n",
       "22  60bd100ee4899af574e8b1d1  2021-05-13T15:23:23Z     75205        8413   \n",
       "3   60bd100ee4899af574e8b1be  2021-05-12T15:26:01Z    168676       43325   \n",
       "5   60bd100ee4899af574e8b1c0  2021-05-12T15:31:01Z     61154        2686   \n",
       "6   60bd100ee4899af574e8b1c1  2021-05-12T15:36:53Z     77860        2686   \n",
       "7   60bd100ee4899af574e8b1c2  2021-05-12T15:40:41Z    127976        2686   \n",
       "2   60bd100ee4899af574e8b1bd  2021-05-12T15:26:01Z    110178       40945   \n",
       "10  60bd100ee4899af574e8b1c5  2021-05-12T20:46:08Z      2115        1955   \n",
       "\n",
       "                                    entityId  \\\n",
       "31  e50a97585b8a530677a0402e8df7e1424e3a31f7   \n",
       "29  5cd2dd081bfab5b99363eee9dd712ba446e8218e   \n",
       "30  f887ae647fedae2e5bd0e9ceaed69ed4e89b7935   \n",
       "32  2811f8f44c7f4d8d7e50d795f962c1d98df1f7c4   \n",
       "33  e95226ab61be1eab06fa3dea5f556e6d4a8500b4   \n",
       "0   359e67ac4c5311cbd6571a20eaf6e879a466d154   \n",
       "35  9f3f676430c0cca8ea9646b81fba2b197b990ec4   \n",
       "11  8605d9f7e19e4568944640c7c95693d950f2daf3   \n",
       "21  af4c894863b45f3d450b31f96954da2fea672bfa   \n",
       "13  8c8a5f4d994eba4b36a3cb0ab04a66a72d961483   \n",
       "17  ed1d79d82e84514d8aeb11f8fed8c207303efb01   \n",
       "34  7551500f28ba9c27a76f96f42260429a835768b3   \n",
       "4   f0f8d83cdab2f9514bef0319f1b434267be36b5c   \n",
       "22  fb36170605f23ddd26b146ccd8d3f16f5c738535   \n",
       "3   f0f8d83cdab2f9514bef0319f1b434267be36b5c   \n",
       "5   f0f8d83cdab2f9514bef0319f1b434267be36b5c   \n",
       "6   f0f8d83cdab2f9514bef0319f1b434267be36b5c   \n",
       "7   f0f8d83cdab2f9514bef0319f1b434267be36b5c   \n",
       "2   f0f8d83cdab2f9514bef0319f1b434267be36b5c   \n",
       "10  5592ec0cfb4dbc12d3ab100b257153436a1f0fea   \n",
       "\n",
       "                                            processId  blocks  \\\n",
       "31  16ef4d7af7489d8fbe113e6dcb58e9aeb5deac49a83b9e...     500   \n",
       "29  7bbe11efa4597621c26a8b3ea3fe5e3ae1cc457e3b17ea...     500   \n",
       "30  fbdf7c83153d889d1683ba3c286b2dc5025d1e75a20464...     500   \n",
       "32  85f3a5394c7e186ab5172e7a1d1dfa7c5b7e707b06b31c...     500   \n",
       "33  a5d79fbbd4054e40ebab3278647d7bab83afaecba7535f...     500   \n",
       "0   53f31a0fb02a3ea7467e80ad250d43c935d3dc15924c40...     500   \n",
       "35  c74e2c141cfe5b961ea215f77f788af2c9478d63b06536...     500   \n",
       "11  fb7bd01987e1d8bb0ad5eb8b65e26fcbdd56787f33bc9b...   60480   \n",
       "21  35fb0d73a5092a143a9c628f5f43b10b226cb3f48721a1...     500   \n",
       "13  f3f42e1db4a38c78956fd5284c488f0ddca6f2996ae279...     500   \n",
       "17  48dd26ca7371e65b3e9e21f9b51a5bcc82c63883b1d144...     500   \n",
       "34  60ffb0579efe26c8ac68f6b15fc7467846db9b5770ba72...     500   \n",
       "4   631ada2c7b2fc4d5cb2a6cb68d945565d1471956becf63...   71580   \n",
       "22  2f976d5cbc12cadd99dc8c57a0876adae3d3d2d361a556...   66792   \n",
       "3   853f582a39dbb70c48468a1685fac0d9b901a3014a75eb...  125351   \n",
       "5   a1c52ab1bbb81185d37ea5c80af2691e32b598a2a90393...   58468   \n",
       "6   9a20ab76d743e2d787e8b11118a2ad7f6dc99c3faa0419...   75174   \n",
       "7   c3e08a1c1e9bddd1100c1869185f7e9ae3cf215ce1db48...  125290   \n",
       "2   fe20607cf3f94060b3edc5d2ece161557d7359d10eb84f...   69233   \n",
       "10  6ce4a6de41baf8246c2b1affebf4d1c759bb6148abecf4...     160   \n",
       "\n",
       "    proccess_duration_d           creationTime_ts             endingTime_ts  \\\n",
       "31                 0.03 2021-05-13 16:10:00+00:00 2021-05-13 17:00:00+00:00   \n",
       "29                 0.03 2021-05-13 15:57:11+00:00 2021-05-13 16:47:11+00:00   \n",
       "30                 0.03 2021-05-13 15:59:56+00:00 2021-05-13 16:49:56+00:00   \n",
       "32                 0.03 2021-05-13 16:45:46+00:00 2021-05-13 17:35:46+00:00   \n",
       "33                 0.03 2021-05-13 16:50:40+00:00 2021-05-13 17:40:40+00:00   \n",
       "0                  0.03 2021-05-12 15:23:16+00:00 2021-05-12 16:13:16+00:00   \n",
       "35                 0.03 2021-05-13 17:53:31+00:00 2021-05-13 18:43:31+00:00   \n",
       "11                 4.20 2021-05-12 20:52:10+00:00 2021-05-17 01:40:10+00:00   \n",
       "21                 0.03 2021-05-13 14:50:01+00:00 2021-05-13 15:40:01+00:00   \n",
       "13                 0.03 2021-05-12 21:42:41+00:00 2021-05-12 22:32:41+00:00   \n",
       "17                 0.03 2021-05-13 13:15:00+00:00 2021-05-13 14:05:00+00:00   \n",
       "34                 0.03 2021-05-13 16:53:06+00:00 2021-05-13 17:43:06+00:00   \n",
       "4                  4.97 2021-05-12 15:26:01+00:00 2021-05-17 14:44:01+00:00   \n",
       "22                 4.64 2021-05-13 15:23:23+00:00 2021-05-18 06:42:35+00:00   \n",
       "3                  8.70 2021-05-12 15:26:01+00:00 2021-05-21 08:21:07+00:00   \n",
       "5                  4.06 2021-05-12 15:31:01+00:00 2021-05-16 16:57:49+00:00   \n",
       "6                  5.22 2021-05-12 15:36:53+00:00 2021-05-17 20:54:17+00:00   \n",
       "7                  8.70 2021-05-12 15:40:41+00:00 2021-05-21 08:29:41+00:00   \n",
       "2                  4.81 2021-05-12 15:26:01+00:00 2021-05-17 10:49:19+00:00   \n",
       "10                 0.01 2021-05-12 20:46:08+00:00 2021-05-12 21:02:08+00:00   \n",
       "\n",
       "    votes_count  \n",
       "31      9932.00  \n",
       "29      9825.00  \n",
       "30      9553.00  \n",
       "32       500.00  \n",
       "33       266.00  \n",
       "0        200.00  \n",
       "35       128.00  \n",
       "11        50.00  \n",
       "21        20.00  \n",
       "13        20.00  \n",
       "17        20.00  \n",
       "34        10.00  \n",
       "4          3.00  \n",
       "22         3.00  \n",
       "3          2.00  \n",
       "5          2.00  \n",
       "6          1.00  \n",
       "7          1.00  \n",
       "2          1.00  \n",
       "10         1.00  "
      ]
     },
     "execution_count": 21,
     "metadata": {},
     "output_type": "execute_result"
    }
   ],
   "source": [
    "global_indicators.df_processes.sort_values(\"votes_count\", ascending=False).head(20)"
   ]
  },
  {
   "cell_type": "markdown",
   "id": "de18b6d5-7ce4-46a6-b8f5-fffa1501bf2c",
   "metadata": {},
   "source": [
    "### Comparing process duration (days) to votes count\n",
    "On a first sight we cannot establish corralation between them."
   ]
  },
  {
   "cell_type": "code",
   "execution_count": 22,
   "id": "50840d55-b006-4d27-8f65-346ef19e4e98",
   "metadata": {},
   "outputs": [
    {
     "name": "stdout",
     "output_type": "stream",
     "text": [
      "Correlation:  -0.03\n"
     ]
    }
   ],
   "source": [
    "print(\"Correlation: \", global_indicators.df_processes[[\"proccess_duration_d\", \"votes_count\"]].corr().values[0][1].round(2))"
   ]
  },
  {
   "cell_type": "code",
   "execution_count": 23,
   "id": "c5e94162-c52f-418d-93c7-7385f04e464b",
   "metadata": {},
   "outputs": [
    {
     "data": {
      "text/html": [
       "<iframe\n",
       "    scrolling=\"no\"\n",
       "    width=\"920px\"\n",
       "    height=\"720\"\n",
       "    src=\"iframe_figures/figure_23.html\"\n",
       "    frameborder=\"0\"\n",
       "    allowfullscreen\n",
       "></iframe>\n"
      ]
     },
     "metadata": {},
     "output_type": "display_data"
    }
   ],
   "source": [
    "global_indicators.scatter_duration_votes()"
   ]
  },
  {
   "cell_type": "markdown",
   "id": "f86d9412-31ab-4d2b-8eb4-e2dafe952c9c",
   "metadata": {},
   "source": [
    "---"
   ]
  },
  {
   "cell_type": "markdown",
   "id": "b25d1da3-488b-4069-90df-ce5bdb607232",
   "metadata": {},
   "source": [
    "### Lest's check voting patterns related to date"
   ]
  },
  {
   "cell_type": "code",
   "execution_count": 24,
   "id": "f13b441b-78f4-4bc0-9cf7-081a9e00436a",
   "metadata": {},
   "outputs": [
    {
     "data": {
      "text/html": [
       "<iframe\n",
       "    scrolling=\"no\"\n",
       "    width=\"100%\"\n",
       "    height=\"545px\"\n",
       "    src=\"iframe_figures/figure_24.html\"\n",
       "    frameborder=\"0\"\n",
       "    allowfullscreen\n",
       "></iframe>\n"
      ]
     },
     "metadata": {},
     "output_type": "display_data"
    }
   ],
   "source": [
    "global_indicators.plot_votes_per_day()"
   ]
  },
  {
   "cell_type": "code",
   "execution_count": 25,
   "id": "1f85808c-2bfa-418d-b62b-286ebad9e288",
   "metadata": {},
   "outputs": [
    {
     "data": {
      "text/plain": [
       "vote_ts\n",
       "2021-05-12 00:00:00+00:00      275\n",
       "2021-05-13 00:00:00+00:00    30266\n",
       "2021-05-14 00:00:00+00:00        0\n",
       "2021-05-15 00:00:00+00:00        0\n",
       "2021-05-16 00:00:00+00:00        0\n",
       "2021-05-17 00:00:00+00:00        0\n",
       "2021-05-18 00:00:00+00:00        0\n",
       "2021-05-19 00:00:00+00:00        1\n",
       "2021-05-20 00:00:00+00:00        0\n",
       "2021-05-21 00:00:00+00:00        0\n",
       "2021-05-22 00:00:00+00:00        0\n",
       "2021-05-23 00:00:00+00:00        2\n",
       "Freq: D, Name: nullifier, dtype: int64"
      ]
     },
     "execution_count": 25,
     "metadata": {},
     "output_type": "execute_result"
    }
   ],
   "source": [
    "global_indicators.votes_per_day"
   ]
  },
  {
   "cell_type": "markdown",
   "id": "36dbd89f-69e1-446a-b3db-6b81cfc6da6f",
   "metadata": {},
   "source": [
    "All votes were realized in only 4 days.\n",
    "\n"
   ]
  },
  {
   "cell_type": "code",
   "execution_count": 26,
   "id": "7182c51f-ae36-407a-ae61-15f0bd07f4a8",
   "metadata": {},
   "outputs": [
    {
     "data": {
      "text/html": [
       "<iframe\n",
       "    scrolling=\"no\"\n",
       "    width=\"100%\"\n",
       "    height=\"545px\"\n",
       "    src=\"iframe_figures/figure_26.html\"\n",
       "    frameborder=\"0\"\n",
       "    allowfullscreen\n",
       "></iframe>\n"
      ]
     },
     "metadata": {},
     "output_type": "display_data"
    }
   ],
   "source": [
    "global_indicators.plot_votes_per_day_hour()"
   ]
  },
  {
   "cell_type": "code",
   "execution_count": 27,
   "id": "462b322a-eebb-4442-a4a2-f24fe2665859",
   "metadata": {},
   "outputs": [
    {
     "data": {
      "text/plain": [
       "vote_ts\n",
       "2021-05-12 15:00:00+00:00      201\n",
       "2021-05-12 18:00:00+00:00       51\n",
       "2021-05-12 19:00:00+00:00       21\n",
       "2021-05-12 22:00:00+00:00        2\n",
       "2021-05-13 02:00:00+00:00        1\n",
       "2021-05-13 04:00:00+00:00       21\n",
       "2021-05-13 05:00:00+00:00    29333\n",
       "2021-05-13 06:00:00+00:00      905\n",
       "2021-05-13 07:00:00+00:00        2\n",
       "2021-05-13 13:00:00+00:00        1\n",
       "2021-05-13 14:00:00+00:00        2\n",
       "2021-05-13 17:00:00+00:00        1\n",
       "2021-05-19 08:00:00+00:00        1\n",
       "2021-05-23 08:00:00+00:00        1\n",
       "2021-05-23 12:00:00+00:00        1\n",
       "Name: nullifier, dtype: int64"
      ]
     },
     "execution_count": 27,
     "metadata": {},
     "output_type": "execute_result"
    }
   ],
   "source": [
    "global_indicators.votes_per_day_hour[global_indicators.votes_per_day_hour > 0]"
   ]
  },
  {
   "cell_type": "markdown",
   "id": "cb78969a-0cd3-454a-8bda-8ca2727dd692",
   "metadata": {},
   "source": [
    "We can see high activity between `2021-05-12 15:00:00` and `2021-05-13 06:00:00`"
   ]
  },
  {
   "cell_type": "code",
   "execution_count": 28,
   "id": "50e0002b-f30a-4f92-986d-97224103d1a2",
   "metadata": {},
   "outputs": [
    {
     "data": {
      "text/html": [
       "<iframe\n",
       "    scrolling=\"no\"\n",
       "    width=\"100%\"\n",
       "    height=\"545px\"\n",
       "    src=\"iframe_figures/figure_28.html\"\n",
       "    frameborder=\"0\"\n",
       "    allowfullscreen\n",
       "></iframe>\n"
      ]
     },
     "metadata": {},
     "output_type": "display_data"
    }
   ],
   "source": [
    "global_indicators.plot_votes_weekday()"
   ]
  },
  {
   "cell_type": "markdown",
   "id": "e9b63f01-bd0e-4f70-b579-b0ceb314a0f4",
   "metadata": {},
   "source": [
    "`2021-05-12` and `2021-05-13` where Tuesday and Wednesday and it is consistent with week day aggregation."
   ]
  },
  {
   "cell_type": "code",
   "execution_count": 29,
   "id": "3300a9fe-6492-44de-ac80-31b70c914f9b",
   "metadata": {},
   "outputs": [
    {
     "data": {
      "text/html": [
       "<iframe\n",
       "    scrolling=\"no\"\n",
       "    width=\"100%\"\n",
       "    height=\"545px\"\n",
       "    src=\"iframe_figures/figure_29.html\"\n",
       "    frameborder=\"0\"\n",
       "    allowfullscreen\n",
       "></iframe>\n"
      ]
     },
     "metadata": {},
     "output_type": "display_data"
    }
   ],
   "source": [
    "global_indicators.plot_votes_hour()"
   ]
  },
  {
   "cell_type": "markdown",
   "id": "9d759729-9cd9-40d6-90c5-bf2002a77163",
   "metadata": {},
   "source": [
    "With hour aggregation we can see that most votes where registered from 5 to 7 o'clock."
   ]
  },
  {
   "cell_type": "code",
   "execution_count": 30,
   "id": "e07da8a4-cff2-450f-8ce9-f99a250430b7",
   "metadata": {},
   "outputs": [
    {
     "data": {
      "text/plain": [
       "vote_ts\n",
       "2         1\n",
       "4        21\n",
       "5     29333\n",
       "6       905\n",
       "7         2\n",
       "8         2\n",
       "12        1\n",
       "13        1\n",
       "14        2\n",
       "15      201\n",
       "17        1\n",
       "18       51\n",
       "19       21\n",
       "22        2\n",
       "Name: nullifier, dtype: int64"
      ]
     },
     "execution_count": 30,
     "metadata": {},
     "output_type": "execute_result"
    }
   ],
   "source": [
    "global_indicators.votes_hour"
   ]
  },
  {
   "cell_type": "markdown",
   "id": "cbf44106-d6b6-4fd4-b52b-9c3bed8a7a88",
   "metadata": {},
   "source": [
    "---"
   ]
  },
  {
   "cell_type": "markdown",
   "id": "3eaae307-3f22-4d0c-8fb4-030113e1dd07",
   "metadata": {},
   "source": [
    "### Votes weight"
   ]
  },
  {
   "cell_type": "code",
   "execution_count": 31,
   "id": "84178f4d-63ea-4277-9ecc-1969e7c24bae",
   "metadata": {},
   "outputs": [],
   "source": [
    "tmp = global_indicators.df_envelopes.weight"
   ]
  },
  {
   "cell_type": "code",
   "execution_count": 32,
   "id": "6330bb72-51f7-4036-8d72-d905201fb0ad",
   "metadata": {},
   "outputs": [
    {
     "data": {
      "text/plain": [
       "0       1.00\n",
       "1       1.00\n",
       "2       1.00\n",
       "3       1.00\n",
       "4       1.00\n",
       "        ... \n",
       "30539   1.00\n",
       "30540   1.00\n",
       "30541   1.00\n",
       "30542   1.00\n",
       "30543   1.00\n",
       "Name: weight, Length: 30544, dtype: float64"
      ]
     },
     "execution_count": 32,
     "metadata": {},
     "output_type": "execute_result"
    }
   ],
   "source": [
    "tmp"
   ]
  },
  {
   "cell_type": "code",
   "execution_count": 33,
   "id": "3e870a5b-17d5-41d6-ab49-1d4371e028cc",
   "metadata": {},
   "outputs": [
    {
     "data": {
      "text/plain": [
       "count                   30544.00\n",
       "mean       215852540597171328.00\n",
       "std      13645240091697332224.00\n",
       "min                         1.00\n",
       "25%                         1.00\n",
       "50%                         1.00\n",
       "75%                         1.00\n",
       "max     990000000000000000000.00\n",
       "Name: weight, dtype: float64"
      ]
     },
     "execution_count": 33,
     "metadata": {},
     "output_type": "execute_result"
    }
   ],
   "source": [
    "tmp.describe()"
   ]
  },
  {
   "cell_type": "code",
   "execution_count": 34,
   "id": "dd9a0b5d-4a99-4b0e-a181-1a7bcd74946b",
   "metadata": {},
   "outputs": [
    {
     "data": {
      "text/html": [
       "<div>\n",
       "<style scoped>\n",
       "    .dataframe tbody tr th:only-of-type {\n",
       "        vertical-align: middle;\n",
       "    }\n",
       "\n",
       "    .dataframe tbody tr th {\n",
       "        vertical-align: top;\n",
       "    }\n",
       "\n",
       "    .dataframe thead th {\n",
       "        text-align: right;\n",
       "    }\n",
       "</style>\n",
       "<table border=\"1\" class=\"dataframe\">\n",
       "  <thead>\n",
       "    <tr style=\"text-align: right;\">\n",
       "      <th></th>\n",
       "      <th>_id</th>\n",
       "      <th>height</th>\n",
       "      <th>nullifier</th>\n",
       "      <th>process_id</th>\n",
       "      <th>weight</th>\n",
       "      <th>vote_ts</th>\n",
       "    </tr>\n",
       "  </thead>\n",
       "  <tbody>\n",
       "    <tr>\n",
       "      <th>200</th>\n",
       "      <td>60bd100ee4899af574e8b32b</td>\n",
       "      <td>2689</td>\n",
       "      <td>fc52b5504621d512bfe4dfae6b9c33e3cd6073f3bf1739...</td>\n",
       "      <td>631ada2c7b2fc4d5cb2a6cb68d945565d1471956becf63...</td>\n",
       "      <td>990000000000000000000.00</td>\n",
       "      <td>2021-05-12 19:52:10+00:00</td>\n",
       "    </tr>\n",
       "    <tr>\n",
       "      <th>201</th>\n",
       "      <td>60bd100ee4899af574e8b32c</td>\n",
       "      <td>9382</td>\n",
       "      <td>9f0997008ee60e779740253dccaad176e228cbe0babe25...</td>\n",
       "      <td>631ada2c7b2fc4d5cb2a6cb68d945565d1471956becf63...</td>\n",
       "      <td>1000000000000000000.00</td>\n",
       "      <td>2021-05-13 07:01:28+00:00</td>\n",
       "    </tr>\n",
       "    <tr>\n",
       "      <th>202</th>\n",
       "      <td>60bd100ee4899af574e8b32d</td>\n",
       "      <td>13219</td>\n",
       "      <td>64c50312ddf9dd53ca70f7cc549f3ddf83f26dabbb45f2...</td>\n",
       "      <td>631ada2c7b2fc4d5cb2a6cb68d945565d1471956becf63...</td>\n",
       "      <td>860000000000000000000.00</td>\n",
       "      <td>2021-05-13 13:25:10+00:00</td>\n",
       "    </tr>\n",
       "    <tr>\n",
       "      <th>203</th>\n",
       "      <td>60bd100ee4899af574e8b32e</td>\n",
       "      <td>96750</td>\n",
       "      <td>9da5f088de43728a20d84ae7ba3fa51be05ef4ff590616...</td>\n",
       "      <td>fe20607cf3f94060b3edc5d2ece161557d7359d10eb84f...</td>\n",
       "      <td>10000000000000000000.00</td>\n",
       "      <td>2021-05-19 08:38:16+00:00</td>\n",
       "    </tr>\n",
       "    <tr>\n",
       "      <th>204</th>\n",
       "      <td>60bd100ee4899af574e8b32f</td>\n",
       "      <td>154478</td>\n",
       "      <td>3d0714498cf73a72e3b51a9df2b212043e36dd4b8cd82e...</td>\n",
       "      <td>853f582a39dbb70c48468a1685fac0d9b901a3014a75eb...</td>\n",
       "      <td>990000000000000000000.00</td>\n",
       "      <td>2021-05-23 08:51:04+00:00</td>\n",
       "    </tr>\n",
       "    <tr>\n",
       "      <th>205</th>\n",
       "      <td>60bd100ee4899af574e8b330</td>\n",
       "      <td>156369</td>\n",
       "      <td>120e06d4e2530faac4a998e5a99d4638690537fdd54d66...</td>\n",
       "      <td>853f582a39dbb70c48468a1685fac0d9b901a3014a75eb...</td>\n",
       "      <td>1000000000000000000.00</td>\n",
       "      <td>2021-05-23 12:00:10+00:00</td>\n",
       "    </tr>\n",
       "    <tr>\n",
       "      <th>206</th>\n",
       "      <td>60bd100ee4899af574e8b331</td>\n",
       "      <td>9615</td>\n",
       "      <td>df6ad508b0e6566ffcd80d27f8180d955a0e3705444db9...</td>\n",
       "      <td>a1c52ab1bbb81185d37ea5c80af2691e32b598a2a90393...</td>\n",
       "      <td>1000000000000000000.00</td>\n",
       "      <td>2021-05-13 07:24:46+00:00</td>\n",
       "    </tr>\n",
       "    <tr>\n",
       "      <th>207</th>\n",
       "      <td>60bd100ee4899af574e8b332</td>\n",
       "      <td>15742</td>\n",
       "      <td>d40e62e13c528d4c62774bded1c4bd5e581f69ff462f5f...</td>\n",
       "      <td>a1c52ab1bbb81185d37ea5c80af2691e32b598a2a90393...</td>\n",
       "      <td>860000000000000000000.00</td>\n",
       "      <td>2021-05-13 17:37:28+00:00</td>\n",
       "    </tr>\n",
       "    <tr>\n",
       "      <th>208</th>\n",
       "      <td>60bd100ee4899af574e8b333</td>\n",
       "      <td>13738</td>\n",
       "      <td>9c567e497d6b3ec658e02edd07bf3ed458831ce4f0fa6d...</td>\n",
       "      <td>9a20ab76d743e2d787e8b11118a2ad7f6dc99c3faa0419...</td>\n",
       "      <td>860000000000000000000.00</td>\n",
       "      <td>2021-05-13 14:17:04+00:00</td>\n",
       "    </tr>\n",
       "    <tr>\n",
       "      <th>209</th>\n",
       "      <td>60bd100ee4899af574e8b334</td>\n",
       "      <td>6541</td>\n",
       "      <td>77910d47b8671b5d55d9e2d036eb171f6e122e76966f48...</td>\n",
       "      <td>c3e08a1c1e9bddd1100c1869185f7e9ae3cf215ce1db48...</td>\n",
       "      <td>860000000000000000000.00</td>\n",
       "      <td>2021-05-13 02:17:22+00:00</td>\n",
       "    </tr>\n",
       "    <tr>\n",
       "      <th>210</th>\n",
       "      <td>60bd100ee4899af574e8b335</td>\n",
       "      <td>229</td>\n",
       "      <td>d9b833811a2e76a1ac3630258a924ed9d5caad25000d48...</td>\n",
       "      <td>8dc72483bf19b9f778c871574fc14b294de65c1e2c5437...</td>\n",
       "      <td>100000000000000000000.00</td>\n",
       "      <td>2021-05-12 15:46:10+00:00</td>\n",
       "    </tr>\n",
       "    <tr>\n",
       "      <th>211</th>\n",
       "      <td>60bd100ee4899af574e8b336</td>\n",
       "      <td>13743</td>\n",
       "      <td>a3c0a7d876cbfffc9f65eae66e221a019c6a8846c011f5...</td>\n",
       "      <td>5bb213ec7c36bb6187fab7c5893c35c7b319850cf17c6a...</td>\n",
       "      <td>860000000000000000000.00</td>\n",
       "      <td>2021-05-13 14:17:34+00:00</td>\n",
       "    </tr>\n",
       "    <tr>\n",
       "      <th>212</th>\n",
       "      <td>60bd100ee4899af574e8b337</td>\n",
       "      <td>2096</td>\n",
       "      <td>6468fae1c1b5b7ff6d3fada6f6bd037aa56f88ea17cbd0...</td>\n",
       "      <td>6ce4a6de41baf8246c2b1affebf4d1c759bb6148abecf4...</td>\n",
       "      <td>100000000000000000000.00</td>\n",
       "      <td>2021-05-12 18:52:52+00:00</td>\n",
       "    </tr>\n",
       "    <tr>\n",
       "      <th>306</th>\n",
       "      <td>60bd100ee4899af574e8b395</td>\n",
       "      <td>7704</td>\n",
       "      <td>a9f02462187f87adf6bf39a3b46987dfc945ee6b89a6ae...</td>\n",
       "      <td>5bb5b6c31f952d43fe0adadae15ef87461ed99ac30b29d...</td>\n",
       "      <td>100000000000000000000.00</td>\n",
       "      <td>2021-05-13 04:13:40+00:00</td>\n",
       "    </tr>\n",
       "  </tbody>\n",
       "</table>\n",
       "</div>"
      ],
      "text/plain": [
       "                          _id  height  \\\n",
       "200  60bd100ee4899af574e8b32b    2689   \n",
       "201  60bd100ee4899af574e8b32c    9382   \n",
       "202  60bd100ee4899af574e8b32d   13219   \n",
       "203  60bd100ee4899af574e8b32e   96750   \n",
       "204  60bd100ee4899af574e8b32f  154478   \n",
       "205  60bd100ee4899af574e8b330  156369   \n",
       "206  60bd100ee4899af574e8b331    9615   \n",
       "207  60bd100ee4899af574e8b332   15742   \n",
       "208  60bd100ee4899af574e8b333   13738   \n",
       "209  60bd100ee4899af574e8b334    6541   \n",
       "210  60bd100ee4899af574e8b335     229   \n",
       "211  60bd100ee4899af574e8b336   13743   \n",
       "212  60bd100ee4899af574e8b337    2096   \n",
       "306  60bd100ee4899af574e8b395    7704   \n",
       "\n",
       "                                             nullifier  \\\n",
       "200  fc52b5504621d512bfe4dfae6b9c33e3cd6073f3bf1739...   \n",
       "201  9f0997008ee60e779740253dccaad176e228cbe0babe25...   \n",
       "202  64c50312ddf9dd53ca70f7cc549f3ddf83f26dabbb45f2...   \n",
       "203  9da5f088de43728a20d84ae7ba3fa51be05ef4ff590616...   \n",
       "204  3d0714498cf73a72e3b51a9df2b212043e36dd4b8cd82e...   \n",
       "205  120e06d4e2530faac4a998e5a99d4638690537fdd54d66...   \n",
       "206  df6ad508b0e6566ffcd80d27f8180d955a0e3705444db9...   \n",
       "207  d40e62e13c528d4c62774bded1c4bd5e581f69ff462f5f...   \n",
       "208  9c567e497d6b3ec658e02edd07bf3ed458831ce4f0fa6d...   \n",
       "209  77910d47b8671b5d55d9e2d036eb171f6e122e76966f48...   \n",
       "210  d9b833811a2e76a1ac3630258a924ed9d5caad25000d48...   \n",
       "211  a3c0a7d876cbfffc9f65eae66e221a019c6a8846c011f5...   \n",
       "212  6468fae1c1b5b7ff6d3fada6f6bd037aa56f88ea17cbd0...   \n",
       "306  a9f02462187f87adf6bf39a3b46987dfc945ee6b89a6ae...   \n",
       "\n",
       "                                            process_id  \\\n",
       "200  631ada2c7b2fc4d5cb2a6cb68d945565d1471956becf63...   \n",
       "201  631ada2c7b2fc4d5cb2a6cb68d945565d1471956becf63...   \n",
       "202  631ada2c7b2fc4d5cb2a6cb68d945565d1471956becf63...   \n",
       "203  fe20607cf3f94060b3edc5d2ece161557d7359d10eb84f...   \n",
       "204  853f582a39dbb70c48468a1685fac0d9b901a3014a75eb...   \n",
       "205  853f582a39dbb70c48468a1685fac0d9b901a3014a75eb...   \n",
       "206  a1c52ab1bbb81185d37ea5c80af2691e32b598a2a90393...   \n",
       "207  a1c52ab1bbb81185d37ea5c80af2691e32b598a2a90393...   \n",
       "208  9a20ab76d743e2d787e8b11118a2ad7f6dc99c3faa0419...   \n",
       "209  c3e08a1c1e9bddd1100c1869185f7e9ae3cf215ce1db48...   \n",
       "210  8dc72483bf19b9f778c871574fc14b294de65c1e2c5437...   \n",
       "211  5bb213ec7c36bb6187fab7c5893c35c7b319850cf17c6a...   \n",
       "212  6ce4a6de41baf8246c2b1affebf4d1c759bb6148abecf4...   \n",
       "306  5bb5b6c31f952d43fe0adadae15ef87461ed99ac30b29d...   \n",
       "\n",
       "                      weight                   vote_ts  \n",
       "200 990000000000000000000.00 2021-05-12 19:52:10+00:00  \n",
       "201   1000000000000000000.00 2021-05-13 07:01:28+00:00  \n",
       "202 860000000000000000000.00 2021-05-13 13:25:10+00:00  \n",
       "203  10000000000000000000.00 2021-05-19 08:38:16+00:00  \n",
       "204 990000000000000000000.00 2021-05-23 08:51:04+00:00  \n",
       "205   1000000000000000000.00 2021-05-23 12:00:10+00:00  \n",
       "206   1000000000000000000.00 2021-05-13 07:24:46+00:00  \n",
       "207 860000000000000000000.00 2021-05-13 17:37:28+00:00  \n",
       "208 860000000000000000000.00 2021-05-13 14:17:04+00:00  \n",
       "209 860000000000000000000.00 2021-05-13 02:17:22+00:00  \n",
       "210 100000000000000000000.00 2021-05-12 15:46:10+00:00  \n",
       "211 860000000000000000000.00 2021-05-13 14:17:34+00:00  \n",
       "212 100000000000000000000.00 2021-05-12 18:52:52+00:00  \n",
       "306 100000000000000000000.00 2021-05-13 04:13:40+00:00  "
      ]
     },
     "execution_count": 34,
     "metadata": {},
     "output_type": "execute_result"
    }
   ],
   "source": [
    "tmp2 = global_indicators.df_envelopes[tmp !=1]\n",
    "tmp2"
   ]
  },
  {
   "cell_type": "code",
   "execution_count": 35,
   "id": "6c5ad20f-3a60-4afd-963c-6fb6b0caba47",
   "metadata": {},
   "outputs": [
    {
     "data": {
      "text/html": [
       "<div>\n",
       "<style scoped>\n",
       "    .dataframe tbody tr th:only-of-type {\n",
       "        vertical-align: middle;\n",
       "    }\n",
       "\n",
       "    .dataframe tbody tr th {\n",
       "        vertical-align: top;\n",
       "    }\n",
       "\n",
       "    .dataframe thead th {\n",
       "        text-align: right;\n",
       "    }\n",
       "</style>\n",
       "<table border=\"1\" class=\"dataframe\">\n",
       "  <thead>\n",
       "    <tr style=\"text-align: right;\">\n",
       "      <th></th>\n",
       "      <th>_id</th>\n",
       "      <th>creationTime</th>\n",
       "      <th>endBlock</th>\n",
       "      <th>startBlock</th>\n",
       "      <th>entityId</th>\n",
       "      <th>processId</th>\n",
       "      <th>blocks</th>\n",
       "      <th>proccess_duration_d</th>\n",
       "      <th>creationTime_ts</th>\n",
       "      <th>endingTime_ts</th>\n",
       "      <th>votes_count</th>\n",
       "    </tr>\n",
       "  </thead>\n",
       "  <tbody>\n",
       "    <tr>\n",
       "      <th>2</th>\n",
       "      <td>60bd100ee4899af574e8b1bd</td>\n",
       "      <td>2021-05-12T15:26:01Z</td>\n",
       "      <td>110178</td>\n",
       "      <td>40945</td>\n",
       "      <td>f0f8d83cdab2f9514bef0319f1b434267be36b5c</td>\n",
       "      <td>fe20607cf3f94060b3edc5d2ece161557d7359d10eb84f...</td>\n",
       "      <td>69233</td>\n",
       "      <td>4.81</td>\n",
       "      <td>2021-05-12 15:26:01+00:00</td>\n",
       "      <td>2021-05-17 10:49:19+00:00</td>\n",
       "      <td>1.00</td>\n",
       "    </tr>\n",
       "    <tr>\n",
       "      <th>3</th>\n",
       "      <td>60bd100ee4899af574e8b1be</td>\n",
       "      <td>2021-05-12T15:26:01Z</td>\n",
       "      <td>168676</td>\n",
       "      <td>43325</td>\n",
       "      <td>f0f8d83cdab2f9514bef0319f1b434267be36b5c</td>\n",
       "      <td>853f582a39dbb70c48468a1685fac0d9b901a3014a75eb...</td>\n",
       "      <td>125351</td>\n",
       "      <td>8.70</td>\n",
       "      <td>2021-05-12 15:26:01+00:00</td>\n",
       "      <td>2021-05-21 08:21:07+00:00</td>\n",
       "      <td>2.00</td>\n",
       "    </tr>\n",
       "    <tr>\n",
       "      <th>4</th>\n",
       "      <td>60bd100ee4899af574e8b1bf</td>\n",
       "      <td>2021-05-12T15:26:01Z</td>\n",
       "      <td>71897</td>\n",
       "      <td>317</td>\n",
       "      <td>f0f8d83cdab2f9514bef0319f1b434267be36b5c</td>\n",
       "      <td>631ada2c7b2fc4d5cb2a6cb68d945565d1471956becf63...</td>\n",
       "      <td>71580</td>\n",
       "      <td>4.97</td>\n",
       "      <td>2021-05-12 15:26:01+00:00</td>\n",
       "      <td>2021-05-17 14:44:01+00:00</td>\n",
       "      <td>3.00</td>\n",
       "    </tr>\n",
       "    <tr>\n",
       "      <th>5</th>\n",
       "      <td>60bd100ee4899af574e8b1c0</td>\n",
       "      <td>2021-05-12T15:31:01Z</td>\n",
       "      <td>61154</td>\n",
       "      <td>2686</td>\n",
       "      <td>f0f8d83cdab2f9514bef0319f1b434267be36b5c</td>\n",
       "      <td>a1c52ab1bbb81185d37ea5c80af2691e32b598a2a90393...</td>\n",
       "      <td>58468</td>\n",
       "      <td>4.06</td>\n",
       "      <td>2021-05-12 15:31:01+00:00</td>\n",
       "      <td>2021-05-16 16:57:49+00:00</td>\n",
       "      <td>2.00</td>\n",
       "    </tr>\n",
       "    <tr>\n",
       "      <th>6</th>\n",
       "      <td>60bd100ee4899af574e8b1c1</td>\n",
       "      <td>2021-05-12T15:36:53Z</td>\n",
       "      <td>77860</td>\n",
       "      <td>2686</td>\n",
       "      <td>f0f8d83cdab2f9514bef0319f1b434267be36b5c</td>\n",
       "      <td>9a20ab76d743e2d787e8b11118a2ad7f6dc99c3faa0419...</td>\n",
       "      <td>75174</td>\n",
       "      <td>5.22</td>\n",
       "      <td>2021-05-12 15:36:53+00:00</td>\n",
       "      <td>2021-05-17 20:54:17+00:00</td>\n",
       "      <td>1.00</td>\n",
       "    </tr>\n",
       "    <tr>\n",
       "      <th>7</th>\n",
       "      <td>60bd100ee4899af574e8b1c2</td>\n",
       "      <td>2021-05-12T15:40:41Z</td>\n",
       "      <td>127976</td>\n",
       "      <td>2686</td>\n",
       "      <td>f0f8d83cdab2f9514bef0319f1b434267be36b5c</td>\n",
       "      <td>c3e08a1c1e9bddd1100c1869185f7e9ae3cf215ce1db48...</td>\n",
       "      <td>125290</td>\n",
       "      <td>8.70</td>\n",
       "      <td>2021-05-12 15:40:41+00:00</td>\n",
       "      <td>2021-05-21 08:29:41+00:00</td>\n",
       "      <td>1.00</td>\n",
       "    </tr>\n",
       "    <tr>\n",
       "      <th>8</th>\n",
       "      <td>60bd100ee4899af574e8b1c3</td>\n",
       "      <td>2021-05-12T15:48:16Z</td>\n",
       "      <td>307</td>\n",
       "      <td>225</td>\n",
       "      <td>5592ec0cfb4dbc12d3ab100b257153436a1f0fea</td>\n",
       "      <td>8dc72483bf19b9f778c871574fc14b294de65c1e2c5437...</td>\n",
       "      <td>82</td>\n",
       "      <td>0.01</td>\n",
       "      <td>2021-05-12 15:48:16+00:00</td>\n",
       "      <td>2021-05-12 15:56:28+00:00</td>\n",
       "      <td>1.00</td>\n",
       "    </tr>\n",
       "    <tr>\n",
       "      <th>9</th>\n",
       "      <td>60bd100ee4899af574e8b1c4</td>\n",
       "      <td>2021-05-12T15:52:15Z</td>\n",
       "      <td>136328</td>\n",
       "      <td>2686</td>\n",
       "      <td>f0f8d83cdab2f9514bef0319f1b434267be36b5c</td>\n",
       "      <td>5bb213ec7c36bb6187fab7c5893c35c7b319850cf17c6a...</td>\n",
       "      <td>133642</td>\n",
       "      <td>9.28</td>\n",
       "      <td>2021-05-12 15:52:15+00:00</td>\n",
       "      <td>2021-05-21 22:36:27+00:00</td>\n",
       "      <td>1.00</td>\n",
       "    </tr>\n",
       "    <tr>\n",
       "      <th>10</th>\n",
       "      <td>60bd100ee4899af574e8b1c5</td>\n",
       "      <td>2021-05-12T20:46:08Z</td>\n",
       "      <td>2115</td>\n",
       "      <td>1955</td>\n",
       "      <td>5592ec0cfb4dbc12d3ab100b257153436a1f0fea</td>\n",
       "      <td>6ce4a6de41baf8246c2b1affebf4d1c759bb6148abecf4...</td>\n",
       "      <td>160</td>\n",
       "      <td>0.01</td>\n",
       "      <td>2021-05-12 20:46:08+00:00</td>\n",
       "      <td>2021-05-12 21:02:08+00:00</td>\n",
       "      <td>1.00</td>\n",
       "    </tr>\n",
       "    <tr>\n",
       "      <th>18</th>\n",
       "      <td>60bd100ee4899af574e8b1cd</td>\n",
       "      <td>2021-05-13T13:18:47Z</td>\n",
       "      <td>7759</td>\n",
       "      <td>7699</td>\n",
       "      <td>5592ec0cfb4dbc12d3ab100b257153436a1f0fea</td>\n",
       "      <td>5bb5b6c31f952d43fe0adadae15ef87461ed99ac30b29d...</td>\n",
       "      <td>60</td>\n",
       "      <td>0.00</td>\n",
       "      <td>2021-05-13 13:18:47+00:00</td>\n",
       "      <td>2021-05-13 13:24:47+00:00</td>\n",
       "      <td>1.00</td>\n",
       "    </tr>\n",
       "  </tbody>\n",
       "</table>\n",
       "</div>"
      ],
      "text/plain": [
       "                         _id          creationTime  endBlock  startBlock  \\\n",
       "2   60bd100ee4899af574e8b1bd  2021-05-12T15:26:01Z    110178       40945   \n",
       "3   60bd100ee4899af574e8b1be  2021-05-12T15:26:01Z    168676       43325   \n",
       "4   60bd100ee4899af574e8b1bf  2021-05-12T15:26:01Z     71897         317   \n",
       "5   60bd100ee4899af574e8b1c0  2021-05-12T15:31:01Z     61154        2686   \n",
       "6   60bd100ee4899af574e8b1c1  2021-05-12T15:36:53Z     77860        2686   \n",
       "7   60bd100ee4899af574e8b1c2  2021-05-12T15:40:41Z    127976        2686   \n",
       "8   60bd100ee4899af574e8b1c3  2021-05-12T15:48:16Z       307         225   \n",
       "9   60bd100ee4899af574e8b1c4  2021-05-12T15:52:15Z    136328        2686   \n",
       "10  60bd100ee4899af574e8b1c5  2021-05-12T20:46:08Z      2115        1955   \n",
       "18  60bd100ee4899af574e8b1cd  2021-05-13T13:18:47Z      7759        7699   \n",
       "\n",
       "                                    entityId  \\\n",
       "2   f0f8d83cdab2f9514bef0319f1b434267be36b5c   \n",
       "3   f0f8d83cdab2f9514bef0319f1b434267be36b5c   \n",
       "4   f0f8d83cdab2f9514bef0319f1b434267be36b5c   \n",
       "5   f0f8d83cdab2f9514bef0319f1b434267be36b5c   \n",
       "6   f0f8d83cdab2f9514bef0319f1b434267be36b5c   \n",
       "7   f0f8d83cdab2f9514bef0319f1b434267be36b5c   \n",
       "8   5592ec0cfb4dbc12d3ab100b257153436a1f0fea   \n",
       "9   f0f8d83cdab2f9514bef0319f1b434267be36b5c   \n",
       "10  5592ec0cfb4dbc12d3ab100b257153436a1f0fea   \n",
       "18  5592ec0cfb4dbc12d3ab100b257153436a1f0fea   \n",
       "\n",
       "                                            processId  blocks  \\\n",
       "2   fe20607cf3f94060b3edc5d2ece161557d7359d10eb84f...   69233   \n",
       "3   853f582a39dbb70c48468a1685fac0d9b901a3014a75eb...  125351   \n",
       "4   631ada2c7b2fc4d5cb2a6cb68d945565d1471956becf63...   71580   \n",
       "5   a1c52ab1bbb81185d37ea5c80af2691e32b598a2a90393...   58468   \n",
       "6   9a20ab76d743e2d787e8b11118a2ad7f6dc99c3faa0419...   75174   \n",
       "7   c3e08a1c1e9bddd1100c1869185f7e9ae3cf215ce1db48...  125290   \n",
       "8   8dc72483bf19b9f778c871574fc14b294de65c1e2c5437...      82   \n",
       "9   5bb213ec7c36bb6187fab7c5893c35c7b319850cf17c6a...  133642   \n",
       "10  6ce4a6de41baf8246c2b1affebf4d1c759bb6148abecf4...     160   \n",
       "18  5bb5b6c31f952d43fe0adadae15ef87461ed99ac30b29d...      60   \n",
       "\n",
       "    proccess_duration_d           creationTime_ts             endingTime_ts  \\\n",
       "2                  4.81 2021-05-12 15:26:01+00:00 2021-05-17 10:49:19+00:00   \n",
       "3                  8.70 2021-05-12 15:26:01+00:00 2021-05-21 08:21:07+00:00   \n",
       "4                  4.97 2021-05-12 15:26:01+00:00 2021-05-17 14:44:01+00:00   \n",
       "5                  4.06 2021-05-12 15:31:01+00:00 2021-05-16 16:57:49+00:00   \n",
       "6                  5.22 2021-05-12 15:36:53+00:00 2021-05-17 20:54:17+00:00   \n",
       "7                  8.70 2021-05-12 15:40:41+00:00 2021-05-21 08:29:41+00:00   \n",
       "8                  0.01 2021-05-12 15:48:16+00:00 2021-05-12 15:56:28+00:00   \n",
       "9                  9.28 2021-05-12 15:52:15+00:00 2021-05-21 22:36:27+00:00   \n",
       "10                 0.01 2021-05-12 20:46:08+00:00 2021-05-12 21:02:08+00:00   \n",
       "18                 0.00 2021-05-13 13:18:47+00:00 2021-05-13 13:24:47+00:00   \n",
       "\n",
       "    votes_count  \n",
       "2          1.00  \n",
       "3          2.00  \n",
       "4          3.00  \n",
       "5          2.00  \n",
       "6          1.00  \n",
       "7          1.00  \n",
       "8          1.00  \n",
       "9          1.00  \n",
       "10         1.00  \n",
       "18         1.00  "
      ]
     },
     "execution_count": 35,
     "metadata": {},
     "output_type": "execute_result"
    }
   ],
   "source": [
    "global_indicators.df_processes[global_indicators.df_processes.processId.isin(tmp2.process_id)]"
   ]
  },
  {
   "cell_type": "markdown",
   "id": "11b7e0d3-ff0d-4287-9856-9cf358eff75a",
   "metadata": {},
   "source": [
    "- add graph with weight\n",
    "- add requirements\n",
    "- add conda env\n",
    "- complete readme (add weight cache)\n",
    "- test env in new dir\n",
    "- turn repo to public\n",
    "- main\n",
    "  - check cache flags\n",
    "  - check list slicing\n",
    "  - change ranges max"
   ]
  },
  {
   "cell_type": "code",
   "execution_count": null,
   "id": "2022f6fa-9e41-4a6b-82e0-65b5942d178d",
   "metadata": {},
   "outputs": [],
   "source": []
  },
  {
   "cell_type": "code",
   "execution_count": null,
   "id": "411103f3-c755-4963-8e34-dbf062bc4dbe",
   "metadata": {},
   "outputs": [],
   "source": []
  },
  {
   "cell_type": "code",
   "execution_count": null,
   "id": "72bf0c9f-1380-4a45-9753-3537d8531805",
   "metadata": {},
   "outputs": [],
   "source": []
  }
 ],
 "metadata": {
  "kernelspec": {
   "display_name": "vocdoni-env",
   "language": "python",
   "name": "vocdoni-env"
  },
  "language_info": {
   "codemirror_mode": {
    "name": "ipython",
    "version": 3
   },
   "file_extension": ".py",
   "mimetype": "text/x-python",
   "name": "python",
   "nbconvert_exporter": "python",
   "pygments_lexer": "ipython3",
   "version": "3.8.5"
  }
 },
 "nbformat": 4,
 "nbformat_minor": 5
}
