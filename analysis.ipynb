{
 "cells": [
  {
   "cell_type": "code",
   "execution_count": 59,
   "id": "dac7f867-ad53-4a06-81d9-961c3a9b4a70",
   "metadata": {
    "jupyter": {
     "source_hidden": true
    },
    "tags": []
   },
   "outputs": [
    {
     "data": {
      "text/html": [
       "<img src=\"https://assets.website-files.com/5e997428d0f2eb13a90aec8c/5ea0200074850783b428f55a_graph02.svg\"/>"
      ],
      "text/plain": [
       "<IPython.core.display.Image object>"
      ]
     },
     "execution_count": 59,
     "metadata": {},
     "output_type": "execute_result"
    }
   ],
   "source": [
    "from IPython.display import Image\n",
    "from IPython.core.display import HTML \n",
    "Image(url= \"https://assets.website-files.com/5e997428d0f2eb13a90aec8c/5ea0200074850783b428f55a_graph02.svg\")"
   ]
  },
  {
   "cell_type": "code",
   "execution_count": 1,
   "id": "1280d797-5475-4622-b101-3de7a8abb660",
   "metadata": {},
   "outputs": [],
   "source": [
    "from _utils.voc_const import *\n",
    "from _const import *\n",
    "from datetime import timedelta\n",
    "import pandas as pd\n",
    "pd.set_option('display.max_rows', 500)"
   ]
  },
  {
   "cell_type": "markdown",
   "id": "f8a28417-ac85-4dd7-a58c-3f27423ae0ce",
   "metadata": {},
   "source": [
    "## Import collections"
   ]
  },
  {
   "cell_type": "code",
   "execution_count": 2,
   "id": "a9b24cd3-2451-404f-bc3f-da5e407f3f86",
   "metadata": {},
   "outputs": [],
   "source": [
    "from _utils._mongo import col_processes, col_envelopes"
   ]
  },
  {
   "cell_type": "code",
   "execution_count": 3,
   "id": "2e705cc9-171c-4170-901e-b393db977620",
   "metadata": {},
   "outputs": [],
   "source": [
    "processes = col_processes.find()"
   ]
  },
  {
   "cell_type": "markdown",
   "id": "b515a266-65e5-42e3-9938-1419cee97d84",
   "metadata": {},
   "source": [
    "### Transform to pandas DataFrame"
   ]
  },
  {
   "cell_type": "code",
   "execution_count": 4,
   "id": "98e32bf3-e044-4301-82dd-008c87a5cc93",
   "metadata": {},
   "outputs": [],
   "source": [
    "processes = [x for x in processes]"
   ]
  },
  {
   "cell_type": "code",
   "execution_count": 5,
   "id": "d7a9d006-af63-4f86-a0e8-6eb37d797493",
   "metadata": {},
   "outputs": [
    {
     "data": {
      "text/plain": [
       "[{'_id': ObjectId('60ba2296f805dbfa5ff64d26'),\n",
       "  'creationTime': '2021-05-12T15:23:16Z',\n",
       "  'endBlock': 541,\n",
       "  'startBlock': 41,\n",
       "  'entityId': '359e67ac4c5311cbd6571a20eaf6e879a466d154',\n",
       "  'processId': '53f31a0fb02a3ea7467e80ad250d43c935d3dc15924c407852d56cf8afb4fcde'},\n",
       " {'_id': ObjectId('60ba2296f805dbfa5ff64d27'),\n",
       "  'creationTime': '2021-05-12T15:26:01Z',\n",
       "  'endBlock': 71897,\n",
       "  'startBlock': 317,\n",
       "  'entityId': 'f0f8d83cdab2f9514bef0319f1b434267be36b5c',\n",
       "  'processId': '631ada2c7b2fc4d5cb2a6cb68d945565d1471956becf6382b29cf1fe6037c1f6'},\n",
       " {'_id': ObjectId('60ba2296f805dbfa5ff64d28'),\n",
       "  'creationTime': '2021-05-12T15:26:01Z',\n",
       "  'endBlock': 110178,\n",
       "  'startBlock': 40945,\n",
       "  'entityId': 'f0f8d83cdab2f9514bef0319f1b434267be36b5c',\n",
       "  'processId': 'fe20607cf3f94060b3edc5d2ece161557d7359d10eb84fb8c25efec057dd1fb7'}]"
      ]
     },
     "execution_count": 5,
     "metadata": {},
     "output_type": "execute_result"
    }
   ],
   "source": [
    "processes[:3]"
   ]
  },
  {
   "cell_type": "code",
   "execution_count": 6,
   "id": "b9874a37-dba7-4cd3-8078-46fc5b8981ef",
   "metadata": {},
   "outputs": [],
   "source": [
    "df_processes = pd.DataFrame(processes)"
   ]
  },
  {
   "cell_type": "code",
   "execution_count": 7,
   "id": "23271b99-cc3e-4374-aee8-e8c53c7269e9",
   "metadata": {},
   "outputs": [
    {
     "data": {
      "text/html": [
       "<div>\n",
       "<style scoped>\n",
       "    .dataframe tbody tr th:only-of-type {\n",
       "        vertical-align: middle;\n",
       "    }\n",
       "\n",
       "    .dataframe tbody tr th {\n",
       "        vertical-align: top;\n",
       "    }\n",
       "\n",
       "    .dataframe thead th {\n",
       "        text-align: right;\n",
       "    }\n",
       "</style>\n",
       "<table border=\"1\" class=\"dataframe\">\n",
       "  <thead>\n",
       "    <tr style=\"text-align: right;\">\n",
       "      <th></th>\n",
       "      <th>_id</th>\n",
       "      <th>creationTime</th>\n",
       "      <th>endBlock</th>\n",
       "      <th>startBlock</th>\n",
       "      <th>entityId</th>\n",
       "      <th>processId</th>\n",
       "    </tr>\n",
       "  </thead>\n",
       "  <tbody>\n",
       "    <tr>\n",
       "      <th>0</th>\n",
       "      <td>60ba2296f805dbfa5ff64d26</td>\n",
       "      <td>2021-05-12T15:23:16Z</td>\n",
       "      <td>541</td>\n",
       "      <td>41</td>\n",
       "      <td>359e67ac4c5311cbd6571a20eaf6e879a466d154</td>\n",
       "      <td>53f31a0fb02a3ea7467e80ad250d43c935d3dc15924c40...</td>\n",
       "    </tr>\n",
       "    <tr>\n",
       "      <th>1</th>\n",
       "      <td>60ba2296f805dbfa5ff64d27</td>\n",
       "      <td>2021-05-12T15:26:01Z</td>\n",
       "      <td>71897</td>\n",
       "      <td>317</td>\n",
       "      <td>f0f8d83cdab2f9514bef0319f1b434267be36b5c</td>\n",
       "      <td>631ada2c7b2fc4d5cb2a6cb68d945565d1471956becf63...</td>\n",
       "    </tr>\n",
       "    <tr>\n",
       "      <th>2</th>\n",
       "      <td>60ba2296f805dbfa5ff64d28</td>\n",
       "      <td>2021-05-12T15:26:01Z</td>\n",
       "      <td>110178</td>\n",
       "      <td>40945</td>\n",
       "      <td>f0f8d83cdab2f9514bef0319f1b434267be36b5c</td>\n",
       "      <td>fe20607cf3f94060b3edc5d2ece161557d7359d10eb84f...</td>\n",
       "    </tr>\n",
       "    <tr>\n",
       "      <th>3</th>\n",
       "      <td>60ba2296f805dbfa5ff64d29</td>\n",
       "      <td>2021-05-12T15:26:01Z</td>\n",
       "      <td>110179</td>\n",
       "      <td>39553</td>\n",
       "      <td>f0f8d83cdab2f9514bef0319f1b434267be36b5c</td>\n",
       "      <td>bf022de42ef2d7a5f9d9b2737843dfc88cf93253966124...</td>\n",
       "    </tr>\n",
       "    <tr>\n",
       "      <th>4</th>\n",
       "      <td>60ba2296f805dbfa5ff64d2a</td>\n",
       "      <td>2021-05-12T15:26:01Z</td>\n",
       "      <td>168676</td>\n",
       "      <td>43325</td>\n",
       "      <td>f0f8d83cdab2f9514bef0319f1b434267be36b5c</td>\n",
       "      <td>853f582a39dbb70c48468a1685fac0d9b901a3014a75eb...</td>\n",
       "    </tr>\n",
       "  </tbody>\n",
       "</table>\n",
       "</div>"
      ],
      "text/plain": [
       "                        _id          creationTime  endBlock  startBlock  \\\n",
       "0  60ba2296f805dbfa5ff64d26  2021-05-12T15:23:16Z       541          41   \n",
       "1  60ba2296f805dbfa5ff64d27  2021-05-12T15:26:01Z     71897         317   \n",
       "2  60ba2296f805dbfa5ff64d28  2021-05-12T15:26:01Z    110178       40945   \n",
       "3  60ba2296f805dbfa5ff64d29  2021-05-12T15:26:01Z    110179       39553   \n",
       "4  60ba2296f805dbfa5ff64d2a  2021-05-12T15:26:01Z    168676       43325   \n",
       "\n",
       "                                   entityId  \\\n",
       "0  359e67ac4c5311cbd6571a20eaf6e879a466d154   \n",
       "1  f0f8d83cdab2f9514bef0319f1b434267be36b5c   \n",
       "2  f0f8d83cdab2f9514bef0319f1b434267be36b5c   \n",
       "3  f0f8d83cdab2f9514bef0319f1b434267be36b5c   \n",
       "4  f0f8d83cdab2f9514bef0319f1b434267be36b5c   \n",
       "\n",
       "                                           processId  \n",
       "0  53f31a0fb02a3ea7467e80ad250d43c935d3dc15924c40...  \n",
       "1  631ada2c7b2fc4d5cb2a6cb68d945565d1471956becf63...  \n",
       "2  fe20607cf3f94060b3edc5d2ece161557d7359d10eb84f...  \n",
       "3  bf022de42ef2d7a5f9d9b2737843dfc88cf93253966124...  \n",
       "4  853f582a39dbb70c48468a1685fac0d9b901a3014a75eb...  "
      ]
     },
     "execution_count": 7,
     "metadata": {},
     "output_type": "execute_result"
    }
   ],
   "source": [
    "df_processes.head()"
   ]
  },
  {
   "cell_type": "code",
   "execution_count": 8,
   "id": "4a5cfdd4-4cfc-4654-b817-8eb9ef09aaef",
   "metadata": {},
   "outputs": [
    {
     "data": {
      "text/html": [
       "<div>\n",
       "<style scoped>\n",
       "    .dataframe tbody tr th:only-of-type {\n",
       "        vertical-align: middle;\n",
       "    }\n",
       "\n",
       "    .dataframe tbody tr th {\n",
       "        vertical-align: top;\n",
       "    }\n",
       "\n",
       "    .dataframe thead th {\n",
       "        text-align: right;\n",
       "    }\n",
       "</style>\n",
       "<table border=\"1\" class=\"dataframe\">\n",
       "  <thead>\n",
       "    <tr style=\"text-align: right;\">\n",
       "      <th></th>\n",
       "      <th>_id</th>\n",
       "      <th>creationTime</th>\n",
       "      <th>endBlock</th>\n",
       "      <th>startBlock</th>\n",
       "      <th>entityId</th>\n",
       "      <th>processId</th>\n",
       "    </tr>\n",
       "  </thead>\n",
       "  <tbody>\n",
       "    <tr>\n",
       "      <th>161</th>\n",
       "      <td>60ba2296f805dbfa5ff64dc7</td>\n",
       "      <td>2021-06-04T10:03:15Z</td>\n",
       "      <td>382342</td>\n",
       "      <td>189112</td>\n",
       "      <td>29dc4923fe62cbc28b94c2c075a6e68f040f7644</td>\n",
       "      <td>3ca3595a19db17534ddc2f787c2659e4a1e51777f9d2e0...</td>\n",
       "    </tr>\n",
       "    <tr>\n",
       "      <th>162</th>\n",
       "      <td>60ba2296f805dbfa5ff64dc8</td>\n",
       "      <td>2021-06-04T10:17:44Z</td>\n",
       "      <td>378427</td>\n",
       "      <td>189199</td>\n",
       "      <td>29dc4923fe62cbc28b94c2c075a6e68f040f7644</td>\n",
       "      <td>be5b63e10fcb61743800922adbfa4a5fe9043d3ab77f8d...</td>\n",
       "    </tr>\n",
       "    <tr>\n",
       "      <th>163</th>\n",
       "      <td>60ba2296f805dbfa5ff64dc9</td>\n",
       "      <td>2021-06-04T10:27:33Z</td>\n",
       "      <td>378549</td>\n",
       "      <td>189246</td>\n",
       "      <td>29dc4923fe62cbc28b94c2c075a6e68f040f7644</td>\n",
       "      <td>fa0004a660ace49eb25b137d92a726f9622b146df72b90...</td>\n",
       "    </tr>\n",
       "    <tr>\n",
       "      <th>164</th>\n",
       "      <td>60ba2296f805dbfa5ff64dca</td>\n",
       "      <td>2021-06-04T12:01:02Z</td>\n",
       "      <td>193231</td>\n",
       "      <td>190097</td>\n",
       "      <td>f0f8d83cdab2f9514bef0319f1b434267be36b5c</td>\n",
       "      <td>b9cdd244f0c0e697b67020e62ac6503bef8cd5c0d13b19...</td>\n",
       "    </tr>\n",
       "    <tr>\n",
       "      <th>165</th>\n",
       "      <td>60ba2296f805dbfa5ff64dcb</td>\n",
       "      <td>2021-06-04T12:10:21Z</td>\n",
       "      <td>209937</td>\n",
       "      <td>189828</td>\n",
       "      <td>f0f8d83cdab2f9514bef0319f1b434267be36b5c</td>\n",
       "      <td>8eab28581e693b0f94ad01284eb47d8a4035ae01f36d14...</td>\n",
       "    </tr>\n",
       "  </tbody>\n",
       "</table>\n",
       "</div>"
      ],
      "text/plain": [
       "                          _id          creationTime  endBlock  startBlock  \\\n",
       "161  60ba2296f805dbfa5ff64dc7  2021-06-04T10:03:15Z    382342      189112   \n",
       "162  60ba2296f805dbfa5ff64dc8  2021-06-04T10:17:44Z    378427      189199   \n",
       "163  60ba2296f805dbfa5ff64dc9  2021-06-04T10:27:33Z    378549      189246   \n",
       "164  60ba2296f805dbfa5ff64dca  2021-06-04T12:01:02Z    193231      190097   \n",
       "165  60ba2296f805dbfa5ff64dcb  2021-06-04T12:10:21Z    209937      189828   \n",
       "\n",
       "                                     entityId  \\\n",
       "161  29dc4923fe62cbc28b94c2c075a6e68f040f7644   \n",
       "162  29dc4923fe62cbc28b94c2c075a6e68f040f7644   \n",
       "163  29dc4923fe62cbc28b94c2c075a6e68f040f7644   \n",
       "164  f0f8d83cdab2f9514bef0319f1b434267be36b5c   \n",
       "165  f0f8d83cdab2f9514bef0319f1b434267be36b5c   \n",
       "\n",
       "                                             processId  \n",
       "161  3ca3595a19db17534ddc2f787c2659e4a1e51777f9d2e0...  \n",
       "162  be5b63e10fcb61743800922adbfa4a5fe9043d3ab77f8d...  \n",
       "163  fa0004a660ace49eb25b137d92a726f9622b146df72b90...  \n",
       "164  b9cdd244f0c0e697b67020e62ac6503bef8cd5c0d13b19...  \n",
       "165  8eab28581e693b0f94ad01284eb47d8a4035ae01f36d14...  "
      ]
     },
     "execution_count": 8,
     "metadata": {},
     "output_type": "execute_result"
    }
   ],
   "source": [
    "df_processes.tail()"
   ]
  },
  {
   "cell_type": "code",
   "execution_count": 9,
   "id": "f7353826-8fc9-484f-b91b-618b6dae8e1c",
   "metadata": {},
   "outputs": [
    {
     "name": "stdout",
     "output_type": "stream",
     "text": [
      "<class 'pandas.core.frame.DataFrame'>\n",
      "RangeIndex: 166 entries, 0 to 165\n",
      "Data columns (total 6 columns):\n",
      " #   Column        Non-Null Count  Dtype \n",
      "---  ------        --------------  ----- \n",
      " 0   _id           166 non-null    object\n",
      " 1   creationTime  166 non-null    object\n",
      " 2   endBlock      166 non-null    int64 \n",
      " 3   startBlock    166 non-null    int64 \n",
      " 4   entityId      166 non-null    object\n",
      " 5   processId     166 non-null    object\n",
      "dtypes: int64(2), object(4)\n",
      "memory usage: 7.9+ KB\n"
     ]
    }
   ],
   "source": [
    "df_processes.info()"
   ]
  },
  {
   "cell_type": "markdown",
   "id": "584c7030-301f-49a1-9b4e-efa9af959ad5",
   "metadata": {},
   "source": [
    "There are no null values, being `startBlock` and `endBlock` integer type."
   ]
  },
  {
   "cell_type": "markdown",
   "id": "52a14c89-bd4a-4b72-8cd1-f4402ec086fb",
   "metadata": {},
   "source": [
    "### Create blocks column\n",
    "So as to be able to calculate `proccess_duration`"
   ]
  },
  {
   "cell_type": "code",
   "execution_count": 10,
   "id": "76b0f18c-a7ec-4801-9ba5-bdb162bb523f",
   "metadata": {},
   "outputs": [],
   "source": [
    "df_processes[\"blocks\"] = df_processes[\"endBlock\"] - df_processes[\"startBlock\"]"
   ]
  },
  {
   "cell_type": "code",
   "execution_count": 11,
   "id": "565337a9-7e0f-40ba-928d-08edf472dd5a",
   "metadata": {},
   "outputs": [],
   "source": [
    "df_processes[\"proccess_duration_d\"] = (df_processes[\"blocks\"] \n",
    "                                       / AVG_BLOCK_TIME_SECS # seconds\n",
    "                                       / 60 # minutes\n",
    "                                       / 24 # days\n",
    "                                      )"
   ]
  },
  {
   "cell_type": "code",
   "execution_count": 58,
   "id": "4b9336d8-a33e-4e88-8690-a9dcfc69b95d",
   "metadata": {},
   "outputs": [
    {
     "data": {
      "text/plain": [
       "count    166.000000\n",
       "mean       2.833576\n",
       "std       11.469878\n",
       "min        0.000417\n",
       "25%        0.024375\n",
       "50%        0.168993\n",
       "75%        3.481944\n",
       "max      141.555486\n",
       "Name: proccess_duration_d, dtype: float64"
      ]
     },
     "execution_count": 58,
     "metadata": {},
     "output_type": "execute_result"
    }
   ],
   "source": [
    "df_processes[\"proccess_duration_d\"].describe()"
   ]
  },
  {
   "cell_type": "markdown",
   "id": "e41f0c73-2d3b-470c-ac11-70de03c5d6db",
   "metadata": {},
   "source": [
    "### Transform `creationTime` to datetime"
   ]
  },
  {
   "cell_type": "code",
   "execution_count": 12,
   "id": "5fd74397-b0b1-4fac-a8ee-b08f9fa0da0c",
   "metadata": {},
   "outputs": [],
   "source": [
    "df_processes[\"creationTime_ts\"] = pd.to_datetime(df_processes[\"creationTime\"])"
   ]
  },
  {
   "cell_type": "code",
   "execution_count": 13,
   "id": "9e64174e-78df-4547-be85-ea777afbbc2f",
   "metadata": {},
   "outputs": [
    {
     "data": {
      "text/html": [
       "<div>\n",
       "<style scoped>\n",
       "    .dataframe tbody tr th:only-of-type {\n",
       "        vertical-align: middle;\n",
       "    }\n",
       "\n",
       "    .dataframe tbody tr th {\n",
       "        vertical-align: top;\n",
       "    }\n",
       "\n",
       "    .dataframe thead th {\n",
       "        text-align: right;\n",
       "    }\n",
       "</style>\n",
       "<table border=\"1\" class=\"dataframe\">\n",
       "  <thead>\n",
       "    <tr style=\"text-align: right;\">\n",
       "      <th></th>\n",
       "      <th>creationTime</th>\n",
       "      <th>creationTime_ts</th>\n",
       "    </tr>\n",
       "  </thead>\n",
       "  <tbody>\n",
       "    <tr>\n",
       "      <th>0</th>\n",
       "      <td>2021-05-12T15:23:16Z</td>\n",
       "      <td>2021-05-12 15:23:16+00:00</td>\n",
       "    </tr>\n",
       "    <tr>\n",
       "      <th>1</th>\n",
       "      <td>2021-05-12T15:26:01Z</td>\n",
       "      <td>2021-05-12 15:26:01+00:00</td>\n",
       "    </tr>\n",
       "    <tr>\n",
       "      <th>2</th>\n",
       "      <td>2021-05-12T15:26:01Z</td>\n",
       "      <td>2021-05-12 15:26:01+00:00</td>\n",
       "    </tr>\n",
       "    <tr>\n",
       "      <th>3</th>\n",
       "      <td>2021-05-12T15:26:01Z</td>\n",
       "      <td>2021-05-12 15:26:01+00:00</td>\n",
       "    </tr>\n",
       "    <tr>\n",
       "      <th>4</th>\n",
       "      <td>2021-05-12T15:26:01Z</td>\n",
       "      <td>2021-05-12 15:26:01+00:00</td>\n",
       "    </tr>\n",
       "  </tbody>\n",
       "</table>\n",
       "</div>"
      ],
      "text/plain": [
       "           creationTime           creationTime_ts\n",
       "0  2021-05-12T15:23:16Z 2021-05-12 15:23:16+00:00\n",
       "1  2021-05-12T15:26:01Z 2021-05-12 15:26:01+00:00\n",
       "2  2021-05-12T15:26:01Z 2021-05-12 15:26:01+00:00\n",
       "3  2021-05-12T15:26:01Z 2021-05-12 15:26:01+00:00\n",
       "4  2021-05-12T15:26:01Z 2021-05-12 15:26:01+00:00"
      ]
     },
     "execution_count": 13,
     "metadata": {},
     "output_type": "execute_result"
    }
   ],
   "source": [
    "df_processes[[\"creationTime\", \"creationTime_ts\"]].head()"
   ]
  },
  {
   "cell_type": "code",
   "execution_count": 46,
   "id": "f481fb08-618e-479a-9a2b-b9677f720375",
   "metadata": {},
   "outputs": [
    {
     "data": {
      "text/html": [
       "<div>\n",
       "<style scoped>\n",
       "    .dataframe tbody tr th:only-of-type {\n",
       "        vertical-align: middle;\n",
       "    }\n",
       "\n",
       "    .dataframe tbody tr th {\n",
       "        vertical-align: top;\n",
       "    }\n",
       "\n",
       "    .dataframe thead th {\n",
       "        text-align: right;\n",
       "    }\n",
       "</style>\n",
       "<table border=\"1\" class=\"dataframe\">\n",
       "  <thead>\n",
       "    <tr style=\"text-align: right;\">\n",
       "      <th></th>\n",
       "      <th>endingTime_ts</th>\n",
       "      <th>creationTime_ts</th>\n",
       "      <th>proccess_duration_d</th>\n",
       "    </tr>\n",
       "  </thead>\n",
       "  <tbody>\n",
       "    <tr>\n",
       "      <th>0</th>\n",
       "      <td>2021-05-12 16:13:16+00:00</td>\n",
       "      <td>2021-05-12 15:23:16+00:00</td>\n",
       "      <td>0.034722</td>\n",
       "    </tr>\n",
       "    <tr>\n",
       "      <th>1</th>\n",
       "      <td>2021-05-17 14:44:01+00:00</td>\n",
       "      <td>2021-05-12 15:26:01+00:00</td>\n",
       "      <td>4.970833</td>\n",
       "    </tr>\n",
       "    <tr>\n",
       "      <th>2</th>\n",
       "      <td>2021-05-17 10:49:19+00:00</td>\n",
       "      <td>2021-05-12 15:26:01+00:00</td>\n",
       "      <td>4.807847</td>\n",
       "    </tr>\n",
       "    <tr>\n",
       "      <th>3</th>\n",
       "      <td>2021-05-17 13:08:37+00:00</td>\n",
       "      <td>2021-05-12 15:26:01+00:00</td>\n",
       "      <td>4.904583</td>\n",
       "    </tr>\n",
       "    <tr>\n",
       "      <th>4</th>\n",
       "      <td>2021-05-21 08:21:07+00:00</td>\n",
       "      <td>2021-05-12 15:26:01+00:00</td>\n",
       "      <td>8.704931</td>\n",
       "    </tr>\n",
       "  </tbody>\n",
       "</table>\n",
       "</div>"
      ],
      "text/plain": [
       "              endingTime_ts           creationTime_ts  proccess_duration_d\n",
       "0 2021-05-12 16:13:16+00:00 2021-05-12 15:23:16+00:00             0.034722\n",
       "1 2021-05-17 14:44:01+00:00 2021-05-12 15:26:01+00:00             4.970833\n",
       "2 2021-05-17 10:49:19+00:00 2021-05-12 15:26:01+00:00             4.807847\n",
       "3 2021-05-17 13:08:37+00:00 2021-05-12 15:26:01+00:00             4.904583\n",
       "4 2021-05-21 08:21:07+00:00 2021-05-12 15:26:01+00:00             8.704931"
      ]
     },
     "execution_count": 46,
     "metadata": {},
     "output_type": "execute_result"
    }
   ],
   "source": [
    "df_processes[\"endingTime_ts\"] = df_processes[\"creationTime_ts\"] + df_processes[\"proccess_duration_d\"].apply(lambda x: timedelta(days=x))\n",
    "df_processes[[\"endingTime_ts\", \"creationTime_ts\", \"proccess_duration_d\"]].head()"
   ]
  },
  {
   "cell_type": "code",
   "execution_count": 60,
   "id": "80141d68-e027-4a88-a90a-542b16d1e48a",
   "metadata": {},
   "outputs": [
    {
     "data": {
      "text/html": [
       "<div>\n",
       "<style scoped>\n",
       "    .dataframe tbody tr th:only-of-type {\n",
       "        vertical-align: middle;\n",
       "    }\n",
       "\n",
       "    .dataframe tbody tr th {\n",
       "        vertical-align: top;\n",
       "    }\n",
       "\n",
       "    .dataframe thead th {\n",
       "        text-align: right;\n",
       "    }\n",
       "</style>\n",
       "<table border=\"1\" class=\"dataframe\">\n",
       "  <thead>\n",
       "    <tr style=\"text-align: right;\">\n",
       "      <th></th>\n",
       "      <th>_id</th>\n",
       "      <th>creationTime</th>\n",
       "      <th>endBlock</th>\n",
       "      <th>startBlock</th>\n",
       "      <th>entityId</th>\n",
       "      <th>processId</th>\n",
       "      <th>blocks</th>\n",
       "      <th>proccess_duration_d</th>\n",
       "      <th>creationTime_ts</th>\n",
       "      <th>endingTime_ts</th>\n",
       "    </tr>\n",
       "  </thead>\n",
       "  <tbody>\n",
       "    <tr>\n",
       "      <th>0</th>\n",
       "      <td>60ba2296f805dbfa5ff64d26</td>\n",
       "      <td>2021-05-12T15:23:16Z</td>\n",
       "      <td>541</td>\n",
       "      <td>41</td>\n",
       "      <td>359e67ac4c5311cbd6571a20eaf6e879a466d154</td>\n",
       "      <td>53f31a0fb02a3ea7467e80ad250d43c935d3dc15924c40...</td>\n",
       "      <td>500</td>\n",
       "      <td>0.034722</td>\n",
       "      <td>2021-05-12 15:23:16+00:00</td>\n",
       "      <td>2021-05-12 16:13:16+00:00</td>\n",
       "    </tr>\n",
       "    <tr>\n",
       "      <th>1</th>\n",
       "      <td>60ba2296f805dbfa5ff64d27</td>\n",
       "      <td>2021-05-12T15:26:01Z</td>\n",
       "      <td>71897</td>\n",
       "      <td>317</td>\n",
       "      <td>f0f8d83cdab2f9514bef0319f1b434267be36b5c</td>\n",
       "      <td>631ada2c7b2fc4d5cb2a6cb68d945565d1471956becf63...</td>\n",
       "      <td>71580</td>\n",
       "      <td>4.970833</td>\n",
       "      <td>2021-05-12 15:26:01+00:00</td>\n",
       "      <td>2021-05-17 14:44:01+00:00</td>\n",
       "    </tr>\n",
       "    <tr>\n",
       "      <th>2</th>\n",
       "      <td>60ba2296f805dbfa5ff64d28</td>\n",
       "      <td>2021-05-12T15:26:01Z</td>\n",
       "      <td>110178</td>\n",
       "      <td>40945</td>\n",
       "      <td>f0f8d83cdab2f9514bef0319f1b434267be36b5c</td>\n",
       "      <td>fe20607cf3f94060b3edc5d2ece161557d7359d10eb84f...</td>\n",
       "      <td>69233</td>\n",
       "      <td>4.807847</td>\n",
       "      <td>2021-05-12 15:26:01+00:00</td>\n",
       "      <td>2021-05-17 10:49:19+00:00</td>\n",
       "    </tr>\n",
       "    <tr>\n",
       "      <th>3</th>\n",
       "      <td>60ba2296f805dbfa5ff64d29</td>\n",
       "      <td>2021-05-12T15:26:01Z</td>\n",
       "      <td>110179</td>\n",
       "      <td>39553</td>\n",
       "      <td>f0f8d83cdab2f9514bef0319f1b434267be36b5c</td>\n",
       "      <td>bf022de42ef2d7a5f9d9b2737843dfc88cf93253966124...</td>\n",
       "      <td>70626</td>\n",
       "      <td>4.904583</td>\n",
       "      <td>2021-05-12 15:26:01+00:00</td>\n",
       "      <td>2021-05-17 13:08:37+00:00</td>\n",
       "    </tr>\n",
       "    <tr>\n",
       "      <th>4</th>\n",
       "      <td>60ba2296f805dbfa5ff64d2a</td>\n",
       "      <td>2021-05-12T15:26:01Z</td>\n",
       "      <td>168676</td>\n",
       "      <td>43325</td>\n",
       "      <td>f0f8d83cdab2f9514bef0319f1b434267be36b5c</td>\n",
       "      <td>853f582a39dbb70c48468a1685fac0d9b901a3014a75eb...</td>\n",
       "      <td>125351</td>\n",
       "      <td>8.704931</td>\n",
       "      <td>2021-05-12 15:26:01+00:00</td>\n",
       "      <td>2021-05-21 08:21:07+00:00</td>\n",
       "    </tr>\n",
       "  </tbody>\n",
       "</table>\n",
       "</div>"
      ],
      "text/plain": [
       "                        _id          creationTime  endBlock  startBlock  \\\n",
       "0  60ba2296f805dbfa5ff64d26  2021-05-12T15:23:16Z       541          41   \n",
       "1  60ba2296f805dbfa5ff64d27  2021-05-12T15:26:01Z     71897         317   \n",
       "2  60ba2296f805dbfa5ff64d28  2021-05-12T15:26:01Z    110178       40945   \n",
       "3  60ba2296f805dbfa5ff64d29  2021-05-12T15:26:01Z    110179       39553   \n",
       "4  60ba2296f805dbfa5ff64d2a  2021-05-12T15:26:01Z    168676       43325   \n",
       "\n",
       "                                   entityId  \\\n",
       "0  359e67ac4c5311cbd6571a20eaf6e879a466d154   \n",
       "1  f0f8d83cdab2f9514bef0319f1b434267be36b5c   \n",
       "2  f0f8d83cdab2f9514bef0319f1b434267be36b5c   \n",
       "3  f0f8d83cdab2f9514bef0319f1b434267be36b5c   \n",
       "4  f0f8d83cdab2f9514bef0319f1b434267be36b5c   \n",
       "\n",
       "                                           processId  blocks  \\\n",
       "0  53f31a0fb02a3ea7467e80ad250d43c935d3dc15924c40...     500   \n",
       "1  631ada2c7b2fc4d5cb2a6cb68d945565d1471956becf63...   71580   \n",
       "2  fe20607cf3f94060b3edc5d2ece161557d7359d10eb84f...   69233   \n",
       "3  bf022de42ef2d7a5f9d9b2737843dfc88cf93253966124...   70626   \n",
       "4  853f582a39dbb70c48468a1685fac0d9b901a3014a75eb...  125351   \n",
       "\n",
       "   proccess_duration_d           creationTime_ts             endingTime_ts  \n",
       "0             0.034722 2021-05-12 15:23:16+00:00 2021-05-12 16:13:16+00:00  \n",
       "1             4.970833 2021-05-12 15:26:01+00:00 2021-05-17 14:44:01+00:00  \n",
       "2             4.807847 2021-05-12 15:26:01+00:00 2021-05-17 10:49:19+00:00  \n",
       "3             4.904583 2021-05-12 15:26:01+00:00 2021-05-17 13:08:37+00:00  \n",
       "4             8.704931 2021-05-12 15:26:01+00:00 2021-05-21 08:21:07+00:00  "
      ]
     },
     "execution_count": 60,
     "metadata": {},
     "output_type": "execute_result"
    }
   ],
   "source": [
    "df_processes.head()"
   ]
  },
  {
   "cell_type": "markdown",
   "id": "904ab777-0c28-4a8b-b09a-affe3dcb85ae",
   "metadata": {},
   "source": [
    "---"
   ]
  },
  {
   "cell_type": "code",
   "execution_count": 47,
   "id": "67d70899-e127-47b0-888b-39d2c7a3cf1c",
   "metadata": {},
   "outputs": [],
   "source": [
    "if CACHE_ENVELOPES:\n",
    "    from data.envelopes import envelopes"
   ]
  },
  {
   "cell_type": "code",
   "execution_count": 48,
   "id": "4d0eb593-2121-48a0-8d8e-d22664d63914",
   "metadata": {},
   "outputs": [
    {
     "data": {
      "text/plain": [
       "144"
      ]
     },
     "execution_count": 48,
     "metadata": {},
     "output_type": "execute_result"
    }
   ],
   "source": [
    "len(envelopes)"
   ]
  },
  {
   "cell_type": "code",
   "execution_count": 49,
   "id": "5b2c5825-1b70-4b7f-b9bc-f58e238d0550",
   "metadata": {},
   "outputs": [
    {
     "data": {
      "text/plain": [
       "{'id': '123',\n",
       " 'response': {'envelopes': [{'height': 154478,\n",
       "    'nullifier': '3d0714498cf73a72e3b51a9df2b212043e36dd4b8cd82ef92ef5a4b2db16eff2',\n",
       "    'process_id': '853f582a39dbb70c48468a1685fac0d9b901a3014a75eb25c006735fd62c27ad',\n",
       "    'tx_hash': 'e7e797dbdcc90d833db2ca84f386fa73786050c4b5862b4208ac8124c623ac61',\n",
       "    'tx_index': 0},\n",
       "   {'height': 156369,\n",
       "    'nullifier': '120e06d4e2530faac4a998e5a99d4638690537fdd54d66c6231c1c6ebe0c1b12',\n",
       "    'process_id': '853f582a39dbb70c48468a1685fac0d9b901a3014a75eb25c006735fd62c27ad',\n",
       "    'tx_hash': '1fea8f0948ae656147bf12422449518a19abf823c43277f585b2bf4e0dccc1e5',\n",
       "    'tx_index': 0}],\n",
       "  'ok': True,\n",
       "  'request': '123',\n",
       "  'timestamp': 1622822512},\n",
       " 'signature': 'b0f27a693931120a60e2d8944ba1bf5d71ec3c6f345c21f6026f697b103cf9f958c6ff33fe1338eede567b3081636670d20d4b3e44f860ed0a500c02d32add2a01'}"
      ]
     },
     "execution_count": 49,
     "metadata": {},
     "output_type": "execute_result"
    }
   ],
   "source": [
    "envelopes[4]"
   ]
  },
  {
   "cell_type": "markdown",
   "id": "b640e6de-05cf-4dcd-9885-03c28e3a81f0",
   "metadata": {},
   "source": [
    "### Filter needed data from `envelopes`"
   ]
  },
  {
   "cell_type": "code",
   "execution_count": 50,
   "id": "87d15a74-6226-4281-a6c6-8d846e8afb9d",
   "metadata": {},
   "outputs": [],
   "source": [
    "check = []\n",
    "envelopes_filtered = []\n",
    "for e in envelopes:\n",
    "    r = e.get(\"response\", None)\n",
    "    _e = r.get(\"envelopes\", None)\n",
    "    if _e:\n",
    "        l = (len(_e))\n",
    "        for _d in _e:\n",
    "            new = {attr: _d[attr] for attr in ATTR.getEnvelopeList if attr in _d}\n",
    "            envelopes_filtered.append(new)\n",
    "        if l == 64:\n",
    "            check.append(new[\"process_id\"])"
   ]
  },
  {
   "cell_type": "code",
   "execution_count": 51,
   "id": "2cbac41d-a2a7-499d-8a3a-54ddaadbe113",
   "metadata": {},
   "outputs": [
    {
     "data": {
      "text/plain": [
       "['53f31a0fb02a3ea7467e80ad250d43c935d3dc15924c407852d56cf8afb4fcde',\n",
       " '7bbe11efa4597621c26a8b3ea3fe5e3ae1cc457e3b17ea4b5ceb64fd07931199',\n",
       " 'fbdf7c83153d889d1683ba3c286b2dc5025d1e75a20464acbd1f3b5098111212',\n",
       " '16ef4d7af7489d8fbe113e6dcb58e9aeb5deac49a83b9e1efee5770814eacaa8',\n",
       " '85f3a5394c7e186ab5172e7a1d1dfa7c5b7e707b06b31c8f36e10e9c670014d2',\n",
       " 'a5d79fbbd4054e40ebab3278647d7bab83afaecba7535fa2fec3eaad12d18af1',\n",
       " 'c68f38a67c71869eca9c35dc20b76d9e6bbcbc9d6df699de59938e225322e151']"
      ]
     },
     "execution_count": 51,
     "metadata": {},
     "output_type": "execute_result"
    }
   ],
   "source": [
    "check"
   ]
  },
  {
   "cell_type": "code",
   "execution_count": 52,
   "id": "a2202cf2-bee4-41a6-b71d-e181418baea0",
   "metadata": {},
   "outputs": [
    {
     "data": {
      "text/plain": [
       "[{'height': 42,\n",
       "  'nullifier': '00c5a14b3aa62f810fd829e076fd8b46d52fe5a709a738c11af65e9b055bc443',\n",
       "  'process_id': '53f31a0fb02a3ea7467e80ad250d43c935d3dc15924c407852d56cf8afb4fcde'},\n",
       " {'height': 42,\n",
       "  'nullifier': '012de59c7121f8f9d97edcfc43b7504c7e89a9312bc6ac4ce3c06ff825531811',\n",
       "  'process_id': '53f31a0fb02a3ea7467e80ad250d43c935d3dc15924c407852d56cf8afb4fcde'},\n",
       " {'height': 42,\n",
       "  'nullifier': '01be3123076729594d89e457a46a7b3751b3fd25f1ef2916c824c95364c66c1c',\n",
       "  'process_id': '53f31a0fb02a3ea7467e80ad250d43c935d3dc15924c407852d56cf8afb4fcde'}]"
      ]
     },
     "execution_count": 52,
     "metadata": {},
     "output_type": "execute_result"
    }
   ],
   "source": [
    "envelopes_filtered[:3]"
   ]
  },
  {
   "cell_type": "code",
   "execution_count": 53,
   "id": "c5bd05ec-7201-4ef5-b0fa-5119460171cb",
   "metadata": {},
   "outputs": [],
   "source": [
    "df_envelopes = pd.DataFrame(envelopes_filtered)"
   ]
  },
  {
   "cell_type": "code",
   "execution_count": 54,
   "id": "13c82aee-e0f8-4c49-b3d5-4b0c562a6cda",
   "metadata": {},
   "outputs": [
    {
     "data": {
      "text/html": [
       "<div>\n",
       "<style scoped>\n",
       "    .dataframe tbody tr th:only-of-type {\n",
       "        vertical-align: middle;\n",
       "    }\n",
       "\n",
       "    .dataframe tbody tr th {\n",
       "        vertical-align: top;\n",
       "    }\n",
       "\n",
       "    .dataframe thead th {\n",
       "        text-align: right;\n",
       "    }\n",
       "</style>\n",
       "<table border=\"1\" class=\"dataframe\">\n",
       "  <thead>\n",
       "    <tr style=\"text-align: right;\">\n",
       "      <th></th>\n",
       "      <th>height</th>\n",
       "      <th>nullifier</th>\n",
       "      <th>process_id</th>\n",
       "    </tr>\n",
       "  </thead>\n",
       "  <tbody>\n",
       "    <tr>\n",
       "      <th>0</th>\n",
       "      <td>42</td>\n",
       "      <td>00c5a14b3aa62f810fd829e076fd8b46d52fe5a709a738...</td>\n",
       "      <td>53f31a0fb02a3ea7467e80ad250d43c935d3dc15924c40...</td>\n",
       "    </tr>\n",
       "    <tr>\n",
       "      <th>1</th>\n",
       "      <td>42</td>\n",
       "      <td>012de59c7121f8f9d97edcfc43b7504c7e89a9312bc6ac...</td>\n",
       "      <td>53f31a0fb02a3ea7467e80ad250d43c935d3dc15924c40...</td>\n",
       "    </tr>\n",
       "    <tr>\n",
       "      <th>2</th>\n",
       "      <td>42</td>\n",
       "      <td>01be3123076729594d89e457a46a7b3751b3fd25f1ef29...</td>\n",
       "      <td>53f31a0fb02a3ea7467e80ad250d43c935d3dc15924c40...</td>\n",
       "    </tr>\n",
       "    <tr>\n",
       "      <th>3</th>\n",
       "      <td>42</td>\n",
       "      <td>020a34edc52b6d5281580fea3857dfc8bce9a322984b15...</td>\n",
       "      <td>53f31a0fb02a3ea7467e80ad250d43c935d3dc15924c40...</td>\n",
       "    </tr>\n",
       "    <tr>\n",
       "      <th>4</th>\n",
       "      <td>42</td>\n",
       "      <td>0234a78af57502e716ac6ca9616359f660cdf76b33febb...</td>\n",
       "      <td>53f31a0fb02a3ea7467e80ad250d43c935d3dc15924c40...</td>\n",
       "    </tr>\n",
       "  </tbody>\n",
       "</table>\n",
       "</div>"
      ],
      "text/plain": [
       "   height                                          nullifier  \\\n",
       "0      42  00c5a14b3aa62f810fd829e076fd8b46d52fe5a709a738...   \n",
       "1      42  012de59c7121f8f9d97edcfc43b7504c7e89a9312bc6ac...   \n",
       "2      42  01be3123076729594d89e457a46a7b3751b3fd25f1ef29...   \n",
       "3      42  020a34edc52b6d5281580fea3857dfc8bce9a322984b15...   \n",
       "4      42  0234a78af57502e716ac6ca9616359f660cdf76b33febb...   \n",
       "\n",
       "                                          process_id  \n",
       "0  53f31a0fb02a3ea7467e80ad250d43c935d3dc15924c40...  \n",
       "1  53f31a0fb02a3ea7467e80ad250d43c935d3dc15924c40...  \n",
       "2  53f31a0fb02a3ea7467e80ad250d43c935d3dc15924c40...  \n",
       "3  53f31a0fb02a3ea7467e80ad250d43c935d3dc15924c40...  \n",
       "4  53f31a0fb02a3ea7467e80ad250d43c935d3dc15924c40...  "
      ]
     },
     "execution_count": 54,
     "metadata": {},
     "output_type": "execute_result"
    }
   ],
   "source": [
    "df_envelopes.head()"
   ]
  },
  {
   "cell_type": "code",
   "execution_count": 55,
   "id": "0b61de2c-6977-4809-b488-e69d90e7d652",
   "metadata": {},
   "outputs": [
    {
     "data": {
      "text/html": [
       "<div>\n",
       "<style scoped>\n",
       "    .dataframe tbody tr th:only-of-type {\n",
       "        vertical-align: middle;\n",
       "    }\n",
       "\n",
       "    .dataframe tbody tr th {\n",
       "        vertical-align: top;\n",
       "    }\n",
       "\n",
       "    .dataframe thead th {\n",
       "        text-align: right;\n",
       "    }\n",
       "</style>\n",
       "<table border=\"1\" class=\"dataframe\">\n",
       "  <thead>\n",
       "    <tr style=\"text-align: right;\">\n",
       "      <th></th>\n",
       "      <th>height</th>\n",
       "      <th>nullifier</th>\n",
       "      <th>process_id</th>\n",
       "    </tr>\n",
       "  </thead>\n",
       "  <tbody>\n",
       "    <tr>\n",
       "      <th>753</th>\n",
       "      <td>166699</td>\n",
       "      <td>cf3e5e281cc69e3d55d6f55bf0d3823e51721a45693014...</td>\n",
       "      <td>288f52b6bd859455d71ae6c4ecf201fe1268a4e826b728...</td>\n",
       "    </tr>\n",
       "    <tr>\n",
       "      <th>754</th>\n",
       "      <td>181367</td>\n",
       "      <td>2a57bd3e133a5e29a183b7864154fe18f804787e76d151...</td>\n",
       "      <td>f128b9db8525215da84af8f47afe5bbcac093a55866cb2...</td>\n",
       "    </tr>\n",
       "    <tr>\n",
       "      <th>755</th>\n",
       "      <td>189117</td>\n",
       "      <td>fe3f89a36222d2d5cdb8fc7419c1209ac609184bf57b23...</td>\n",
       "      <td>3ca3595a19db17534ddc2f787c2659e4a1e51777f9d2e0...</td>\n",
       "    </tr>\n",
       "    <tr>\n",
       "      <th>756</th>\n",
       "      <td>189200</td>\n",
       "      <td>f2f36df03e5587145ca2bf9f92bcc5058a8ae5c9d4b2a5...</td>\n",
       "      <td>be5b63e10fcb61743800922adbfa4a5fe9043d3ab77f8d...</td>\n",
       "    </tr>\n",
       "    <tr>\n",
       "      <th>757</th>\n",
       "      <td>189248</td>\n",
       "      <td>c51706f1be7f78d0ae1239dff3354def544154ab45e8d5...</td>\n",
       "      <td>fa0004a660ace49eb25b137d92a726f9622b146df72b90...</td>\n",
       "    </tr>\n",
       "  </tbody>\n",
       "</table>\n",
       "</div>"
      ],
      "text/plain": [
       "     height                                          nullifier  \\\n",
       "753  166699  cf3e5e281cc69e3d55d6f55bf0d3823e51721a45693014...   \n",
       "754  181367  2a57bd3e133a5e29a183b7864154fe18f804787e76d151...   \n",
       "755  189117  fe3f89a36222d2d5cdb8fc7419c1209ac609184bf57b23...   \n",
       "756  189200  f2f36df03e5587145ca2bf9f92bcc5058a8ae5c9d4b2a5...   \n",
       "757  189248  c51706f1be7f78d0ae1239dff3354def544154ab45e8d5...   \n",
       "\n",
       "                                            process_id  \n",
       "753  288f52b6bd859455d71ae6c4ecf201fe1268a4e826b728...  \n",
       "754  f128b9db8525215da84af8f47afe5bbcac093a55866cb2...  \n",
       "755  3ca3595a19db17534ddc2f787c2659e4a1e51777f9d2e0...  \n",
       "756  be5b63e10fcb61743800922adbfa4a5fe9043d3ab77f8d...  \n",
       "757  fa0004a660ace49eb25b137d92a726f9622b146df72b90...  "
      ]
     },
     "execution_count": 55,
     "metadata": {},
     "output_type": "execute_result"
    }
   ],
   "source": [
    "df_envelopes.tail()"
   ]
  },
  {
   "cell_type": "code",
   "execution_count": 56,
   "id": "9fba532e-5f64-4521-8b49-d4a959c87107",
   "metadata": {},
   "outputs": [
    {
     "data": {
      "text/html": [
       "<div>\n",
       "<style scoped>\n",
       "    .dataframe tbody tr th:only-of-type {\n",
       "        vertical-align: middle;\n",
       "    }\n",
       "\n",
       "    .dataframe tbody tr th {\n",
       "        vertical-align: top;\n",
       "    }\n",
       "\n",
       "    .dataframe thead th {\n",
       "        text-align: right;\n",
       "    }\n",
       "</style>\n",
       "<table border=\"1\" class=\"dataframe\">\n",
       "  <thead>\n",
       "    <tr style=\"text-align: right;\">\n",
       "      <th></th>\n",
       "      <th>height</th>\n",
       "    </tr>\n",
       "  </thead>\n",
       "  <tbody>\n",
       "    <tr>\n",
       "      <th>8583</th>\n",
       "      <td>64</td>\n",
       "    </tr>\n",
       "    <tr>\n",
       "      <th>8656</th>\n",
       "      <td>64</td>\n",
       "    </tr>\n",
       "    <tr>\n",
       "      <th>82513</th>\n",
       "      <td>64</td>\n",
       "    </tr>\n",
       "    <tr>\n",
       "      <th>8832</th>\n",
       "      <td>64</td>\n",
       "    </tr>\n",
       "    <tr>\n",
       "      <th>8856</th>\n",
       "      <td>64</td>\n",
       "    </tr>\n",
       "    <tr>\n",
       "      <th>8598</th>\n",
       "      <td>64</td>\n",
       "    </tr>\n",
       "    <tr>\n",
       "      <th>42</th>\n",
       "      <td>64</td>\n",
       "    </tr>\n",
       "    <tr>\n",
       "      <th>2240</th>\n",
       "      <td>20</td>\n",
       "    </tr>\n",
       "    <tr>\n",
       "      <th>1955</th>\n",
       "      <td>20</td>\n",
       "    </tr>\n",
       "    <tr>\n",
       "      <th>130125</th>\n",
       "      <td>20</td>\n",
       "    </tr>\n",
       "  </tbody>\n",
       "</table>\n",
       "</div>"
      ],
      "text/plain": [
       "        height\n",
       "8583        64\n",
       "8656        64\n",
       "82513       64\n",
       "8832        64\n",
       "8856        64\n",
       "8598        64\n",
       "42          64\n",
       "2240        20\n",
       "1955        20\n",
       "130125      20"
      ]
     },
     "metadata": {},
     "output_type": "display_data"
    },
    {
     "name": "stdout",
     "output_type": "stream",
     "text": [
      "Unique values 102\n",
      "\n"
     ]
    },
    {
     "data": {
      "text/html": [
       "<div>\n",
       "<style scoped>\n",
       "    .dataframe tbody tr th:only-of-type {\n",
       "        vertical-align: middle;\n",
       "    }\n",
       "\n",
       "    .dataframe tbody tr th {\n",
       "        vertical-align: top;\n",
       "    }\n",
       "\n",
       "    .dataframe thead th {\n",
       "        text-align: right;\n",
       "    }\n",
       "</style>\n",
       "<table border=\"1\" class=\"dataframe\">\n",
       "  <thead>\n",
       "    <tr style=\"text-align: right;\">\n",
       "      <th></th>\n",
       "      <th>nullifier</th>\n",
       "    </tr>\n",
       "  </thead>\n",
       "  <tbody>\n",
       "    <tr>\n",
       "      <th>121261049bec3df07636c580ba47a9a99a6cc6bf631cd12d98d9b20a1e0270f4</th>\n",
       "      <td>1</td>\n",
       "    </tr>\n",
       "    <tr>\n",
       "      <th>d0e11fdecea920ba22b06f3c5b4069ed484c1295b7d05d7cb1046dacff6c66fa</th>\n",
       "      <td>1</td>\n",
       "    </tr>\n",
       "    <tr>\n",
       "      <th>9c567e497d6b3ec658e02edd07bf3ed458831ce4f0fa6d00ae2c150596aa3073</th>\n",
       "      <td>1</td>\n",
       "    </tr>\n",
       "    <tr>\n",
       "      <th>105fbc3e18e602ac0a322cff924d6604677a9fa7941990a9ce545ea84fb62e3a</th>\n",
       "      <td>1</td>\n",
       "    </tr>\n",
       "    <tr>\n",
       "      <th>0087d51d5c392ae271a8c169730b4ea5f1d9ffe78bafb88cfafac7fefece8d40</th>\n",
       "      <td>1</td>\n",
       "    </tr>\n",
       "    <tr>\n",
       "      <th>100a01193dbf11b4d2df232ee05b819983aedf64c5beb6f75c9c23d0af5a2c52</th>\n",
       "      <td>1</td>\n",
       "    </tr>\n",
       "    <tr>\n",
       "      <th>008a28a369dcf4a67c71b916dbd112ed829b8f363d32b9c1e2005a95285e8867</th>\n",
       "      <td>1</td>\n",
       "    </tr>\n",
       "    <tr>\n",
       "      <th>00aa76d586ab8f8af4dc22f1e1e10b2a5f5ade3d749a454faa232d0ecd3f859a</th>\n",
       "      <td>1</td>\n",
       "    </tr>\n",
       "    <tr>\n",
       "      <th>00815710a902029dd35bb00bae042283660a977366548afb84230b97f7e98f7b</th>\n",
       "      <td>1</td>\n",
       "    </tr>\n",
       "    <tr>\n",
       "      <th>010e97ce6055d2906075dd0eb448f2af4cf397e8d7d66158e32e46bef03f7e4d</th>\n",
       "      <td>1</td>\n",
       "    </tr>\n",
       "  </tbody>\n",
       "</table>\n",
       "</div>"
      ],
      "text/plain": [
       "                                                    nullifier\n",
       "121261049bec3df07636c580ba47a9a99a6cc6bf631cd12...          1\n",
       "d0e11fdecea920ba22b06f3c5b4069ed484c1295b7d05d7...          1\n",
       "9c567e497d6b3ec658e02edd07bf3ed458831ce4f0fa6d0...          1\n",
       "105fbc3e18e602ac0a322cff924d6604677a9fa7941990a...          1\n",
       "0087d51d5c392ae271a8c169730b4ea5f1d9ffe78bafb88...          1\n",
       "100a01193dbf11b4d2df232ee05b819983aedf64c5beb6f...          1\n",
       "008a28a369dcf4a67c71b916dbd112ed829b8f363d32b9c...          1\n",
       "00aa76d586ab8f8af4dc22f1e1e10b2a5f5ade3d749a454...          1\n",
       "00815710a902029dd35bb00bae042283660a977366548af...          1\n",
       "010e97ce6055d2906075dd0eb448f2af4cf397e8d7d6615...          1"
      ]
     },
     "metadata": {},
     "output_type": "display_data"
    },
    {
     "name": "stdout",
     "output_type": "stream",
     "text": [
      "Unique values 758\n",
      "\n"
     ]
    },
    {
     "data": {
      "text/html": [
       "<div>\n",
       "<style scoped>\n",
       "    .dataframe tbody tr th:only-of-type {\n",
       "        vertical-align: middle;\n",
       "    }\n",
       "\n",
       "    .dataframe tbody tr th {\n",
       "        vertical-align: top;\n",
       "    }\n",
       "\n",
       "    .dataframe thead th {\n",
       "        text-align: right;\n",
       "    }\n",
       "</style>\n",
       "<table border=\"1\" class=\"dataframe\">\n",
       "  <thead>\n",
       "    <tr style=\"text-align: right;\">\n",
       "      <th></th>\n",
       "      <th>process_id</th>\n",
       "    </tr>\n",
       "  </thead>\n",
       "  <tbody>\n",
       "    <tr>\n",
       "      <th>53f31a0fb02a3ea7467e80ad250d43c935d3dc15924c407852d56cf8afb4fcde</th>\n",
       "      <td>64</td>\n",
       "    </tr>\n",
       "    <tr>\n",
       "      <th>a5d79fbbd4054e40ebab3278647d7bab83afaecba7535fa2fec3eaad12d18af1</th>\n",
       "      <td>64</td>\n",
       "    </tr>\n",
       "    <tr>\n",
       "      <th>fbdf7c83153d889d1683ba3c286b2dc5025d1e75a20464acbd1f3b5098111212</th>\n",
       "      <td>64</td>\n",
       "    </tr>\n",
       "    <tr>\n",
       "      <th>16ef4d7af7489d8fbe113e6dcb58e9aeb5deac49a83b9e1efee5770814eacaa8</th>\n",
       "      <td>64</td>\n",
       "    </tr>\n",
       "    <tr>\n",
       "      <th>7bbe11efa4597621c26a8b3ea3fe5e3ae1cc457e3b17ea4b5ceb64fd07931199</th>\n",
       "      <td>64</td>\n",
       "    </tr>\n",
       "    <tr>\n",
       "      <th>85f3a5394c7e186ab5172e7a1d1dfa7c5b7e707b06b31c8f36e10e9c670014d2</th>\n",
       "      <td>64</td>\n",
       "    </tr>\n",
       "    <tr>\n",
       "      <th>c68f38a67c71869eca9c35dc20b76d9e6bbcbc9d6df699de59938e225322e151</th>\n",
       "      <td>64</td>\n",
       "    </tr>\n",
       "    <tr>\n",
       "      <th>6bf6707c6379a0792c0daebec1e197b0a9d648fd01d8451dfa4d105936a82ce8</th>\n",
       "      <td>50</td>\n",
       "    </tr>\n",
       "    <tr>\n",
       "      <th>fb7bd01987e1d8bb0ad5eb8b65e26fcbdd56787f33bc9ba98e3f9b5a21afebe2</th>\n",
       "      <td>50</td>\n",
       "    </tr>\n",
       "    <tr>\n",
       "      <th>35fb0d73a5092a143a9c628f5f43b10b226cb3f48721a11df5e03e08229b3e7b</th>\n",
       "      <td>20</td>\n",
       "    </tr>\n",
       "  </tbody>\n",
       "</table>\n",
       "</div>"
      ],
      "text/plain": [
       "                                                    process_id\n",
       "53f31a0fb02a3ea7467e80ad250d43c935d3dc15924c407...          64\n",
       "a5d79fbbd4054e40ebab3278647d7bab83afaecba7535fa...          64\n",
       "fbdf7c83153d889d1683ba3c286b2dc5025d1e75a20464a...          64\n",
       "16ef4d7af7489d8fbe113e6dcb58e9aeb5deac49a83b9e1...          64\n",
       "7bbe11efa4597621c26a8b3ea3fe5e3ae1cc457e3b17ea4...          64\n",
       "85f3a5394c7e186ab5172e7a1d1dfa7c5b7e707b06b31c8...          64\n",
       "c68f38a67c71869eca9c35dc20b76d9e6bbcbc9d6df699d...          64\n",
       "6bf6707c6379a0792c0daebec1e197b0a9d648fd01d8451...          50\n",
       "fb7bd01987e1d8bb0ad5eb8b65e26fcbdd56787f33bc9ba...          50\n",
       "35fb0d73a5092a143a9c628f5f43b10b226cb3f48721a11...          20"
      ]
     },
     "metadata": {},
     "output_type": "display_data"
    },
    {
     "name": "stdout",
     "output_type": "stream",
     "text": [
      "Unique values 80\n",
      "\n"
     ]
    }
   ],
   "source": [
    "for col in df_envelopes.columns:\n",
    "    tmp_col = df_envelopes[col]\n",
    "    display(tmp_col.value_counts().head(10).to_frame())\n",
    "    print(\"Unique values\", len(tmp_col.unique()))\n",
    "    print()"
   ]
  },
  {
   "cell_type": "code",
   "execution_count": 57,
   "id": "104238c9-9403-482e-94f9-17d231c1de23",
   "metadata": {},
   "outputs": [
    {
     "data": {
      "text/html": [
       "<div>\n",
       "<style scoped>\n",
       "    .dataframe tbody tr th:only-of-type {\n",
       "        vertical-align: middle;\n",
       "    }\n",
       "\n",
       "    .dataframe tbody tr th {\n",
       "        vertical-align: top;\n",
       "    }\n",
       "\n",
       "    .dataframe thead th {\n",
       "        text-align: right;\n",
       "    }\n",
       "</style>\n",
       "<table border=\"1\" class=\"dataframe\">\n",
       "  <thead>\n",
       "    <tr style=\"text-align: right;\">\n",
       "      <th></th>\n",
       "      <th>nullifier</th>\n",
       "    </tr>\n",
       "    <tr>\n",
       "      <th>process_id</th>\n",
       "      <th></th>\n",
       "    </tr>\n",
       "  </thead>\n",
       "  <tbody>\n",
       "    <tr>\n",
       "      <th>7bbe11efa4597621c26a8b3ea3fe5e3ae1cc457e3b17ea4b5ceb64fd07931199</th>\n",
       "      <td>64</td>\n",
       "    </tr>\n",
       "    <tr>\n",
       "      <th>fbdf7c83153d889d1683ba3c286b2dc5025d1e75a20464acbd1f3b5098111212</th>\n",
       "      <td>64</td>\n",
       "    </tr>\n",
       "    <tr>\n",
       "      <th>53f31a0fb02a3ea7467e80ad250d43c935d3dc15924c407852d56cf8afb4fcde</th>\n",
       "      <td>64</td>\n",
       "    </tr>\n",
       "    <tr>\n",
       "      <th>16ef4d7af7489d8fbe113e6dcb58e9aeb5deac49a83b9e1efee5770814eacaa8</th>\n",
       "      <td>64</td>\n",
       "    </tr>\n",
       "    <tr>\n",
       "      <th>a5d79fbbd4054e40ebab3278647d7bab83afaecba7535fa2fec3eaad12d18af1</th>\n",
       "      <td>64</td>\n",
       "    </tr>\n",
       "    <tr>\n",
       "      <th>85f3a5394c7e186ab5172e7a1d1dfa7c5b7e707b06b31c8f36e10e9c670014d2</th>\n",
       "      <td>64</td>\n",
       "    </tr>\n",
       "    <tr>\n",
       "      <th>c68f38a67c71869eca9c35dc20b76d9e6bbcbc9d6df699de59938e225322e151</th>\n",
       "      <td>64</td>\n",
       "    </tr>\n",
       "    <tr>\n",
       "      <th>6bf6707c6379a0792c0daebec1e197b0a9d648fd01d8451dfa4d105936a82ce8</th>\n",
       "      <td>50</td>\n",
       "    </tr>\n",
       "    <tr>\n",
       "      <th>fb7bd01987e1d8bb0ad5eb8b65e26fcbdd56787f33bc9ba98e3f9b5a21afebe2</th>\n",
       "      <td>50</td>\n",
       "    </tr>\n",
       "    <tr>\n",
       "      <th>35fb0d73a5092a143a9c628f5f43b10b226cb3f48721a11df5e03e08229b3e7b</th>\n",
       "      <td>20</td>\n",
       "    </tr>\n",
       "    <tr>\n",
       "      <th>cfa48e9f7ddc95e82ce257de6d42e4cbf7e9664d48b95ba88608a67ade0c232f</th>\n",
       "      <td>20</td>\n",
       "    </tr>\n",
       "    <tr>\n",
       "      <th>48dd26ca7371e65b3e9e21f9b51a5bcc82c63883b1d144b941a5aa6df2cd559d</th>\n",
       "      <td>20</td>\n",
       "    </tr>\n",
       "    <tr>\n",
       "      <th>f3f42e1db4a38c78956fd5284c488f0ddca6f2996ae279e17b75abefc14f0f53</th>\n",
       "      <td>20</td>\n",
       "    </tr>\n",
       "    <tr>\n",
       "      <th>60ffb0579efe26c8ac68f6b15fc7467846db9b5770ba72fae706cede9683ad69</th>\n",
       "      <td>10</td>\n",
       "    </tr>\n",
       "    <tr>\n",
       "      <th>7593715d59feba44813eb62f4dcbf0b1f7a349216b22df640d56ca994230c7ad</th>\n",
       "      <td>10</td>\n",
       "    </tr>\n",
       "    <tr>\n",
       "      <th>ded3fc4a704db310969c6d0319570bc551f97e554cc308689b69fc75979bba8d</th>\n",
       "      <td>10</td>\n",
       "    </tr>\n",
       "    <tr>\n",
       "      <th>9e6460ca76c20d69a1fbc1b0cf3bbf58d9d16091508e41d7fb236af39a34d5e1</th>\n",
       "      <td>10</td>\n",
       "    </tr>\n",
       "    <tr>\n",
       "      <th>d8a59033607aa17bc678412c6c7c2cee9c84edeaf3e7f442ac0aa4d2487d20b1</th>\n",
       "      <td>4</td>\n",
       "    </tr>\n",
       "    <tr>\n",
       "      <th>168c95cd8efad7400ca4ace2aeb2319bed014e25960b012ed03b0cdfce137823</th>\n",
       "      <td>4</td>\n",
       "    </tr>\n",
       "    <tr>\n",
       "      <th>631ada2c7b2fc4d5cb2a6cb68d945565d1471956becf6382b29cf1fe6037c1f6</th>\n",
       "      <td>3</td>\n",
       "    </tr>\n",
       "  </tbody>\n",
       "</table>\n",
       "</div>"
      ],
      "text/plain": [
       "                                                    nullifier\n",
       "process_id                                                   \n",
       "7bbe11efa4597621c26a8b3ea3fe5e3ae1cc457e3b17ea4...         64\n",
       "fbdf7c83153d889d1683ba3c286b2dc5025d1e75a20464a...         64\n",
       "53f31a0fb02a3ea7467e80ad250d43c935d3dc15924c407...         64\n",
       "16ef4d7af7489d8fbe113e6dcb58e9aeb5deac49a83b9e1...         64\n",
       "a5d79fbbd4054e40ebab3278647d7bab83afaecba7535fa...         64\n",
       "85f3a5394c7e186ab5172e7a1d1dfa7c5b7e707b06b31c8...         64\n",
       "c68f38a67c71869eca9c35dc20b76d9e6bbcbc9d6df699d...         64\n",
       "6bf6707c6379a0792c0daebec1e197b0a9d648fd01d8451...         50\n",
       "fb7bd01987e1d8bb0ad5eb8b65e26fcbdd56787f33bc9ba...         50\n",
       "35fb0d73a5092a143a9c628f5f43b10b226cb3f48721a11...         20\n",
       "cfa48e9f7ddc95e82ce257de6d42e4cbf7e9664d48b95ba...         20\n",
       "48dd26ca7371e65b3e9e21f9b51a5bcc82c63883b1d144b...         20\n",
       "f3f42e1db4a38c78956fd5284c488f0ddca6f2996ae279e...         20\n",
       "60ffb0579efe26c8ac68f6b15fc7467846db9b5770ba72f...         10\n",
       "7593715d59feba44813eb62f4dcbf0b1f7a349216b22df6...         10\n",
       "ded3fc4a704db310969c6d0319570bc551f97e554cc3086...         10\n",
       "9e6460ca76c20d69a1fbc1b0cf3bbf58d9d16091508e41d...         10\n",
       "d8a59033607aa17bc678412c6c7c2cee9c84edeaf3e7f44...          4\n",
       "168c95cd8efad7400ca4ace2aeb2319bed014e25960b012...          4\n",
       "631ada2c7b2fc4d5cb2a6cb68d945565d1471956becf638...          3"
      ]
     },
     "metadata": {},
     "output_type": "display_data"
    }
   ],
   "source": [
    "df_tmp = (df_envelopes\n",
    "        .groupby(\"process_id\")[\"nullifier\"]\n",
    "        .count()\n",
    "        .sort_values(ascending=False)\n",
    "        .to_frame()\n",
    "        )\n",
    "display(df_tmp.head(20))"
   ]
  },
  {
   "cell_type": "code",
   "execution_count": null,
   "id": "d9307166-2015-4a5f-b535-ce23b394b5a4",
   "metadata": {},
   "outputs": [],
   "source": []
  }
 ],
 "metadata": {
  "kernelspec": {
   "display_name": "vocdoni-env",
   "language": "python",
   "name": "vocdoni-env"
  },
  "language_info": {
   "codemirror_mode": {
    "name": "ipython",
    "version": 3
   },
   "file_extension": ".py",
   "mimetype": "text/x-python",
   "name": "python",
   "nbconvert_exporter": "python",
   "pygments_lexer": "ipython3",
   "version": "3.8.5"
  }
 },
 "nbformat": 4,
 "nbformat_minor": 5
}
