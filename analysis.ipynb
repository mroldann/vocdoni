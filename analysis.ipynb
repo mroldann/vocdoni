{
 "cells": [
  {
   "cell_type": "markdown",
   "id": "0a5b2583-23de-403c-9a77-69fbafb0500f",
   "metadata": {},
   "source": [
    "# Aragon Association\n"
   ]
  },
  {
   "cell_type": "code",
   "execution_count": 1,
   "id": "d7fbeb54-0a72-4cfa-aa0e-2a364be3302b",
   "metadata": {
    "tags": []
   },
   "outputs": [
    {
     "data": {
      "text/html": [
       "<img src=\"https://assets.website-files.com/5e997428d0f2eb13a90aec8c/5ea0200074850783b428f55a_graph02.svg\"/>"
      ],
      "text/plain": [
       "<IPython.core.display.Image object>"
      ]
     },
     "execution_count": 1,
     "metadata": {},
     "output_type": "execute_result"
    }
   ],
   "source": [
    "from IPython.display import Image\n",
    "from IPython.core.display import HTML \n",
    "Image(url= \"https://assets.website-files.com/5e997428d0f2eb13a90aec8c/5ea0200074850783b428f55a_graph02.svg\")"
   ]
  },
  {
   "cell_type": "markdown",
   "id": "a6cec257-e5fa-4342-98e6-7de95fcef3ef",
   "metadata": {},
   "source": [
    "# Findings for the the Vochain community board"
   ]
  },
  {
   "cell_type": "code",
   "execution_count": 2,
   "id": "07d3ef11-783c-4db5-90fe-fc9ed98858bc",
   "metadata": {
    "tags": []
   },
   "outputs": [
    {
     "data": {
      "text/html": [
       "<img src=\"data:image/jpeg;base64,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\"/>"
      ],
      "text/plain": [
       "<IPython.core.display.Image object>"
      ]
     },
     "execution_count": 2,
     "metadata": {},
     "output_type": "execute_result"
    }
   ],
   "source": [
    "Image(url= \"data:image/jpeg;base64,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\")"
   ]
  },
  {
   "cell_type": "code",
   "execution_count": 3,
   "id": "1280d797-5475-4622-b101-3de7a8abb660",
   "metadata": {
    "tags": []
   },
   "outputs": [],
   "source": [
    "from _utils.voc_const import *\n",
    "from _const import *\n",
    "from datetime import timedelta\n",
    "import pandas as pd\n",
    "pd.set_option('display.max_rows', 500)\n",
    "pd.set_option('display.float_format', lambda x: '%.2f' % x)\n",
    "import plotly.express as px\n",
    "import plotly.io as pio\n",
    "import plotly.graph_objects as go\n",
    "pio.renderers.default = 'iframe_connected'\n",
    "\n",
    "from _utils._analysis import *\n",
    "from _utils._mongo import get_df_processes, col_envelopes, get_df_envelopes"
   ]
  },
  {
   "cell_type": "code",
   "execution_count": 4,
   "id": "d0c1b4c0-4f5b-45e2-92a6-22f5ec595c97",
   "metadata": {},
   "outputs": [],
   "source": [
    "# if CACHE_ENVELOPES:\n",
    "#     from data.rs import rs as envelopes\n",
    "#     print(len(envelopes))\n",
    "#     print(envelopes[4])\n",
    "    \n",
    "#     ### Filter needed data from `envelopes`\n",
    "#     check = []\n",
    "#     envelopes_filtered = []\n",
    "#     for e in envelopes:\n",
    "#         r = e.get(\"response\", None)\n",
    "#         _e = r.get(\"envelopes\", None)\n",
    "#         if _e:\n",
    "#             l = (len(_e))\n",
    "#             for _d in _e:\n",
    "#                 new = {attr: _d[attr] for attr in ATTR.getEnvelopeList if attr in _d}\n",
    "#                 envelopes_filtered.append(new)\n",
    "#             if l == 64:\n",
    "#                 check.append(new[\"process_id\"])\n",
    "                \n",
    "# #     col_envelopes.insert_many(envelopes_filtered)"
   ]
  },
  {
   "cell_type": "code",
   "execution_count": 5,
   "id": "b9874a37-dba7-4cd3-8078-46fc5b8981ef",
   "metadata": {
    "tags": []
   },
   "outputs": [],
   "source": [
    "# Load datasets\n",
    "df_processes = get_df_processes()\n",
    "# df_processes, MIN_KNOWN_DATE = add_time_cols(df_processes, AVG_BLOCK_TIME_SECS)\n",
    "df_envelopes = get_df_envelopes()"
   ]
  },
  {
   "cell_type": "code",
   "execution_count": 6,
   "id": "fd720155-721d-4f69-aa92-b53c7b7e45df",
   "metadata": {},
   "outputs": [
    {
     "data": {
      "text/plain": [
       "((168, 6), (30544, 4))"
      ]
     },
     "execution_count": 6,
     "metadata": {},
     "output_type": "execute_result"
    }
   ],
   "source": [
    "df_processes.shape, df_envelopes.shape"
   ]
  },
  {
   "cell_type": "code",
   "execution_count": 7,
   "id": "8080f00b-c401-42d4-9386-0c0fde42c39e",
   "metadata": {},
   "outputs": [],
   "source": [
    "### Estimate timestamp for every envelope\n",
    "# df_envelopes[\"vote_ts\"] = (df_envelopes[\"height\"]  \n",
    "#                            / AVG_BLOCK_TIME_SECS # seconds\n",
    "#                            / 60 # minutes\n",
    "#                            / 24 # days\n",
    "#                           ).apply(lambda x: timedelta(days=x)) + MIN_KNOWN_DATE"
   ]
  },
  {
   "cell_type": "code",
   "execution_count": 8,
   "id": "c0c9b159-520d-45f4-885f-da4b0d87b5ca",
   "metadata": {},
   "outputs": [
    {
     "data": {
      "text/html": [
       "<div>\n",
       "<style scoped>\n",
       "    .dataframe tbody tr th:only-of-type {\n",
       "        vertical-align: middle;\n",
       "    }\n",
       "\n",
       "    .dataframe tbody tr th {\n",
       "        vertical-align: top;\n",
       "    }\n",
       "\n",
       "    .dataframe thead th {\n",
       "        text-align: right;\n",
       "    }\n",
       "</style>\n",
       "<table border=\"1\" class=\"dataframe\">\n",
       "  <thead>\n",
       "    <tr style=\"text-align: right;\">\n",
       "      <th></th>\n",
       "      <th>_id</th>\n",
       "      <th>creationTime</th>\n",
       "      <th>endBlock</th>\n",
       "      <th>startBlock</th>\n",
       "      <th>entityId</th>\n",
       "      <th>processId</th>\n",
       "    </tr>\n",
       "  </thead>\n",
       "  <tbody>\n",
       "    <tr>\n",
       "      <th>0</th>\n",
       "      <td>60bb9aaee8dd77bc92a17b90</td>\n",
       "      <td>2021-05-12T15:23:16Z</td>\n",
       "      <td>541</td>\n",
       "      <td>41</td>\n",
       "      <td>359e67ac4c5311cbd6571a20eaf6e879a466d154</td>\n",
       "      <td>53f31a0fb02a3ea7467e80ad250d43c935d3dc15924c40...</td>\n",
       "    </tr>\n",
       "    <tr>\n",
       "      <th>1</th>\n",
       "      <td>60bb9aaee8dd77bc92a17b91</td>\n",
       "      <td>2021-05-12T15:26:01Z</td>\n",
       "      <td>110179</td>\n",
       "      <td>39553</td>\n",
       "      <td>f0f8d83cdab2f9514bef0319f1b434267be36b5c</td>\n",
       "      <td>bf022de42ef2d7a5f9d9b2737843dfc88cf93253966124...</td>\n",
       "    </tr>\n",
       "    <tr>\n",
       "      <th>2</th>\n",
       "      <td>60bb9aaee8dd77bc92a17b92</td>\n",
       "      <td>2021-05-12T15:26:01Z</td>\n",
       "      <td>110178</td>\n",
       "      <td>40945</td>\n",
       "      <td>f0f8d83cdab2f9514bef0319f1b434267be36b5c</td>\n",
       "      <td>fe20607cf3f94060b3edc5d2ece161557d7359d10eb84f...</td>\n",
       "    </tr>\n",
       "    <tr>\n",
       "      <th>3</th>\n",
       "      <td>60bb9aaee8dd77bc92a17b93</td>\n",
       "      <td>2021-05-12T15:26:01Z</td>\n",
       "      <td>168676</td>\n",
       "      <td>43325</td>\n",
       "      <td>f0f8d83cdab2f9514bef0319f1b434267be36b5c</td>\n",
       "      <td>853f582a39dbb70c48468a1685fac0d9b901a3014a75eb...</td>\n",
       "    </tr>\n",
       "    <tr>\n",
       "      <th>4</th>\n",
       "      <td>60bb9aaee8dd77bc92a17b94</td>\n",
       "      <td>2021-05-12T15:26:01Z</td>\n",
       "      <td>71897</td>\n",
       "      <td>317</td>\n",
       "      <td>f0f8d83cdab2f9514bef0319f1b434267be36b5c</td>\n",
       "      <td>631ada2c7b2fc4d5cb2a6cb68d945565d1471956becf63...</td>\n",
       "    </tr>\n",
       "  </tbody>\n",
       "</table>\n",
       "</div>"
      ],
      "text/plain": [
       "                        _id          creationTime  endBlock  startBlock  \\\n",
       "0  60bb9aaee8dd77bc92a17b90  2021-05-12T15:23:16Z       541          41   \n",
       "1  60bb9aaee8dd77bc92a17b91  2021-05-12T15:26:01Z    110179       39553   \n",
       "2  60bb9aaee8dd77bc92a17b92  2021-05-12T15:26:01Z    110178       40945   \n",
       "3  60bb9aaee8dd77bc92a17b93  2021-05-12T15:26:01Z    168676       43325   \n",
       "4  60bb9aaee8dd77bc92a17b94  2021-05-12T15:26:01Z     71897         317   \n",
       "\n",
       "                                   entityId  \\\n",
       "0  359e67ac4c5311cbd6571a20eaf6e879a466d154   \n",
       "1  f0f8d83cdab2f9514bef0319f1b434267be36b5c   \n",
       "2  f0f8d83cdab2f9514bef0319f1b434267be36b5c   \n",
       "3  f0f8d83cdab2f9514bef0319f1b434267be36b5c   \n",
       "4  f0f8d83cdab2f9514bef0319f1b434267be36b5c   \n",
       "\n",
       "                                           processId  \n",
       "0  53f31a0fb02a3ea7467e80ad250d43c935d3dc15924c40...  \n",
       "1  bf022de42ef2d7a5f9d9b2737843dfc88cf93253966124...  \n",
       "2  fe20607cf3f94060b3edc5d2ece161557d7359d10eb84f...  \n",
       "3  853f582a39dbb70c48468a1685fac0d9b901a3014a75eb...  \n",
       "4  631ada2c7b2fc4d5cb2a6cb68d945565d1471956becf63...  "
      ]
     },
     "execution_count": 8,
     "metadata": {},
     "output_type": "execute_result"
    }
   ],
   "source": [
    "df_processes.head()"
   ]
  },
  {
   "cell_type": "code",
   "execution_count": 9,
   "id": "30b61917-6667-4ecc-9987-f7e5e654733d",
   "metadata": {},
   "outputs": [
    {
     "data": {
      "text/plain": [
       "(168, 6)"
      ]
     },
     "execution_count": 9,
     "metadata": {},
     "output_type": "execute_result"
    }
   ],
   "source": [
    "df_processes.shape"
   ]
  },
  {
   "cell_type": "code",
   "execution_count": 10,
   "id": "9755f09c-599f-462d-863a-835fe46ce4bc",
   "metadata": {},
   "outputs": [
    {
     "data": {
      "text/plain": [
       "(30544, 4)"
      ]
     },
     "execution_count": 10,
     "metadata": {},
     "output_type": "execute_result"
    }
   ],
   "source": [
    "df_envelopes.shape"
   ]
  },
  {
   "cell_type": "code",
   "execution_count": 11,
   "id": "13c82aee-e0f8-4c49-b3d5-4b0c562a6cda",
   "metadata": {},
   "outputs": [
    {
     "data": {
      "text/html": [
       "<div>\n",
       "<style scoped>\n",
       "    .dataframe tbody tr th:only-of-type {\n",
       "        vertical-align: middle;\n",
       "    }\n",
       "\n",
       "    .dataframe tbody tr th {\n",
       "        vertical-align: top;\n",
       "    }\n",
       "\n",
       "    .dataframe thead th {\n",
       "        text-align: right;\n",
       "    }\n",
       "</style>\n",
       "<table border=\"1\" class=\"dataframe\">\n",
       "  <thead>\n",
       "    <tr style=\"text-align: right;\">\n",
       "      <th></th>\n",
       "      <th>_id</th>\n",
       "      <th>height</th>\n",
       "      <th>nullifier</th>\n",
       "      <th>process_id</th>\n",
       "    </tr>\n",
       "  </thead>\n",
       "  <tbody>\n",
       "    <tr>\n",
       "      <th>0</th>\n",
       "      <td>60bb9aaee8dd77bc92a17c38</td>\n",
       "      <td>42</td>\n",
       "      <td>00c5a14b3aa62f810fd829e076fd8b46d52fe5a709a738...</td>\n",
       "      <td>53f31a0fb02a3ea7467e80ad250d43c935d3dc15924c40...</td>\n",
       "    </tr>\n",
       "    <tr>\n",
       "      <th>1</th>\n",
       "      <td>60bb9aaee8dd77bc92a17c39</td>\n",
       "      <td>42</td>\n",
       "      <td>012de59c7121f8f9d97edcfc43b7504c7e89a9312bc6ac...</td>\n",
       "      <td>53f31a0fb02a3ea7467e80ad250d43c935d3dc15924c40...</td>\n",
       "    </tr>\n",
       "    <tr>\n",
       "      <th>2</th>\n",
       "      <td>60bb9aaee8dd77bc92a17c3a</td>\n",
       "      <td>42</td>\n",
       "      <td>01be3123076729594d89e457a46a7b3751b3fd25f1ef29...</td>\n",
       "      <td>53f31a0fb02a3ea7467e80ad250d43c935d3dc15924c40...</td>\n",
       "    </tr>\n",
       "    <tr>\n",
       "      <th>3</th>\n",
       "      <td>60bb9aaee8dd77bc92a17c3b</td>\n",
       "      <td>42</td>\n",
       "      <td>020a34edc52b6d5281580fea3857dfc8bce9a322984b15...</td>\n",
       "      <td>53f31a0fb02a3ea7467e80ad250d43c935d3dc15924c40...</td>\n",
       "    </tr>\n",
       "    <tr>\n",
       "      <th>4</th>\n",
       "      <td>60bb9aaee8dd77bc92a17c3c</td>\n",
       "      <td>42</td>\n",
       "      <td>0234a78af57502e716ac6ca9616359f660cdf76b33febb...</td>\n",
       "      <td>53f31a0fb02a3ea7467e80ad250d43c935d3dc15924c40...</td>\n",
       "    </tr>\n",
       "  </tbody>\n",
       "</table>\n",
       "</div>"
      ],
      "text/plain": [
       "                        _id  height  \\\n",
       "0  60bb9aaee8dd77bc92a17c38      42   \n",
       "1  60bb9aaee8dd77bc92a17c39      42   \n",
       "2  60bb9aaee8dd77bc92a17c3a      42   \n",
       "3  60bb9aaee8dd77bc92a17c3b      42   \n",
       "4  60bb9aaee8dd77bc92a17c3c      42   \n",
       "\n",
       "                                           nullifier  \\\n",
       "0  00c5a14b3aa62f810fd829e076fd8b46d52fe5a709a738...   \n",
       "1  012de59c7121f8f9d97edcfc43b7504c7e89a9312bc6ac...   \n",
       "2  01be3123076729594d89e457a46a7b3751b3fd25f1ef29...   \n",
       "3  020a34edc52b6d5281580fea3857dfc8bce9a322984b15...   \n",
       "4  0234a78af57502e716ac6ca9616359f660cdf76b33febb...   \n",
       "\n",
       "                                          process_id  \n",
       "0  53f31a0fb02a3ea7467e80ad250d43c935d3dc15924c40...  \n",
       "1  53f31a0fb02a3ea7467e80ad250d43c935d3dc15924c40...  \n",
       "2  53f31a0fb02a3ea7467e80ad250d43c935d3dc15924c40...  \n",
       "3  53f31a0fb02a3ea7467e80ad250d43c935d3dc15924c40...  \n",
       "4  53f31a0fb02a3ea7467e80ad250d43c935d3dc15924c40...  "
      ]
     },
     "execution_count": 11,
     "metadata": {},
     "output_type": "execute_result"
    }
   ],
   "source": [
    "df_envelopes.head()"
   ]
  },
  {
   "cell_type": "code",
   "execution_count": 12,
   "id": "9fba532e-5f64-4521-8b49-d4a959c87107",
   "metadata": {},
   "outputs": [
    {
     "data": {
      "text/plain": [
       "60bb9aaee8dd77bc92a1cea6    1\n",
       "60bb9aaee8dd77bc92a1c972    1\n",
       "60bb9aaee8dd77bc92a19088    1\n",
       "60bb9aaee8dd77bc92a1d5ab    1\n",
       "60bb9aaee8dd77bc92a1e0cb    1\n",
       "60bb9aaee8dd77bc92a1a10e    1\n",
       "60bb9aaee8dd77bc92a1b894    1\n",
       "60bb9aaee8dd77bc92a17e46    1\n",
       "60bb9aaee8dd77bc92a1df4e    1\n",
       "60bb9aaee8dd77bc92a1b2f0    1\n",
       "Name: _id, dtype: int64"
      ]
     },
     "metadata": {},
     "output_type": "display_data"
    },
    {
     "name": "stdout",
     "output_type": "stream",
     "text": [
      "Unique values 30544\n",
      "\n"
     ]
    },
    {
     "data": {
      "text/plain": [
       "8598    9552\n",
       "8656    9216\n",
       "8583    6592\n",
       "8584    3233\n",
       "8657     716\n",
       "8832     329\n",
       "8856     254\n",
       "42       200\n",
       "8833     171\n",
       "9161     128\n",
       "Name: height, dtype: int64"
      ]
     },
     "metadata": {},
     "output_type": "display_data"
    },
    {
     "name": "stdout",
     "output_type": "stream",
     "text": [
      "Unique values 39\n",
      "\n"
     ]
    },
    {
     "data": {
      "text/plain": [
       "5db5512219e68bf2fc478115cbaa338a605de68a3b7bc0345ceb72f9194e4ef3    1\n",
       "9bca243910058b70ca81abea644da714850f0f7b92526bb4c0d7d2b446d917bd    1\n",
       "e574787b3090d51178af9b43bc4873ca039e442a757057eb8003f4ab393748be    1\n",
       "7c32d41850a9449a3d288ccd4069316a774df00489e6f74db1ee62bed5ad46aa    1\n",
       "7cc2cb8949bcfc3e3b71243bb926b37e037773bd98510e07c553090a9245d667    1\n",
       "0fad3aaacf5e4773067fd1383f032022a425d654af61548eef6993746af09c67    1\n",
       "e3b555a94c4287209f6b1190d1e70870b0e549b4a152efe2ccd5b6b6344d6482    1\n",
       "40f7ef1021053c5f3d66e19d687749fa599f39c8ed708d0dd5fee4e697469ae9    1\n",
       "1d828db716f43435a73dc129c72dc255e8120c08d46af8776a4af7f554855be5    1\n",
       "075a916f9ac1806aebf52bd72b1a7c67586cb74a4d6e35ac21911fce660a9d25    1\n",
       "Name: nullifier, dtype: int64"
      ]
     },
     "metadata": {},
     "output_type": "display_data"
    },
    {
     "name": "stdout",
     "output_type": "stream",
     "text": [
      "Unique values 30544\n",
      "\n"
     ]
    },
    {
     "data": {
      "text/plain": [
       "16ef4d7af7489d8fbe113e6dcb58e9aeb5deac49a83b9e1efee5770814eacaa8    9932\n",
       "7bbe11efa4597621c26a8b3ea3fe5e3ae1cc457e3b17ea4b5ceb64fd07931199    9825\n",
       "fbdf7c83153d889d1683ba3c286b2dc5025d1e75a20464acbd1f3b5098111212    9553\n",
       "85f3a5394c7e186ab5172e7a1d1dfa7c5b7e707b06b31c8f36e10e9c670014d2     500\n",
       "a5d79fbbd4054e40ebab3278647d7bab83afaecba7535fa2fec3eaad12d18af1     266\n",
       "53f31a0fb02a3ea7467e80ad250d43c935d3dc15924c407852d56cf8afb4fcde     200\n",
       "c74e2c141cfe5b961ea215f77f788af2c9478d63b065361fbb23114a53295f6d     128\n",
       "fb7bd01987e1d8bb0ad5eb8b65e26fcbdd56787f33bc9ba98e3f9b5a21afebe2      50\n",
       "48dd26ca7371e65b3e9e21f9b51a5bcc82c63883b1d144b941a5aa6df2cd559d      20\n",
       "f3f42e1db4a38c78956fd5284c488f0ddca6f2996ae279e17b75abefc14f0f53      20\n",
       "Name: process_id, dtype: int64"
      ]
     },
     "metadata": {},
     "output_type": "display_data"
    },
    {
     "name": "stdout",
     "output_type": "stream",
     "text": [
      "Unique values 26\n",
      "\n"
     ]
    }
   ],
   "source": [
    "for col in df_envelopes.columns:\n",
    "    tmp_col = df_envelopes[col]\n",
    "    display(tmp_col.value_counts().head(10))\n",
    "    print(\"Unique values\", len(tmp_col.unique()))\n",
    "    print()"
   ]
  },
  {
   "cell_type": "code",
   "execution_count": 13,
   "id": "104238c9-9403-482e-94f9-17d231c1de23",
   "metadata": {},
   "outputs": [
    {
     "data": {
      "text/html": [
       "<div>\n",
       "<style scoped>\n",
       "    .dataframe tbody tr th:only-of-type {\n",
       "        vertical-align: middle;\n",
       "    }\n",
       "\n",
       "    .dataframe tbody tr th {\n",
       "        vertical-align: top;\n",
       "    }\n",
       "\n",
       "    .dataframe thead th {\n",
       "        text-align: right;\n",
       "    }\n",
       "</style>\n",
       "<table border=\"1\" class=\"dataframe\">\n",
       "  <thead>\n",
       "    <tr style=\"text-align: right;\">\n",
       "      <th></th>\n",
       "      <th>nullifier</th>\n",
       "    </tr>\n",
       "    <tr>\n",
       "      <th>process_id</th>\n",
       "      <th></th>\n",
       "    </tr>\n",
       "  </thead>\n",
       "  <tbody>\n",
       "    <tr>\n",
       "      <th>16ef4d7af7489d8fbe113e6dcb58e9aeb5deac49a83b9e1efee5770814eacaa8</th>\n",
       "      <td>9932</td>\n",
       "    </tr>\n",
       "    <tr>\n",
       "      <th>7bbe11efa4597621c26a8b3ea3fe5e3ae1cc457e3b17ea4b5ceb64fd07931199</th>\n",
       "      <td>9825</td>\n",
       "    </tr>\n",
       "    <tr>\n",
       "      <th>fbdf7c83153d889d1683ba3c286b2dc5025d1e75a20464acbd1f3b5098111212</th>\n",
       "      <td>9553</td>\n",
       "    </tr>\n",
       "    <tr>\n",
       "      <th>85f3a5394c7e186ab5172e7a1d1dfa7c5b7e707b06b31c8f36e10e9c670014d2</th>\n",
       "      <td>500</td>\n",
       "    </tr>\n",
       "    <tr>\n",
       "      <th>a5d79fbbd4054e40ebab3278647d7bab83afaecba7535fa2fec3eaad12d18af1</th>\n",
       "      <td>266</td>\n",
       "    </tr>\n",
       "    <tr>\n",
       "      <th>53f31a0fb02a3ea7467e80ad250d43c935d3dc15924c407852d56cf8afb4fcde</th>\n",
       "      <td>200</td>\n",
       "    </tr>\n",
       "    <tr>\n",
       "      <th>c74e2c141cfe5b961ea215f77f788af2c9478d63b065361fbb23114a53295f6d</th>\n",
       "      <td>128</td>\n",
       "    </tr>\n",
       "    <tr>\n",
       "      <th>fb7bd01987e1d8bb0ad5eb8b65e26fcbdd56787f33bc9ba98e3f9b5a21afebe2</th>\n",
       "      <td>50</td>\n",
       "    </tr>\n",
       "    <tr>\n",
       "      <th>35fb0d73a5092a143a9c628f5f43b10b226cb3f48721a11df5e03e08229b3e7b</th>\n",
       "      <td>20</td>\n",
       "    </tr>\n",
       "    <tr>\n",
       "      <th>48dd26ca7371e65b3e9e21f9b51a5bcc82c63883b1d144b941a5aa6df2cd559d</th>\n",
       "      <td>20</td>\n",
       "    </tr>\n",
       "    <tr>\n",
       "      <th>f3f42e1db4a38c78956fd5284c488f0ddca6f2996ae279e17b75abefc14f0f53</th>\n",
       "      <td>20</td>\n",
       "    </tr>\n",
       "    <tr>\n",
       "      <th>60ffb0579efe26c8ac68f6b15fc7467846db9b5770ba72fae706cede9683ad69</th>\n",
       "      <td>10</td>\n",
       "    </tr>\n",
       "    <tr>\n",
       "      <th>631ada2c7b2fc4d5cb2a6cb68d945565d1471956becf6382b29cf1fe6037c1f6</th>\n",
       "      <td>3</td>\n",
       "    </tr>\n",
       "    <tr>\n",
       "      <th>2f976d5cbc12cadd99dc8c57a0876adae3d3d2d361a556a048ba48f73e299138</th>\n",
       "      <td>3</td>\n",
       "    </tr>\n",
       "    <tr>\n",
       "      <th>a1c52ab1bbb81185d37ea5c80af2691e32b598a2a9039380ead025a81a87bcb5</th>\n",
       "      <td>2</td>\n",
       "    </tr>\n",
       "    <tr>\n",
       "      <th>853f582a39dbb70c48468a1685fac0d9b901a3014a75eb25c006735fd62c27ad</th>\n",
       "      <td>2</td>\n",
       "    </tr>\n",
       "    <tr>\n",
       "      <th>9a20ab76d743e2d787e8b11118a2ad7f6dc99c3faa0419953f08b57ac2bdb772</th>\n",
       "      <td>1</td>\n",
       "    </tr>\n",
       "    <tr>\n",
       "      <th>8dc72483bf19b9f778c871574fc14b294de65c1e2c5437c2b9223f43f650dad0</th>\n",
       "      <td>1</td>\n",
       "    </tr>\n",
       "    <tr>\n",
       "      <th>78364fdd52145ea9ba6ab6d593303627b5dea9867d1500949ac4cf8effe0b80d</th>\n",
       "      <td>1</td>\n",
       "    </tr>\n",
       "    <tr>\n",
       "      <th>c18cd531c2f3c1d9cbada0d23eb36b424e11c4665caeada544b0b5a8b83a3fda</th>\n",
       "      <td>1</td>\n",
       "    </tr>\n",
       "  </tbody>\n",
       "</table>\n",
       "</div>"
      ],
      "text/plain": [
       "                                                    nullifier\n",
       "process_id                                                   \n",
       "16ef4d7af7489d8fbe113e6dcb58e9aeb5deac49a83b9e1...       9932\n",
       "7bbe11efa4597621c26a8b3ea3fe5e3ae1cc457e3b17ea4...       9825\n",
       "fbdf7c83153d889d1683ba3c286b2dc5025d1e75a20464a...       9553\n",
       "85f3a5394c7e186ab5172e7a1d1dfa7c5b7e707b06b31c8...        500\n",
       "a5d79fbbd4054e40ebab3278647d7bab83afaecba7535fa...        266\n",
       "53f31a0fb02a3ea7467e80ad250d43c935d3dc15924c407...        200\n",
       "c74e2c141cfe5b961ea215f77f788af2c9478d63b065361...        128\n",
       "fb7bd01987e1d8bb0ad5eb8b65e26fcbdd56787f33bc9ba...         50\n",
       "35fb0d73a5092a143a9c628f5f43b10b226cb3f48721a11...         20\n",
       "48dd26ca7371e65b3e9e21f9b51a5bcc82c63883b1d144b...         20\n",
       "f3f42e1db4a38c78956fd5284c488f0ddca6f2996ae279e...         20\n",
       "60ffb0579efe26c8ac68f6b15fc7467846db9b5770ba72f...         10\n",
       "631ada2c7b2fc4d5cb2a6cb68d945565d1471956becf638...          3\n",
       "2f976d5cbc12cadd99dc8c57a0876adae3d3d2d361a556a...          3\n",
       "a1c52ab1bbb81185d37ea5c80af2691e32b598a2a903938...          2\n",
       "853f582a39dbb70c48468a1685fac0d9b901a3014a75eb2...          2\n",
       "9a20ab76d743e2d787e8b11118a2ad7f6dc99c3faa04199...          1\n",
       "8dc72483bf19b9f778c871574fc14b294de65c1e2c5437c...          1\n",
       "78364fdd52145ea9ba6ab6d593303627b5dea9867d15009...          1\n",
       "c18cd531c2f3c1d9cbada0d23eb36b424e11c4665caeada...          1"
      ]
     },
     "metadata": {},
     "output_type": "display_data"
    }
   ],
   "source": [
    "df_tmp = (df_envelopes\n",
    "        .groupby(\"process_id\")[\"nullifier\"]\n",
    "        .count()\n",
    "        .sort_values(ascending=False)\n",
    "        .to_frame()\n",
    "        )\n",
    "display(df_tmp.head(20))"
   ]
  },
  {
   "cell_type": "markdown",
   "id": "cda7d10d-3f90-492b-9975-b05f5d098369",
   "metadata": {},
   "source": [
    "---"
   ]
  },
  {
   "cell_type": "markdown",
   "id": "fcb298ee-ad72-4f32-9646-86ca3f4f4be5",
   "metadata": {},
   "source": [
    "# General metrics\n",
    "Our general metrics for `entities`, `processes` and  `envelopes` are the following:\n",
    "\n",
    "*(Each point is a day)*"
   ]
  },
  {
   "cell_type": "code",
   "execution_count": 14,
   "id": "9a4ea0d4-916d-4482-8744-befc2da8b431",
   "metadata": {},
   "outputs": [],
   "source": [
    "global_indicators = globalIndicadors(df_processes, df_envelopes, AVG_BLOCK_TIME_SECS)"
   ]
  },
  {
   "cell_type": "code",
   "execution_count": 15,
   "id": "9adf0c07-c9ad-46dd-a7e2-658d99eb1b8e",
   "metadata": {},
   "outputs": [
    {
     "data": {
      "text/html": [
       "<iframe\n",
       "    scrolling=\"no\"\n",
       "    width=\"100%\"\n",
       "    height=\"545px\"\n",
       "    src=\"iframe_figures/figure_15.html\"\n",
       "    frameborder=\"0\"\n",
       "    allowfullscreen\n",
       "></iframe>\n"
      ]
     },
     "metadata": {},
     "output_type": "display_data"
    }
   ],
   "source": [
    "global_indicators.plot_processes()"
   ]
  },
  {
   "cell_type": "markdown",
   "id": "7acc4e87-3f9b-40b1-9e65-61418a1d15f3",
   "metadata": {},
   "source": [
    "### Processes are having a consisten growth up to 168 (8 more than last measure)"
   ]
  },
  {
   "cell_type": "markdown",
   "id": "2c64a0d1-4f65-4e84-a2ba-c05075400fd1",
   "metadata": {},
   "source": [
    "---"
   ]
  },
  {
   "cell_type": "code",
   "execution_count": 16,
   "id": "36ed8579-ac9f-46fb-969f-a4a485fd9f99",
   "metadata": {},
   "outputs": [
    {
     "data": {
      "text/html": [
       "<iframe\n",
       "    scrolling=\"no\"\n",
       "    width=\"100%\"\n",
       "    height=\"545px\"\n",
       "    src=\"iframe_figures/figure_16.html\"\n",
       "    frameborder=\"0\"\n",
       "    allowfullscreen\n",
       "></iframe>\n"
      ]
     },
     "metadata": {},
     "output_type": "display_data"
    }
   ],
   "source": [
    "global_indicators.plot_entities()"
   ]
  },
  {
   "cell_type": "markdown",
   "id": "dbbb4450-1afe-4c25-8193-5a4dd6993147",
   "metadata": {},
   "source": [
    "### Entities count is flat around 61 (1 more than last measure)"
   ]
  },
  {
   "cell_type": "markdown",
   "id": "78daab3e-84b4-4f2c-b0e7-640ef8040442",
   "metadata": {},
   "source": [
    "---"
   ]
  },
  {
   "cell_type": "code",
   "execution_count": 17,
   "id": "88577a91-3b61-423d-8ec2-eb0c0a590c72",
   "metadata": {},
   "outputs": [
    {
     "data": {
      "text/html": [
       "<iframe\n",
       "    scrolling=\"no\"\n",
       "    width=\"100%\"\n",
       "    height=\"545px\"\n",
       "    src=\"iframe_figures/figure_17.html\"\n",
       "    frameborder=\"0\"\n",
       "    allowfullscreen\n",
       "></iframe>\n"
      ]
     },
     "metadata": {},
     "output_type": "display_data"
    }
   ],
   "source": [
    "global_indicators.plot_votes()"
   ]
  },
  {
   "cell_type": "markdown",
   "id": "f02f6480-111e-4f49-b927-e989fe61fe8e",
   "metadata": {},
   "source": [
    "### Votes count is flat around 30K (only 2 more than last measure)\n",
    "We can see a huge increase in during 13/05/2021 and being flat since then."
   ]
  },
  {
   "cell_type": "code",
   "execution_count": 18,
   "id": "710fc750-81e5-4fb2-b139-3588f6ada81e",
   "metadata": {},
   "outputs": [
    {
     "data": {
      "text/html": [
       "<div>\n",
       "<style scoped>\n",
       "    .dataframe tbody tr th:only-of-type {\n",
       "        vertical-align: middle;\n",
       "    }\n",
       "\n",
       "    .dataframe tbody tr th {\n",
       "        vertical-align: top;\n",
       "    }\n",
       "\n",
       "    .dataframe thead th {\n",
       "        text-align: right;\n",
       "    }\n",
       "</style>\n",
       "<table border=\"1\" class=\"dataframe\">\n",
       "  <thead>\n",
       "    <tr style=\"text-align: right;\">\n",
       "      <th></th>\n",
       "      <th>_id</th>\n",
       "      <th>height</th>\n",
       "      <th>nullifier</th>\n",
       "      <th>process_id</th>\n",
       "      <th>vote_ts</th>\n",
       "    </tr>\n",
       "  </thead>\n",
       "  <tbody>\n",
       "    <tr>\n",
       "      <th>0</th>\n",
       "      <td>60bb9aaee8dd77bc92a17c38</td>\n",
       "      <td>42</td>\n",
       "      <td>00c5a14b3aa62f810fd829e076fd8b46d52fe5a709a738...</td>\n",
       "      <td>53f31a0fb02a3ea7467e80ad250d43c935d3dc15924c40...</td>\n",
       "      <td>2021-05-12 15:27:28+00:00</td>\n",
       "    </tr>\n",
       "    <tr>\n",
       "      <th>1</th>\n",
       "      <td>60bb9aaee8dd77bc92a17c39</td>\n",
       "      <td>42</td>\n",
       "      <td>012de59c7121f8f9d97edcfc43b7504c7e89a9312bc6ac...</td>\n",
       "      <td>53f31a0fb02a3ea7467e80ad250d43c935d3dc15924c40...</td>\n",
       "      <td>2021-05-12 15:27:28+00:00</td>\n",
       "    </tr>\n",
       "    <tr>\n",
       "      <th>2</th>\n",
       "      <td>60bb9aaee8dd77bc92a17c3a</td>\n",
       "      <td>42</td>\n",
       "      <td>01be3123076729594d89e457a46a7b3751b3fd25f1ef29...</td>\n",
       "      <td>53f31a0fb02a3ea7467e80ad250d43c935d3dc15924c40...</td>\n",
       "      <td>2021-05-12 15:27:28+00:00</td>\n",
       "    </tr>\n",
       "    <tr>\n",
       "      <th>3</th>\n",
       "      <td>60bb9aaee8dd77bc92a17c3b</td>\n",
       "      <td>42</td>\n",
       "      <td>020a34edc52b6d5281580fea3857dfc8bce9a322984b15...</td>\n",
       "      <td>53f31a0fb02a3ea7467e80ad250d43c935d3dc15924c40...</td>\n",
       "      <td>2021-05-12 15:27:28+00:00</td>\n",
       "    </tr>\n",
       "    <tr>\n",
       "      <th>4</th>\n",
       "      <td>60bb9aaee8dd77bc92a17c3c</td>\n",
       "      <td>42</td>\n",
       "      <td>0234a78af57502e716ac6ca9616359f660cdf76b33febb...</td>\n",
       "      <td>53f31a0fb02a3ea7467e80ad250d43c935d3dc15924c40...</td>\n",
       "      <td>2021-05-12 15:27:28+00:00</td>\n",
       "    </tr>\n",
       "  </tbody>\n",
       "</table>\n",
       "</div>"
      ],
      "text/plain": [
       "                        _id  height  \\\n",
       "0  60bb9aaee8dd77bc92a17c38      42   \n",
       "1  60bb9aaee8dd77bc92a17c39      42   \n",
       "2  60bb9aaee8dd77bc92a17c3a      42   \n",
       "3  60bb9aaee8dd77bc92a17c3b      42   \n",
       "4  60bb9aaee8dd77bc92a17c3c      42   \n",
       "\n",
       "                                           nullifier  \\\n",
       "0  00c5a14b3aa62f810fd829e076fd8b46d52fe5a709a738...   \n",
       "1  012de59c7121f8f9d97edcfc43b7504c7e89a9312bc6ac...   \n",
       "2  01be3123076729594d89e457a46a7b3751b3fd25f1ef29...   \n",
       "3  020a34edc52b6d5281580fea3857dfc8bce9a322984b15...   \n",
       "4  0234a78af57502e716ac6ca9616359f660cdf76b33febb...   \n",
       "\n",
       "                                          process_id                   vote_ts  \n",
       "0  53f31a0fb02a3ea7467e80ad250d43c935d3dc15924c40... 2021-05-12 15:27:28+00:00  \n",
       "1  53f31a0fb02a3ea7467e80ad250d43c935d3dc15924c40... 2021-05-12 15:27:28+00:00  \n",
       "2  53f31a0fb02a3ea7467e80ad250d43c935d3dc15924c40... 2021-05-12 15:27:28+00:00  \n",
       "3  53f31a0fb02a3ea7467e80ad250d43c935d3dc15924c40... 2021-05-12 15:27:28+00:00  \n",
       "4  53f31a0fb02a3ea7467e80ad250d43c935d3dc15924c40... 2021-05-12 15:27:28+00:00  "
      ]
     },
     "execution_count": 18,
     "metadata": {},
     "output_type": "execute_result"
    }
   ],
   "source": [
    "global_indicators.df_envelopes.head()"
   ]
  },
  {
   "cell_type": "code",
   "execution_count": 19,
   "id": "939713b8-2058-4a8f-bf20-bd2363805607",
   "metadata": {},
   "outputs": [
    {
     "data": {
      "text/plain": [
       "2021-05-13 05:43:04+00:00    9552\n",
       "2021-05-13 05:48:52+00:00    9216\n",
       "2021-05-13 05:41:34+00:00    6592\n",
       "2021-05-13 05:41:40+00:00    3233\n",
       "2021-05-13 05:48:58+00:00     716\n",
       "2021-05-13 06:06:28+00:00     329\n",
       "2021-05-13 06:08:52+00:00     254\n",
       "2021-05-12 15:27:28+00:00     200\n",
       "2021-05-13 06:06:34+00:00     171\n",
       "2021-05-13 06:39:22+00:00     128\n",
       "2021-05-13 04:07:46+00:00      20\n",
       "2021-05-12 18:38:52+00:00      20\n",
       "2021-05-13 05:02:52+00:00      20\n",
       "2021-05-12 19:07:16+00:00      20\n",
       "2021-05-12 18:38:46+00:00      20\n",
       "2021-05-13 06:08:58+00:00      12\n",
       "2021-05-13 06:10:04+00:00      10\n",
       "2021-05-12 18:39:04+00:00      10\n",
       "2021-05-13 13:25:10+00:00       1\n",
       "2021-05-13 02:17:22+00:00       1\n",
       "2021-05-13 04:13:40+00:00       1\n",
       "2021-05-23 08:51:04+00:00       1\n",
       "2021-05-12 22:19:04+00:00       1\n",
       "2021-05-12 22:07:40+00:00       1\n",
       "2021-05-13 14:17:34+00:00       1\n",
       "2021-05-13 06:06:04+00:00       1\n",
       "2021-05-13 05:40:28+00:00       1\n",
       "2021-05-12 15:46:10+00:00       1\n",
       "2021-05-13 07:24:46+00:00       1\n",
       "2021-05-13 17:37:28+00:00       1\n",
       "2021-05-13 05:32:58+00:00       1\n",
       "2021-05-13 05:28:28+00:00       1\n",
       "2021-05-12 18:52:52+00:00       1\n",
       "2021-05-13 07:01:28+00:00       1\n",
       "2021-05-13 14:17:04+00:00       1\n",
       "2021-05-12 19:52:10+00:00       1\n",
       "2021-05-13 05:43:10+00:00       1\n",
       "2021-05-19 08:38:16+00:00       1\n",
       "2021-05-23 12:00:10+00:00       1\n",
       "Name: vote_ts, dtype: int64"
      ]
     },
     "execution_count": 19,
     "metadata": {},
     "output_type": "execute_result"
    }
   ],
   "source": [
    "global_indicators.df_envelopes.vote_ts.value_counts()"
   ]
  },
  {
   "cell_type": "code",
   "execution_count": 20,
   "id": "c202fae2-ad82-46ee-8b14-68d72eea1b6e",
   "metadata": {},
   "outputs": [
    {
     "data": {
      "text/html": [
       "<div>\n",
       "<style scoped>\n",
       "    .dataframe tbody tr th:only-of-type {\n",
       "        vertical-align: middle;\n",
       "    }\n",
       "\n",
       "    .dataframe tbody tr th {\n",
       "        vertical-align: top;\n",
       "    }\n",
       "\n",
       "    .dataframe thead th {\n",
       "        text-align: right;\n",
       "    }\n",
       "</style>\n",
       "<table border=\"1\" class=\"dataframe\">\n",
       "  <thead>\n",
       "    <tr style=\"text-align: right;\">\n",
       "      <th></th>\n",
       "      <th>nullifier</th>\n",
       "    </tr>\n",
       "    <tr>\n",
       "      <th>vote_ts</th>\n",
       "      <th></th>\n",
       "    </tr>\n",
       "  </thead>\n",
       "  <tbody>\n",
       "    <tr>\n",
       "      <th>2021-05-12 00:00:00+00:00</th>\n",
       "      <td>275</td>\n",
       "    </tr>\n",
       "    <tr>\n",
       "      <th>2021-05-13 00:00:00+00:00</th>\n",
       "      <td>30541</td>\n",
       "    </tr>\n",
       "    <tr>\n",
       "      <th>2021-05-14 00:00:00+00:00</th>\n",
       "      <td>30541</td>\n",
       "    </tr>\n",
       "    <tr>\n",
       "      <th>2021-05-15 00:00:00+00:00</th>\n",
       "      <td>30541</td>\n",
       "    </tr>\n",
       "    <tr>\n",
       "      <th>2021-05-16 00:00:00+00:00</th>\n",
       "      <td>30541</td>\n",
       "    </tr>\n",
       "    <tr>\n",
       "      <th>2021-05-17 00:00:00+00:00</th>\n",
       "      <td>30541</td>\n",
       "    </tr>\n",
       "    <tr>\n",
       "      <th>2021-05-18 00:00:00+00:00</th>\n",
       "      <td>30541</td>\n",
       "    </tr>\n",
       "    <tr>\n",
       "      <th>2021-05-19 00:00:00+00:00</th>\n",
       "      <td>30542</td>\n",
       "    </tr>\n",
       "    <tr>\n",
       "      <th>2021-05-20 00:00:00+00:00</th>\n",
       "      <td>30542</td>\n",
       "    </tr>\n",
       "    <tr>\n",
       "      <th>2021-05-21 00:00:00+00:00</th>\n",
       "      <td>30542</td>\n",
       "    </tr>\n",
       "    <tr>\n",
       "      <th>2021-05-22 00:00:00+00:00</th>\n",
       "      <td>30542</td>\n",
       "    </tr>\n",
       "    <tr>\n",
       "      <th>2021-05-23 00:00:00+00:00</th>\n",
       "      <td>30544</td>\n",
       "    </tr>\n",
       "  </tbody>\n",
       "</table>\n",
       "</div>"
      ],
      "text/plain": [
       "                           nullifier\n",
       "vote_ts                             \n",
       "2021-05-12 00:00:00+00:00        275\n",
       "2021-05-13 00:00:00+00:00      30541\n",
       "2021-05-14 00:00:00+00:00      30541\n",
       "2021-05-15 00:00:00+00:00      30541\n",
       "2021-05-16 00:00:00+00:00      30541\n",
       "2021-05-17 00:00:00+00:00      30541\n",
       "2021-05-18 00:00:00+00:00      30541\n",
       "2021-05-19 00:00:00+00:00      30542\n",
       "2021-05-20 00:00:00+00:00      30542\n",
       "2021-05-21 00:00:00+00:00      30542\n",
       "2021-05-22 00:00:00+00:00      30542\n",
       "2021-05-23 00:00:00+00:00      30544"
      ]
     },
     "execution_count": 20,
     "metadata": {},
     "output_type": "execute_result"
    }
   ],
   "source": [
    "global_indicators.votes_evol.to_frame()"
   ]
  },
  {
   "cell_type": "markdown",
   "id": "c1e14b23-0ebb-4749-ae6d-f229fae0f0ba",
   "metadata": {},
   "source": [
    "---"
   ]
  },
  {
   "cell_type": "markdown",
   "id": "de18b6d5-7ce4-46a6-b8f5-fffa1501bf2c",
   "metadata": {},
   "source": [
    "### Comparing process duration (days) to votes count\n",
    "On a first sight we cannot establish corralation between them."
   ]
  },
  {
   "cell_type": "code",
   "execution_count": 21,
   "id": "c5e94162-c52f-418d-93c7-7385f04e464b",
   "metadata": {},
   "outputs": [
    {
     "data": {
      "text/html": [
       "<iframe\n",
       "    scrolling=\"no\"\n",
       "    width=\"920px\"\n",
       "    height=\"720\"\n",
       "    src=\"iframe_figures/figure_21.html\"\n",
       "    frameborder=\"0\"\n",
       "    allowfullscreen\n",
       "></iframe>\n"
      ]
     },
     "metadata": {},
     "output_type": "display_data"
    }
   ],
   "source": [
    "global_indicators.scatter_duration_votes()"
   ]
  },
  {
   "cell_type": "markdown",
   "id": "f86d9412-31ab-4d2b-8eb4-e2dafe952c9c",
   "metadata": {},
   "source": [
    "---"
   ]
  },
  {
   "cell_type": "code",
   "execution_count": 22,
   "id": "f13b441b-78f4-4bc0-9cf7-081a9e00436a",
   "metadata": {},
   "outputs": [
    {
     "data": {
      "text/html": [
       "<iframe\n",
       "    scrolling=\"no\"\n",
       "    width=\"100%\"\n",
       "    height=\"545px\"\n",
       "    src=\"iframe_figures/figure_22.html\"\n",
       "    frameborder=\"0\"\n",
       "    allowfullscreen\n",
       "></iframe>\n"
      ]
     },
     "metadata": {},
     "output_type": "display_data"
    }
   ],
   "source": [
    "global_indicators.plot_votes_per_day()"
   ]
  },
  {
   "cell_type": "code",
   "execution_count": 23,
   "id": "7182c51f-ae36-407a-ae61-15f0bd07f4a8",
   "metadata": {},
   "outputs": [
    {
     "data": {
      "text/html": [
       "<iframe\n",
       "    scrolling=\"no\"\n",
       "    width=\"100%\"\n",
       "    height=\"545px\"\n",
       "    src=\"iframe_figures/figure_23.html\"\n",
       "    frameborder=\"0\"\n",
       "    allowfullscreen\n",
       "></iframe>\n"
      ]
     },
     "metadata": {},
     "output_type": "display_data"
    }
   ],
   "source": [
    "global_indicators.plot_votes_per_day_hour()"
   ]
  },
  {
   "cell_type": "code",
   "execution_count": 24,
   "id": "50e0002b-f30a-4f92-986d-97224103d1a2",
   "metadata": {},
   "outputs": [
    {
     "data": {
      "text/html": [
       "<iframe\n",
       "    scrolling=\"no\"\n",
       "    width=\"100%\"\n",
       "    height=\"545px\"\n",
       "    src=\"iframe_figures/figure_24.html\"\n",
       "    frameborder=\"0\"\n",
       "    allowfullscreen\n",
       "></iframe>\n"
      ]
     },
     "metadata": {},
     "output_type": "display_data"
    }
   ],
   "source": [
    "global_indicators.plot_votes_weekday()"
   ]
  },
  {
   "cell_type": "code",
   "execution_count": 25,
   "id": "3300a9fe-6492-44de-ac80-31b70c914f9b",
   "metadata": {},
   "outputs": [
    {
     "data": {
      "text/html": [
       "<iframe\n",
       "    scrolling=\"no\"\n",
       "    width=\"100%\"\n",
       "    height=\"545px\"\n",
       "    src=\"iframe_figures/figure_25.html\"\n",
       "    frameborder=\"0\"\n",
       "    allowfullscreen\n",
       "></iframe>\n"
      ]
     },
     "metadata": {},
     "output_type": "display_data"
    }
   ],
   "source": [
    "global_indicators.plot_votes_hour()"
   ]
  },
  {
   "cell_type": "code",
   "execution_count": null,
   "id": "9e9c38d2-5d03-4fbd-8425-18455ebaffc9",
   "metadata": {},
   "outputs": [],
   "source": []
  }
 ],
 "metadata": {
  "kernelspec": {
   "display_name": "vocdoni-env",
   "language": "python",
   "name": "vocdoni-env"
  },
  "language_info": {
   "codemirror_mode": {
    "name": "ipython",
    "version": 3
   },
   "file_extension": ".py",
   "mimetype": "text/x-python",
   "name": "python",
   "nbconvert_exporter": "python",
   "pygments_lexer": "ipython3",
   "version": "3.8.5"
  }
 },
 "nbformat": 4,
 "nbformat_minor": 5
}
