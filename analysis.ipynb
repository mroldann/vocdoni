{
 "cells": [
  {
   "cell_type": "markdown",
   "id": "0a5b2583-23de-403c-9a77-69fbafb0500f",
   "metadata": {},
   "source": [
    "# Aragon Association\n"
   ]
  },
  {
   "cell_type": "code",
   "execution_count": 1,
   "id": "d7fbeb54-0a72-4cfa-aa0e-2a364be3302b",
   "metadata": {
    "tags": []
   },
   "outputs": [
    {
     "data": {
      "text/html": [
       "<img src=\"https://assets.website-files.com/5e997428d0f2eb13a90aec8c/5ea0200074850783b428f55a_graph02.svg\"/>"
      ],
      "text/plain": [
       "<IPython.core.display.Image object>"
      ]
     },
     "execution_count": 1,
     "metadata": {},
     "output_type": "execute_result"
    }
   ],
   "source": [
    "from IPython.display import Image\n",
    "from IPython.core.display import HTML \n",
    "Image(url= \"https://assets.website-files.com/5e997428d0f2eb13a90aec8c/5ea0200074850783b428f55a_graph02.svg\")"
   ]
  },
  {
   "cell_type": "markdown",
   "id": "a6cec257-e5fa-4342-98e6-7de95fcef3ef",
   "metadata": {},
   "source": [
    "# Findings for the the Vochain community board"
   ]
  },
  {
   "cell_type": "code",
   "execution_count": 2,
   "id": "07d3ef11-783c-4db5-90fe-fc9ed98858bc",
   "metadata": {
    "tags": []
   },
   "outputs": [
    {
     "data": {
      "text/html": [
       "<img src=\"data:image/jpeg;base64,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\"/>"
      ],
      "text/plain": [
       "<IPython.core.display.Image object>"
      ]
     },
     "execution_count": 2,
     "metadata": {},
     "output_type": "execute_result"
    }
   ],
   "source": [
    "Image(url= \"data:image/jpeg;base64,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\")"
   ]
  },
  {
   "cell_type": "markdown",
   "id": "047d08d5-b989-4a03-9e84-28bb54da6e80",
   "metadata": {},
   "source": [
    "### Introduction\n",
    "\n",
    "In the following report we will show `Vochain` KPIs so as to help stakeholders to make better decisions.\n",
    "\n",
    "There are two collections in our `MongoDB` that were built from [Vocdoni Gateway](https://docs.vocdoni.io/#/architecture/services/gateway)\n",
    "- `processes`: related to digital voting processes registered on the `Vochain`. Each row is one process organized by an Entity. Columns:\n",
    "  - `entityId`: unique identifier for organizer\n",
    "  - `processId`: unique identifier for process\n",
    "  - `creationTime`: timestamp where the process was created\n",
    "  - `startBlock`: block number where the process started\n",
    "  - `endBlock`: block number where the process ended\n",
    "\n",
    "\n",
    "- `envelopes`: related to votes for a voting process. Each row is one vote for one process. Votes can have different weight.\n",
    "  - `height`:  block that contains the transaction of the vote\n",
    "  - `nullifier`: unique identifier for the vote\n",
    "  - `process_id`: unique identifier for the process where the vote ocurred\n",
    "  - `weight`: voting power for the vote\n",
    "  - `vote_ts`: estimated timestamp when the vote ocurred based on `height` and first known timestamp based on `processes.creationTime`\n",
    "  \n",
    "  \n",
    "  \n",
    "  \n",
    "  \n",
    " *Note: `...` signals hidden python code used for creating this report.*"
   ]
  },
  {
   "cell_type": "code",
   "execution_count": 3,
   "id": "1280d797-5475-4622-b101-3de7a8abb660",
   "metadata": {
    "tags": []
   },
   "outputs": [],
   "source": [
    "from _utils.voc_const import *\n",
    "from _const import *\n",
    "from datetime import timedelta\n",
    "import pandas as pd\n",
    "pd.set_option('display.max_rows', 500)\n",
    "pd.set_option('display.float_format', lambda x: '%.2f' % x)\n",
    "import plotly.express as px\n",
    "import plotly.io as pio\n",
    "import plotly.graph_objects as go\n",
    "pio.renderers.default = 'iframe_connected'\n",
    "\n",
    "from _utils._analysis import *\n",
    "from _utils._mongo import get_df_processes, col_envelopes, get_df_envelopes"
   ]
  },
  {
   "cell_type": "code",
   "execution_count": 4,
   "id": "b9874a37-dba7-4cd3-8078-46fc5b8981ef",
   "metadata": {
    "tags": []
   },
   "outputs": [],
   "source": [
    "# Load datasets\n",
    "df_processes = get_df_processes()\n",
    "# df_processes, MIN_KNOWN_DATE = add_time_cols(df_processes, AVG_BLOCK_TIME_SECS)\n",
    "df_envelopes = get_df_envelopes()"
   ]
  },
  {
   "cell_type": "code",
   "execution_count": 5,
   "id": "7217ad36-064e-4085-9822-d3adb53bc3a0",
   "metadata": {
    "tags": []
   },
   "outputs": [
    {
     "name": "stdout",
     "output_type": "stream",
     "text": [
      "processes table shape: (168, 6)\n",
      " Head:\n"
     ]
    }
   ],
   "source": [
    "print(f\"processes table shape: {df_processes.shape}\\n Head:\")"
   ]
  },
  {
   "cell_type": "code",
   "execution_count": 6,
   "id": "c0c9b159-520d-45f4-885f-da4b0d87b5ca",
   "metadata": {},
   "outputs": [
    {
     "data": {
      "text/html": [
       "<div>\n",
       "<style scoped>\n",
       "    .dataframe tbody tr th:only-of-type {\n",
       "        vertical-align: middle;\n",
       "    }\n",
       "\n",
       "    .dataframe tbody tr th {\n",
       "        vertical-align: top;\n",
       "    }\n",
       "\n",
       "    .dataframe thead th {\n",
       "        text-align: right;\n",
       "    }\n",
       "</style>\n",
       "<table border=\"1\" class=\"dataframe\">\n",
       "  <thead>\n",
       "    <tr style=\"text-align: right;\">\n",
       "      <th></th>\n",
       "      <th>_id</th>\n",
       "      <th>creationTime</th>\n",
       "      <th>endBlock</th>\n",
       "      <th>startBlock</th>\n",
       "      <th>entityId</th>\n",
       "      <th>processId</th>\n",
       "    </tr>\n",
       "  </thead>\n",
       "  <tbody>\n",
       "    <tr>\n",
       "      <th>0</th>\n",
       "      <td>60bd4b3804d7b5922c2e7624</td>\n",
       "      <td>2021-05-12T15:23:16Z</td>\n",
       "      <td>541</td>\n",
       "      <td>41</td>\n",
       "      <td>359e67ac4c5311cbd6571a20eaf6e879a466d154</td>\n",
       "      <td>53f31a0fb02a3ea7467e80ad250d43c935d3dc15924c40...</td>\n",
       "    </tr>\n",
       "    <tr>\n",
       "      <th>1</th>\n",
       "      <td>60bd4b3804d7b5922c2e7625</td>\n",
       "      <td>2021-05-12T15:26:01Z</td>\n",
       "      <td>110179</td>\n",
       "      <td>39553</td>\n",
       "      <td>f0f8d83cdab2f9514bef0319f1b434267be36b5c</td>\n",
       "      <td>bf022de42ef2d7a5f9d9b2737843dfc88cf93253966124...</td>\n",
       "    </tr>\n",
       "    <tr>\n",
       "      <th>2</th>\n",
       "      <td>60bd4b3804d7b5922c2e7626</td>\n",
       "      <td>2021-05-12T15:26:01Z</td>\n",
       "      <td>110178</td>\n",
       "      <td>40945</td>\n",
       "      <td>f0f8d83cdab2f9514bef0319f1b434267be36b5c</td>\n",
       "      <td>fe20607cf3f94060b3edc5d2ece161557d7359d10eb84f...</td>\n",
       "    </tr>\n",
       "    <tr>\n",
       "      <th>3</th>\n",
       "      <td>60bd4b3804d7b5922c2e7627</td>\n",
       "      <td>2021-05-12T15:26:01Z</td>\n",
       "      <td>168676</td>\n",
       "      <td>43325</td>\n",
       "      <td>f0f8d83cdab2f9514bef0319f1b434267be36b5c</td>\n",
       "      <td>853f582a39dbb70c48468a1685fac0d9b901a3014a75eb...</td>\n",
       "    </tr>\n",
       "    <tr>\n",
       "      <th>4</th>\n",
       "      <td>60bd4b3804d7b5922c2e7628</td>\n",
       "      <td>2021-05-12T15:26:01Z</td>\n",
       "      <td>71897</td>\n",
       "      <td>317</td>\n",
       "      <td>f0f8d83cdab2f9514bef0319f1b434267be36b5c</td>\n",
       "      <td>631ada2c7b2fc4d5cb2a6cb68d945565d1471956becf63...</td>\n",
       "    </tr>\n",
       "  </tbody>\n",
       "</table>\n",
       "</div>"
      ],
      "text/plain": [
       "                        _id          creationTime  endBlock  startBlock  \\\n",
       "0  60bd4b3804d7b5922c2e7624  2021-05-12T15:23:16Z       541          41   \n",
       "1  60bd4b3804d7b5922c2e7625  2021-05-12T15:26:01Z    110179       39553   \n",
       "2  60bd4b3804d7b5922c2e7626  2021-05-12T15:26:01Z    110178       40945   \n",
       "3  60bd4b3804d7b5922c2e7627  2021-05-12T15:26:01Z    168676       43325   \n",
       "4  60bd4b3804d7b5922c2e7628  2021-05-12T15:26:01Z     71897         317   \n",
       "\n",
       "                                   entityId  \\\n",
       "0  359e67ac4c5311cbd6571a20eaf6e879a466d154   \n",
       "1  f0f8d83cdab2f9514bef0319f1b434267be36b5c   \n",
       "2  f0f8d83cdab2f9514bef0319f1b434267be36b5c   \n",
       "3  f0f8d83cdab2f9514bef0319f1b434267be36b5c   \n",
       "4  f0f8d83cdab2f9514bef0319f1b434267be36b5c   \n",
       "\n",
       "                                           processId  \n",
       "0  53f31a0fb02a3ea7467e80ad250d43c935d3dc15924c40...  \n",
       "1  bf022de42ef2d7a5f9d9b2737843dfc88cf93253966124...  \n",
       "2  fe20607cf3f94060b3edc5d2ece161557d7359d10eb84f...  \n",
       "3  853f582a39dbb70c48468a1685fac0d9b901a3014a75eb...  \n",
       "4  631ada2c7b2fc4d5cb2a6cb68d945565d1471956becf63...  "
      ]
     },
     "execution_count": 6,
     "metadata": {},
     "output_type": "execute_result"
    }
   ],
   "source": [
    "df_processes.head()"
   ]
  },
  {
   "cell_type": "code",
   "execution_count": 7,
   "id": "f92847b0-0bcc-4a9e-9153-0f7d40078beb",
   "metadata": {},
   "outputs": [
    {
     "name": "stdout",
     "output_type": "stream",
     "text": [
      "envelopes table shape: (168, 6)\n",
      " Head:\n"
     ]
    }
   ],
   "source": [
    "print(f\"envelopes table shape: {df_processes.shape}\\n Head:\")"
   ]
  },
  {
   "cell_type": "code",
   "execution_count": 8,
   "id": "9755f09c-599f-462d-863a-835fe46ce4bc",
   "metadata": {},
   "outputs": [
    {
     "data": {
      "text/plain": [
       "(30544, 6)"
      ]
     },
     "execution_count": 8,
     "metadata": {},
     "output_type": "execute_result"
    }
   ],
   "source": [
    "df_envelopes.shape"
   ]
  },
  {
   "cell_type": "code",
   "execution_count": 9,
   "id": "13c82aee-e0f8-4c49-b3d5-4b0c562a6cda",
   "metadata": {
    "tags": []
   },
   "outputs": [
    {
     "data": {
      "text/html": [
       "<div>\n",
       "<style scoped>\n",
       "    .dataframe tbody tr th:only-of-type {\n",
       "        vertical-align: middle;\n",
       "    }\n",
       "\n",
       "    .dataframe tbody tr th {\n",
       "        vertical-align: top;\n",
       "    }\n",
       "\n",
       "    .dataframe thead th {\n",
       "        text-align: right;\n",
       "    }\n",
       "</style>\n",
       "<table border=\"1\" class=\"dataframe\">\n",
       "  <thead>\n",
       "    <tr style=\"text-align: right;\">\n",
       "      <th></th>\n",
       "      <th>_id</th>\n",
       "      <th>height</th>\n",
       "      <th>nullifier</th>\n",
       "      <th>process_id</th>\n",
       "      <th>weight</th>\n",
       "      <th>vote_ts</th>\n",
       "    </tr>\n",
       "  </thead>\n",
       "  <tbody>\n",
       "    <tr>\n",
       "      <th>0</th>\n",
       "      <td>60bd4b3904d7b5922c2e76cc</td>\n",
       "      <td>42</td>\n",
       "      <td>00c5a14b3aa62f810fd829e076fd8b46d52fe5a709a738...</td>\n",
       "      <td>53f31a0fb02a3ea7467e80ad250d43c935d3dc15924c40...</td>\n",
       "      <td>1</td>\n",
       "      <td>2021-05-12 15:27:28</td>\n",
       "    </tr>\n",
       "    <tr>\n",
       "      <th>1</th>\n",
       "      <td>60bd4b3904d7b5922c2e76cd</td>\n",
       "      <td>42</td>\n",
       "      <td>012de59c7121f8f9d97edcfc43b7504c7e89a9312bc6ac...</td>\n",
       "      <td>53f31a0fb02a3ea7467e80ad250d43c935d3dc15924c40...</td>\n",
       "      <td>1</td>\n",
       "      <td>2021-05-12 15:27:28</td>\n",
       "    </tr>\n",
       "    <tr>\n",
       "      <th>2</th>\n",
       "      <td>60bd4b3904d7b5922c2e76ce</td>\n",
       "      <td>42</td>\n",
       "      <td>01be3123076729594d89e457a46a7b3751b3fd25f1ef29...</td>\n",
       "      <td>53f31a0fb02a3ea7467e80ad250d43c935d3dc15924c40...</td>\n",
       "      <td>1</td>\n",
       "      <td>2021-05-12 15:27:28</td>\n",
       "    </tr>\n",
       "    <tr>\n",
       "      <th>3</th>\n",
       "      <td>60bd4b3904d7b5922c2e76cf</td>\n",
       "      <td>42</td>\n",
       "      <td>020a34edc52b6d5281580fea3857dfc8bce9a322984b15...</td>\n",
       "      <td>53f31a0fb02a3ea7467e80ad250d43c935d3dc15924c40...</td>\n",
       "      <td>1</td>\n",
       "      <td>2021-05-12 15:27:28</td>\n",
       "    </tr>\n",
       "    <tr>\n",
       "      <th>4</th>\n",
       "      <td>60bd4b3904d7b5922c2e76d0</td>\n",
       "      <td>42</td>\n",
       "      <td>0234a78af57502e716ac6ca9616359f660cdf76b33febb...</td>\n",
       "      <td>53f31a0fb02a3ea7467e80ad250d43c935d3dc15924c40...</td>\n",
       "      <td>1</td>\n",
       "      <td>2021-05-12 15:27:28</td>\n",
       "    </tr>\n",
       "  </tbody>\n",
       "</table>\n",
       "</div>"
      ],
      "text/plain": [
       "                        _id  height  \\\n",
       "0  60bd4b3904d7b5922c2e76cc      42   \n",
       "1  60bd4b3904d7b5922c2e76cd      42   \n",
       "2  60bd4b3904d7b5922c2e76ce      42   \n",
       "3  60bd4b3904d7b5922c2e76cf      42   \n",
       "4  60bd4b3904d7b5922c2e76d0      42   \n",
       "\n",
       "                                           nullifier  \\\n",
       "0  00c5a14b3aa62f810fd829e076fd8b46d52fe5a709a738...   \n",
       "1  012de59c7121f8f9d97edcfc43b7504c7e89a9312bc6ac...   \n",
       "2  01be3123076729594d89e457a46a7b3751b3fd25f1ef29...   \n",
       "3  020a34edc52b6d5281580fea3857dfc8bce9a322984b15...   \n",
       "4  0234a78af57502e716ac6ca9616359f660cdf76b33febb...   \n",
       "\n",
       "                                          process_id weight  \\\n",
       "0  53f31a0fb02a3ea7467e80ad250d43c935d3dc15924c40...      1   \n",
       "1  53f31a0fb02a3ea7467e80ad250d43c935d3dc15924c40...      1   \n",
       "2  53f31a0fb02a3ea7467e80ad250d43c935d3dc15924c40...      1   \n",
       "3  53f31a0fb02a3ea7467e80ad250d43c935d3dc15924c40...      1   \n",
       "4  53f31a0fb02a3ea7467e80ad250d43c935d3dc15924c40...      1   \n",
       "\n",
       "              vote_ts  \n",
       "0 2021-05-12 15:27:28  \n",
       "1 2021-05-12 15:27:28  \n",
       "2 2021-05-12 15:27:28  \n",
       "3 2021-05-12 15:27:28  \n",
       "4 2021-05-12 15:27:28  "
      ]
     },
     "execution_count": 9,
     "metadata": {},
     "output_type": "execute_result"
    }
   ],
   "source": [
    "df_envelopes.head()"
   ]
  },
  {
   "cell_type": "markdown",
   "id": "cda7d10d-3f90-492b-9975-b05f5d098369",
   "metadata": {},
   "source": [
    "---"
   ]
  },
  {
   "cell_type": "markdown",
   "id": "fcb298ee-ad72-4f32-9646-86ca3f4f4be5",
   "metadata": {},
   "source": [
    "# General metrics\n",
    "Our general metrics for `entities`, `processes` and  `envelopes` are the following:\n",
    "\n",
    "*(Each point is one day)*"
   ]
  },
  {
   "cell_type": "code",
   "execution_count": 10,
   "id": "9a4ea0d4-916d-4482-8744-befc2da8b431",
   "metadata": {},
   "outputs": [],
   "source": [
    "global_indicators = globalIndicadors(df_processes, df_envelopes, AVG_BLOCK_TIME_SECS)"
   ]
  },
  {
   "cell_type": "code",
   "execution_count": 11,
   "id": "9adf0c07-c9ad-46dd-a7e2-658d99eb1b8e",
   "metadata": {
    "tags": []
   },
   "outputs": [
    {
     "data": {
      "text/html": [
       "<iframe\n",
       "    scrolling=\"no\"\n",
       "    width=\"100%\"\n",
       "    height=\"545px\"\n",
       "    src=\"iframe_figures/figure_11.html\"\n",
       "    frameborder=\"0\"\n",
       "    allowfullscreen\n",
       "></iframe>\n"
      ]
     },
     "metadata": {},
     "output_type": "display_data"
    }
   ],
   "source": [
    "global_indicators.plot_processes()"
   ]
  },
  {
   "cell_type": "markdown",
   "id": "7acc4e87-3f9b-40b1-9e65-61418a1d15f3",
   "metadata": {},
   "source": [
    "### Processes are having a consistent growth up to 168 (8 more than last measure)"
   ]
  },
  {
   "cell_type": "markdown",
   "id": "2c64a0d1-4f65-4e84-a2ba-c05075400fd1",
   "metadata": {},
   "source": [
    "---"
   ]
  },
  {
   "cell_type": "code",
   "execution_count": 12,
   "id": "36ed8579-ac9f-46fb-969f-a4a485fd9f99",
   "metadata": {
    "tags": []
   },
   "outputs": [
    {
     "data": {
      "text/html": [
       "<iframe\n",
       "    scrolling=\"no\"\n",
       "    width=\"100%\"\n",
       "    height=\"545px\"\n",
       "    src=\"iframe_figures/figure_12.html\"\n",
       "    frameborder=\"0\"\n",
       "    allowfullscreen\n",
       "></iframe>\n"
      ]
     },
     "metadata": {},
     "output_type": "display_data"
    }
   ],
   "source": [
    "global_indicators.plot_entities()"
   ]
  },
  {
   "cell_type": "markdown",
   "id": "dbbb4450-1afe-4c25-8193-5a4dd6993147",
   "metadata": {},
   "source": [
    "### Entities count is flat around 61 (1 more than last measure)"
   ]
  },
  {
   "cell_type": "markdown",
   "id": "78daab3e-84b4-4f2c-b0e7-640ef8040442",
   "metadata": {},
   "source": [
    "---"
   ]
  },
  {
   "cell_type": "code",
   "execution_count": 13,
   "id": "88577a91-3b61-423d-8ec2-eb0c0a590c72",
   "metadata": {
    "tags": []
   },
   "outputs": [
    {
     "data": {
      "text/html": [
       "<iframe\n",
       "    scrolling=\"no\"\n",
       "    width=\"100%\"\n",
       "    height=\"545px\"\n",
       "    src=\"iframe_figures/figure_13.html\"\n",
       "    frameborder=\"0\"\n",
       "    allowfullscreen\n",
       "></iframe>\n"
      ]
     },
     "metadata": {},
     "output_type": "display_data"
    }
   ],
   "source": [
    "global_indicators.plot_votes()"
   ]
  },
  {
   "cell_type": "markdown",
   "id": "f02f6480-111e-4f49-b927-e989fe61fe8e",
   "metadata": {},
   "source": [
    "### Votes count is flat around 30K (only 2 more than last measure)\n",
    "We can see a huge increase during 13/05/2021 and being flat since then."
   ]
  },
  {
   "cell_type": "code",
   "execution_count": 14,
   "id": "c202fae2-ad82-46ee-8b14-68d72eea1b6e",
   "metadata": {},
   "outputs": [
    {
     "data": {
      "text/html": [
       "<div>\n",
       "<style scoped>\n",
       "    .dataframe tbody tr th:only-of-type {\n",
       "        vertical-align: middle;\n",
       "    }\n",
       "\n",
       "    .dataframe tbody tr th {\n",
       "        vertical-align: top;\n",
       "    }\n",
       "\n",
       "    .dataframe thead th {\n",
       "        text-align: right;\n",
       "    }\n",
       "</style>\n",
       "<table border=\"1\" class=\"dataframe\">\n",
       "  <thead>\n",
       "    <tr style=\"text-align: right;\">\n",
       "      <th></th>\n",
       "      <th>nullifier</th>\n",
       "    </tr>\n",
       "    <tr>\n",
       "      <th>vote_ts</th>\n",
       "      <th></th>\n",
       "    </tr>\n",
       "  </thead>\n",
       "  <tbody>\n",
       "    <tr>\n",
       "      <th>2021-05-12 00:00:00+00:00</th>\n",
       "      <td>275</td>\n",
       "    </tr>\n",
       "    <tr>\n",
       "      <th>2021-05-13 00:00:00+00:00</th>\n",
       "      <td>30541</td>\n",
       "    </tr>\n",
       "    <tr>\n",
       "      <th>2021-05-14 00:00:00+00:00</th>\n",
       "      <td>30541</td>\n",
       "    </tr>\n",
       "    <tr>\n",
       "      <th>2021-05-15 00:00:00+00:00</th>\n",
       "      <td>30541</td>\n",
       "    </tr>\n",
       "    <tr>\n",
       "      <th>2021-05-16 00:00:00+00:00</th>\n",
       "      <td>30541</td>\n",
       "    </tr>\n",
       "    <tr>\n",
       "      <th>2021-05-17 00:00:00+00:00</th>\n",
       "      <td>30541</td>\n",
       "    </tr>\n",
       "    <tr>\n",
       "      <th>2021-05-18 00:00:00+00:00</th>\n",
       "      <td>30541</td>\n",
       "    </tr>\n",
       "    <tr>\n",
       "      <th>2021-05-19 00:00:00+00:00</th>\n",
       "      <td>30542</td>\n",
       "    </tr>\n",
       "    <tr>\n",
       "      <th>2021-05-20 00:00:00+00:00</th>\n",
       "      <td>30542</td>\n",
       "    </tr>\n",
       "    <tr>\n",
       "      <th>2021-05-21 00:00:00+00:00</th>\n",
       "      <td>30542</td>\n",
       "    </tr>\n",
       "    <tr>\n",
       "      <th>2021-05-22 00:00:00+00:00</th>\n",
       "      <td>30542</td>\n",
       "    </tr>\n",
       "    <tr>\n",
       "      <th>2021-05-23 00:00:00+00:00</th>\n",
       "      <td>30544</td>\n",
       "    </tr>\n",
       "  </tbody>\n",
       "</table>\n",
       "</div>"
      ],
      "text/plain": [
       "                           nullifier\n",
       "vote_ts                             \n",
       "2021-05-12 00:00:00+00:00        275\n",
       "2021-05-13 00:00:00+00:00      30541\n",
       "2021-05-14 00:00:00+00:00      30541\n",
       "2021-05-15 00:00:00+00:00      30541\n",
       "2021-05-16 00:00:00+00:00      30541\n",
       "2021-05-17 00:00:00+00:00      30541\n",
       "2021-05-18 00:00:00+00:00      30541\n",
       "2021-05-19 00:00:00+00:00      30542\n",
       "2021-05-20 00:00:00+00:00      30542\n",
       "2021-05-21 00:00:00+00:00      30542\n",
       "2021-05-22 00:00:00+00:00      30542\n",
       "2021-05-23 00:00:00+00:00      30544"
      ]
     },
     "execution_count": 14,
     "metadata": {},
     "output_type": "execute_result"
    }
   ],
   "source": [
    "global_indicators.votes_evol.to_frame()"
   ]
  },
  {
   "cell_type": "markdown",
   "id": "c1e14b23-0ebb-4749-ae6d-f229fae0f0ba",
   "metadata": {},
   "source": [
    "---"
   ]
  },
  {
   "cell_type": "markdown",
   "id": "f1080927-28aa-40be-a848-15dc7bbd0d5f",
   "metadata": {},
   "source": [
    "### Aggregations per `Entity` and `Process`\n",
    "We'll use `histograms` to show variables distribution and `cumulative charts` to complement them and not being affected by histogram's `n_bins` parameter."
   ]
  },
  {
   "cell_type": "code",
   "execution_count": 15,
   "id": "a8327125-408c-4dd9-b5a2-d891f413070d",
   "metadata": {
    "tags": []
   },
   "outputs": [
    {
     "data": {
      "text/html": [
       "<iframe\n",
       "    scrolling=\"no\"\n",
       "    width=\"100%\"\n",
       "    height=\"545px\"\n",
       "    src=\"iframe_figures/figure_15.html\"\n",
       "    frameborder=\"0\"\n",
       "    allowfullscreen\n",
       "></iframe>\n"
      ]
     },
     "metadata": {},
     "output_type": "display_data"
    }
   ],
   "source": [
    "global_indicators.plot_votes_per_process()"
   ]
  },
  {
   "cell_type": "markdown",
   "id": "ad0cb6a6-54a8-4aec-a48e-670953f39448",
   "metadata": {},
   "source": [
    "We can see that there are few processes with more than 9k votes."
   ]
  },
  {
   "cell_type": "code",
   "execution_count": 16,
   "id": "30dcd496-aaec-4728-85e8-e546560bb66c",
   "metadata": {},
   "outputs": [
    {
     "data": {
      "text/html": [
       "<iframe\n",
       "    scrolling=\"no\"\n",
       "    width=\"100%\"\n",
       "    height=\"545px\"\n",
       "    src=\"iframe_figures/figure_16.html\"\n",
       "    frameborder=\"0\"\n",
       "    allowfullscreen\n",
       "></iframe>\n"
      ]
     },
     "metadata": {},
     "output_type": "display_data"
    }
   ],
   "source": [
    "global_indicators._plot_cumulative(global_indicators.votes_per_process, \"votes_per_process cumulative\")"
   ]
  },
  {
   "cell_type": "markdown",
   "id": "e6c2f11b-4046-4715-9609-fc31a00671a5",
   "metadata": {},
   "source": [
    "We ordered votes by process in an ascending way and sum them in a cumulative form.\n",
    "From process 0 to 22, we only have 4% of votes.\n",
    "\n",
    "The three processes with most votes accounts for the 96% of the total."
   ]
  },
  {
   "cell_type": "code",
   "execution_count": 17,
   "id": "0ee6b7b5-29b0-42d8-a784-c0ff265bdd81",
   "metadata": {
    "tags": []
   },
   "outputs": [
    {
     "name": "stdout",
     "output_type": "stream",
     "text": [
      "Proccesess with votes:  26\n"
     ]
    }
   ],
   "source": [
    "print(\"Proccesess with votes: \", len(global_indicators.votes_per_process))"
   ]
  },
  {
   "cell_type": "markdown",
   "id": "192473b7-fc5f-499c-8b56-750a609a0fa6",
   "metadata": {},
   "source": [
    "From 168 `processes`, 26 had votes (15%)."
   ]
  },
  {
   "cell_type": "markdown",
   "id": "937a26d7-3603-4e71-99da-61a070c56cb0",
   "metadata": {},
   "source": [
    "---"
   ]
  },
  {
   "cell_type": "code",
   "execution_count": 18,
   "id": "0c695145-6635-4e37-8e54-219fac12a7ce",
   "metadata": {
    "tags": []
   },
   "outputs": [
    {
     "data": {
      "text/html": [
       "<iframe\n",
       "    scrolling=\"no\"\n",
       "    width=\"100%\"\n",
       "    height=\"545px\"\n",
       "    src=\"iframe_figures/figure_18.html\"\n",
       "    frameborder=\"0\"\n",
       "    allowfullscreen\n",
       "></iframe>\n"
      ]
     },
     "metadata": {},
     "output_type": "display_data"
    }
   ],
   "source": [
    "global_indicators.plot_votes_per_entity()\n"
   ]
  },
  {
   "cell_type": "markdown",
   "id": "3b82a84c-f951-47cf-b78a-6391c8e7e2e1",
   "metadata": {},
   "source": [
    "We can see that there are few entities with more than 9k votes."
   ]
  },
  {
   "cell_type": "code",
   "execution_count": 19,
   "id": "86e02e2f-de82-4f70-9d7b-f50ae00ac623",
   "metadata": {},
   "outputs": [
    {
     "data": {
      "text/html": [
       "<div>\n",
       "<style scoped>\n",
       "    .dataframe tbody tr th:only-of-type {\n",
       "        vertical-align: middle;\n",
       "    }\n",
       "\n",
       "    .dataframe tbody tr th {\n",
       "        vertical-align: top;\n",
       "    }\n",
       "\n",
       "    .dataframe thead th {\n",
       "        text-align: right;\n",
       "    }\n",
       "</style>\n",
       "<table border=\"1\" class=\"dataframe\">\n",
       "  <thead>\n",
       "    <tr style=\"text-align: right;\">\n",
       "      <th></th>\n",
       "      <th>votes_count</th>\n",
       "    </tr>\n",
       "    <tr>\n",
       "      <th>entityId</th>\n",
       "      <th></th>\n",
       "    </tr>\n",
       "  </thead>\n",
       "  <tbody>\n",
       "    <tr>\n",
       "      <th>e50a97585b8a530677a0402e8df7e1424e3a31f7</th>\n",
       "      <td>9932.00</td>\n",
       "    </tr>\n",
       "    <tr>\n",
       "      <th>5cd2dd081bfab5b99363eee9dd712ba446e8218e</th>\n",
       "      <td>9825.00</td>\n",
       "    </tr>\n",
       "    <tr>\n",
       "      <th>f887ae647fedae2e5bd0e9ceaed69ed4e89b7935</th>\n",
       "      <td>9553.00</td>\n",
       "    </tr>\n",
       "    <tr>\n",
       "      <th>2811f8f44c7f4d8d7e50d795f962c1d98df1f7c4</th>\n",
       "      <td>500.00</td>\n",
       "    </tr>\n",
       "    <tr>\n",
       "      <th>e95226ab61be1eab06fa3dea5f556e6d4a8500b4</th>\n",
       "      <td>266.00</td>\n",
       "    </tr>\n",
       "    <tr>\n",
       "      <th>359e67ac4c5311cbd6571a20eaf6e879a466d154</th>\n",
       "      <td>200.00</td>\n",
       "    </tr>\n",
       "    <tr>\n",
       "      <th>9f3f676430c0cca8ea9646b81fba2b197b990ec4</th>\n",
       "      <td>128.00</td>\n",
       "    </tr>\n",
       "    <tr>\n",
       "      <th>8605d9f7e19e4568944640c7c95693d950f2daf3</th>\n",
       "      <td>50.00</td>\n",
       "    </tr>\n",
       "    <tr>\n",
       "      <th>8c8a5f4d994eba4b36a3cb0ab04a66a72d961483</th>\n",
       "      <td>20.00</td>\n",
       "    </tr>\n",
       "    <tr>\n",
       "      <th>ed1d79d82e84514d8aeb11f8fed8c207303efb01</th>\n",
       "      <td>20.00</td>\n",
       "    </tr>\n",
       "    <tr>\n",
       "      <th>af4c894863b45f3d450b31f96954da2fea672bfa</th>\n",
       "      <td>20.00</td>\n",
       "    </tr>\n",
       "    <tr>\n",
       "      <th>f0f8d83cdab2f9514bef0319f1b434267be36b5c</th>\n",
       "      <td>11.00</td>\n",
       "    </tr>\n",
       "    <tr>\n",
       "      <th>7551500f28ba9c27a76f96f42260429a835768b3</th>\n",
       "      <td>10.00</td>\n",
       "    </tr>\n",
       "    <tr>\n",
       "      <th>fb36170605f23ddd26b146ccd8d3f16f5c738535</th>\n",
       "      <td>4.00</td>\n",
       "    </tr>\n",
       "    <tr>\n",
       "      <th>5592ec0cfb4dbc12d3ab100b257153436a1f0fea</th>\n",
       "      <td>3.00</td>\n",
       "    </tr>\n",
       "    <tr>\n",
       "      <th>0072f8eb750b468ce11de996cae5080f88568339</th>\n",
       "      <td>1.00</td>\n",
       "    </tr>\n",
       "    <tr>\n",
       "      <th>e4172d4bff7a12dc02b69bf542f0f6aa5b62df68</th>\n",
       "      <td>1.00</td>\n",
       "    </tr>\n",
       "  </tbody>\n",
       "</table>\n",
       "</div>"
      ],
      "text/plain": [
       "                                          votes_count\n",
       "entityId                                             \n",
       "e50a97585b8a530677a0402e8df7e1424e3a31f7      9932.00\n",
       "5cd2dd081bfab5b99363eee9dd712ba446e8218e      9825.00\n",
       "f887ae647fedae2e5bd0e9ceaed69ed4e89b7935      9553.00\n",
       "2811f8f44c7f4d8d7e50d795f962c1d98df1f7c4       500.00\n",
       "e95226ab61be1eab06fa3dea5f556e6d4a8500b4       266.00\n",
       "359e67ac4c5311cbd6571a20eaf6e879a466d154       200.00\n",
       "9f3f676430c0cca8ea9646b81fba2b197b990ec4       128.00\n",
       "8605d9f7e19e4568944640c7c95693d950f2daf3        50.00\n",
       "8c8a5f4d994eba4b36a3cb0ab04a66a72d961483        20.00\n",
       "ed1d79d82e84514d8aeb11f8fed8c207303efb01        20.00\n",
       "af4c894863b45f3d450b31f96954da2fea672bfa        20.00\n",
       "f0f8d83cdab2f9514bef0319f1b434267be36b5c        11.00\n",
       "7551500f28ba9c27a76f96f42260429a835768b3        10.00\n",
       "fb36170605f23ddd26b146ccd8d3f16f5c738535         4.00\n",
       "5592ec0cfb4dbc12d3ab100b257153436a1f0fea         3.00\n",
       "0072f8eb750b468ce11de996cae5080f88568339         1.00\n",
       "e4172d4bff7a12dc02b69bf542f0f6aa5b62df68         1.00"
      ]
     },
     "execution_count": 19,
     "metadata": {},
     "output_type": "execute_result"
    }
   ],
   "source": [
    "global_indicators.votes_per_entity[global_indicators.votes_per_entity>0].to_frame()"
   ]
  },
  {
   "cell_type": "code",
   "execution_count": 20,
   "id": "92429bc3-b850-4299-a076-efee8016272e",
   "metadata": {},
   "outputs": [
    {
     "data": {
      "text/html": [
       "<iframe\n",
       "    scrolling=\"no\"\n",
       "    width=\"100%\"\n",
       "    height=\"545px\"\n",
       "    src=\"iframe_figures/figure_20.html\"\n",
       "    frameborder=\"0\"\n",
       "    allowfullscreen\n",
       "></iframe>\n"
      ]
     },
     "metadata": {},
     "output_type": "display_data"
    }
   ],
   "source": [
    "global_indicators._plot_cumulative(global_indicators.votes_per_entity, \"votes_per_entity cumulative\")"
   ]
  },
  {
   "cell_type": "markdown",
   "id": "466b091d-9c77-442e-a10e-e8c678bd76c7",
   "metadata": {},
   "source": [
    "We ordered votes by entity in an ascending way and sum them in a cumulative form.\n",
    "From process 0 to 57, we only have 4% of votes.\n",
    "\n",
    "The three entities with most votes accounts for the 96% of the total."
   ]
  },
  {
   "cell_type": "code",
   "execution_count": 21,
   "id": "18bc2c69-b371-4f95-8d7e-2f23be936dfe",
   "metadata": {
    "tags": []
   },
   "outputs": [
    {
     "name": "stdout",
     "output_type": "stream",
     "text": [
      "Descriptive stats: \n",
      " count     61.00\n",
      "mean     500.72\n",
      "std     2127.29\n",
      "min        0.00\n",
      "25%        0.00\n",
      "50%        0.00\n",
      "75%        1.00\n",
      "max     9932.00\n",
      "Name: votes_count, dtype: float64\n"
     ]
    }
   ],
   "source": [
    "print(\"Descriptive stats: \\n\", global_indicators.votes_per_entity.describe())"
   ]
  },
  {
   "cell_type": "markdown",
   "id": "2a4cb641-1d50-44b1-92c6-62f45e096136",
   "metadata": {},
   "source": [
    "From 61 `entities`, 17 processes have received votes in their processes (26%).\n",
    "Mean is affected by outliers (mean is 500 but median is 0)."
   ]
  },
  {
   "cell_type": "code",
   "execution_count": 22,
   "id": "9746830a-1fa5-43e8-951b-75691c00189e",
   "metadata": {},
   "outputs": [
    {
     "name": "stdout",
     "output_type": "stream",
     "text": [
      "Entities with votes:  17\n"
     ]
    }
   ],
   "source": [
    "print(\"Entities with votes: \", (global_indicators.votes_per_entity > 0 ).sum())\n"
   ]
  },
  {
   "cell_type": "markdown",
   "id": "59950ae9-1dbd-4089-b1fd-c1b579707838",
   "metadata": {},
   "source": [
    "---"
   ]
  },
  {
   "cell_type": "code",
   "execution_count": 23,
   "id": "91373224-3c90-4db8-b70f-7faf6a6989f9",
   "metadata": {
    "tags": []
   },
   "outputs": [
    {
     "data": {
      "text/html": [
       "<iframe\n",
       "    scrolling=\"no\"\n",
       "    width=\"100%\"\n",
       "    height=\"545px\"\n",
       "    src=\"iframe_figures/figure_23.html\"\n",
       "    frameborder=\"0\"\n",
       "    allowfullscreen\n",
       "></iframe>\n"
      ]
     },
     "metadata": {},
     "output_type": "display_data"
    }
   ],
   "source": [
    "global_indicators.plot_processes_per_entity()"
   ]
  },
  {
   "cell_type": "markdown",
   "id": "46c5c315-c2fe-41e3-a2d3-2fa405fbdf95",
   "metadata": {},
   "source": [
    "We can see that there is only one entity with more than 50 processes."
   ]
  },
  {
   "cell_type": "code",
   "execution_count": 24,
   "id": "c7319a48-325b-47b0-8ea9-94faf48e1583",
   "metadata": {},
   "outputs": [
    {
     "data": {
      "text/html": [
       "<div>\n",
       "<style scoped>\n",
       "    .dataframe tbody tr th:only-of-type {\n",
       "        vertical-align: middle;\n",
       "    }\n",
       "\n",
       "    .dataframe tbody tr th {\n",
       "        vertical-align: top;\n",
       "    }\n",
       "\n",
       "    .dataframe thead th {\n",
       "        text-align: right;\n",
       "    }\n",
       "</style>\n",
       "<table border=\"1\" class=\"dataframe\">\n",
       "  <thead>\n",
       "    <tr style=\"text-align: right;\">\n",
       "      <th></th>\n",
       "      <th>processId</th>\n",
       "    </tr>\n",
       "    <tr>\n",
       "      <th>entityId</th>\n",
       "      <th></th>\n",
       "    </tr>\n",
       "  </thead>\n",
       "  <tbody>\n",
       "    <tr>\n",
       "      <th>f0f8d83cdab2f9514bef0319f1b434267be36b5c</th>\n",
       "      <td>55</td>\n",
       "    </tr>\n",
       "    <tr>\n",
       "      <th>1f9840a85d5af5bf1d1762f925bdaddc4201f984</th>\n",
       "      <td>28</td>\n",
       "    </tr>\n",
       "    <tr>\n",
       "      <th>8605d9f7e19e4568944640c7c95693d950f2daf3</th>\n",
       "      <td>6</td>\n",
       "    </tr>\n",
       "    <tr>\n",
       "      <th>6e894660985207feb7cf89faf048998c71e8ee89</th>\n",
       "      <td>6</td>\n",
       "    </tr>\n",
       "    <tr>\n",
       "      <th>5592ec0cfb4dbc12d3ab100b257153436a1f0fea</th>\n",
       "      <td>5</td>\n",
       "    </tr>\n",
       "    <tr>\n",
       "      <th>233c1a93333fc9dd52785ff4e935868b4d2c6a36</th>\n",
       "      <td>3</td>\n",
       "    </tr>\n",
       "    <tr>\n",
       "      <th>a73c170e8c8cc3fe15146f0f8d66562f00c14ad2</th>\n",
       "      <td>3</td>\n",
       "    </tr>\n",
       "    <tr>\n",
       "      <th>8ab75644f8a9833ede4a84fb2079e996979aed2d</th>\n",
       "      <td>3</td>\n",
       "    </tr>\n",
       "    <tr>\n",
       "      <th>2a910a299d9485a10a1c870aee96cee2391015ec</th>\n",
       "      <td>3</td>\n",
       "    </tr>\n",
       "    <tr>\n",
       "      <th>29dc4923fe62cbc28b94c2c075a6e68f040f7644</th>\n",
       "      <td>3</td>\n",
       "    </tr>\n",
       "  </tbody>\n",
       "</table>\n",
       "</div>"
      ],
      "text/plain": [
       "                                          processId\n",
       "entityId                                           \n",
       "f0f8d83cdab2f9514bef0319f1b434267be36b5c         55\n",
       "1f9840a85d5af5bf1d1762f925bdaddc4201f984         28\n",
       "8605d9f7e19e4568944640c7c95693d950f2daf3          6\n",
       "6e894660985207feb7cf89faf048998c71e8ee89          6\n",
       "5592ec0cfb4dbc12d3ab100b257153436a1f0fea          5\n",
       "233c1a93333fc9dd52785ff4e935868b4d2c6a36          3\n",
       "a73c170e8c8cc3fe15146f0f8d66562f00c14ad2          3\n",
       "8ab75644f8a9833ede4a84fb2079e996979aed2d          3\n",
       "2a910a299d9485a10a1c870aee96cee2391015ec          3\n",
       "29dc4923fe62cbc28b94c2c075a6e68f040f7644          3"
      ]
     },
     "execution_count": 24,
     "metadata": {},
     "output_type": "execute_result"
    }
   ],
   "source": [
    "global_indicators.processes_per_entity.to_frame().head(10)"
   ]
  },
  {
   "cell_type": "code",
   "execution_count": 25,
   "id": "83dea565-3804-4936-a865-6151845b15f7",
   "metadata": {},
   "outputs": [
    {
     "data": {
      "text/html": [
       "<iframe\n",
       "    scrolling=\"no\"\n",
       "    width=\"100%\"\n",
       "    height=\"545px\"\n",
       "    src=\"iframe_figures/figure_25.html\"\n",
       "    frameborder=\"0\"\n",
       "    allowfullscreen\n",
       "></iframe>\n"
      ]
     },
     "metadata": {},
     "output_type": "display_data"
    }
   ],
   "source": [
    "global_indicators._plot_cumulative(global_indicators.processes_per_entity, \"processes_per_entity cumulative\")"
   ]
  },
  {
   "cell_type": "markdown",
   "id": "a79963e6-302e-4b13-a7b6-7d288f108f1f",
   "metadata": {},
   "source": [
    "We ordered processes by entity in an ascending way and sum them in a cumulative form.\n",
    "We can see that the distribution is less imbalanced.\n",
    "From process 0 to 30, we have 18% of processes.\n",
    "\n",
    "The other half entities account for the 82% of the total."
   ]
  },
  {
   "cell_type": "code",
   "execution_count": 26,
   "id": "e5476174-82be-430e-8f4c-e507f12221f5",
   "metadata": {
    "tags": []
   },
   "outputs": [
    {
     "name": "stdout",
     "output_type": "stream",
     "text": [
      "Descriptive stats: \n",
      " count   61.00\n",
      "mean     2.75\n",
      "std      7.69\n",
      "min      1.00\n",
      "25%      1.00\n",
      "50%      1.00\n",
      "75%      1.00\n",
      "max     55.00\n",
      "Name: processId, dtype: float64\n"
     ]
    }
   ],
   "source": [
    "print(\"Descriptive stats: \\n\", global_indicators.processes_per_entity.describe())"
   ]
  },
  {
   "cell_type": "markdown",
   "id": "e90db6d3-d1d6-4462-88ed-4c4b29aee4e3",
   "metadata": {},
   "source": [
    "Wide majority of entities have only one process, being 55 the max. for `f0f8d83cdab2f9514bef0319f1b434267be36b5c`\n",
    "\n",
    "Although entity `e50a97585b8a530677a0402e8df7e1424e3a31f7` has only 1 process, it's the one with most votes (9.9k)"
   ]
  },
  {
   "cell_type": "code",
   "execution_count": 27,
   "id": "f6b83681-2f6b-4528-b818-db5571d05368",
   "metadata": {},
   "outputs": [
    {
     "name": "stdout",
     "output_type": "stream",
     "text": [
      "Top 10 ranking:\n"
     ]
    }
   ],
   "source": [
    "print(\"Top 10 ranking:\")"
   ]
  },
  {
   "cell_type": "code",
   "execution_count": 28,
   "id": "8456cd4e-f760-460a-ac64-0c93064503c3",
   "metadata": {
    "tags": []
   },
   "outputs": [
    {
     "data": {
      "text/html": [
       "<div>\n",
       "<style scoped>\n",
       "    .dataframe tbody tr th:only-of-type {\n",
       "        vertical-align: middle;\n",
       "    }\n",
       "\n",
       "    .dataframe tbody tr th {\n",
       "        vertical-align: top;\n",
       "    }\n",
       "\n",
       "    .dataframe thead th {\n",
       "        text-align: right;\n",
       "    }\n",
       "</style>\n",
       "<table border=\"1\" class=\"dataframe\">\n",
       "  <thead>\n",
       "    <tr style=\"text-align: right;\">\n",
       "      <th></th>\n",
       "      <th>_id</th>\n",
       "      <th>creationTime</th>\n",
       "      <th>endBlock</th>\n",
       "      <th>startBlock</th>\n",
       "      <th>entityId</th>\n",
       "      <th>processId</th>\n",
       "      <th>blocks</th>\n",
       "      <th>proccess_duration_d</th>\n",
       "      <th>creationTime_ts</th>\n",
       "      <th>endingTime_ts</th>\n",
       "      <th>votes_count</th>\n",
       "    </tr>\n",
       "  </thead>\n",
       "  <tbody>\n",
       "    <tr>\n",
       "      <th>31</th>\n",
       "      <td>60bd4b3804d7b5922c2e7643</td>\n",
       "      <td>2021-05-13T16:10:00Z</td>\n",
       "      <td>9155</td>\n",
       "      <td>8655</td>\n",
       "      <td>e50a97585b8a530677a0402e8df7e1424e3a31f7</td>\n",
       "      <td>16ef4d7af7489d8fbe113e6dcb58e9aeb5deac49a83b9e...</td>\n",
       "      <td>500</td>\n",
       "      <td>0.03</td>\n",
       "      <td>2021-05-13 16:10:00+00:00</td>\n",
       "      <td>2021-05-13 17:00:00+00:00</td>\n",
       "      <td>9932.00</td>\n",
       "    </tr>\n",
       "    <tr>\n",
       "      <th>29</th>\n",
       "      <td>60bd4b3804d7b5922c2e7641</td>\n",
       "      <td>2021-05-13T15:57:11Z</td>\n",
       "      <td>9082</td>\n",
       "      <td>8582</td>\n",
       "      <td>5cd2dd081bfab5b99363eee9dd712ba446e8218e</td>\n",
       "      <td>7bbe11efa4597621c26a8b3ea3fe5e3ae1cc457e3b17ea...</td>\n",
       "      <td>500</td>\n",
       "      <td>0.03</td>\n",
       "      <td>2021-05-13 15:57:11+00:00</td>\n",
       "      <td>2021-05-13 16:47:11+00:00</td>\n",
       "      <td>9825.00</td>\n",
       "    </tr>\n",
       "    <tr>\n",
       "      <th>30</th>\n",
       "      <td>60bd4b3804d7b5922c2e7642</td>\n",
       "      <td>2021-05-13T15:59:56Z</td>\n",
       "      <td>9097</td>\n",
       "      <td>8597</td>\n",
       "      <td>f887ae647fedae2e5bd0e9ceaed69ed4e89b7935</td>\n",
       "      <td>fbdf7c83153d889d1683ba3c286b2dc5025d1e75a20464...</td>\n",
       "      <td>500</td>\n",
       "      <td>0.03</td>\n",
       "      <td>2021-05-13 15:59:56+00:00</td>\n",
       "      <td>2021-05-13 16:49:56+00:00</td>\n",
       "      <td>9553.00</td>\n",
       "    </tr>\n",
       "    <tr>\n",
       "      <th>32</th>\n",
       "      <td>60bd4b3804d7b5922c2e7644</td>\n",
       "      <td>2021-05-13T16:45:46Z</td>\n",
       "      <td>9331</td>\n",
       "      <td>8831</td>\n",
       "      <td>2811f8f44c7f4d8d7e50d795f962c1d98df1f7c4</td>\n",
       "      <td>85f3a5394c7e186ab5172e7a1d1dfa7c5b7e707b06b31c...</td>\n",
       "      <td>500</td>\n",
       "      <td>0.03</td>\n",
       "      <td>2021-05-13 16:45:46+00:00</td>\n",
       "      <td>2021-05-13 17:35:46+00:00</td>\n",
       "      <td>500.00</td>\n",
       "    </tr>\n",
       "    <tr>\n",
       "      <th>33</th>\n",
       "      <td>60bd4b3804d7b5922c2e7645</td>\n",
       "      <td>2021-05-13T16:50:40Z</td>\n",
       "      <td>9355</td>\n",
       "      <td>8855</td>\n",
       "      <td>e95226ab61be1eab06fa3dea5f556e6d4a8500b4</td>\n",
       "      <td>a5d79fbbd4054e40ebab3278647d7bab83afaecba7535f...</td>\n",
       "      <td>500</td>\n",
       "      <td>0.03</td>\n",
       "      <td>2021-05-13 16:50:40+00:00</td>\n",
       "      <td>2021-05-13 17:40:40+00:00</td>\n",
       "      <td>266.00</td>\n",
       "    </tr>\n",
       "    <tr>\n",
       "      <th>0</th>\n",
       "      <td>60bd4b3804d7b5922c2e7624</td>\n",
       "      <td>2021-05-12T15:23:16Z</td>\n",
       "      <td>541</td>\n",
       "      <td>41</td>\n",
       "      <td>359e67ac4c5311cbd6571a20eaf6e879a466d154</td>\n",
       "      <td>53f31a0fb02a3ea7467e80ad250d43c935d3dc15924c40...</td>\n",
       "      <td>500</td>\n",
       "      <td>0.03</td>\n",
       "      <td>2021-05-12 15:23:16+00:00</td>\n",
       "      <td>2021-05-12 16:13:16+00:00</td>\n",
       "      <td>200.00</td>\n",
       "    </tr>\n",
       "    <tr>\n",
       "      <th>35</th>\n",
       "      <td>60bd4b3804d7b5922c2e7647</td>\n",
       "      <td>2021-05-13T17:53:31Z</td>\n",
       "      <td>9660</td>\n",
       "      <td>9160</td>\n",
       "      <td>9f3f676430c0cca8ea9646b81fba2b197b990ec4</td>\n",
       "      <td>c74e2c141cfe5b961ea215f77f788af2c9478d63b06536...</td>\n",
       "      <td>500</td>\n",
       "      <td>0.03</td>\n",
       "      <td>2021-05-13 17:53:31+00:00</td>\n",
       "      <td>2021-05-13 18:43:31+00:00</td>\n",
       "      <td>128.00</td>\n",
       "    </tr>\n",
       "    <tr>\n",
       "      <th>11</th>\n",
       "      <td>60bd4b3804d7b5922c2e762f</td>\n",
       "      <td>2021-05-12T20:52:10Z</td>\n",
       "      <td>62434</td>\n",
       "      <td>1954</td>\n",
       "      <td>8605d9f7e19e4568944640c7c95693d950f2daf3</td>\n",
       "      <td>fb7bd01987e1d8bb0ad5eb8b65e26fcbdd56787f33bc9b...</td>\n",
       "      <td>60480</td>\n",
       "      <td>4.20</td>\n",
       "      <td>2021-05-12 20:52:10+00:00</td>\n",
       "      <td>2021-05-17 01:40:10+00:00</td>\n",
       "      <td>50.00</td>\n",
       "    </tr>\n",
       "    <tr>\n",
       "      <th>21</th>\n",
       "      <td>60bd4b3804d7b5922c2e7639</td>\n",
       "      <td>2021-05-13T14:50:01Z</td>\n",
       "      <td>8695</td>\n",
       "      <td>8195</td>\n",
       "      <td>af4c894863b45f3d450b31f96954da2fea672bfa</td>\n",
       "      <td>35fb0d73a5092a143a9c628f5f43b10b226cb3f48721a1...</td>\n",
       "      <td>500</td>\n",
       "      <td>0.03</td>\n",
       "      <td>2021-05-13 14:50:01+00:00</td>\n",
       "      <td>2021-05-13 15:40:01+00:00</td>\n",
       "      <td>20.00</td>\n",
       "    </tr>\n",
       "    <tr>\n",
       "      <th>13</th>\n",
       "      <td>60bd4b3804d7b5922c2e7631</td>\n",
       "      <td>2021-05-12T21:42:41Z</td>\n",
       "      <td>2739</td>\n",
       "      <td>2239</td>\n",
       "      <td>8c8a5f4d994eba4b36a3cb0ab04a66a72d961483</td>\n",
       "      <td>f3f42e1db4a38c78956fd5284c488f0ddca6f2996ae279...</td>\n",
       "      <td>500</td>\n",
       "      <td>0.03</td>\n",
       "      <td>2021-05-12 21:42:41+00:00</td>\n",
       "      <td>2021-05-12 22:32:41+00:00</td>\n",
       "      <td>20.00</td>\n",
       "    </tr>\n",
       "    <tr>\n",
       "      <th>17</th>\n",
       "      <td>60bd4b3804d7b5922c2e7635</td>\n",
       "      <td>2021-05-13T13:15:00Z</td>\n",
       "      <td>8144</td>\n",
       "      <td>7644</td>\n",
       "      <td>ed1d79d82e84514d8aeb11f8fed8c207303efb01</td>\n",
       "      <td>48dd26ca7371e65b3e9e21f9b51a5bcc82c63883b1d144...</td>\n",
       "      <td>500</td>\n",
       "      <td>0.03</td>\n",
       "      <td>2021-05-13 13:15:00+00:00</td>\n",
       "      <td>2021-05-13 14:05:00+00:00</td>\n",
       "      <td>20.00</td>\n",
       "    </tr>\n",
       "    <tr>\n",
       "      <th>34</th>\n",
       "      <td>60bd4b3804d7b5922c2e7646</td>\n",
       "      <td>2021-05-13T16:53:06Z</td>\n",
       "      <td>9367</td>\n",
       "      <td>8867</td>\n",
       "      <td>7551500f28ba9c27a76f96f42260429a835768b3</td>\n",
       "      <td>60ffb0579efe26c8ac68f6b15fc7467846db9b5770ba72...</td>\n",
       "      <td>500</td>\n",
       "      <td>0.03</td>\n",
       "      <td>2021-05-13 16:53:06+00:00</td>\n",
       "      <td>2021-05-13 17:43:06+00:00</td>\n",
       "      <td>10.00</td>\n",
       "    </tr>\n",
       "    <tr>\n",
       "      <th>4</th>\n",
       "      <td>60bd4b3804d7b5922c2e7628</td>\n",
       "      <td>2021-05-12T15:26:01Z</td>\n",
       "      <td>71897</td>\n",
       "      <td>317</td>\n",
       "      <td>f0f8d83cdab2f9514bef0319f1b434267be36b5c</td>\n",
       "      <td>631ada2c7b2fc4d5cb2a6cb68d945565d1471956becf63...</td>\n",
       "      <td>71580</td>\n",
       "      <td>4.97</td>\n",
       "      <td>2021-05-12 15:26:01+00:00</td>\n",
       "      <td>2021-05-17 14:44:01+00:00</td>\n",
       "      <td>3.00</td>\n",
       "    </tr>\n",
       "    <tr>\n",
       "      <th>22</th>\n",
       "      <td>60bd4b3804d7b5922c2e763a</td>\n",
       "      <td>2021-05-13T15:23:23Z</td>\n",
       "      <td>75205</td>\n",
       "      <td>8413</td>\n",
       "      <td>fb36170605f23ddd26b146ccd8d3f16f5c738535</td>\n",
       "      <td>2f976d5cbc12cadd99dc8c57a0876adae3d3d2d361a556...</td>\n",
       "      <td>66792</td>\n",
       "      <td>4.64</td>\n",
       "      <td>2021-05-13 15:23:23+00:00</td>\n",
       "      <td>2021-05-18 06:42:35+00:00</td>\n",
       "      <td>3.00</td>\n",
       "    </tr>\n",
       "    <tr>\n",
       "      <th>3</th>\n",
       "      <td>60bd4b3804d7b5922c2e7627</td>\n",
       "      <td>2021-05-12T15:26:01Z</td>\n",
       "      <td>168676</td>\n",
       "      <td>43325</td>\n",
       "      <td>f0f8d83cdab2f9514bef0319f1b434267be36b5c</td>\n",
       "      <td>853f582a39dbb70c48468a1685fac0d9b901a3014a75eb...</td>\n",
       "      <td>125351</td>\n",
       "      <td>8.70</td>\n",
       "      <td>2021-05-12 15:26:01+00:00</td>\n",
       "      <td>2021-05-21 08:21:07+00:00</td>\n",
       "      <td>2.00</td>\n",
       "    </tr>\n",
       "    <tr>\n",
       "      <th>5</th>\n",
       "      <td>60bd4b3804d7b5922c2e7629</td>\n",
       "      <td>2021-05-12T15:31:01Z</td>\n",
       "      <td>61154</td>\n",
       "      <td>2686</td>\n",
       "      <td>f0f8d83cdab2f9514bef0319f1b434267be36b5c</td>\n",
       "      <td>a1c52ab1bbb81185d37ea5c80af2691e32b598a2a90393...</td>\n",
       "      <td>58468</td>\n",
       "      <td>4.06</td>\n",
       "      <td>2021-05-12 15:31:01+00:00</td>\n",
       "      <td>2021-05-16 16:57:49+00:00</td>\n",
       "      <td>2.00</td>\n",
       "    </tr>\n",
       "    <tr>\n",
       "      <th>6</th>\n",
       "      <td>60bd4b3804d7b5922c2e762a</td>\n",
       "      <td>2021-05-12T15:36:53Z</td>\n",
       "      <td>77860</td>\n",
       "      <td>2686</td>\n",
       "      <td>f0f8d83cdab2f9514bef0319f1b434267be36b5c</td>\n",
       "      <td>9a20ab76d743e2d787e8b11118a2ad7f6dc99c3faa0419...</td>\n",
       "      <td>75174</td>\n",
       "      <td>5.22</td>\n",
       "      <td>2021-05-12 15:36:53+00:00</td>\n",
       "      <td>2021-05-17 20:54:17+00:00</td>\n",
       "      <td>1.00</td>\n",
       "    </tr>\n",
       "    <tr>\n",
       "      <th>7</th>\n",
       "      <td>60bd4b3804d7b5922c2e762b</td>\n",
       "      <td>2021-05-12T15:40:41Z</td>\n",
       "      <td>127976</td>\n",
       "      <td>2686</td>\n",
       "      <td>f0f8d83cdab2f9514bef0319f1b434267be36b5c</td>\n",
       "      <td>c3e08a1c1e9bddd1100c1869185f7e9ae3cf215ce1db48...</td>\n",
       "      <td>125290</td>\n",
       "      <td>8.70</td>\n",
       "      <td>2021-05-12 15:40:41+00:00</td>\n",
       "      <td>2021-05-21 08:29:41+00:00</td>\n",
       "      <td>1.00</td>\n",
       "    </tr>\n",
       "    <tr>\n",
       "      <th>2</th>\n",
       "      <td>60bd4b3804d7b5922c2e7626</td>\n",
       "      <td>2021-05-12T15:26:01Z</td>\n",
       "      <td>110178</td>\n",
       "      <td>40945</td>\n",
       "      <td>f0f8d83cdab2f9514bef0319f1b434267be36b5c</td>\n",
       "      <td>fe20607cf3f94060b3edc5d2ece161557d7359d10eb84f...</td>\n",
       "      <td>69233</td>\n",
       "      <td>4.81</td>\n",
       "      <td>2021-05-12 15:26:01+00:00</td>\n",
       "      <td>2021-05-17 10:49:19+00:00</td>\n",
       "      <td>1.00</td>\n",
       "    </tr>\n",
       "    <tr>\n",
       "      <th>10</th>\n",
       "      <td>60bd4b3804d7b5922c2e762e</td>\n",
       "      <td>2021-05-12T20:46:08Z</td>\n",
       "      <td>2115</td>\n",
       "      <td>1955</td>\n",
       "      <td>5592ec0cfb4dbc12d3ab100b257153436a1f0fea</td>\n",
       "      <td>6ce4a6de41baf8246c2b1affebf4d1c759bb6148abecf4...</td>\n",
       "      <td>160</td>\n",
       "      <td>0.01</td>\n",
       "      <td>2021-05-12 20:46:08+00:00</td>\n",
       "      <td>2021-05-12 21:02:08+00:00</td>\n",
       "      <td>1.00</td>\n",
       "    </tr>\n",
       "  </tbody>\n",
       "</table>\n",
       "</div>"
      ],
      "text/plain": [
       "                         _id          creationTime  endBlock  startBlock  \\\n",
       "31  60bd4b3804d7b5922c2e7643  2021-05-13T16:10:00Z      9155        8655   \n",
       "29  60bd4b3804d7b5922c2e7641  2021-05-13T15:57:11Z      9082        8582   \n",
       "30  60bd4b3804d7b5922c2e7642  2021-05-13T15:59:56Z      9097        8597   \n",
       "32  60bd4b3804d7b5922c2e7644  2021-05-13T16:45:46Z      9331        8831   \n",
       "33  60bd4b3804d7b5922c2e7645  2021-05-13T16:50:40Z      9355        8855   \n",
       "0   60bd4b3804d7b5922c2e7624  2021-05-12T15:23:16Z       541          41   \n",
       "35  60bd4b3804d7b5922c2e7647  2021-05-13T17:53:31Z      9660        9160   \n",
       "11  60bd4b3804d7b5922c2e762f  2021-05-12T20:52:10Z     62434        1954   \n",
       "21  60bd4b3804d7b5922c2e7639  2021-05-13T14:50:01Z      8695        8195   \n",
       "13  60bd4b3804d7b5922c2e7631  2021-05-12T21:42:41Z      2739        2239   \n",
       "17  60bd4b3804d7b5922c2e7635  2021-05-13T13:15:00Z      8144        7644   \n",
       "34  60bd4b3804d7b5922c2e7646  2021-05-13T16:53:06Z      9367        8867   \n",
       "4   60bd4b3804d7b5922c2e7628  2021-05-12T15:26:01Z     71897         317   \n",
       "22  60bd4b3804d7b5922c2e763a  2021-05-13T15:23:23Z     75205        8413   \n",
       "3   60bd4b3804d7b5922c2e7627  2021-05-12T15:26:01Z    168676       43325   \n",
       "5   60bd4b3804d7b5922c2e7629  2021-05-12T15:31:01Z     61154        2686   \n",
       "6   60bd4b3804d7b5922c2e762a  2021-05-12T15:36:53Z     77860        2686   \n",
       "7   60bd4b3804d7b5922c2e762b  2021-05-12T15:40:41Z    127976        2686   \n",
       "2   60bd4b3804d7b5922c2e7626  2021-05-12T15:26:01Z    110178       40945   \n",
       "10  60bd4b3804d7b5922c2e762e  2021-05-12T20:46:08Z      2115        1955   \n",
       "\n",
       "                                    entityId  \\\n",
       "31  e50a97585b8a530677a0402e8df7e1424e3a31f7   \n",
       "29  5cd2dd081bfab5b99363eee9dd712ba446e8218e   \n",
       "30  f887ae647fedae2e5bd0e9ceaed69ed4e89b7935   \n",
       "32  2811f8f44c7f4d8d7e50d795f962c1d98df1f7c4   \n",
       "33  e95226ab61be1eab06fa3dea5f556e6d4a8500b4   \n",
       "0   359e67ac4c5311cbd6571a20eaf6e879a466d154   \n",
       "35  9f3f676430c0cca8ea9646b81fba2b197b990ec4   \n",
       "11  8605d9f7e19e4568944640c7c95693d950f2daf3   \n",
       "21  af4c894863b45f3d450b31f96954da2fea672bfa   \n",
       "13  8c8a5f4d994eba4b36a3cb0ab04a66a72d961483   \n",
       "17  ed1d79d82e84514d8aeb11f8fed8c207303efb01   \n",
       "34  7551500f28ba9c27a76f96f42260429a835768b3   \n",
       "4   f0f8d83cdab2f9514bef0319f1b434267be36b5c   \n",
       "22  fb36170605f23ddd26b146ccd8d3f16f5c738535   \n",
       "3   f0f8d83cdab2f9514bef0319f1b434267be36b5c   \n",
       "5   f0f8d83cdab2f9514bef0319f1b434267be36b5c   \n",
       "6   f0f8d83cdab2f9514bef0319f1b434267be36b5c   \n",
       "7   f0f8d83cdab2f9514bef0319f1b434267be36b5c   \n",
       "2   f0f8d83cdab2f9514bef0319f1b434267be36b5c   \n",
       "10  5592ec0cfb4dbc12d3ab100b257153436a1f0fea   \n",
       "\n",
       "                                            processId  blocks  \\\n",
       "31  16ef4d7af7489d8fbe113e6dcb58e9aeb5deac49a83b9e...     500   \n",
       "29  7bbe11efa4597621c26a8b3ea3fe5e3ae1cc457e3b17ea...     500   \n",
       "30  fbdf7c83153d889d1683ba3c286b2dc5025d1e75a20464...     500   \n",
       "32  85f3a5394c7e186ab5172e7a1d1dfa7c5b7e707b06b31c...     500   \n",
       "33  a5d79fbbd4054e40ebab3278647d7bab83afaecba7535f...     500   \n",
       "0   53f31a0fb02a3ea7467e80ad250d43c935d3dc15924c40...     500   \n",
       "35  c74e2c141cfe5b961ea215f77f788af2c9478d63b06536...     500   \n",
       "11  fb7bd01987e1d8bb0ad5eb8b65e26fcbdd56787f33bc9b...   60480   \n",
       "21  35fb0d73a5092a143a9c628f5f43b10b226cb3f48721a1...     500   \n",
       "13  f3f42e1db4a38c78956fd5284c488f0ddca6f2996ae279...     500   \n",
       "17  48dd26ca7371e65b3e9e21f9b51a5bcc82c63883b1d144...     500   \n",
       "34  60ffb0579efe26c8ac68f6b15fc7467846db9b5770ba72...     500   \n",
       "4   631ada2c7b2fc4d5cb2a6cb68d945565d1471956becf63...   71580   \n",
       "22  2f976d5cbc12cadd99dc8c57a0876adae3d3d2d361a556...   66792   \n",
       "3   853f582a39dbb70c48468a1685fac0d9b901a3014a75eb...  125351   \n",
       "5   a1c52ab1bbb81185d37ea5c80af2691e32b598a2a90393...   58468   \n",
       "6   9a20ab76d743e2d787e8b11118a2ad7f6dc99c3faa0419...   75174   \n",
       "7   c3e08a1c1e9bddd1100c1869185f7e9ae3cf215ce1db48...  125290   \n",
       "2   fe20607cf3f94060b3edc5d2ece161557d7359d10eb84f...   69233   \n",
       "10  6ce4a6de41baf8246c2b1affebf4d1c759bb6148abecf4...     160   \n",
       "\n",
       "    proccess_duration_d           creationTime_ts             endingTime_ts  \\\n",
       "31                 0.03 2021-05-13 16:10:00+00:00 2021-05-13 17:00:00+00:00   \n",
       "29                 0.03 2021-05-13 15:57:11+00:00 2021-05-13 16:47:11+00:00   \n",
       "30                 0.03 2021-05-13 15:59:56+00:00 2021-05-13 16:49:56+00:00   \n",
       "32                 0.03 2021-05-13 16:45:46+00:00 2021-05-13 17:35:46+00:00   \n",
       "33                 0.03 2021-05-13 16:50:40+00:00 2021-05-13 17:40:40+00:00   \n",
       "0                  0.03 2021-05-12 15:23:16+00:00 2021-05-12 16:13:16+00:00   \n",
       "35                 0.03 2021-05-13 17:53:31+00:00 2021-05-13 18:43:31+00:00   \n",
       "11                 4.20 2021-05-12 20:52:10+00:00 2021-05-17 01:40:10+00:00   \n",
       "21                 0.03 2021-05-13 14:50:01+00:00 2021-05-13 15:40:01+00:00   \n",
       "13                 0.03 2021-05-12 21:42:41+00:00 2021-05-12 22:32:41+00:00   \n",
       "17                 0.03 2021-05-13 13:15:00+00:00 2021-05-13 14:05:00+00:00   \n",
       "34                 0.03 2021-05-13 16:53:06+00:00 2021-05-13 17:43:06+00:00   \n",
       "4                  4.97 2021-05-12 15:26:01+00:00 2021-05-17 14:44:01+00:00   \n",
       "22                 4.64 2021-05-13 15:23:23+00:00 2021-05-18 06:42:35+00:00   \n",
       "3                  8.70 2021-05-12 15:26:01+00:00 2021-05-21 08:21:07+00:00   \n",
       "5                  4.06 2021-05-12 15:31:01+00:00 2021-05-16 16:57:49+00:00   \n",
       "6                  5.22 2021-05-12 15:36:53+00:00 2021-05-17 20:54:17+00:00   \n",
       "7                  8.70 2021-05-12 15:40:41+00:00 2021-05-21 08:29:41+00:00   \n",
       "2                  4.81 2021-05-12 15:26:01+00:00 2021-05-17 10:49:19+00:00   \n",
       "10                 0.01 2021-05-12 20:46:08+00:00 2021-05-12 21:02:08+00:00   \n",
       "\n",
       "    votes_count  \n",
       "31      9932.00  \n",
       "29      9825.00  \n",
       "30      9553.00  \n",
       "32       500.00  \n",
       "33       266.00  \n",
       "0        200.00  \n",
       "35       128.00  \n",
       "11        50.00  \n",
       "21        20.00  \n",
       "13        20.00  \n",
       "17        20.00  \n",
       "34        10.00  \n",
       "4          3.00  \n",
       "22         3.00  \n",
       "3          2.00  \n",
       "5          2.00  \n",
       "6          1.00  \n",
       "7          1.00  \n",
       "2          1.00  \n",
       "10         1.00  "
      ]
     },
     "execution_count": 28,
     "metadata": {},
     "output_type": "execute_result"
    }
   ],
   "source": [
    "global_indicators.df_processes.sort_values(\"votes_count\", ascending=False).head(20)"
   ]
  },
  {
   "cell_type": "markdown",
   "id": "de18b6d5-7ce4-46a6-b8f5-fffa1501bf2c",
   "metadata": {},
   "source": [
    "### Comparing process duration (days) to votes count\n"
   ]
  },
  {
   "cell_type": "markdown",
   "id": "72e3a1ad-ea3f-483c-9716-11c032d5d3ff",
   "metadata": {},
   "source": [
    "On a first sight we cannot establish corralation between them."
   ]
  },
  {
   "cell_type": "code",
   "execution_count": 29,
   "id": "11e7e617-729d-417a-bb8d-7d3d2054c776",
   "metadata": {
    "tags": []
   },
   "outputs": [
    {
     "name": "stdout",
     "output_type": "stream",
     "text": [
      "Correlation:  -0.03\n"
     ]
    }
   ],
   "source": [
    "print(\"Correlation: \", global_indicators.df_processes[[\"proccess_duration_d\", \"votes_count\"]].corr().values[0][1].round(2))"
   ]
  },
  {
   "cell_type": "code",
   "execution_count": 30,
   "id": "c5e94162-c52f-418d-93c7-7385f04e464b",
   "metadata": {
    "tags": []
   },
   "outputs": [
    {
     "data": {
      "text/html": [
       "<iframe\n",
       "    scrolling=\"no\"\n",
       "    width=\"100%\"\n",
       "    height=\"545px\"\n",
       "    src=\"iframe_figures/figure_30.html\"\n",
       "    frameborder=\"0\"\n",
       "    allowfullscreen\n",
       "></iframe>\n"
      ]
     },
     "metadata": {},
     "output_type": "display_data"
    }
   ],
   "source": [
    "global_indicators.scatter_duration_votes()"
   ]
  },
  {
   "cell_type": "markdown",
   "id": "5fdb4600-7bb1-4f8c-9978-04cfebd47cbb",
   "metadata": {},
   "source": [
    "*(y-axis is in log scale)*"
   ]
  },
  {
   "cell_type": "code",
   "execution_count": 31,
   "id": "951d3aec-d2ca-4f27-a261-8d014d3ef39b",
   "metadata": {
    "tags": []
   },
   "outputs": [
    {
     "name": "stdout",
     "output_type": "stream",
     "text": [
      "Process duration stats:\n"
     ]
    }
   ],
   "source": [
    "print(\"Process duration stats:\")"
   ]
  },
  {
   "cell_type": "code",
   "execution_count": 55,
   "id": "887c74f0-5b4a-4f57-8f06-f6a30bbebc3d",
   "metadata": {},
   "outputs": [
    {
     "name": "stdout",
     "output_type": "stream",
     "text": [
      "Skewness:  10.92\n"
     ]
    }
   ],
   "source": [
    "print(\"Skewness: \",global_indicators.df_processes[\"proccess_duration_d\"].skew().round(2))"
   ]
  },
  {
   "cell_type": "code",
   "execution_count": 32,
   "id": "960b33a1-c9fd-42b2-9ccf-561aefe9a2b5",
   "metadata": {
    "tags": []
   },
   "outputs": [
    {
     "data": {
      "text/plain": [
       "count   168.00\n",
       "mean      2.88\n",
       "std      11.43\n",
       "min       0.00\n",
       "25%       0.02\n",
       "50%       0.19\n",
       "75%       3.49\n",
       "max     141.56\n",
       "Name: proccess_duration_d, dtype: float64"
      ]
     },
     "execution_count": 32,
     "metadata": {},
     "output_type": "execute_result"
    }
   ],
   "source": [
    "global_indicators.df_processes[\"proccess_duration_d\"].describe()"
   ]
  },
  {
   "cell_type": "markdown",
   "id": "d314e097-94bd-4c4c-8385-dbf3a1a60b55",
   "metadata": {},
   "source": [
    "Processes last 2.88 days on average, being 0.19 the median. There is one outlier of 141.56 that affects the distribution.\n",
    "\n",
    "This is a right-skewed distribution (The right tail is longer)"
   ]
  },
  {
   "cell_type": "markdown",
   "id": "ae11aa7e-76bc-43ef-9be9-205320c6c45d",
   "metadata": {},
   "source": [
    "---"
   ]
  },
  {
   "cell_type": "code",
   "execution_count": 33,
   "id": "8a7ef331-19ae-4006-9334-8764ddc2159e",
   "metadata": {
    "tags": []
   },
   "outputs": [
    {
     "name": "stdout",
     "output_type": "stream",
     "text": [
      "Vote count stats:\n"
     ]
    }
   ],
   "source": [
    "print(\"Vote count stats:\")"
   ]
  },
  {
   "cell_type": "code",
   "execution_count": 54,
   "id": "9e0a3122-e90a-447f-8c25-972de9210847",
   "metadata": {},
   "outputs": [
    {
     "name": "stdout",
     "output_type": "stream",
     "text": [
      "Skewness:  7.34\n"
     ]
    }
   ],
   "source": [
    "print(\"Skewness: \", global_indicators.df_processes[\"votes_count\"].skew().round(2))"
   ]
  },
  {
   "cell_type": "code",
   "execution_count": 34,
   "id": "68a3beb8-0e0b-433a-b399-9264f2c73aad",
   "metadata": {
    "tags": []
   },
   "outputs": [
    {
     "data": {
      "text/plain": [
       "count    168.00\n",
       "mean     181.81\n",
       "std     1297.77\n",
       "min        0.00\n",
       "25%        0.00\n",
       "50%        0.00\n",
       "75%        0.00\n",
       "max     9932.00\n",
       "Name: votes_count, dtype: float64"
      ]
     },
     "execution_count": 34,
     "metadata": {},
     "output_type": "execute_result"
    }
   ],
   "source": [
    "global_indicators.df_processes[\"votes_count\"].describe()"
   ]
  },
  {
   "cell_type": "code",
   "execution_count": 35,
   "id": "2356a10b-534f-4277-a494-c20d7b9075ee",
   "metadata": {},
   "outputs": [
    {
     "data": {
      "text/plain": [
       "0.00       142\n",
       "1.00        10\n",
       "20.00        3\n",
       "2.00         2\n",
       "3.00         2\n",
       "9932.00      1\n",
       "50.00        1\n",
       "266.00       1\n",
       "500.00       1\n",
       "200.00       1\n",
       "9825.00      1\n",
       "10.00        1\n",
       "9553.00      1\n",
       "128.00       1\n",
       "Name: votes_count, dtype: int64"
      ]
     },
     "execution_count": 35,
     "metadata": {},
     "output_type": "execute_result"
    }
   ],
   "source": [
    "global_indicators.df_processes[\"votes_count\"].value_counts()"
   ]
  },
  {
   "cell_type": "markdown",
   "id": "5e0b3dd3-c861-47b0-97ac-6c4200f4be7d",
   "metadata": {},
   "source": [
    "The majority of processes hace zero votes. There are some outliers that affect the mean.\n",
    "\n",
    "This is a right-skewed distribution (The right tail is longer)"
   ]
  },
  {
   "cell_type": "markdown",
   "id": "f86d9412-31ab-4d2b-8eb4-e2dafe952c9c",
   "metadata": {},
   "source": [
    "---"
   ]
  },
  {
   "cell_type": "markdown",
   "id": "b25d1da3-488b-4069-90df-ce5bdb607232",
   "metadata": {},
   "source": [
    "### Lest's check voting patterns related to date data"
   ]
  },
  {
   "cell_type": "code",
   "execution_count": 36,
   "id": "f13b441b-78f4-4bc0-9cf7-081a9e00436a",
   "metadata": {
    "tags": []
   },
   "outputs": [
    {
     "data": {
      "text/html": [
       "<iframe\n",
       "    scrolling=\"no\"\n",
       "    width=\"100%\"\n",
       "    height=\"545px\"\n",
       "    src=\"iframe_figures/figure_36.html\"\n",
       "    frameborder=\"0\"\n",
       "    allowfullscreen\n",
       "></iframe>\n"
      ]
     },
     "metadata": {},
     "output_type": "display_data"
    }
   ],
   "source": [
    "global_indicators.plot_votes_per_day()"
   ]
  },
  {
   "cell_type": "markdown",
   "id": "739305c5-8b35-4c3d-b819-4b678d56f958",
   "metadata": {},
   "source": [
    "Since May 12 and 13 we haven't seen much vogting activity."
   ]
  },
  {
   "cell_type": "code",
   "execution_count": 37,
   "id": "1f85808c-2bfa-418d-b62b-286ebad9e288",
   "metadata": {},
   "outputs": [
    {
     "data": {
      "text/plain": [
       "vote_ts\n",
       "2021-05-12 00:00:00+00:00      275\n",
       "2021-05-13 00:00:00+00:00    30266\n",
       "2021-05-14 00:00:00+00:00        0\n",
       "2021-05-15 00:00:00+00:00        0\n",
       "2021-05-16 00:00:00+00:00        0\n",
       "2021-05-17 00:00:00+00:00        0\n",
       "2021-05-18 00:00:00+00:00        0\n",
       "2021-05-19 00:00:00+00:00        1\n",
       "2021-05-20 00:00:00+00:00        0\n",
       "2021-05-21 00:00:00+00:00        0\n",
       "2021-05-22 00:00:00+00:00        0\n",
       "2021-05-23 00:00:00+00:00        2\n",
       "Freq: D, Name: nullifier, dtype: int64"
      ]
     },
     "execution_count": 37,
     "metadata": {},
     "output_type": "execute_result"
    }
   ],
   "source": [
    "global_indicators.votes_per_day"
   ]
  },
  {
   "cell_type": "markdown",
   "id": "36dbd89f-69e1-446a-b3db-6b81cfc6da6f",
   "metadata": {},
   "source": [
    "All votes were realized in only 4 days.\n",
    "\n"
   ]
  },
  {
   "cell_type": "code",
   "execution_count": 38,
   "id": "7182c51f-ae36-407a-ae61-15f0bd07f4a8",
   "metadata": {},
   "outputs": [
    {
     "data": {
      "text/html": [
       "<iframe\n",
       "    scrolling=\"no\"\n",
       "    width=\"100%\"\n",
       "    height=\"545px\"\n",
       "    src=\"iframe_figures/figure_38.html\"\n",
       "    frameborder=\"0\"\n",
       "    allowfullscreen\n",
       "></iframe>\n"
      ]
     },
     "metadata": {},
     "output_type": "display_data"
    }
   ],
   "source": [
    "global_indicators.plot_votes_per_day_hour()"
   ]
  },
  {
   "cell_type": "code",
   "execution_count": 39,
   "id": "462b322a-eebb-4442-a4a2-f24fe2665859",
   "metadata": {},
   "outputs": [
    {
     "data": {
      "text/plain": [
       "vote_ts\n",
       "2021-05-12 15:00:00+00:00      201\n",
       "2021-05-12 18:00:00+00:00       51\n",
       "2021-05-12 19:00:00+00:00       21\n",
       "2021-05-12 22:00:00+00:00        2\n",
       "2021-05-13 02:00:00+00:00        1\n",
       "2021-05-13 04:00:00+00:00       21\n",
       "2021-05-13 05:00:00+00:00    29333\n",
       "2021-05-13 06:00:00+00:00      905\n",
       "2021-05-13 07:00:00+00:00        2\n",
       "2021-05-13 13:00:00+00:00        1\n",
       "2021-05-13 14:00:00+00:00        2\n",
       "2021-05-13 17:00:00+00:00        1\n",
       "2021-05-19 08:00:00+00:00        1\n",
       "2021-05-23 08:00:00+00:00        1\n",
       "2021-05-23 12:00:00+00:00        1\n",
       "Name: nullifier, dtype: int64"
      ]
     },
     "execution_count": 39,
     "metadata": {},
     "output_type": "execute_result"
    }
   ],
   "source": [
    "global_indicators.votes_per_day_hour[global_indicators.votes_per_day_hour > 0]"
   ]
  },
  {
   "cell_type": "markdown",
   "id": "cb78969a-0cd3-454a-8bda-8ca2727dd692",
   "metadata": {},
   "source": [
    "We can see high activity between `2021-05-12 15:00:00` and `2021-05-13 06:00:00`"
   ]
  },
  {
   "cell_type": "code",
   "execution_count": 40,
   "id": "50e0002b-f30a-4f92-986d-97224103d1a2",
   "metadata": {},
   "outputs": [
    {
     "data": {
      "text/html": [
       "<iframe\n",
       "    scrolling=\"no\"\n",
       "    width=\"100%\"\n",
       "    height=\"545px\"\n",
       "    src=\"iframe_figures/figure_40.html\"\n",
       "    frameborder=\"0\"\n",
       "    allowfullscreen\n",
       "></iframe>\n"
      ]
     },
     "metadata": {},
     "output_type": "display_data"
    }
   ],
   "source": [
    "global_indicators.plot_votes_weekday()"
   ]
  },
  {
   "cell_type": "markdown",
   "id": "e9b63f01-bd0e-4f70-b579-b0ceb314a0f4",
   "metadata": {},
   "source": [
    "`2021-05-12` and `2021-05-13` where Wednesday and Thursday, consistent with week day aggregation data."
   ]
  },
  {
   "cell_type": "code",
   "execution_count": 41,
   "id": "3300a9fe-6492-44de-ac80-31b70c914f9b",
   "metadata": {
    "tags": []
   },
   "outputs": [
    {
     "data": {
      "text/html": [
       "<iframe\n",
       "    scrolling=\"no\"\n",
       "    width=\"100%\"\n",
       "    height=\"545px\"\n",
       "    src=\"iframe_figures/figure_41.html\"\n",
       "    frameborder=\"0\"\n",
       "    allowfullscreen\n",
       "></iframe>\n"
      ]
     },
     "metadata": {},
     "output_type": "display_data"
    }
   ],
   "source": [
    "global_indicators.plot_votes_hour()"
   ]
  },
  {
   "cell_type": "markdown",
   "id": "9d759729-9cd9-40d6-90c5-bf2002a77163",
   "metadata": {},
   "source": [
    "With hour aggregation we can see that most votes where registered from 5 to 6 o'clock."
   ]
  },
  {
   "cell_type": "code",
   "execution_count": 42,
   "id": "e07da8a4-cff2-450f-8ce9-f99a250430b7",
   "metadata": {},
   "outputs": [
    {
     "data": {
      "text/plain": [
       "vote_ts\n",
       "2         1\n",
       "4        21\n",
       "5     29333\n",
       "6       905\n",
       "7         2\n",
       "8         2\n",
       "12        1\n",
       "13        1\n",
       "14        2\n",
       "15      201\n",
       "17        1\n",
       "18       51\n",
       "19       21\n",
       "22        2\n",
       "Name: nullifier, dtype: int64"
      ]
     },
     "execution_count": 42,
     "metadata": {},
     "output_type": "execute_result"
    }
   ],
   "source": [
    "global_indicators.votes_hour"
   ]
  },
  {
   "cell_type": "markdown",
   "id": "cbf44106-d6b6-4fd4-b52b-9c3bed8a7a88",
   "metadata": {},
   "source": [
    "---"
   ]
  },
  {
   "cell_type": "markdown",
   "id": "3eaae307-3f22-4d0c-8fb4-030113e1dd07",
   "metadata": {},
   "source": [
    "### Votes weight"
   ]
  },
  {
   "cell_type": "markdown",
   "id": "e88cbbf9-d042-4c28-8ad2-c05fa001d2d9",
   "metadata": {},
   "source": [
    "Almost all votes have weight of `1` except a few big outliers:"
   ]
  },
  {
   "cell_type": "code",
   "execution_count": 43,
   "id": "84178f4d-63ea-4277-9ecc-1969e7c24bae",
   "metadata": {
    "tags": []
   },
   "outputs": [],
   "source": [
    "tmp = global_indicators.df_envelopes.weight"
   ]
  },
  {
   "cell_type": "code",
   "execution_count": 44,
   "id": "cbe1ef4d-af5f-452f-beba-67264e035667",
   "metadata": {},
   "outputs": [
    {
     "data": {
      "text/plain": [
       "1.00                        30530\n",
       "860000000000000000000.00        5\n",
       "1000000000000000000.00          3\n",
       "100000000000000000000.00        3\n",
       "990000000000000000000.00        2\n",
       "10000000000000000000.00         1\n",
       "Name: weight, dtype: int64"
      ]
     },
     "execution_count": 44,
     "metadata": {},
     "output_type": "execute_result"
    }
   ],
   "source": [
    "tmp.value_counts(dropna=False)"
   ]
  },
  {
   "cell_type": "markdown",
   "id": "aa75e55e-d3c1-426a-a823-ef5be6fe2c36",
   "metadata": {},
   "source": [
    "Mean is highly affected by this outliers. **Futhter analysis is recommended.**"
   ]
  },
  {
   "cell_type": "code",
   "execution_count": 45,
   "id": "3e870a5b-17d5-41d6-ab49-1d4371e028cc",
   "metadata": {
    "tags": []
   },
   "outputs": [
    {
     "data": {
      "text/plain": [
       "count                   30544.00\n",
       "mean       215852540597171328.00\n",
       "std      13645240091697332224.00\n",
       "min                         1.00\n",
       "25%                         1.00\n",
       "50%                         1.00\n",
       "75%                         1.00\n",
       "max     990000000000000000000.00\n",
       "Name: weight, dtype: float64"
      ]
     },
     "execution_count": 45,
     "metadata": {},
     "output_type": "execute_result"
    }
   ],
   "source": [
    "tmp.describe()"
   ]
  },
  {
   "cell_type": "markdown",
   "id": "e8eafb77-8fa3-4053-a4d2-a930da30fc9b",
   "metadata": {},
   "source": [
    "Envelopes with weight different than 1:"
   ]
  },
  {
   "cell_type": "code",
   "execution_count": 46,
   "id": "dd9a0b5d-4a99-4b0e-a181-1a7bcd74946b",
   "metadata": {},
   "outputs": [
    {
     "data": {
      "text/html": [
       "<div>\n",
       "<style scoped>\n",
       "    .dataframe tbody tr th:only-of-type {\n",
       "        vertical-align: middle;\n",
       "    }\n",
       "\n",
       "    .dataframe tbody tr th {\n",
       "        vertical-align: top;\n",
       "    }\n",
       "\n",
       "    .dataframe thead th {\n",
       "        text-align: right;\n",
       "    }\n",
       "</style>\n",
       "<table border=\"1\" class=\"dataframe\">\n",
       "  <thead>\n",
       "    <tr style=\"text-align: right;\">\n",
       "      <th></th>\n",
       "      <th>_id</th>\n",
       "      <th>height</th>\n",
       "      <th>nullifier</th>\n",
       "      <th>process_id</th>\n",
       "      <th>weight</th>\n",
       "      <th>vote_ts</th>\n",
       "    </tr>\n",
       "  </thead>\n",
       "  <tbody>\n",
       "    <tr>\n",
       "      <th>200</th>\n",
       "      <td>60bd4b3904d7b5922c2e7794</td>\n",
       "      <td>2689</td>\n",
       "      <td>fc52b5504621d512bfe4dfae6b9c33e3cd6073f3bf1739...</td>\n",
       "      <td>631ada2c7b2fc4d5cb2a6cb68d945565d1471956becf63...</td>\n",
       "      <td>990000000000000000000.00</td>\n",
       "      <td>2021-05-12 19:52:10+00:00</td>\n",
       "    </tr>\n",
       "    <tr>\n",
       "      <th>201</th>\n",
       "      <td>60bd4b3904d7b5922c2e7795</td>\n",
       "      <td>9382</td>\n",
       "      <td>9f0997008ee60e779740253dccaad176e228cbe0babe25...</td>\n",
       "      <td>631ada2c7b2fc4d5cb2a6cb68d945565d1471956becf63...</td>\n",
       "      <td>1000000000000000000.00</td>\n",
       "      <td>2021-05-13 07:01:28+00:00</td>\n",
       "    </tr>\n",
       "    <tr>\n",
       "      <th>202</th>\n",
       "      <td>60bd4b3904d7b5922c2e7796</td>\n",
       "      <td>13219</td>\n",
       "      <td>64c50312ddf9dd53ca70f7cc549f3ddf83f26dabbb45f2...</td>\n",
       "      <td>631ada2c7b2fc4d5cb2a6cb68d945565d1471956becf63...</td>\n",
       "      <td>860000000000000000000.00</td>\n",
       "      <td>2021-05-13 13:25:10+00:00</td>\n",
       "    </tr>\n",
       "    <tr>\n",
       "      <th>203</th>\n",
       "      <td>60bd4b3904d7b5922c2e7797</td>\n",
       "      <td>96750</td>\n",
       "      <td>9da5f088de43728a20d84ae7ba3fa51be05ef4ff590616...</td>\n",
       "      <td>fe20607cf3f94060b3edc5d2ece161557d7359d10eb84f...</td>\n",
       "      <td>10000000000000000000.00</td>\n",
       "      <td>2021-05-19 08:38:16+00:00</td>\n",
       "    </tr>\n",
       "    <tr>\n",
       "      <th>204</th>\n",
       "      <td>60bd4b3904d7b5922c2e7798</td>\n",
       "      <td>154478</td>\n",
       "      <td>3d0714498cf73a72e3b51a9df2b212043e36dd4b8cd82e...</td>\n",
       "      <td>853f582a39dbb70c48468a1685fac0d9b901a3014a75eb...</td>\n",
       "      <td>990000000000000000000.00</td>\n",
       "      <td>2021-05-23 08:51:04+00:00</td>\n",
       "    </tr>\n",
       "    <tr>\n",
       "      <th>205</th>\n",
       "      <td>60bd4b3904d7b5922c2e7799</td>\n",
       "      <td>156369</td>\n",
       "      <td>120e06d4e2530faac4a998e5a99d4638690537fdd54d66...</td>\n",
       "      <td>853f582a39dbb70c48468a1685fac0d9b901a3014a75eb...</td>\n",
       "      <td>1000000000000000000.00</td>\n",
       "      <td>2021-05-23 12:00:10+00:00</td>\n",
       "    </tr>\n",
       "    <tr>\n",
       "      <th>206</th>\n",
       "      <td>60bd4b3904d7b5922c2e779a</td>\n",
       "      <td>9615</td>\n",
       "      <td>df6ad508b0e6566ffcd80d27f8180d955a0e3705444db9...</td>\n",
       "      <td>a1c52ab1bbb81185d37ea5c80af2691e32b598a2a90393...</td>\n",
       "      <td>1000000000000000000.00</td>\n",
       "      <td>2021-05-13 07:24:46+00:00</td>\n",
       "    </tr>\n",
       "    <tr>\n",
       "      <th>207</th>\n",
       "      <td>60bd4b3904d7b5922c2e779b</td>\n",
       "      <td>15742</td>\n",
       "      <td>d40e62e13c528d4c62774bded1c4bd5e581f69ff462f5f...</td>\n",
       "      <td>a1c52ab1bbb81185d37ea5c80af2691e32b598a2a90393...</td>\n",
       "      <td>860000000000000000000.00</td>\n",
       "      <td>2021-05-13 17:37:28+00:00</td>\n",
       "    </tr>\n",
       "    <tr>\n",
       "      <th>208</th>\n",
       "      <td>60bd4b3904d7b5922c2e779c</td>\n",
       "      <td>13738</td>\n",
       "      <td>9c567e497d6b3ec658e02edd07bf3ed458831ce4f0fa6d...</td>\n",
       "      <td>9a20ab76d743e2d787e8b11118a2ad7f6dc99c3faa0419...</td>\n",
       "      <td>860000000000000000000.00</td>\n",
       "      <td>2021-05-13 14:17:04+00:00</td>\n",
       "    </tr>\n",
       "    <tr>\n",
       "      <th>209</th>\n",
       "      <td>60bd4b3904d7b5922c2e779d</td>\n",
       "      <td>6541</td>\n",
       "      <td>77910d47b8671b5d55d9e2d036eb171f6e122e76966f48...</td>\n",
       "      <td>c3e08a1c1e9bddd1100c1869185f7e9ae3cf215ce1db48...</td>\n",
       "      <td>860000000000000000000.00</td>\n",
       "      <td>2021-05-13 02:17:22+00:00</td>\n",
       "    </tr>\n",
       "    <tr>\n",
       "      <th>210</th>\n",
       "      <td>60bd4b3904d7b5922c2e779e</td>\n",
       "      <td>229</td>\n",
       "      <td>d9b833811a2e76a1ac3630258a924ed9d5caad25000d48...</td>\n",
       "      <td>8dc72483bf19b9f778c871574fc14b294de65c1e2c5437...</td>\n",
       "      <td>100000000000000000000.00</td>\n",
       "      <td>2021-05-12 15:46:10+00:00</td>\n",
       "    </tr>\n",
       "    <tr>\n",
       "      <th>211</th>\n",
       "      <td>60bd4b3904d7b5922c2e779f</td>\n",
       "      <td>13743</td>\n",
       "      <td>a3c0a7d876cbfffc9f65eae66e221a019c6a8846c011f5...</td>\n",
       "      <td>5bb213ec7c36bb6187fab7c5893c35c7b319850cf17c6a...</td>\n",
       "      <td>860000000000000000000.00</td>\n",
       "      <td>2021-05-13 14:17:34+00:00</td>\n",
       "    </tr>\n",
       "    <tr>\n",
       "      <th>212</th>\n",
       "      <td>60bd4b3904d7b5922c2e77a0</td>\n",
       "      <td>2096</td>\n",
       "      <td>6468fae1c1b5b7ff6d3fada6f6bd037aa56f88ea17cbd0...</td>\n",
       "      <td>6ce4a6de41baf8246c2b1affebf4d1c759bb6148abecf4...</td>\n",
       "      <td>100000000000000000000.00</td>\n",
       "      <td>2021-05-12 18:52:52+00:00</td>\n",
       "    </tr>\n",
       "    <tr>\n",
       "      <th>306</th>\n",
       "      <td>60bd4b3904d7b5922c2e77fe</td>\n",
       "      <td>7704</td>\n",
       "      <td>a9f02462187f87adf6bf39a3b46987dfc945ee6b89a6ae...</td>\n",
       "      <td>5bb5b6c31f952d43fe0adadae15ef87461ed99ac30b29d...</td>\n",
       "      <td>100000000000000000000.00</td>\n",
       "      <td>2021-05-13 04:13:40+00:00</td>\n",
       "    </tr>\n",
       "  </tbody>\n",
       "</table>\n",
       "</div>"
      ],
      "text/plain": [
       "                          _id  height  \\\n",
       "200  60bd4b3904d7b5922c2e7794    2689   \n",
       "201  60bd4b3904d7b5922c2e7795    9382   \n",
       "202  60bd4b3904d7b5922c2e7796   13219   \n",
       "203  60bd4b3904d7b5922c2e7797   96750   \n",
       "204  60bd4b3904d7b5922c2e7798  154478   \n",
       "205  60bd4b3904d7b5922c2e7799  156369   \n",
       "206  60bd4b3904d7b5922c2e779a    9615   \n",
       "207  60bd4b3904d7b5922c2e779b   15742   \n",
       "208  60bd4b3904d7b5922c2e779c   13738   \n",
       "209  60bd4b3904d7b5922c2e779d    6541   \n",
       "210  60bd4b3904d7b5922c2e779e     229   \n",
       "211  60bd4b3904d7b5922c2e779f   13743   \n",
       "212  60bd4b3904d7b5922c2e77a0    2096   \n",
       "306  60bd4b3904d7b5922c2e77fe    7704   \n",
       "\n",
       "                                             nullifier  \\\n",
       "200  fc52b5504621d512bfe4dfae6b9c33e3cd6073f3bf1739...   \n",
       "201  9f0997008ee60e779740253dccaad176e228cbe0babe25...   \n",
       "202  64c50312ddf9dd53ca70f7cc549f3ddf83f26dabbb45f2...   \n",
       "203  9da5f088de43728a20d84ae7ba3fa51be05ef4ff590616...   \n",
       "204  3d0714498cf73a72e3b51a9df2b212043e36dd4b8cd82e...   \n",
       "205  120e06d4e2530faac4a998e5a99d4638690537fdd54d66...   \n",
       "206  df6ad508b0e6566ffcd80d27f8180d955a0e3705444db9...   \n",
       "207  d40e62e13c528d4c62774bded1c4bd5e581f69ff462f5f...   \n",
       "208  9c567e497d6b3ec658e02edd07bf3ed458831ce4f0fa6d...   \n",
       "209  77910d47b8671b5d55d9e2d036eb171f6e122e76966f48...   \n",
       "210  d9b833811a2e76a1ac3630258a924ed9d5caad25000d48...   \n",
       "211  a3c0a7d876cbfffc9f65eae66e221a019c6a8846c011f5...   \n",
       "212  6468fae1c1b5b7ff6d3fada6f6bd037aa56f88ea17cbd0...   \n",
       "306  a9f02462187f87adf6bf39a3b46987dfc945ee6b89a6ae...   \n",
       "\n",
       "                                            process_id  \\\n",
       "200  631ada2c7b2fc4d5cb2a6cb68d945565d1471956becf63...   \n",
       "201  631ada2c7b2fc4d5cb2a6cb68d945565d1471956becf63...   \n",
       "202  631ada2c7b2fc4d5cb2a6cb68d945565d1471956becf63...   \n",
       "203  fe20607cf3f94060b3edc5d2ece161557d7359d10eb84f...   \n",
       "204  853f582a39dbb70c48468a1685fac0d9b901a3014a75eb...   \n",
       "205  853f582a39dbb70c48468a1685fac0d9b901a3014a75eb...   \n",
       "206  a1c52ab1bbb81185d37ea5c80af2691e32b598a2a90393...   \n",
       "207  a1c52ab1bbb81185d37ea5c80af2691e32b598a2a90393...   \n",
       "208  9a20ab76d743e2d787e8b11118a2ad7f6dc99c3faa0419...   \n",
       "209  c3e08a1c1e9bddd1100c1869185f7e9ae3cf215ce1db48...   \n",
       "210  8dc72483bf19b9f778c871574fc14b294de65c1e2c5437...   \n",
       "211  5bb213ec7c36bb6187fab7c5893c35c7b319850cf17c6a...   \n",
       "212  6ce4a6de41baf8246c2b1affebf4d1c759bb6148abecf4...   \n",
       "306  5bb5b6c31f952d43fe0adadae15ef87461ed99ac30b29d...   \n",
       "\n",
       "                      weight                   vote_ts  \n",
       "200 990000000000000000000.00 2021-05-12 19:52:10+00:00  \n",
       "201   1000000000000000000.00 2021-05-13 07:01:28+00:00  \n",
       "202 860000000000000000000.00 2021-05-13 13:25:10+00:00  \n",
       "203  10000000000000000000.00 2021-05-19 08:38:16+00:00  \n",
       "204 990000000000000000000.00 2021-05-23 08:51:04+00:00  \n",
       "205   1000000000000000000.00 2021-05-23 12:00:10+00:00  \n",
       "206   1000000000000000000.00 2021-05-13 07:24:46+00:00  \n",
       "207 860000000000000000000.00 2021-05-13 17:37:28+00:00  \n",
       "208 860000000000000000000.00 2021-05-13 14:17:04+00:00  \n",
       "209 860000000000000000000.00 2021-05-13 02:17:22+00:00  \n",
       "210 100000000000000000000.00 2021-05-12 15:46:10+00:00  \n",
       "211 860000000000000000000.00 2021-05-13 14:17:34+00:00  \n",
       "212 100000000000000000000.00 2021-05-12 18:52:52+00:00  \n",
       "306 100000000000000000000.00 2021-05-13 04:13:40+00:00  "
      ]
     },
     "execution_count": 46,
     "metadata": {},
     "output_type": "execute_result"
    }
   ],
   "source": [
    "tmp2 = global_indicators.df_envelopes[tmp !=1]\n",
    "tmp2"
   ]
  },
  {
   "cell_type": "markdown",
   "id": "341afe36-3d44-491d-be3a-673236ba040a",
   "metadata": {},
   "source": [
    "Processes with at least one vote with weight different than 1:"
   ]
  },
  {
   "cell_type": "code",
   "execution_count": 47,
   "id": "6c5ad20f-3a60-4afd-963c-6fb6b0caba47",
   "metadata": {
    "tags": []
   },
   "outputs": [
    {
     "data": {
      "text/html": [
       "<div>\n",
       "<style scoped>\n",
       "    .dataframe tbody tr th:only-of-type {\n",
       "        vertical-align: middle;\n",
       "    }\n",
       "\n",
       "    .dataframe tbody tr th {\n",
       "        vertical-align: top;\n",
       "    }\n",
       "\n",
       "    .dataframe thead th {\n",
       "        text-align: right;\n",
       "    }\n",
       "</style>\n",
       "<table border=\"1\" class=\"dataframe\">\n",
       "  <thead>\n",
       "    <tr style=\"text-align: right;\">\n",
       "      <th></th>\n",
       "      <th>_id</th>\n",
       "      <th>creationTime</th>\n",
       "      <th>endBlock</th>\n",
       "      <th>startBlock</th>\n",
       "      <th>entityId</th>\n",
       "      <th>processId</th>\n",
       "      <th>blocks</th>\n",
       "      <th>proccess_duration_d</th>\n",
       "      <th>creationTime_ts</th>\n",
       "      <th>endingTime_ts</th>\n",
       "      <th>votes_count</th>\n",
       "    </tr>\n",
       "  </thead>\n",
       "  <tbody>\n",
       "    <tr>\n",
       "      <th>2</th>\n",
       "      <td>60bd4b3804d7b5922c2e7626</td>\n",
       "      <td>2021-05-12T15:26:01Z</td>\n",
       "      <td>110178</td>\n",
       "      <td>40945</td>\n",
       "      <td>f0f8d83cdab2f9514bef0319f1b434267be36b5c</td>\n",
       "      <td>fe20607cf3f94060b3edc5d2ece161557d7359d10eb84f...</td>\n",
       "      <td>69233</td>\n",
       "      <td>4.81</td>\n",
       "      <td>2021-05-12 15:26:01+00:00</td>\n",
       "      <td>2021-05-17 10:49:19+00:00</td>\n",
       "      <td>1.00</td>\n",
       "    </tr>\n",
       "    <tr>\n",
       "      <th>3</th>\n",
       "      <td>60bd4b3804d7b5922c2e7627</td>\n",
       "      <td>2021-05-12T15:26:01Z</td>\n",
       "      <td>168676</td>\n",
       "      <td>43325</td>\n",
       "      <td>f0f8d83cdab2f9514bef0319f1b434267be36b5c</td>\n",
       "      <td>853f582a39dbb70c48468a1685fac0d9b901a3014a75eb...</td>\n",
       "      <td>125351</td>\n",
       "      <td>8.70</td>\n",
       "      <td>2021-05-12 15:26:01+00:00</td>\n",
       "      <td>2021-05-21 08:21:07+00:00</td>\n",
       "      <td>2.00</td>\n",
       "    </tr>\n",
       "    <tr>\n",
       "      <th>4</th>\n",
       "      <td>60bd4b3804d7b5922c2e7628</td>\n",
       "      <td>2021-05-12T15:26:01Z</td>\n",
       "      <td>71897</td>\n",
       "      <td>317</td>\n",
       "      <td>f0f8d83cdab2f9514bef0319f1b434267be36b5c</td>\n",
       "      <td>631ada2c7b2fc4d5cb2a6cb68d945565d1471956becf63...</td>\n",
       "      <td>71580</td>\n",
       "      <td>4.97</td>\n",
       "      <td>2021-05-12 15:26:01+00:00</td>\n",
       "      <td>2021-05-17 14:44:01+00:00</td>\n",
       "      <td>3.00</td>\n",
       "    </tr>\n",
       "    <tr>\n",
       "      <th>5</th>\n",
       "      <td>60bd4b3804d7b5922c2e7629</td>\n",
       "      <td>2021-05-12T15:31:01Z</td>\n",
       "      <td>61154</td>\n",
       "      <td>2686</td>\n",
       "      <td>f0f8d83cdab2f9514bef0319f1b434267be36b5c</td>\n",
       "      <td>a1c52ab1bbb81185d37ea5c80af2691e32b598a2a90393...</td>\n",
       "      <td>58468</td>\n",
       "      <td>4.06</td>\n",
       "      <td>2021-05-12 15:31:01+00:00</td>\n",
       "      <td>2021-05-16 16:57:49+00:00</td>\n",
       "      <td>2.00</td>\n",
       "    </tr>\n",
       "    <tr>\n",
       "      <th>6</th>\n",
       "      <td>60bd4b3804d7b5922c2e762a</td>\n",
       "      <td>2021-05-12T15:36:53Z</td>\n",
       "      <td>77860</td>\n",
       "      <td>2686</td>\n",
       "      <td>f0f8d83cdab2f9514bef0319f1b434267be36b5c</td>\n",
       "      <td>9a20ab76d743e2d787e8b11118a2ad7f6dc99c3faa0419...</td>\n",
       "      <td>75174</td>\n",
       "      <td>5.22</td>\n",
       "      <td>2021-05-12 15:36:53+00:00</td>\n",
       "      <td>2021-05-17 20:54:17+00:00</td>\n",
       "      <td>1.00</td>\n",
       "    </tr>\n",
       "    <tr>\n",
       "      <th>7</th>\n",
       "      <td>60bd4b3804d7b5922c2e762b</td>\n",
       "      <td>2021-05-12T15:40:41Z</td>\n",
       "      <td>127976</td>\n",
       "      <td>2686</td>\n",
       "      <td>f0f8d83cdab2f9514bef0319f1b434267be36b5c</td>\n",
       "      <td>c3e08a1c1e9bddd1100c1869185f7e9ae3cf215ce1db48...</td>\n",
       "      <td>125290</td>\n",
       "      <td>8.70</td>\n",
       "      <td>2021-05-12 15:40:41+00:00</td>\n",
       "      <td>2021-05-21 08:29:41+00:00</td>\n",
       "      <td>1.00</td>\n",
       "    </tr>\n",
       "    <tr>\n",
       "      <th>8</th>\n",
       "      <td>60bd4b3804d7b5922c2e762c</td>\n",
       "      <td>2021-05-12T15:48:16Z</td>\n",
       "      <td>307</td>\n",
       "      <td>225</td>\n",
       "      <td>5592ec0cfb4dbc12d3ab100b257153436a1f0fea</td>\n",
       "      <td>8dc72483bf19b9f778c871574fc14b294de65c1e2c5437...</td>\n",
       "      <td>82</td>\n",
       "      <td>0.01</td>\n",
       "      <td>2021-05-12 15:48:16+00:00</td>\n",
       "      <td>2021-05-12 15:56:28+00:00</td>\n",
       "      <td>1.00</td>\n",
       "    </tr>\n",
       "    <tr>\n",
       "      <th>9</th>\n",
       "      <td>60bd4b3804d7b5922c2e762d</td>\n",
       "      <td>2021-05-12T15:52:15Z</td>\n",
       "      <td>136328</td>\n",
       "      <td>2686</td>\n",
       "      <td>f0f8d83cdab2f9514bef0319f1b434267be36b5c</td>\n",
       "      <td>5bb213ec7c36bb6187fab7c5893c35c7b319850cf17c6a...</td>\n",
       "      <td>133642</td>\n",
       "      <td>9.28</td>\n",
       "      <td>2021-05-12 15:52:15+00:00</td>\n",
       "      <td>2021-05-21 22:36:27+00:00</td>\n",
       "      <td>1.00</td>\n",
       "    </tr>\n",
       "    <tr>\n",
       "      <th>10</th>\n",
       "      <td>60bd4b3804d7b5922c2e762e</td>\n",
       "      <td>2021-05-12T20:46:08Z</td>\n",
       "      <td>2115</td>\n",
       "      <td>1955</td>\n",
       "      <td>5592ec0cfb4dbc12d3ab100b257153436a1f0fea</td>\n",
       "      <td>6ce4a6de41baf8246c2b1affebf4d1c759bb6148abecf4...</td>\n",
       "      <td>160</td>\n",
       "      <td>0.01</td>\n",
       "      <td>2021-05-12 20:46:08+00:00</td>\n",
       "      <td>2021-05-12 21:02:08+00:00</td>\n",
       "      <td>1.00</td>\n",
       "    </tr>\n",
       "    <tr>\n",
       "      <th>18</th>\n",
       "      <td>60bd4b3804d7b5922c2e7636</td>\n",
       "      <td>2021-05-13T13:18:47Z</td>\n",
       "      <td>7759</td>\n",
       "      <td>7699</td>\n",
       "      <td>5592ec0cfb4dbc12d3ab100b257153436a1f0fea</td>\n",
       "      <td>5bb5b6c31f952d43fe0adadae15ef87461ed99ac30b29d...</td>\n",
       "      <td>60</td>\n",
       "      <td>0.00</td>\n",
       "      <td>2021-05-13 13:18:47+00:00</td>\n",
       "      <td>2021-05-13 13:24:47+00:00</td>\n",
       "      <td>1.00</td>\n",
       "    </tr>\n",
       "  </tbody>\n",
       "</table>\n",
       "</div>"
      ],
      "text/plain": [
       "                         _id          creationTime  endBlock  startBlock  \\\n",
       "2   60bd4b3804d7b5922c2e7626  2021-05-12T15:26:01Z    110178       40945   \n",
       "3   60bd4b3804d7b5922c2e7627  2021-05-12T15:26:01Z    168676       43325   \n",
       "4   60bd4b3804d7b5922c2e7628  2021-05-12T15:26:01Z     71897         317   \n",
       "5   60bd4b3804d7b5922c2e7629  2021-05-12T15:31:01Z     61154        2686   \n",
       "6   60bd4b3804d7b5922c2e762a  2021-05-12T15:36:53Z     77860        2686   \n",
       "7   60bd4b3804d7b5922c2e762b  2021-05-12T15:40:41Z    127976        2686   \n",
       "8   60bd4b3804d7b5922c2e762c  2021-05-12T15:48:16Z       307         225   \n",
       "9   60bd4b3804d7b5922c2e762d  2021-05-12T15:52:15Z    136328        2686   \n",
       "10  60bd4b3804d7b5922c2e762e  2021-05-12T20:46:08Z      2115        1955   \n",
       "18  60bd4b3804d7b5922c2e7636  2021-05-13T13:18:47Z      7759        7699   \n",
       "\n",
       "                                    entityId  \\\n",
       "2   f0f8d83cdab2f9514bef0319f1b434267be36b5c   \n",
       "3   f0f8d83cdab2f9514bef0319f1b434267be36b5c   \n",
       "4   f0f8d83cdab2f9514bef0319f1b434267be36b5c   \n",
       "5   f0f8d83cdab2f9514bef0319f1b434267be36b5c   \n",
       "6   f0f8d83cdab2f9514bef0319f1b434267be36b5c   \n",
       "7   f0f8d83cdab2f9514bef0319f1b434267be36b5c   \n",
       "8   5592ec0cfb4dbc12d3ab100b257153436a1f0fea   \n",
       "9   f0f8d83cdab2f9514bef0319f1b434267be36b5c   \n",
       "10  5592ec0cfb4dbc12d3ab100b257153436a1f0fea   \n",
       "18  5592ec0cfb4dbc12d3ab100b257153436a1f0fea   \n",
       "\n",
       "                                            processId  blocks  \\\n",
       "2   fe20607cf3f94060b3edc5d2ece161557d7359d10eb84f...   69233   \n",
       "3   853f582a39dbb70c48468a1685fac0d9b901a3014a75eb...  125351   \n",
       "4   631ada2c7b2fc4d5cb2a6cb68d945565d1471956becf63...   71580   \n",
       "5   a1c52ab1bbb81185d37ea5c80af2691e32b598a2a90393...   58468   \n",
       "6   9a20ab76d743e2d787e8b11118a2ad7f6dc99c3faa0419...   75174   \n",
       "7   c3e08a1c1e9bddd1100c1869185f7e9ae3cf215ce1db48...  125290   \n",
       "8   8dc72483bf19b9f778c871574fc14b294de65c1e2c5437...      82   \n",
       "9   5bb213ec7c36bb6187fab7c5893c35c7b319850cf17c6a...  133642   \n",
       "10  6ce4a6de41baf8246c2b1affebf4d1c759bb6148abecf4...     160   \n",
       "18  5bb5b6c31f952d43fe0adadae15ef87461ed99ac30b29d...      60   \n",
       "\n",
       "    proccess_duration_d           creationTime_ts             endingTime_ts  \\\n",
       "2                  4.81 2021-05-12 15:26:01+00:00 2021-05-17 10:49:19+00:00   \n",
       "3                  8.70 2021-05-12 15:26:01+00:00 2021-05-21 08:21:07+00:00   \n",
       "4                  4.97 2021-05-12 15:26:01+00:00 2021-05-17 14:44:01+00:00   \n",
       "5                  4.06 2021-05-12 15:31:01+00:00 2021-05-16 16:57:49+00:00   \n",
       "6                  5.22 2021-05-12 15:36:53+00:00 2021-05-17 20:54:17+00:00   \n",
       "7                  8.70 2021-05-12 15:40:41+00:00 2021-05-21 08:29:41+00:00   \n",
       "8                  0.01 2021-05-12 15:48:16+00:00 2021-05-12 15:56:28+00:00   \n",
       "9                  9.28 2021-05-12 15:52:15+00:00 2021-05-21 22:36:27+00:00   \n",
       "10                 0.01 2021-05-12 20:46:08+00:00 2021-05-12 21:02:08+00:00   \n",
       "18                 0.00 2021-05-13 13:18:47+00:00 2021-05-13 13:24:47+00:00   \n",
       "\n",
       "    votes_count  \n",
       "2          1.00  \n",
       "3          2.00  \n",
       "4          3.00  \n",
       "5          2.00  \n",
       "6          1.00  \n",
       "7          1.00  \n",
       "8          1.00  \n",
       "9          1.00  \n",
       "10         1.00  \n",
       "18         1.00  "
      ]
     },
     "execution_count": 47,
     "metadata": {},
     "output_type": "execute_result"
    }
   ],
   "source": [
    "global_indicators.df_processes[global_indicators.df_processes.processId.isin(tmp2.process_id)]"
   ]
  },
  {
   "cell_type": "markdown",
   "id": "7ebe9db1-5c65-4f13-af20-82ac76f52391",
   "metadata": {},
   "source": [
    "---"
   ]
  },
  {
   "cell_type": "markdown",
   "id": "0761d78c-6cb9-4edf-99c4-3a4e65073ab9",
   "metadata": {},
   "source": [
    "## Insights and further actions"
   ]
  },
  {
   "cell_type": "markdown",
   "id": "4d4557c5-8c6d-42cf-9619-a75d35330bff",
   "metadata": {},
   "source": [
    "We've seen a good growth regarding new `Entities` onboarding and `Processes` creation. However, most of them haven't started voting. It would be interesting to carry on activities to **incentivize participation.**\n",
    "\n",
    "There are outliers for almost every data analyzed, we will study the situation in detail so as to discard any data quality issues.\n",
    "\n",
    "We haven´t seen any other data pattern to consider as a risk or an alarm.\n",
    "\n",
    "### See you on next report! 😃"
   ]
  },
  {
   "cell_type": "code",
   "execution_count": 56,
   "id": "e714805c-9370-49e8-b793-be885003a797",
   "metadata": {},
   "outputs": [],
   "source": [
    "# jupyter nbconvert analysis.ipynb --no-input --to html"
   ]
  },
  {
   "cell_type": "code",
   "execution_count": null,
   "id": "b3aa8521-bea0-4e9f-b600-3fe5cefe7126",
   "metadata": {},
   "outputs": [],
   "source": []
  }
 ],
 "metadata": {
  "kernelspec": {
   "display_name": "vocdoni-env",
   "language": "python",
   "name": "vocdoni-env"
  },
  "language_info": {
   "codemirror_mode": {
    "name": "ipython",
    "version": 3
   },
   "file_extension": ".py",
   "mimetype": "text/x-python",
   "name": "python",
   "nbconvert_exporter": "python",
   "pygments_lexer": "ipython3",
   "version": "3.8.5"
  }
 },
 "nbformat": 4,
 "nbformat_minor": 5
}
