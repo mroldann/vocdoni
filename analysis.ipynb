{
 "cells": [
  {
   "cell_type": "markdown",
   "id": "0a5b2583-23de-403c-9a77-69fbafb0500f",
   "metadata": {},
   "source": [
    "# Aragon Association\n"
   ]
  },
  {
   "cell_type": "code",
   "execution_count": 10,
   "id": "d7fbeb54-0a72-4cfa-aa0e-2a364be3302b",
   "metadata": {
    "jupyter": {
     "source_hidden": true
    },
    "tags": []
   },
   "outputs": [
    {
     "data": {
      "text/html": [
       "<img src=\"https://assets.website-files.com/5e997428d0f2eb13a90aec8c/5ea0200074850783b428f55a_graph02.svg\"/>"
      ],
      "text/plain": [
       "<IPython.core.display.Image object>"
      ]
     },
     "execution_count": 10,
     "metadata": {},
     "output_type": "execute_result"
    }
   ],
   "source": [
    "from IPython.display import Image\n",
    "from IPython.core.display import HTML \n",
    "Image(url= \"https://assets.website-files.com/5e997428d0f2eb13a90aec8c/5ea0200074850783b428f55a_graph02.svg\")"
   ]
  },
  {
   "cell_type": "markdown",
   "id": "a6cec257-e5fa-4342-98e6-7de95fcef3ef",
   "metadata": {},
   "source": [
    "# Findings for the the Vochain community board"
   ]
  },
  {
   "cell_type": "code",
   "execution_count": 12,
   "id": "07d3ef11-783c-4db5-90fe-fc9ed98858bc",
   "metadata": {
    "jupyter": {
     "source_hidden": true
    },
    "tags": []
   },
   "outputs": [
    {
     "data": {
      "text/html": [
       "<img src=\"data:image/jpeg;base64,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\"/>"
      ],
      "text/plain": [
       "<IPython.core.display.Image object>"
      ]
     },
     "execution_count": 12,
     "metadata": {},
     "output_type": "execute_result"
    }
   ],
   "source": [
    "Image(url= \"data:image/jpeg;base64,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\")"
   ]
  },
  {
   "cell_type": "code",
   "execution_count": 11,
   "id": "1280d797-5475-4622-b101-3de7a8abb660",
   "metadata": {
    "tags": []
   },
   "outputs": [],
   "source": [
    "from _utils.voc_const import *\n",
    "from _const import *\n",
    "from datetime import timedelta\n",
    "import pandas as pd\n",
    "pd.set_option('display.max_rows', 500)\n",
    "pd.set_option('display.float_format', lambda x: '%.2f' % x)\n",
    "import plotly.express as px\n",
    "import plotly.io as pio\n",
    "import plotly.graph_objects as go\n",
    "pio.renderers.default = 'iframe_connected'\n",
    "\n",
    "from _utils._analysis import *\n",
    "from _utils._mongo import get_df_processes"
   ]
  },
  {
   "cell_type": "code",
   "execution_count": 4,
   "id": "b9874a37-dba7-4cd3-8078-46fc5b8981ef",
   "metadata": {
    "tags": []
   },
   "outputs": [],
   "source": [
    "df_processes = get_df_processes()"
   ]
  },
  {
   "cell_type": "markdown",
   "id": "82a65200-d69e-4d9d-8ab9-8664222a8b80",
   "metadata": {},
   "source": [
    "# General metrics\n",
    "Our general metrics for `entities`, `processes` and  `envelopes` are the following:"
   ]
  },
  {
   "cell_type": "code",
   "execution_count": null,
   "id": "71dafb59-4781-416a-8d04-f8c5a5363913",
   "metadata": {},
   "outputs": [],
   "source": []
  },
  {
   "cell_type": "markdown",
   "id": "7183b649-6a7c-4bf1-931e-65bfce887475",
   "metadata": {},
   "source": [
    "# Processes table (head and tail)"
   ]
  },
  {
   "cell_type": "code",
   "execution_count": 5,
   "id": "23271b99-cc3e-4374-aee8-e8c53c7269e9",
   "metadata": {
    "tags": []
   },
   "outputs": [
    {
     "data": {
      "text/html": [
       "<div>\n",
       "<style scoped>\n",
       "    .dataframe tbody tr th:only-of-type {\n",
       "        vertical-align: middle;\n",
       "    }\n",
       "\n",
       "    .dataframe tbody tr th {\n",
       "        vertical-align: top;\n",
       "    }\n",
       "\n",
       "    .dataframe thead th {\n",
       "        text-align: right;\n",
       "    }\n",
       "</style>\n",
       "<table border=\"1\" class=\"dataframe\">\n",
       "  <thead>\n",
       "    <tr style=\"text-align: right;\">\n",
       "      <th></th>\n",
       "      <th>_id</th>\n",
       "      <th>creationTime</th>\n",
       "      <th>endBlock</th>\n",
       "      <th>startBlock</th>\n",
       "      <th>entityId</th>\n",
       "      <th>processId</th>\n",
       "    </tr>\n",
       "  </thead>\n",
       "  <tbody>\n",
       "    <tr>\n",
       "      <th>0</th>\n",
       "      <td>60ba2296f805dbfa5ff64d26</td>\n",
       "      <td>2021-05-12T15:23:16Z</td>\n",
       "      <td>541</td>\n",
       "      <td>41</td>\n",
       "      <td>359e67ac4c5311cbd6571a20eaf6e879a466d154</td>\n",
       "      <td>53f31a0fb02a3ea7467e80ad250d43c935d3dc15924c40...</td>\n",
       "    </tr>\n",
       "    <tr>\n",
       "      <th>1</th>\n",
       "      <td>60ba2296f805dbfa5ff64d27</td>\n",
       "      <td>2021-05-12T15:26:01Z</td>\n",
       "      <td>71897</td>\n",
       "      <td>317</td>\n",
       "      <td>f0f8d83cdab2f9514bef0319f1b434267be36b5c</td>\n",
       "      <td>631ada2c7b2fc4d5cb2a6cb68d945565d1471956becf63...</td>\n",
       "    </tr>\n",
       "    <tr>\n",
       "      <th>2</th>\n",
       "      <td>60ba2296f805dbfa5ff64d28</td>\n",
       "      <td>2021-05-12T15:26:01Z</td>\n",
       "      <td>110178</td>\n",
       "      <td>40945</td>\n",
       "      <td>f0f8d83cdab2f9514bef0319f1b434267be36b5c</td>\n",
       "      <td>fe20607cf3f94060b3edc5d2ece161557d7359d10eb84f...</td>\n",
       "    </tr>\n",
       "    <tr>\n",
       "      <th>3</th>\n",
       "      <td>60ba2296f805dbfa5ff64d29</td>\n",
       "      <td>2021-05-12T15:26:01Z</td>\n",
       "      <td>110179</td>\n",
       "      <td>39553</td>\n",
       "      <td>f0f8d83cdab2f9514bef0319f1b434267be36b5c</td>\n",
       "      <td>bf022de42ef2d7a5f9d9b2737843dfc88cf93253966124...</td>\n",
       "    </tr>\n",
       "    <tr>\n",
       "      <th>4</th>\n",
       "      <td>60ba2296f805dbfa5ff64d2a</td>\n",
       "      <td>2021-05-12T15:26:01Z</td>\n",
       "      <td>168676</td>\n",
       "      <td>43325</td>\n",
       "      <td>f0f8d83cdab2f9514bef0319f1b434267be36b5c</td>\n",
       "      <td>853f582a39dbb70c48468a1685fac0d9b901a3014a75eb...</td>\n",
       "    </tr>\n",
       "  </tbody>\n",
       "</table>\n",
       "</div>"
      ],
      "text/plain": [
       "                        _id          creationTime  endBlock  startBlock  \\\n",
       "0  60ba2296f805dbfa5ff64d26  2021-05-12T15:23:16Z       541          41   \n",
       "1  60ba2296f805dbfa5ff64d27  2021-05-12T15:26:01Z     71897         317   \n",
       "2  60ba2296f805dbfa5ff64d28  2021-05-12T15:26:01Z    110178       40945   \n",
       "3  60ba2296f805dbfa5ff64d29  2021-05-12T15:26:01Z    110179       39553   \n",
       "4  60ba2296f805dbfa5ff64d2a  2021-05-12T15:26:01Z    168676       43325   \n",
       "\n",
       "                                   entityId  \\\n",
       "0  359e67ac4c5311cbd6571a20eaf6e879a466d154   \n",
       "1  f0f8d83cdab2f9514bef0319f1b434267be36b5c   \n",
       "2  f0f8d83cdab2f9514bef0319f1b434267be36b5c   \n",
       "3  f0f8d83cdab2f9514bef0319f1b434267be36b5c   \n",
       "4  f0f8d83cdab2f9514bef0319f1b434267be36b5c   \n",
       "\n",
       "                                           processId  \n",
       "0  53f31a0fb02a3ea7467e80ad250d43c935d3dc15924c40...  \n",
       "1  631ada2c7b2fc4d5cb2a6cb68d945565d1471956becf63...  \n",
       "2  fe20607cf3f94060b3edc5d2ece161557d7359d10eb84f...  \n",
       "3  bf022de42ef2d7a5f9d9b2737843dfc88cf93253966124...  \n",
       "4  853f582a39dbb70c48468a1685fac0d9b901a3014a75eb...  "
      ]
     },
     "execution_count": 5,
     "metadata": {},
     "output_type": "execute_result"
    }
   ],
   "source": [
    "df_processes.head()"
   ]
  },
  {
   "cell_type": "code",
   "execution_count": 6,
   "id": "4a5cfdd4-4cfc-4654-b817-8eb9ef09aaef",
   "metadata": {
    "jupyter": {
     "source_hidden": true
    },
    "tags": []
   },
   "outputs": [
    {
     "data": {
      "text/html": [
       "<div>\n",
       "<style scoped>\n",
       "    .dataframe tbody tr th:only-of-type {\n",
       "        vertical-align: middle;\n",
       "    }\n",
       "\n",
       "    .dataframe tbody tr th {\n",
       "        vertical-align: top;\n",
       "    }\n",
       "\n",
       "    .dataframe thead th {\n",
       "        text-align: right;\n",
       "    }\n",
       "</style>\n",
       "<table border=\"1\" class=\"dataframe\">\n",
       "  <thead>\n",
       "    <tr style=\"text-align: right;\">\n",
       "      <th></th>\n",
       "      <th>_id</th>\n",
       "      <th>creationTime</th>\n",
       "      <th>endBlock</th>\n",
       "      <th>startBlock</th>\n",
       "      <th>entityId</th>\n",
       "      <th>processId</th>\n",
       "    </tr>\n",
       "  </thead>\n",
       "  <tbody>\n",
       "    <tr>\n",
       "      <th>161</th>\n",
       "      <td>60ba2296f805dbfa5ff64dc7</td>\n",
       "      <td>2021-06-04T10:03:15Z</td>\n",
       "      <td>382342</td>\n",
       "      <td>189112</td>\n",
       "      <td>29dc4923fe62cbc28b94c2c075a6e68f040f7644</td>\n",
       "      <td>3ca3595a19db17534ddc2f787c2659e4a1e51777f9d2e0...</td>\n",
       "    </tr>\n",
       "    <tr>\n",
       "      <th>162</th>\n",
       "      <td>60ba2296f805dbfa5ff64dc8</td>\n",
       "      <td>2021-06-04T10:17:44Z</td>\n",
       "      <td>378427</td>\n",
       "      <td>189199</td>\n",
       "      <td>29dc4923fe62cbc28b94c2c075a6e68f040f7644</td>\n",
       "      <td>be5b63e10fcb61743800922adbfa4a5fe9043d3ab77f8d...</td>\n",
       "    </tr>\n",
       "    <tr>\n",
       "      <th>163</th>\n",
       "      <td>60ba2296f805dbfa5ff64dc9</td>\n",
       "      <td>2021-06-04T10:27:33Z</td>\n",
       "      <td>378549</td>\n",
       "      <td>189246</td>\n",
       "      <td>29dc4923fe62cbc28b94c2c075a6e68f040f7644</td>\n",
       "      <td>fa0004a660ace49eb25b137d92a726f9622b146df72b90...</td>\n",
       "    </tr>\n",
       "    <tr>\n",
       "      <th>164</th>\n",
       "      <td>60ba2296f805dbfa5ff64dca</td>\n",
       "      <td>2021-06-04T12:01:02Z</td>\n",
       "      <td>193231</td>\n",
       "      <td>190097</td>\n",
       "      <td>f0f8d83cdab2f9514bef0319f1b434267be36b5c</td>\n",
       "      <td>b9cdd244f0c0e697b67020e62ac6503bef8cd5c0d13b19...</td>\n",
       "    </tr>\n",
       "    <tr>\n",
       "      <th>165</th>\n",
       "      <td>60ba2296f805dbfa5ff64dcb</td>\n",
       "      <td>2021-06-04T12:10:21Z</td>\n",
       "      <td>209937</td>\n",
       "      <td>189828</td>\n",
       "      <td>f0f8d83cdab2f9514bef0319f1b434267be36b5c</td>\n",
       "      <td>8eab28581e693b0f94ad01284eb47d8a4035ae01f36d14...</td>\n",
       "    </tr>\n",
       "  </tbody>\n",
       "</table>\n",
       "</div>"
      ],
      "text/plain": [
       "                          _id          creationTime  endBlock  startBlock  \\\n",
       "161  60ba2296f805dbfa5ff64dc7  2021-06-04T10:03:15Z    382342      189112   \n",
       "162  60ba2296f805dbfa5ff64dc8  2021-06-04T10:17:44Z    378427      189199   \n",
       "163  60ba2296f805dbfa5ff64dc9  2021-06-04T10:27:33Z    378549      189246   \n",
       "164  60ba2296f805dbfa5ff64dca  2021-06-04T12:01:02Z    193231      190097   \n",
       "165  60ba2296f805dbfa5ff64dcb  2021-06-04T12:10:21Z    209937      189828   \n",
       "\n",
       "                                     entityId  \\\n",
       "161  29dc4923fe62cbc28b94c2c075a6e68f040f7644   \n",
       "162  29dc4923fe62cbc28b94c2c075a6e68f040f7644   \n",
       "163  29dc4923fe62cbc28b94c2c075a6e68f040f7644   \n",
       "164  f0f8d83cdab2f9514bef0319f1b434267be36b5c   \n",
       "165  f0f8d83cdab2f9514bef0319f1b434267be36b5c   \n",
       "\n",
       "                                             processId  \n",
       "161  3ca3595a19db17534ddc2f787c2659e4a1e51777f9d2e0...  \n",
       "162  be5b63e10fcb61743800922adbfa4a5fe9043d3ab77f8d...  \n",
       "163  fa0004a660ace49eb25b137d92a726f9622b146df72b90...  \n",
       "164  b9cdd244f0c0e697b67020e62ac6503bef8cd5c0d13b19...  \n",
       "165  8eab28581e693b0f94ad01284eb47d8a4035ae01f36d14...  "
      ]
     },
     "execution_count": 6,
     "metadata": {},
     "output_type": "execute_result"
    }
   ],
   "source": [
    "df_processes.tail()"
   ]
  },
  {
   "cell_type": "code",
   "execution_count": 8,
   "id": "f7353826-8fc9-484f-b91b-618b6dae8e1c",
   "metadata": {},
   "outputs": [
    {
     "name": "stdout",
     "output_type": "stream",
     "text": [
      "<class 'pandas.core.frame.DataFrame'>\n",
      "RangeIndex: 166 entries, 0 to 165\n",
      "Data columns (total 6 columns):\n",
      " #   Column        Non-Null Count  Dtype \n",
      "---  ------        --------------  ----- \n",
      " 0   _id           166 non-null    object\n",
      " 1   creationTime  166 non-null    object\n",
      " 2   endBlock      166 non-null    int64 \n",
      " 3   startBlock    166 non-null    int64 \n",
      " 4   entityId      166 non-null    object\n",
      " 5   processId     166 non-null    object\n",
      "dtypes: int64(2), object(4)\n",
      "memory usage: 7.9+ KB\n"
     ]
    }
   ],
   "source": [
    "df_processes.info()"
   ]
  },
  {
   "cell_type": "markdown",
   "id": "584c7030-301f-49a1-9b4e-efa9af959ad5",
   "metadata": {},
   "source": [
    "There are no null values, being `startBlock` and `endBlock` integer type."
   ]
  },
  {
   "cell_type": "markdown",
   "id": "52a14c89-bd4a-4b72-8cd1-f4402ec086fb",
   "metadata": {},
   "source": [
    "### Create blocks column\n",
    "So as to be able to calculate `proccess_duration`"
   ]
  },
  {
   "cell_type": "code",
   "execution_count": 9,
   "id": "2e084038-64de-468c-81db-9ae7747bab44",
   "metadata": {},
   "outputs": [],
   "source": [
    "df_processes, MIN_KNOWN_DATE = add_time_cols(df_processes, AVG_BLOCK_TIME_SECS)"
   ]
  },
  {
   "cell_type": "code",
   "execution_count": 10,
   "id": "c0c9b159-520d-45f4-885f-da4b0d87b5ca",
   "metadata": {},
   "outputs": [
    {
     "data": {
      "text/html": [
       "<div>\n",
       "<style scoped>\n",
       "    .dataframe tbody tr th:only-of-type {\n",
       "        vertical-align: middle;\n",
       "    }\n",
       "\n",
       "    .dataframe tbody tr th {\n",
       "        vertical-align: top;\n",
       "    }\n",
       "\n",
       "    .dataframe thead th {\n",
       "        text-align: right;\n",
       "    }\n",
       "</style>\n",
       "<table border=\"1\" class=\"dataframe\">\n",
       "  <thead>\n",
       "    <tr style=\"text-align: right;\">\n",
       "      <th></th>\n",
       "      <th>creationTime</th>\n",
       "      <th>endBlock</th>\n",
       "      <th>startBlock</th>\n",
       "      <th>entityId</th>\n",
       "      <th>processId</th>\n",
       "      <th>blocks</th>\n",
       "      <th>proccess_duration_d</th>\n",
       "      <th>creationTime_ts</th>\n",
       "      <th>endingTime_ts</th>\n",
       "    </tr>\n",
       "  </thead>\n",
       "  <tbody>\n",
       "    <tr>\n",
       "      <th>0</th>\n",
       "      <td>2021-05-12T15:23:16Z</td>\n",
       "      <td>541</td>\n",
       "      <td>41</td>\n",
       "      <td>359e67ac4c5311cbd6571a20eaf6e879a466d154</td>\n",
       "      <td>53f31a0fb02a3ea7467e80ad250d43c935d3dc15924c40...</td>\n",
       "      <td>500</td>\n",
       "      <td>0.03</td>\n",
       "      <td>2021-05-12 15:23:16+00:00</td>\n",
       "      <td>2021-05-12 16:13:16+00:00</td>\n",
       "    </tr>\n",
       "    <tr>\n",
       "      <th>1</th>\n",
       "      <td>2021-05-12T15:26:01Z</td>\n",
       "      <td>71897</td>\n",
       "      <td>317</td>\n",
       "      <td>f0f8d83cdab2f9514bef0319f1b434267be36b5c</td>\n",
       "      <td>631ada2c7b2fc4d5cb2a6cb68d945565d1471956becf63...</td>\n",
       "      <td>71580</td>\n",
       "      <td>4.97</td>\n",
       "      <td>2021-05-12 15:26:01+00:00</td>\n",
       "      <td>2021-05-17 14:44:01+00:00</td>\n",
       "    </tr>\n",
       "    <tr>\n",
       "      <th>2</th>\n",
       "      <td>2021-05-12T15:26:01Z</td>\n",
       "      <td>110178</td>\n",
       "      <td>40945</td>\n",
       "      <td>f0f8d83cdab2f9514bef0319f1b434267be36b5c</td>\n",
       "      <td>fe20607cf3f94060b3edc5d2ece161557d7359d10eb84f...</td>\n",
       "      <td>69233</td>\n",
       "      <td>4.81</td>\n",
       "      <td>2021-05-12 15:26:01+00:00</td>\n",
       "      <td>2021-05-17 10:49:19+00:00</td>\n",
       "    </tr>\n",
       "    <tr>\n",
       "      <th>3</th>\n",
       "      <td>2021-05-12T15:26:01Z</td>\n",
       "      <td>110179</td>\n",
       "      <td>39553</td>\n",
       "      <td>f0f8d83cdab2f9514bef0319f1b434267be36b5c</td>\n",
       "      <td>bf022de42ef2d7a5f9d9b2737843dfc88cf93253966124...</td>\n",
       "      <td>70626</td>\n",
       "      <td>4.90</td>\n",
       "      <td>2021-05-12 15:26:01+00:00</td>\n",
       "      <td>2021-05-17 13:08:37+00:00</td>\n",
       "    </tr>\n",
       "    <tr>\n",
       "      <th>4</th>\n",
       "      <td>2021-05-12T15:26:01Z</td>\n",
       "      <td>168676</td>\n",
       "      <td>43325</td>\n",
       "      <td>f0f8d83cdab2f9514bef0319f1b434267be36b5c</td>\n",
       "      <td>853f582a39dbb70c48468a1685fac0d9b901a3014a75eb...</td>\n",
       "      <td>125351</td>\n",
       "      <td>8.70</td>\n",
       "      <td>2021-05-12 15:26:01+00:00</td>\n",
       "      <td>2021-05-21 08:21:07+00:00</td>\n",
       "    </tr>\n",
       "  </tbody>\n",
       "</table>\n",
       "</div>"
      ],
      "text/plain": [
       "           creationTime  endBlock  startBlock  \\\n",
       "0  2021-05-12T15:23:16Z       541          41   \n",
       "1  2021-05-12T15:26:01Z     71897         317   \n",
       "2  2021-05-12T15:26:01Z    110178       40945   \n",
       "3  2021-05-12T15:26:01Z    110179       39553   \n",
       "4  2021-05-12T15:26:01Z    168676       43325   \n",
       "\n",
       "                                   entityId  \\\n",
       "0  359e67ac4c5311cbd6571a20eaf6e879a466d154   \n",
       "1  f0f8d83cdab2f9514bef0319f1b434267be36b5c   \n",
       "2  f0f8d83cdab2f9514bef0319f1b434267be36b5c   \n",
       "3  f0f8d83cdab2f9514bef0319f1b434267be36b5c   \n",
       "4  f0f8d83cdab2f9514bef0319f1b434267be36b5c   \n",
       "\n",
       "                                           processId  blocks  \\\n",
       "0  53f31a0fb02a3ea7467e80ad250d43c935d3dc15924c40...     500   \n",
       "1  631ada2c7b2fc4d5cb2a6cb68d945565d1471956becf63...   71580   \n",
       "2  fe20607cf3f94060b3edc5d2ece161557d7359d10eb84f...   69233   \n",
       "3  bf022de42ef2d7a5f9d9b2737843dfc88cf93253966124...   70626   \n",
       "4  853f582a39dbb70c48468a1685fac0d9b901a3014a75eb...  125351   \n",
       "\n",
       "   proccess_duration_d           creationTime_ts             endingTime_ts  \n",
       "0                 0.03 2021-05-12 15:23:16+00:00 2021-05-12 16:13:16+00:00  \n",
       "1                 4.97 2021-05-12 15:26:01+00:00 2021-05-17 14:44:01+00:00  \n",
       "2                 4.81 2021-05-12 15:26:01+00:00 2021-05-17 10:49:19+00:00  \n",
       "3                 4.90 2021-05-12 15:26:01+00:00 2021-05-17 13:08:37+00:00  \n",
       "4                 8.70 2021-05-12 15:26:01+00:00 2021-05-21 08:21:07+00:00  "
      ]
     },
     "execution_count": 10,
     "metadata": {},
     "output_type": "execute_result"
    }
   ],
   "source": [
    "df_processes.head()"
   ]
  },
  {
   "cell_type": "markdown",
   "id": "4087405b-0023-4a92-97fe-215382e4fc6b",
   "metadata": {},
   "source": [
    "### Process Duration\n",
    "Accoring to data, processes last X in mean and 50% last more or less than Y days.\n",
    "\n",
    "This distribution is skewed due to outliers.\n",
    "\n",
    "Max. duration is Z."
   ]
  },
  {
   "cell_type": "code",
   "execution_count": 11,
   "id": "4b9336d8-a33e-4e88-8690-a9dcfc69b95d",
   "metadata": {},
   "outputs": [
    {
     "data": {
      "text/plain": [
       "count   166.00\n",
       "mean      2.83\n",
       "std      11.47\n",
       "min       0.00\n",
       "25%       0.02\n",
       "50%       0.17\n",
       "75%       3.48\n",
       "max     141.56\n",
       "Name: proccess_duration_d, dtype: float64"
      ]
     },
     "execution_count": 11,
     "metadata": {},
     "output_type": "execute_result"
    }
   ],
   "source": [
    "df_processes[\"proccess_duration_d\"].describe()"
   ]
  },
  {
   "cell_type": "code",
   "execution_count": 12,
   "id": "b51b9856-903b-497a-a98a-7658e0215b71",
   "metadata": {},
   "outputs": [
    {
     "data": {
      "text/html": [
       "<iframe\n",
       "    scrolling=\"no\"\n",
       "    width=\"100%\"\n",
       "    height=\"545px\"\n",
       "    src=\"iframe_figures/figure_12.html\"\n",
       "    frameborder=\"0\"\n",
       "    allowfullscreen\n",
       "></iframe>\n"
      ]
     },
     "metadata": {},
     "output_type": "display_data"
    }
   ],
   "source": [
    "fig = px.box(df_processes, y=\"proccess_duration_d\")\n",
    "fig.update_layout(title_text=\"Processes duration in days boxplot\")\n",
    "fig.show()\n"
   ]
  },
  {
   "cell_type": "markdown",
   "id": "904ab777-0c28-4a8b-b09a-affe3dcb85ae",
   "metadata": {},
   "source": [
    "---"
   ]
  },
  {
   "cell_type": "code",
   "execution_count": 13,
   "id": "67d70899-e127-47b0-888b-39d2c7a3cf1c",
   "metadata": {},
   "outputs": [
    {
     "name": "stdout",
     "output_type": "stream",
     "text": [
      "508\n",
      "{'id': '123', 'response': {'envelopes': [{'height': 2689, 'nullifier': 'fc52b5504621d512bfe4dfae6b9c33e3cd6073f3bf17394bee3a7cb785c162cd', 'process_id': '631ada2c7b2fc4d5cb2a6cb68d945565d1471956becf6382b29cf1fe6037c1f6', 'tx_hash': '176ff53ce7ecd27bc05f8a936c431aea6314c76f6631ff9003dc98794149b53c', 'tx_index': 0}, {'height': 9382, 'nullifier': '9f0997008ee60e779740253dccaad176e228cbe0babe251a7bb60323a6f7db2c', 'process_id': '631ada2c7b2fc4d5cb2a6cb68d945565d1471956becf6382b29cf1fe6037c1f6', 'tx_hash': '61515a95736894445c3c92e7a2b45a3fa28454d76b405707ab6e8c831af4dd30', 'tx_index': 0}, {'height': 13219, 'nullifier': '64c50312ddf9dd53ca70f7cc549f3ddf83f26dabbb45f2c5cacf8771961af366', 'process_id': '631ada2c7b2fc4d5cb2a6cb68d945565d1471956becf6382b29cf1fe6037c1f6', 'tx_hash': '9e5ae0501ae06a782e5caf2894b8d5faf374970b1a7eaf711023f0564842b7b0', 'tx_index': 0}], 'ok': True, 'request': '123', 'timestamp': 1622834166}, 'signature': '00a070351f169d60622c1f32bba1682beda846a27c34aba206020c2f5db4958708178c9bd0ff64e40bfb102209c54daaa06392deaee3aa6de1bcb9b4964cb56600'}\n",
      "\n",
      "[{'height': 42, 'nullifier': '00c5a14b3aa62f810fd829e076fd8b46d52fe5a709a738c11af65e9b055bc443', 'process_id': '53f31a0fb02a3ea7467e80ad250d43c935d3dc15924c407852d56cf8afb4fcde'}, {'height': 42, 'nullifier': '012de59c7121f8f9d97edcfc43b7504c7e89a9312bc6ac4ce3c06ff825531811', 'process_id': '53f31a0fb02a3ea7467e80ad250d43c935d3dc15924c407852d56cf8afb4fcde'}, {'height': 42, 'nullifier': '01be3123076729594d89e457a46a7b3751b3fd25f1ef2916c824c95364c66c1c', 'process_id': '53f31a0fb02a3ea7467e80ad250d43c935d3dc15924c407852d56cf8afb4fcde'}]\n"
     ]
    }
   ],
   "source": [
    "if CACHE_ENVELOPES:\n",
    "    from data.rs import rs as envelopes\n",
    "    print(len(envelopes))\n",
    "    print(envelopes[4])\n",
    "    \n",
    "    ### Filter needed data from `envelopes`\n",
    "    check = []\n",
    "    envelopes_filtered = []\n",
    "    for e in envelopes:\n",
    "        r = e.get(\"response\", None)\n",
    "        _e = r.get(\"envelopes\", None)\n",
    "        if _e:\n",
    "            l = (len(_e))\n",
    "            for _d in _e:\n",
    "                new = {attr: _d[attr] for attr in ATTR.getEnvelopeList if attr in _d}\n",
    "                envelopes_filtered.append(new)\n",
    "            if l == 64:\n",
    "                check.append(new[\"process_id\"])\n",
    "                \n",
    "    print()\n",
    "    print(envelopes_filtered[:3])\n",
    "    df_envelopes = pd.DataFrame(envelopes_filtered)\n",
    "    ### Estimate timestamp for every envelope\n",
    "    df_envelopes[\"vote_ts\"] = (df_envelopes[\"height\"]  \n",
    "                           / AVG_BLOCK_TIME_SECS # seconds\n",
    "                           / 60 # minutes\n",
    "                           / 24 # days\n",
    "                          ).apply(lambda x: timedelta(days=x)) + MIN_KNOWN_DATE"
   ]
  },
  {
   "cell_type": "code",
   "execution_count": 14,
   "id": "9755f09c-599f-462d-863a-835fe46ce4bc",
   "metadata": {},
   "outputs": [
    {
     "data": {
      "text/plain": [
       "(30544, 4)"
      ]
     },
     "execution_count": 14,
     "metadata": {},
     "output_type": "execute_result"
    }
   ],
   "source": [
    "df_envelopes.shape"
   ]
  },
  {
   "cell_type": "code",
   "execution_count": 15,
   "id": "13c82aee-e0f8-4c49-b3d5-4b0c562a6cda",
   "metadata": {},
   "outputs": [
    {
     "data": {
      "text/html": [
       "<div>\n",
       "<style scoped>\n",
       "    .dataframe tbody tr th:only-of-type {\n",
       "        vertical-align: middle;\n",
       "    }\n",
       "\n",
       "    .dataframe tbody tr th {\n",
       "        vertical-align: top;\n",
       "    }\n",
       "\n",
       "    .dataframe thead th {\n",
       "        text-align: right;\n",
       "    }\n",
       "</style>\n",
       "<table border=\"1\" class=\"dataframe\">\n",
       "  <thead>\n",
       "    <tr style=\"text-align: right;\">\n",
       "      <th></th>\n",
       "      <th>height</th>\n",
       "      <th>nullifier</th>\n",
       "      <th>process_id</th>\n",
       "      <th>vote_ts</th>\n",
       "    </tr>\n",
       "  </thead>\n",
       "  <tbody>\n",
       "    <tr>\n",
       "      <th>0</th>\n",
       "      <td>42</td>\n",
       "      <td>00c5a14b3aa62f810fd829e076fd8b46d52fe5a709a738...</td>\n",
       "      <td>53f31a0fb02a3ea7467e80ad250d43c935d3dc15924c40...</td>\n",
       "      <td>2021-05-12 15:27:28+00:00</td>\n",
       "    </tr>\n",
       "    <tr>\n",
       "      <th>1</th>\n",
       "      <td>42</td>\n",
       "      <td>012de59c7121f8f9d97edcfc43b7504c7e89a9312bc6ac...</td>\n",
       "      <td>53f31a0fb02a3ea7467e80ad250d43c935d3dc15924c40...</td>\n",
       "      <td>2021-05-12 15:27:28+00:00</td>\n",
       "    </tr>\n",
       "    <tr>\n",
       "      <th>2</th>\n",
       "      <td>42</td>\n",
       "      <td>01be3123076729594d89e457a46a7b3751b3fd25f1ef29...</td>\n",
       "      <td>53f31a0fb02a3ea7467e80ad250d43c935d3dc15924c40...</td>\n",
       "      <td>2021-05-12 15:27:28+00:00</td>\n",
       "    </tr>\n",
       "    <tr>\n",
       "      <th>3</th>\n",
       "      <td>42</td>\n",
       "      <td>020a34edc52b6d5281580fea3857dfc8bce9a322984b15...</td>\n",
       "      <td>53f31a0fb02a3ea7467e80ad250d43c935d3dc15924c40...</td>\n",
       "      <td>2021-05-12 15:27:28+00:00</td>\n",
       "    </tr>\n",
       "    <tr>\n",
       "      <th>4</th>\n",
       "      <td>42</td>\n",
       "      <td>0234a78af57502e716ac6ca9616359f660cdf76b33febb...</td>\n",
       "      <td>53f31a0fb02a3ea7467e80ad250d43c935d3dc15924c40...</td>\n",
       "      <td>2021-05-12 15:27:28+00:00</td>\n",
       "    </tr>\n",
       "  </tbody>\n",
       "</table>\n",
       "</div>"
      ],
      "text/plain": [
       "   height                                          nullifier  \\\n",
       "0      42  00c5a14b3aa62f810fd829e076fd8b46d52fe5a709a738...   \n",
       "1      42  012de59c7121f8f9d97edcfc43b7504c7e89a9312bc6ac...   \n",
       "2      42  01be3123076729594d89e457a46a7b3751b3fd25f1ef29...   \n",
       "3      42  020a34edc52b6d5281580fea3857dfc8bce9a322984b15...   \n",
       "4      42  0234a78af57502e716ac6ca9616359f660cdf76b33febb...   \n",
       "\n",
       "                                          process_id                   vote_ts  \n",
       "0  53f31a0fb02a3ea7467e80ad250d43c935d3dc15924c40... 2021-05-12 15:27:28+00:00  \n",
       "1  53f31a0fb02a3ea7467e80ad250d43c935d3dc15924c40... 2021-05-12 15:27:28+00:00  \n",
       "2  53f31a0fb02a3ea7467e80ad250d43c935d3dc15924c40... 2021-05-12 15:27:28+00:00  \n",
       "3  53f31a0fb02a3ea7467e80ad250d43c935d3dc15924c40... 2021-05-12 15:27:28+00:00  \n",
       "4  53f31a0fb02a3ea7467e80ad250d43c935d3dc15924c40... 2021-05-12 15:27:28+00:00  "
      ]
     },
     "execution_count": 15,
     "metadata": {},
     "output_type": "execute_result"
    }
   ],
   "source": [
    "df_envelopes.head()"
   ]
  },
  {
   "cell_type": "code",
   "execution_count": 16,
   "id": "9fba532e-5f64-4521-8b49-d4a959c87107",
   "metadata": {},
   "outputs": [
    {
     "data": {
      "text/html": [
       "<div>\n",
       "<style scoped>\n",
       "    .dataframe tbody tr th:only-of-type {\n",
       "        vertical-align: middle;\n",
       "    }\n",
       "\n",
       "    .dataframe tbody tr th {\n",
       "        vertical-align: top;\n",
       "    }\n",
       "\n",
       "    .dataframe thead th {\n",
       "        text-align: right;\n",
       "    }\n",
       "</style>\n",
       "<table border=\"1\" class=\"dataframe\">\n",
       "  <thead>\n",
       "    <tr style=\"text-align: right;\">\n",
       "      <th></th>\n",
       "      <th>height</th>\n",
       "    </tr>\n",
       "  </thead>\n",
       "  <tbody>\n",
       "    <tr>\n",
       "      <th>8598</th>\n",
       "      <td>9552</td>\n",
       "    </tr>\n",
       "    <tr>\n",
       "      <th>8656</th>\n",
       "      <td>9216</td>\n",
       "    </tr>\n",
       "    <tr>\n",
       "      <th>8583</th>\n",
       "      <td>6592</td>\n",
       "    </tr>\n",
       "    <tr>\n",
       "      <th>8584</th>\n",
       "      <td>3233</td>\n",
       "    </tr>\n",
       "    <tr>\n",
       "      <th>8657</th>\n",
       "      <td>716</td>\n",
       "    </tr>\n",
       "    <tr>\n",
       "      <th>8832</th>\n",
       "      <td>329</td>\n",
       "    </tr>\n",
       "    <tr>\n",
       "      <th>8856</th>\n",
       "      <td>254</td>\n",
       "    </tr>\n",
       "    <tr>\n",
       "      <th>42</th>\n",
       "      <td>200</td>\n",
       "    </tr>\n",
       "    <tr>\n",
       "      <th>8833</th>\n",
       "      <td>171</td>\n",
       "    </tr>\n",
       "    <tr>\n",
       "      <th>9161</th>\n",
       "      <td>128</td>\n",
       "    </tr>\n",
       "  </tbody>\n",
       "</table>\n",
       "</div>"
      ],
      "text/plain": [
       "      height\n",
       "8598    9552\n",
       "8656    9216\n",
       "8583    6592\n",
       "8584    3233\n",
       "8657     716\n",
       "8832     329\n",
       "8856     254\n",
       "42       200\n",
       "8833     171\n",
       "9161     128"
      ]
     },
     "metadata": {},
     "output_type": "display_data"
    },
    {
     "name": "stdout",
     "output_type": "stream",
     "text": [
      "Unique values 39\n",
      "\n"
     ]
    },
    {
     "data": {
      "text/html": [
       "<div>\n",
       "<style scoped>\n",
       "    .dataframe tbody tr th:only-of-type {\n",
       "        vertical-align: middle;\n",
       "    }\n",
       "\n",
       "    .dataframe tbody tr th {\n",
       "        vertical-align: top;\n",
       "    }\n",
       "\n",
       "    .dataframe thead th {\n",
       "        text-align: right;\n",
       "    }\n",
       "</style>\n",
       "<table border=\"1\" class=\"dataframe\">\n",
       "  <thead>\n",
       "    <tr style=\"text-align: right;\">\n",
       "      <th></th>\n",
       "      <th>nullifier</th>\n",
       "    </tr>\n",
       "  </thead>\n",
       "  <tbody>\n",
       "    <tr>\n",
       "      <th>f03a6e176607e821bc95e887dc9abe65ae1511c3df55b4116e9aadf6d10d6ba3</th>\n",
       "      <td>1</td>\n",
       "    </tr>\n",
       "    <tr>\n",
       "      <th>69029b8b3bb675d5c9cdf6f3f9065ee4700c10ea75df3bda47adc5c399073776</th>\n",
       "      <td>1</td>\n",
       "    </tr>\n",
       "    <tr>\n",
       "      <th>4c2752edb6c164d03aa7495fbb0a31f40a300c6301af85f63d02a780d38d66a8</th>\n",
       "      <td>1</td>\n",
       "    </tr>\n",
       "    <tr>\n",
       "      <th>07518970c490928e263d00930b570ffd736d8b305d11ca7a3a9ed74c43e6bdeb</th>\n",
       "      <td>1</td>\n",
       "    </tr>\n",
       "    <tr>\n",
       "      <th>dc5a2ad019d9428a2987bda091e55c050f8829afe9035c3c4023658ec812fbe0</th>\n",
       "      <td>1</td>\n",
       "    </tr>\n",
       "    <tr>\n",
       "      <th>222702a54758e374bba780e57a08439eeb04f974843e3ff53c67224551f77dd8</th>\n",
       "      <td>1</td>\n",
       "    </tr>\n",
       "    <tr>\n",
       "      <th>d0a42e8cd7b3adf76f6e504afcafd996e22ef3f27b2e7a379f828291729d64e8</th>\n",
       "      <td>1</td>\n",
       "    </tr>\n",
       "    <tr>\n",
       "      <th>34c25b2bb600ea9a8f4b1715cdb896a202cfb93da83350de043d0d2f53d368bf</th>\n",
       "      <td>1</td>\n",
       "    </tr>\n",
       "    <tr>\n",
       "      <th>4f3128b541b91bdfd8023cd36d2f2a4607c1794881337328b0c71415be8bf9ee</th>\n",
       "      <td>1</td>\n",
       "    </tr>\n",
       "    <tr>\n",
       "      <th>118839510de483333d4adf72cf9f07588014ddf2ce0c397011f4228f32a79be3</th>\n",
       "      <td>1</td>\n",
       "    </tr>\n",
       "  </tbody>\n",
       "</table>\n",
       "</div>"
      ],
      "text/plain": [
       "                                                    nullifier\n",
       "f03a6e176607e821bc95e887dc9abe65ae1511c3df55b41...          1\n",
       "69029b8b3bb675d5c9cdf6f3f9065ee4700c10ea75df3bd...          1\n",
       "4c2752edb6c164d03aa7495fbb0a31f40a300c6301af85f...          1\n",
       "07518970c490928e263d00930b570ffd736d8b305d11ca7...          1\n",
       "dc5a2ad019d9428a2987bda091e55c050f8829afe9035c3...          1\n",
       "222702a54758e374bba780e57a08439eeb04f974843e3ff...          1\n",
       "d0a42e8cd7b3adf76f6e504afcafd996e22ef3f27b2e7a3...          1\n",
       "34c25b2bb600ea9a8f4b1715cdb896a202cfb93da83350d...          1\n",
       "4f3128b541b91bdfd8023cd36d2f2a4607c179488133732...          1\n",
       "118839510de483333d4adf72cf9f07588014ddf2ce0c397...          1"
      ]
     },
     "metadata": {},
     "output_type": "display_data"
    },
    {
     "name": "stdout",
     "output_type": "stream",
     "text": [
      "Unique values 30544\n",
      "\n"
     ]
    },
    {
     "data": {
      "text/html": [
       "<div>\n",
       "<style scoped>\n",
       "    .dataframe tbody tr th:only-of-type {\n",
       "        vertical-align: middle;\n",
       "    }\n",
       "\n",
       "    .dataframe tbody tr th {\n",
       "        vertical-align: top;\n",
       "    }\n",
       "\n",
       "    .dataframe thead th {\n",
       "        text-align: right;\n",
       "    }\n",
       "</style>\n",
       "<table border=\"1\" class=\"dataframe\">\n",
       "  <thead>\n",
       "    <tr style=\"text-align: right;\">\n",
       "      <th></th>\n",
       "      <th>process_id</th>\n",
       "    </tr>\n",
       "  </thead>\n",
       "  <tbody>\n",
       "    <tr>\n",
       "      <th>16ef4d7af7489d8fbe113e6dcb58e9aeb5deac49a83b9e1efee5770814eacaa8</th>\n",
       "      <td>9932</td>\n",
       "    </tr>\n",
       "    <tr>\n",
       "      <th>7bbe11efa4597621c26a8b3ea3fe5e3ae1cc457e3b17ea4b5ceb64fd07931199</th>\n",
       "      <td>9825</td>\n",
       "    </tr>\n",
       "    <tr>\n",
       "      <th>fbdf7c83153d889d1683ba3c286b2dc5025d1e75a20464acbd1f3b5098111212</th>\n",
       "      <td>9553</td>\n",
       "    </tr>\n",
       "    <tr>\n",
       "      <th>85f3a5394c7e186ab5172e7a1d1dfa7c5b7e707b06b31c8f36e10e9c670014d2</th>\n",
       "      <td>500</td>\n",
       "    </tr>\n",
       "    <tr>\n",
       "      <th>a5d79fbbd4054e40ebab3278647d7bab83afaecba7535fa2fec3eaad12d18af1</th>\n",
       "      <td>266</td>\n",
       "    </tr>\n",
       "    <tr>\n",
       "      <th>53f31a0fb02a3ea7467e80ad250d43c935d3dc15924c407852d56cf8afb4fcde</th>\n",
       "      <td>200</td>\n",
       "    </tr>\n",
       "    <tr>\n",
       "      <th>c74e2c141cfe5b961ea215f77f788af2c9478d63b065361fbb23114a53295f6d</th>\n",
       "      <td>128</td>\n",
       "    </tr>\n",
       "    <tr>\n",
       "      <th>fb7bd01987e1d8bb0ad5eb8b65e26fcbdd56787f33bc9ba98e3f9b5a21afebe2</th>\n",
       "      <td>50</td>\n",
       "    </tr>\n",
       "    <tr>\n",
       "      <th>35fb0d73a5092a143a9c628f5f43b10b226cb3f48721a11df5e03e08229b3e7b</th>\n",
       "      <td>20</td>\n",
       "    </tr>\n",
       "    <tr>\n",
       "      <th>f3f42e1db4a38c78956fd5284c488f0ddca6f2996ae279e17b75abefc14f0f53</th>\n",
       "      <td>20</td>\n",
       "    </tr>\n",
       "  </tbody>\n",
       "</table>\n",
       "</div>"
      ],
      "text/plain": [
       "                                                    process_id\n",
       "16ef4d7af7489d8fbe113e6dcb58e9aeb5deac49a83b9e1...        9932\n",
       "7bbe11efa4597621c26a8b3ea3fe5e3ae1cc457e3b17ea4...        9825\n",
       "fbdf7c83153d889d1683ba3c286b2dc5025d1e75a20464a...        9553\n",
       "85f3a5394c7e186ab5172e7a1d1dfa7c5b7e707b06b31c8...         500\n",
       "a5d79fbbd4054e40ebab3278647d7bab83afaecba7535fa...         266\n",
       "53f31a0fb02a3ea7467e80ad250d43c935d3dc15924c407...         200\n",
       "c74e2c141cfe5b961ea215f77f788af2c9478d63b065361...         128\n",
       "fb7bd01987e1d8bb0ad5eb8b65e26fcbdd56787f33bc9ba...          50\n",
       "35fb0d73a5092a143a9c628f5f43b10b226cb3f48721a11...          20\n",
       "f3f42e1db4a38c78956fd5284c488f0ddca6f2996ae279e...          20"
      ]
     },
     "metadata": {},
     "output_type": "display_data"
    },
    {
     "name": "stdout",
     "output_type": "stream",
     "text": [
      "Unique values 26\n",
      "\n"
     ]
    },
    {
     "data": {
      "text/html": [
       "<div>\n",
       "<style scoped>\n",
       "    .dataframe tbody tr th:only-of-type {\n",
       "        vertical-align: middle;\n",
       "    }\n",
       "\n",
       "    .dataframe tbody tr th {\n",
       "        vertical-align: top;\n",
       "    }\n",
       "\n",
       "    .dataframe thead th {\n",
       "        text-align: right;\n",
       "    }\n",
       "</style>\n",
       "<table border=\"1\" class=\"dataframe\">\n",
       "  <thead>\n",
       "    <tr style=\"text-align: right;\">\n",
       "      <th></th>\n",
       "      <th>vote_ts</th>\n",
       "    </tr>\n",
       "  </thead>\n",
       "  <tbody>\n",
       "    <tr>\n",
       "      <th>2021-05-13 05:43:04+00:00</th>\n",
       "      <td>9552</td>\n",
       "    </tr>\n",
       "    <tr>\n",
       "      <th>2021-05-13 05:48:52+00:00</th>\n",
       "      <td>9216</td>\n",
       "    </tr>\n",
       "    <tr>\n",
       "      <th>2021-05-13 05:41:34+00:00</th>\n",
       "      <td>6592</td>\n",
       "    </tr>\n",
       "    <tr>\n",
       "      <th>2021-05-13 05:41:40+00:00</th>\n",
       "      <td>3233</td>\n",
       "    </tr>\n",
       "    <tr>\n",
       "      <th>2021-05-13 05:48:58+00:00</th>\n",
       "      <td>716</td>\n",
       "    </tr>\n",
       "    <tr>\n",
       "      <th>2021-05-13 06:06:28+00:00</th>\n",
       "      <td>329</td>\n",
       "    </tr>\n",
       "    <tr>\n",
       "      <th>2021-05-13 06:08:52+00:00</th>\n",
       "      <td>254</td>\n",
       "    </tr>\n",
       "    <tr>\n",
       "      <th>2021-05-12 15:27:28+00:00</th>\n",
       "      <td>200</td>\n",
       "    </tr>\n",
       "    <tr>\n",
       "      <th>2021-05-13 06:06:34+00:00</th>\n",
       "      <td>171</td>\n",
       "    </tr>\n",
       "    <tr>\n",
       "      <th>2021-05-13 06:39:22+00:00</th>\n",
       "      <td>128</td>\n",
       "    </tr>\n",
       "  </tbody>\n",
       "</table>\n",
       "</div>"
      ],
      "text/plain": [
       "                           vote_ts\n",
       "2021-05-13 05:43:04+00:00     9552\n",
       "2021-05-13 05:48:52+00:00     9216\n",
       "2021-05-13 05:41:34+00:00     6592\n",
       "2021-05-13 05:41:40+00:00     3233\n",
       "2021-05-13 05:48:58+00:00      716\n",
       "2021-05-13 06:06:28+00:00      329\n",
       "2021-05-13 06:08:52+00:00      254\n",
       "2021-05-12 15:27:28+00:00      200\n",
       "2021-05-13 06:06:34+00:00      171\n",
       "2021-05-13 06:39:22+00:00      128"
      ]
     },
     "metadata": {},
     "output_type": "display_data"
    },
    {
     "name": "stdout",
     "output_type": "stream",
     "text": [
      "Unique values 39\n",
      "\n"
     ]
    }
   ],
   "source": [
    "for col in df_envelopes.columns:\n",
    "    tmp_col = df_envelopes[col]\n",
    "    display(tmp_col.value_counts().head(10).to_frame())\n",
    "    print(\"Unique values\", len(tmp_col.unique()))\n",
    "    print()"
   ]
  },
  {
   "cell_type": "code",
   "execution_count": 17,
   "id": "104238c9-9403-482e-94f9-17d231c1de23",
   "metadata": {},
   "outputs": [
    {
     "data": {
      "text/html": [
       "<div>\n",
       "<style scoped>\n",
       "    .dataframe tbody tr th:only-of-type {\n",
       "        vertical-align: middle;\n",
       "    }\n",
       "\n",
       "    .dataframe tbody tr th {\n",
       "        vertical-align: top;\n",
       "    }\n",
       "\n",
       "    .dataframe thead th {\n",
       "        text-align: right;\n",
       "    }\n",
       "</style>\n",
       "<table border=\"1\" class=\"dataframe\">\n",
       "  <thead>\n",
       "    <tr style=\"text-align: right;\">\n",
       "      <th></th>\n",
       "      <th>nullifier</th>\n",
       "    </tr>\n",
       "    <tr>\n",
       "      <th>process_id</th>\n",
       "      <th></th>\n",
       "    </tr>\n",
       "  </thead>\n",
       "  <tbody>\n",
       "    <tr>\n",
       "      <th>16ef4d7af7489d8fbe113e6dcb58e9aeb5deac49a83b9e1efee5770814eacaa8</th>\n",
       "      <td>9932</td>\n",
       "    </tr>\n",
       "    <tr>\n",
       "      <th>7bbe11efa4597621c26a8b3ea3fe5e3ae1cc457e3b17ea4b5ceb64fd07931199</th>\n",
       "      <td>9825</td>\n",
       "    </tr>\n",
       "    <tr>\n",
       "      <th>fbdf7c83153d889d1683ba3c286b2dc5025d1e75a20464acbd1f3b5098111212</th>\n",
       "      <td>9553</td>\n",
       "    </tr>\n",
       "    <tr>\n",
       "      <th>85f3a5394c7e186ab5172e7a1d1dfa7c5b7e707b06b31c8f36e10e9c670014d2</th>\n",
       "      <td>500</td>\n",
       "    </tr>\n",
       "    <tr>\n",
       "      <th>a5d79fbbd4054e40ebab3278647d7bab83afaecba7535fa2fec3eaad12d18af1</th>\n",
       "      <td>266</td>\n",
       "    </tr>\n",
       "    <tr>\n",
       "      <th>53f31a0fb02a3ea7467e80ad250d43c935d3dc15924c407852d56cf8afb4fcde</th>\n",
       "      <td>200</td>\n",
       "    </tr>\n",
       "    <tr>\n",
       "      <th>c74e2c141cfe5b961ea215f77f788af2c9478d63b065361fbb23114a53295f6d</th>\n",
       "      <td>128</td>\n",
       "    </tr>\n",
       "    <tr>\n",
       "      <th>fb7bd01987e1d8bb0ad5eb8b65e26fcbdd56787f33bc9ba98e3f9b5a21afebe2</th>\n",
       "      <td>50</td>\n",
       "    </tr>\n",
       "    <tr>\n",
       "      <th>35fb0d73a5092a143a9c628f5f43b10b226cb3f48721a11df5e03e08229b3e7b</th>\n",
       "      <td>20</td>\n",
       "    </tr>\n",
       "    <tr>\n",
       "      <th>48dd26ca7371e65b3e9e21f9b51a5bcc82c63883b1d144b941a5aa6df2cd559d</th>\n",
       "      <td>20</td>\n",
       "    </tr>\n",
       "    <tr>\n",
       "      <th>f3f42e1db4a38c78956fd5284c488f0ddca6f2996ae279e17b75abefc14f0f53</th>\n",
       "      <td>20</td>\n",
       "    </tr>\n",
       "    <tr>\n",
       "      <th>60ffb0579efe26c8ac68f6b15fc7467846db9b5770ba72fae706cede9683ad69</th>\n",
       "      <td>10</td>\n",
       "    </tr>\n",
       "    <tr>\n",
       "      <th>631ada2c7b2fc4d5cb2a6cb68d945565d1471956becf6382b29cf1fe6037c1f6</th>\n",
       "      <td>3</td>\n",
       "    </tr>\n",
       "    <tr>\n",
       "      <th>2f976d5cbc12cadd99dc8c57a0876adae3d3d2d361a556a048ba48f73e299138</th>\n",
       "      <td>3</td>\n",
       "    </tr>\n",
       "    <tr>\n",
       "      <th>a1c52ab1bbb81185d37ea5c80af2691e32b598a2a9039380ead025a81a87bcb5</th>\n",
       "      <td>2</td>\n",
       "    </tr>\n",
       "    <tr>\n",
       "      <th>853f582a39dbb70c48468a1685fac0d9b901a3014a75eb25c006735fd62c27ad</th>\n",
       "      <td>2</td>\n",
       "    </tr>\n",
       "    <tr>\n",
       "      <th>9a20ab76d743e2d787e8b11118a2ad7f6dc99c3faa0419953f08b57ac2bdb772</th>\n",
       "      <td>1</td>\n",
       "    </tr>\n",
       "    <tr>\n",
       "      <th>8dc72483bf19b9f778c871574fc14b294de65c1e2c5437c2b9223f43f650dad0</th>\n",
       "      <td>1</td>\n",
       "    </tr>\n",
       "    <tr>\n",
       "      <th>78364fdd52145ea9ba6ab6d593303627b5dea9867d1500949ac4cf8effe0b80d</th>\n",
       "      <td>1</td>\n",
       "    </tr>\n",
       "    <tr>\n",
       "      <th>c18cd531c2f3c1d9cbada0d23eb36b424e11c4665caeada544b0b5a8b83a3fda</th>\n",
       "      <td>1</td>\n",
       "    </tr>\n",
       "  </tbody>\n",
       "</table>\n",
       "</div>"
      ],
      "text/plain": [
       "                                                    nullifier\n",
       "process_id                                                   \n",
       "16ef4d7af7489d8fbe113e6dcb58e9aeb5deac49a83b9e1...       9932\n",
       "7bbe11efa4597621c26a8b3ea3fe5e3ae1cc457e3b17ea4...       9825\n",
       "fbdf7c83153d889d1683ba3c286b2dc5025d1e75a20464a...       9553\n",
       "85f3a5394c7e186ab5172e7a1d1dfa7c5b7e707b06b31c8...        500\n",
       "a5d79fbbd4054e40ebab3278647d7bab83afaecba7535fa...        266\n",
       "53f31a0fb02a3ea7467e80ad250d43c935d3dc15924c407...        200\n",
       "c74e2c141cfe5b961ea215f77f788af2c9478d63b065361...        128\n",
       "fb7bd01987e1d8bb0ad5eb8b65e26fcbdd56787f33bc9ba...         50\n",
       "35fb0d73a5092a143a9c628f5f43b10b226cb3f48721a11...         20\n",
       "48dd26ca7371e65b3e9e21f9b51a5bcc82c63883b1d144b...         20\n",
       "f3f42e1db4a38c78956fd5284c488f0ddca6f2996ae279e...         20\n",
       "60ffb0579efe26c8ac68f6b15fc7467846db9b5770ba72f...         10\n",
       "631ada2c7b2fc4d5cb2a6cb68d945565d1471956becf638...          3\n",
       "2f976d5cbc12cadd99dc8c57a0876adae3d3d2d361a556a...          3\n",
       "a1c52ab1bbb81185d37ea5c80af2691e32b598a2a903938...          2\n",
       "853f582a39dbb70c48468a1685fac0d9b901a3014a75eb2...          2\n",
       "9a20ab76d743e2d787e8b11118a2ad7f6dc99c3faa04199...          1\n",
       "8dc72483bf19b9f778c871574fc14b294de65c1e2c5437c...          1\n",
       "78364fdd52145ea9ba6ab6d593303627b5dea9867d15009...          1\n",
       "c18cd531c2f3c1d9cbada0d23eb36b424e11c4665caeada...          1"
      ]
     },
     "metadata": {},
     "output_type": "display_data"
    }
   ],
   "source": [
    "df_tmp = (df_envelopes\n",
    "        .groupby(\"process_id\")[\"nullifier\"]\n",
    "        .count()\n",
    "        .sort_values(ascending=False)\n",
    "        .to_frame()\n",
    "        )\n",
    "display(df_tmp.head(20))"
   ]
  },
  {
   "cell_type": "code",
   "execution_count": 18,
   "id": "dc803636-7477-440b-bf2d-d2e35ded719b",
   "metadata": {},
   "outputs": [
    {
     "data": {
      "text/html": [
       "<div>\n",
       "<style scoped>\n",
       "    .dataframe tbody tr th:only-of-type {\n",
       "        vertical-align: middle;\n",
       "    }\n",
       "\n",
       "    .dataframe tbody tr th {\n",
       "        vertical-align: top;\n",
       "    }\n",
       "\n",
       "    .dataframe thead th {\n",
       "        text-align: right;\n",
       "    }\n",
       "</style>\n",
       "<table border=\"1\" class=\"dataframe\">\n",
       "  <thead>\n",
       "    <tr style=\"text-align: right;\">\n",
       "      <th></th>\n",
       "      <th>height</th>\n",
       "      <th>nullifier</th>\n",
       "      <th>process_id</th>\n",
       "      <th>vote_ts</th>\n",
       "    </tr>\n",
       "  </thead>\n",
       "  <tbody>\n",
       "    <tr>\n",
       "      <th>0</th>\n",
       "      <td>42</td>\n",
       "      <td>00c5a14b3aa62f810fd829e076fd8b46d52fe5a709a738...</td>\n",
       "      <td>53f31a0fb02a3ea7467e80ad250d43c935d3dc15924c40...</td>\n",
       "      <td>2021-05-12 15:27:28+00:00</td>\n",
       "    </tr>\n",
       "    <tr>\n",
       "      <th>1</th>\n",
       "      <td>42</td>\n",
       "      <td>012de59c7121f8f9d97edcfc43b7504c7e89a9312bc6ac...</td>\n",
       "      <td>53f31a0fb02a3ea7467e80ad250d43c935d3dc15924c40...</td>\n",
       "      <td>2021-05-12 15:27:28+00:00</td>\n",
       "    </tr>\n",
       "    <tr>\n",
       "      <th>2</th>\n",
       "      <td>42</td>\n",
       "      <td>01be3123076729594d89e457a46a7b3751b3fd25f1ef29...</td>\n",
       "      <td>53f31a0fb02a3ea7467e80ad250d43c935d3dc15924c40...</td>\n",
       "      <td>2021-05-12 15:27:28+00:00</td>\n",
       "    </tr>\n",
       "    <tr>\n",
       "      <th>3</th>\n",
       "      <td>42</td>\n",
       "      <td>020a34edc52b6d5281580fea3857dfc8bce9a322984b15...</td>\n",
       "      <td>53f31a0fb02a3ea7467e80ad250d43c935d3dc15924c40...</td>\n",
       "      <td>2021-05-12 15:27:28+00:00</td>\n",
       "    </tr>\n",
       "    <tr>\n",
       "      <th>4</th>\n",
       "      <td>42</td>\n",
       "      <td>0234a78af57502e716ac6ca9616359f660cdf76b33febb...</td>\n",
       "      <td>53f31a0fb02a3ea7467e80ad250d43c935d3dc15924c40...</td>\n",
       "      <td>2021-05-12 15:27:28+00:00</td>\n",
       "    </tr>\n",
       "  </tbody>\n",
       "</table>\n",
       "</div>"
      ],
      "text/plain": [
       "   height                                          nullifier  \\\n",
       "0      42  00c5a14b3aa62f810fd829e076fd8b46d52fe5a709a738...   \n",
       "1      42  012de59c7121f8f9d97edcfc43b7504c7e89a9312bc6ac...   \n",
       "2      42  01be3123076729594d89e457a46a7b3751b3fd25f1ef29...   \n",
       "3      42  020a34edc52b6d5281580fea3857dfc8bce9a322984b15...   \n",
       "4      42  0234a78af57502e716ac6ca9616359f660cdf76b33febb...   \n",
       "\n",
       "                                          process_id                   vote_ts  \n",
       "0  53f31a0fb02a3ea7467e80ad250d43c935d3dc15924c40... 2021-05-12 15:27:28+00:00  \n",
       "1  53f31a0fb02a3ea7467e80ad250d43c935d3dc15924c40... 2021-05-12 15:27:28+00:00  \n",
       "2  53f31a0fb02a3ea7467e80ad250d43c935d3dc15924c40... 2021-05-12 15:27:28+00:00  \n",
       "3  53f31a0fb02a3ea7467e80ad250d43c935d3dc15924c40... 2021-05-12 15:27:28+00:00  \n",
       "4  53f31a0fb02a3ea7467e80ad250d43c935d3dc15924c40... 2021-05-12 15:27:28+00:00  "
      ]
     },
     "execution_count": 18,
     "metadata": {},
     "output_type": "execute_result"
    }
   ],
   "source": [
    "df_envelopes.head()"
   ]
  },
  {
   "cell_type": "code",
   "execution_count": 19,
   "id": "d9307166-2015-4a5f-b535-ce23b394b5a4",
   "metadata": {},
   "outputs": [],
   "source": [
    "votes_dict = {process_id : vote_count[0] for process_id, vote_count in df_tmp.iterrows()}"
   ]
  },
  {
   "cell_type": "code",
   "execution_count": 20,
   "id": "7e826c12-55aa-4d25-93e9-2f7279ae1256",
   "metadata": {},
   "outputs": [],
   "source": [
    "votes_ts_dict = {row[0] : row[1] for index, row in df_envelopes[[\"process_id\", \"vote_ts\"]].iterrows()}"
   ]
  },
  {
   "cell_type": "code",
   "execution_count": 21,
   "id": "64d55b11-7986-4433-bce3-7d38a5a59590",
   "metadata": {},
   "outputs": [],
   "source": [
    "df_processes[\"votes_count\"] = df_processes[\"processId\"].apply(lambda x: votes_dict.get(x, 0)).astype(\"float\")"
   ]
  },
  {
   "cell_type": "code",
   "execution_count": 22,
   "id": "8cc9481d-2e6d-4b24-9f3b-8b5a14056492",
   "metadata": {},
   "outputs": [
    {
     "data": {
      "text/plain": [
       "count    166.00\n",
       "mean     184.00\n",
       "std     1305.46\n",
       "min        0.00\n",
       "25%        0.00\n",
       "50%        0.00\n",
       "75%        0.00\n",
       "max     9932.00\n",
       "Name: votes_count, dtype: float64"
      ]
     },
     "execution_count": 22,
     "metadata": {},
     "output_type": "execute_result"
    }
   ],
   "source": [
    "df_processes[\"votes_count\"].describe()"
   ]
  },
  {
   "cell_type": "code",
   "execution_count": 23,
   "id": "e73ac4a6-8fc9-4038-a1f7-4f760102a2e7",
   "metadata": {},
   "outputs": [
    {
     "data": {
      "text/plain": [
       "140"
      ]
     },
     "execution_count": 23,
     "metadata": {},
     "output_type": "execute_result"
    }
   ],
   "source": [
    "(df_processes[\"votes_count\"]==0).sum()"
   ]
  },
  {
   "cell_type": "code",
   "execution_count": 24,
   "id": "21ce161b-4f7d-4528-a74c-ae0a58a3ff62",
   "metadata": {},
   "outputs": [
    {
     "data": {
      "text/plain": [
       "0.00       140\n",
       "1.00        10\n",
       "20.00        3\n",
       "2.00         2\n",
       "3.00         2\n",
       "9932.00      1\n",
       "50.00        1\n",
       "266.00       1\n",
       "500.00       1\n",
       "200.00       1\n",
       "9825.00      1\n",
       "10.00        1\n",
       "9553.00      1\n",
       "128.00       1\n",
       "Name: votes_count, dtype: int64"
      ]
     },
     "execution_count": 24,
     "metadata": {},
     "output_type": "execute_result"
    }
   ],
   "source": [
    "df_processes[\"votes_count\"].value_counts()"
   ]
  },
  {
   "cell_type": "code",
   "execution_count": 25,
   "id": "f3630e5f-30e0-456a-827a-a87942fe5f31",
   "metadata": {},
   "outputs": [
    {
     "name": "stdout",
     "output_type": "stream",
     "text": [
      "<class 'pandas.core.frame.DataFrame'>\n",
      "RangeIndex: 166 entries, 0 to 165\n",
      "Data columns (total 10 columns):\n",
      " #   Column               Non-Null Count  Dtype              \n",
      "---  ------               --------------  -----              \n",
      " 0   creationTime         166 non-null    object             \n",
      " 1   endBlock             166 non-null    int64              \n",
      " 2   startBlock           166 non-null    int64              \n",
      " 3   entityId             166 non-null    object             \n",
      " 4   processId            166 non-null    object             \n",
      " 5   blocks               166 non-null    int64              \n",
      " 6   proccess_duration_d  166 non-null    float64            \n",
      " 7   creationTime_ts      166 non-null    datetime64[ns, UTC]\n",
      " 8   endingTime_ts        166 non-null    datetime64[ns, UTC]\n",
      " 9   votes_count          166 non-null    float64            \n",
      "dtypes: datetime64[ns, UTC](2), float64(2), int64(3), object(3)\n",
      "memory usage: 13.1+ KB\n"
     ]
    }
   ],
   "source": [
    "df_processes.info()"
   ]
  },
  {
   "cell_type": "code",
   "execution_count": 26,
   "id": "26d45b09-aff4-4033-b96c-6ba4453873d1",
   "metadata": {},
   "outputs": [],
   "source": [
    "df_processes_zero_votes = df_processes[df_processes[\"votes_count\"].eq(0)]\n",
    "df_processes_non_zero_votes = df_processes[~df_processes[\"votes_count\"].eq(0)]"
   ]
  },
  {
   "cell_type": "code",
   "execution_count": 32,
   "id": "1d27c70f-1f7a-47c8-9d4d-8f2b7fa18ba3",
   "metadata": {},
   "outputs": [
    {
     "data": {
      "text/html": [
       "<iframe\n",
       "    scrolling=\"no\"\n",
       "    width=\"920px\"\n",
       "    height=\"720\"\n",
       "    src=\"iframe_figures/figure_32.html\"\n",
       "    frameborder=\"0\"\n",
       "    allowfullscreen\n",
       "></iframe>\n"
      ]
     },
     "metadata": {},
     "output_type": "display_data"
    }
   ],
   "source": [
    "scatter_duration_votes(df_processes)"
   ]
  },
  {
   "cell_type": "code",
   "execution_count": 33,
   "id": "5b3018ab-95be-44b5-a5c2-870cf6886598",
   "metadata": {},
   "outputs": [
    {
     "data": {
      "text/html": [
       "<iframe\n",
       "    scrolling=\"no\"\n",
       "    width=\"920px\"\n",
       "    height=\"720\"\n",
       "    src=\"iframe_figures/figure_33.html\"\n",
       "    frameborder=\"0\"\n",
       "    allowfullscreen\n",
       "></iframe>\n"
      ]
     },
     "metadata": {},
     "output_type": "display_data"
    }
   ],
   "source": [
    "scatter_duration_votes(df_processes_non_zero_votes)"
   ]
  },
  {
   "cell_type": "code",
   "execution_count": 34,
   "id": "18cbaad5-0104-4923-8c33-149b0a550515",
   "metadata": {},
   "outputs": [
    {
     "data": {
      "text/plain": [
       "vote_ts\n",
       "2021-05-12 15:27:28+00:00    200\n",
       "2021-05-12 15:46:10+00:00    201\n",
       "2021-05-12 18:38:46+00:00    221\n",
       "2021-05-12 18:38:52+00:00    241\n",
       "2021-05-12 18:39:04+00:00    251\n",
       "Name: nullifier, dtype: int64"
      ]
     },
     "execution_count": 34,
     "metadata": {},
     "output_type": "execute_result"
    }
   ],
   "source": [
    "votes_evol = df_envelopes.groupby('vote_ts')['nullifier'].count().cumsum(axis=0)\n",
    "votes_evol.head()"
   ]
  },
  {
   "cell_type": "code",
   "execution_count": 36,
   "id": "5ad8b10b-3973-4e51-9e3f-a958635a2dd6",
   "metadata": {},
   "outputs": [
    {
     "data": {
      "text/plain": [
       "creationTime_ts\n",
       "2021-05-12 15:23:16+00:00    1\n",
       "2021-05-12 15:26:01+00:00    5\n",
       "2021-05-12 15:31:01+00:00    6\n",
       "2021-05-12 15:36:53+00:00    7\n",
       "2021-05-12 15:40:41+00:00    8\n",
       "Name: processId, dtype: int64"
      ]
     },
     "execution_count": 36,
     "metadata": {},
     "output_type": "execute_result"
    }
   ],
   "source": [
    "processes_evol = df_processes.groupby('creationTime_ts')['processId'].count().cumsum(axis=0)\n",
    "processes_evol.head()"
   ]
  },
  {
   "cell_type": "code",
   "execution_count": 37,
   "id": "68e1a66b-cc17-43c2-a2e3-414e988563f3",
   "metadata": {},
   "outputs": [],
   "source": [
    "df_processes['not_dup'] = 1 - df_processes[\"entityId\"].duplicated()\n",
    "entities_evol = df_processes.groupby('creationTime_ts')['not_dup'].sum().cumsum()\n",
    "df_processes.drop('not_dup', inplace=True, axis=1)"
   ]
  },
  {
   "cell_type": "code",
   "execution_count": 38,
   "id": "b101f65d-8ea8-4f46-9fce-71537fa12fe6",
   "metadata": {},
   "outputs": [
    {
     "data": {
      "text/plain": [
       "creationTime_ts\n",
       "2021-05-12 15:23:16+00:00     1\n",
       "2021-05-12 15:26:01+00:00     2\n",
       "2021-05-12 15:31:01+00:00     2\n",
       "2021-05-12 15:36:53+00:00     2\n",
       "2021-05-12 15:40:41+00:00     2\n",
       "2021-05-12 15:48:16+00:00     3\n",
       "2021-05-12 15:52:15+00:00     3\n",
       "2021-05-12 20:46:08+00:00     3\n",
       "2021-05-12 20:52:10+00:00     4\n",
       "2021-05-12 21:08:22+00:00     5\n",
       "2021-05-12 21:42:41+00:00     6\n",
       "2021-05-12 21:44:03+00:00     7\n",
       "2021-05-13 02:28:49+00:00     8\n",
       "2021-05-13 12:41:46+00:00     9\n",
       "2021-05-13 13:15:00+00:00    10\n",
       "2021-05-13 13:18:47+00:00    10\n",
       "2021-05-13 14:33:59+00:00    10\n",
       "2021-05-13 14:35:11+00:00    10\n",
       "2021-05-13 14:50:01+00:00    11\n",
       "2021-05-13 15:23:23+00:00    11\n",
       "2021-05-13 15:48:23+00:00    12\n",
       "2021-05-13 15:49:25+00:00    13\n",
       "2021-05-13 15:50:17+00:00    14\n",
       "2021-05-13 15:51:19+00:00    14\n",
       "2021-05-13 15:54:36+00:00    14\n",
       "2021-05-13 15:56:09+00:00    15\n",
       "2021-05-13 15:57:11+00:00    16\n",
       "2021-05-13 15:59:56+00:00    17\n",
       "2021-05-13 16:10:00+00:00    18\n",
       "2021-05-13 16:45:46+00:00    19\n",
       "2021-05-13 16:50:40+00:00    20\n",
       "2021-05-13 16:53:06+00:00    21\n",
       "2021-05-13 17:53:31+00:00    22\n",
       "2021-05-13 18:00:46+00:00    23\n",
       "2021-05-13 18:03:08+00:00    24\n",
       "2021-05-13 18:05:47+00:00    25\n",
       "2021-05-13 18:07:39+00:00    26\n",
       "2021-05-13 18:23:03+00:00    27\n",
       "2021-05-13 21:08:24+00:00    28\n",
       "2021-05-13 22:11:17+00:00    28\n",
       "2021-05-14 00:52:17+00:00    28\n",
       "2021-05-14 11:11:55+00:00    29\n",
       "2021-05-14 11:16:55+00:00    30\n",
       "2021-05-14 14:16:12+00:00    31\n",
       "2021-05-14 15:19:30+00:00    31\n",
       "2021-05-14 21:47:07+00:00    32\n",
       "2021-05-14 22:05:03+00:00    32\n",
       "2021-05-14 22:19:32+00:00    32\n",
       "2021-05-14 23:22:16+00:00    33\n",
       "2021-05-17 13:59:36+00:00    33\n",
       "2021-05-17 17:02:07+00:00    34\n",
       "2021-05-17 20:08:58+00:00    34\n",
       "2021-05-18 09:37:08+00:00    35\n",
       "2021-05-18 15:55:38+00:00    35\n",
       "2021-05-18 16:00:07+00:00    35\n",
       "2021-05-19 14:08:31+00:00    36\n",
       "2021-05-19 14:35:14+00:00    36\n",
       "2021-05-19 16:08:47+00:00    36\n",
       "2021-05-19 17:43:34+00:00    36\n",
       "2021-05-20 10:42:14+00:00    37\n",
       "2021-05-20 10:46:23+00:00    37\n",
       "2021-05-20 10:50:00+00:00    37\n",
       "2021-05-20 10:58:16+00:00    37\n",
       "2021-05-20 11:06:33+00:00    37\n",
       "2021-05-20 16:52:33+00:00    37\n",
       "2021-05-21 09:18:52+00:00    37\n",
       "2021-05-21 09:34:30+00:00    37\n",
       "2021-05-21 09:38:28+00:00    37\n",
       "2021-05-21 09:39:50+00:00    37\n",
       "2021-05-21 09:41:44+00:00    37\n",
       "2021-05-21 09:42:36+00:00    37\n",
       "2021-05-21 09:42:57+00:00    37\n",
       "2021-05-21 09:45:52+00:00    37\n",
       "2021-05-21 09:46:54+00:00    37\n",
       "2021-05-21 09:48:07+00:00    37\n",
       "2021-05-21 09:52:15+00:00    37\n",
       "2021-05-21 09:53:27+00:00    37\n",
       "2021-05-21 09:54:39+00:00    37\n",
       "2021-05-21 10:02:35+00:00    37\n",
       "2021-05-21 10:14:18+00:00    37\n",
       "2021-05-21 10:53:16+00:00    37\n",
       "2021-05-21 10:58:36+00:00    37\n",
       "2021-05-21 11:02:14+00:00    37\n",
       "2021-05-21 14:45:06+00:00    37\n",
       "2021-05-22 09:32:29+00:00    37\n",
       "2021-05-22 09:48:21+00:00    37\n",
       "2021-05-22 14:35:00+00:00    38\n",
       "2021-05-22 15:00:27+00:00    39\n",
       "2021-05-22 15:07:52+00:00    40\n",
       "2021-05-22 16:40:06+00:00    41\n",
       "2021-05-22 20:23:40+00:00    42\n",
       "2021-05-22 20:26:03+00:00    43\n",
       "2021-05-22 20:27:29+00:00    44\n",
       "2021-05-22 20:30:35+00:00    45\n",
       "2021-05-22 20:33:29+00:00    46\n",
       "2021-05-22 20:36:25+00:00    47\n",
       "2021-05-22 20:40:31+00:00    48\n",
       "2021-05-23 01:08:11+00:00    49\n",
       "2021-05-23 05:35:48+00:00    50\n",
       "2021-05-23 05:39:52+00:00    51\n",
       "2021-05-23 05:43:42+00:00    52\n",
       "2021-05-23 10:11:25+00:00    53\n",
       "2021-05-23 14:39:11+00:00    54\n",
       "2021-05-23 19:06:55+00:00    55\n",
       "2021-05-24 14:23:46+00:00    55\n",
       "2021-05-24 15:16:31+00:00    55\n",
       "2021-05-24 18:53:55+00:00    55\n",
       "2021-05-24 18:56:09+00:00    55\n",
       "2021-05-24 19:13:33+00:00    55\n",
       "2021-05-25 09:00:19+00:00    55\n",
       "2021-05-25 09:21:40+00:00    55\n",
       "2021-05-25 17:55:50+00:00    55\n",
       "2021-05-26 08:05:03+00:00    55\n",
       "2021-05-26 15:57:31+00:00    55\n",
       "2021-05-27 09:43:11+00:00    55\n",
       "2021-05-27 10:04:44+00:00    55\n",
       "2021-05-27 10:52:07+00:00    55\n",
       "2021-05-27 11:06:04+00:00    55\n",
       "2021-05-28 07:07:20+00:00    55\n",
       "2021-05-28 08:22:46+00:00    56\n",
       "2021-05-28 11:36:18+00:00    56\n",
       "2021-05-28 11:37:31+00:00    56\n",
       "2021-05-28 12:47:40+00:00    56\n",
       "2021-05-28 15:50:04+00:00    56\n",
       "2021-05-28 15:54:33+00:00    56\n",
       "2021-05-28 15:57:19+00:00    56\n",
       "2021-05-28 16:00:15+00:00    56\n",
       "2021-05-28 16:00:46+00:00    56\n",
       "2021-05-28 16:04:54+00:00    56\n",
       "2021-05-28 16:40:08+00:00    56\n",
       "2021-05-28 16:50:28+00:00    56\n",
       "2021-05-28 20:02:55+00:00    56\n",
       "2021-05-28 21:05:29+00:00    56\n",
       "2021-05-31 09:24:07+00:00    56\n",
       "2021-05-31 09:30:50+00:00    56\n",
       "2021-05-31 09:33:05+00:00    56\n",
       "2021-05-31 10:32:09+00:00    56\n",
       "2021-05-31 10:51:48+00:00    56\n",
       "2021-05-31 11:02:29+00:00    57\n",
       "2021-05-31 11:04:13+00:00    58\n",
       "2021-05-31 11:07:29+00:00    58\n",
       "2021-05-31 11:11:27+00:00    58\n",
       "2021-05-31 11:13:11+00:00    58\n",
       "2021-05-31 11:14:13+00:00    58\n",
       "2021-05-31 11:31:17+00:00    58\n",
       "2021-05-31 11:36:07+00:00    58\n",
       "2021-05-31 11:38:00+00:00    58\n",
       "2021-05-31 11:39:54+00:00    58\n",
       "2021-05-31 11:45:26+00:00    58\n",
       "2021-05-31 12:36:27+00:00    58\n",
       "2021-05-31 13:36:06+00:00    59\n",
       "2021-06-01 14:59:51+00:00    59\n",
       "2021-06-01 17:06:11+00:00    60\n",
       "2021-06-01 17:41:41+00:00    60\n",
       "2021-06-02 14:03:35+00:00    60\n",
       "2021-06-02 15:55:08+00:00    60\n",
       "2021-06-02 15:57:22+00:00    60\n",
       "2021-06-03 08:19:52+00:00    60\n",
       "2021-06-04 10:03:15+00:00    61\n",
       "2021-06-04 10:17:44+00:00    61\n",
       "2021-06-04 10:27:33+00:00    61\n",
       "2021-06-04 12:01:02+00:00    61\n",
       "2021-06-04 12:10:21+00:00    61\n",
       "Name: not_dup, dtype: int32"
      ]
     },
     "execution_count": 38,
     "metadata": {},
     "output_type": "execute_result"
    }
   ],
   "source": [
    "entities_evol"
   ]
  },
  {
   "cell_type": "code",
   "execution_count": 39,
   "id": "388c56fe-e307-4b9a-a994-e13fbe9633c2",
   "metadata": {},
   "outputs": [
    {
     "data": {
      "text/plain": [
       "61"
      ]
     },
     "execution_count": 39,
     "metadata": {},
     "output_type": "execute_result"
    }
   ],
   "source": [
    "total_processes = len(df_processes[\"entityId\"].unique())\n",
    "total_processes"
   ]
  },
  {
   "cell_type": "code",
   "execution_count": 40,
   "id": "c5fbc481-5d4b-4f2d-9d0f-f65cd2201181",
   "metadata": {},
   "outputs": [
    {
     "data": {
      "text/plain": [
       "166"
      ]
     },
     "execution_count": 40,
     "metadata": {},
     "output_type": "execute_result"
    }
   ],
   "source": [
    "total_entities = df_processes[\"processId\"].count()\n",
    "total_entities"
   ]
  },
  {
   "cell_type": "code",
   "execution_count": 41,
   "id": "49a71c12-46e3-46f5-ada8-8dc518394a44",
   "metadata": {},
   "outputs": [
    {
     "data": {
      "text/html": [
       "<div>\n",
       "<style scoped>\n",
       "    .dataframe tbody tr th:only-of-type {\n",
       "        vertical-align: middle;\n",
       "    }\n",
       "\n",
       "    .dataframe tbody tr th {\n",
       "        vertical-align: top;\n",
       "    }\n",
       "\n",
       "    .dataframe thead th {\n",
       "        text-align: right;\n",
       "    }\n",
       "</style>\n",
       "<table border=\"1\" class=\"dataframe\">\n",
       "  <thead>\n",
       "    <tr style=\"text-align: right;\">\n",
       "      <th></th>\n",
       "      <th>creationTime</th>\n",
       "      <th>endBlock</th>\n",
       "      <th>startBlock</th>\n",
       "      <th>entityId</th>\n",
       "      <th>processId</th>\n",
       "      <th>blocks</th>\n",
       "      <th>proccess_duration_d</th>\n",
       "      <th>creationTime_ts</th>\n",
       "      <th>endingTime_ts</th>\n",
       "      <th>votes_count</th>\n",
       "    </tr>\n",
       "  </thead>\n",
       "  <tbody>\n",
       "    <tr>\n",
       "      <th>0</th>\n",
       "      <td>2021-05-12T15:23:16Z</td>\n",
       "      <td>541</td>\n",
       "      <td>41</td>\n",
       "      <td>359e67ac4c5311cbd6571a20eaf6e879a466d154</td>\n",
       "      <td>53f31a0fb02a3ea7467e80ad250d43c935d3dc15924c40...</td>\n",
       "      <td>500</td>\n",
       "      <td>0.03</td>\n",
       "      <td>2021-05-12 15:23:16+00:00</td>\n",
       "      <td>2021-05-12 16:13:16+00:00</td>\n",
       "      <td>200.00</td>\n",
       "    </tr>\n",
       "    <tr>\n",
       "      <th>1</th>\n",
       "      <td>2021-05-12T15:26:01Z</td>\n",
       "      <td>71897</td>\n",
       "      <td>317</td>\n",
       "      <td>f0f8d83cdab2f9514bef0319f1b434267be36b5c</td>\n",
       "      <td>631ada2c7b2fc4d5cb2a6cb68d945565d1471956becf63...</td>\n",
       "      <td>71580</td>\n",
       "      <td>4.97</td>\n",
       "      <td>2021-05-12 15:26:01+00:00</td>\n",
       "      <td>2021-05-17 14:44:01+00:00</td>\n",
       "      <td>3.00</td>\n",
       "    </tr>\n",
       "    <tr>\n",
       "      <th>2</th>\n",
       "      <td>2021-05-12T15:26:01Z</td>\n",
       "      <td>110178</td>\n",
       "      <td>40945</td>\n",
       "      <td>f0f8d83cdab2f9514bef0319f1b434267be36b5c</td>\n",
       "      <td>fe20607cf3f94060b3edc5d2ece161557d7359d10eb84f...</td>\n",
       "      <td>69233</td>\n",
       "      <td>4.81</td>\n",
       "      <td>2021-05-12 15:26:01+00:00</td>\n",
       "      <td>2021-05-17 10:49:19+00:00</td>\n",
       "      <td>1.00</td>\n",
       "    </tr>\n",
       "    <tr>\n",
       "      <th>3</th>\n",
       "      <td>2021-05-12T15:26:01Z</td>\n",
       "      <td>110179</td>\n",
       "      <td>39553</td>\n",
       "      <td>f0f8d83cdab2f9514bef0319f1b434267be36b5c</td>\n",
       "      <td>bf022de42ef2d7a5f9d9b2737843dfc88cf93253966124...</td>\n",
       "      <td>70626</td>\n",
       "      <td>4.90</td>\n",
       "      <td>2021-05-12 15:26:01+00:00</td>\n",
       "      <td>2021-05-17 13:08:37+00:00</td>\n",
       "      <td>0.00</td>\n",
       "    </tr>\n",
       "    <tr>\n",
       "      <th>4</th>\n",
       "      <td>2021-05-12T15:26:01Z</td>\n",
       "      <td>168676</td>\n",
       "      <td>43325</td>\n",
       "      <td>f0f8d83cdab2f9514bef0319f1b434267be36b5c</td>\n",
       "      <td>853f582a39dbb70c48468a1685fac0d9b901a3014a75eb...</td>\n",
       "      <td>125351</td>\n",
       "      <td>8.70</td>\n",
       "      <td>2021-05-12 15:26:01+00:00</td>\n",
       "      <td>2021-05-21 08:21:07+00:00</td>\n",
       "      <td>2.00</td>\n",
       "    </tr>\n",
       "  </tbody>\n",
       "</table>\n",
       "</div>"
      ],
      "text/plain": [
       "           creationTime  endBlock  startBlock  \\\n",
       "0  2021-05-12T15:23:16Z       541          41   \n",
       "1  2021-05-12T15:26:01Z     71897         317   \n",
       "2  2021-05-12T15:26:01Z    110178       40945   \n",
       "3  2021-05-12T15:26:01Z    110179       39553   \n",
       "4  2021-05-12T15:26:01Z    168676       43325   \n",
       "\n",
       "                                   entityId  \\\n",
       "0  359e67ac4c5311cbd6571a20eaf6e879a466d154   \n",
       "1  f0f8d83cdab2f9514bef0319f1b434267be36b5c   \n",
       "2  f0f8d83cdab2f9514bef0319f1b434267be36b5c   \n",
       "3  f0f8d83cdab2f9514bef0319f1b434267be36b5c   \n",
       "4  f0f8d83cdab2f9514bef0319f1b434267be36b5c   \n",
       "\n",
       "                                           processId  blocks  \\\n",
       "0  53f31a0fb02a3ea7467e80ad250d43c935d3dc15924c40...     500   \n",
       "1  631ada2c7b2fc4d5cb2a6cb68d945565d1471956becf63...   71580   \n",
       "2  fe20607cf3f94060b3edc5d2ece161557d7359d10eb84f...   69233   \n",
       "3  bf022de42ef2d7a5f9d9b2737843dfc88cf93253966124...   70626   \n",
       "4  853f582a39dbb70c48468a1685fac0d9b901a3014a75eb...  125351   \n",
       "\n",
       "   proccess_duration_d           creationTime_ts             endingTime_ts  \\\n",
       "0                 0.03 2021-05-12 15:23:16+00:00 2021-05-12 16:13:16+00:00   \n",
       "1                 4.97 2021-05-12 15:26:01+00:00 2021-05-17 14:44:01+00:00   \n",
       "2                 4.81 2021-05-12 15:26:01+00:00 2021-05-17 10:49:19+00:00   \n",
       "3                 4.90 2021-05-12 15:26:01+00:00 2021-05-17 13:08:37+00:00   \n",
       "4                 8.70 2021-05-12 15:26:01+00:00 2021-05-21 08:21:07+00:00   \n",
       "\n",
       "   votes_count  \n",
       "0       200.00  \n",
       "1         3.00  \n",
       "2         1.00  \n",
       "3         0.00  \n",
       "4         2.00  "
      ]
     },
     "execution_count": 41,
     "metadata": {},
     "output_type": "execute_result"
    }
   ],
   "source": [
    "df_processes.head()"
   ]
  },
  {
   "cell_type": "code",
   "execution_count": 42,
   "id": "9db168a7-f282-4c01-a783-4005e97761a9",
   "metadata": {},
   "outputs": [
    {
     "data": {
      "text/plain": [
       "30544.0"
      ]
     },
     "execution_count": 42,
     "metadata": {},
     "output_type": "execute_result"
    }
   ],
   "source": [
    "total_votes = df_processes[\"votes_count\"].sum()\n",
    "total_votes"
   ]
  },
  {
   "cell_type": "markdown",
   "id": "8bb03d83-d6bc-4f4b-ade8-4e6c215fac60",
   "metadata": {},
   "source": [
    "- Cumulate votes"
   ]
  },
  {
   "cell_type": "markdown",
   "id": "aa367f30-2332-4747-ab62-d7af0c77c75f",
   "metadata": {},
   "source": [
    "### Check graphs"
   ]
  },
  {
   "cell_type": "code",
   "execution_count": 44,
   "id": "f9a233a2-5f2b-4804-aaa1-2465afe3101c",
   "metadata": {},
   "outputs": [
    {
     "data": {
      "text/html": [
       "<iframe\n",
       "    scrolling=\"no\"\n",
       "    width=\"100%\"\n",
       "    height=\"545px\"\n",
       "    src=\"iframe_figures/figure_44.html\"\n",
       "    frameborder=\"0\"\n",
       "    allowfullscreen\n",
       "></iframe>\n"
      ]
     },
     "metadata": {},
     "output_type": "display_data"
    }
   ],
   "source": [
    "name = \"Total processes evolution\"\n",
    "fig = go.Figure(go.Indicator(\n",
    "    mode = \"number+delta\",\n",
    "    value = total_processes,\n",
    "    delta = {\"reference\": processes_evol[-3], \"valueformat\": \".0f\"},\n",
    "    domain = {'y': [0, 1], 'x': [0.25, 0.75]}))\n",
    "\n",
    "fig.add_trace(go.Scatter(y=processes_evol, \n",
    "                         marker_color=\"rgba(0, 255, 255, .8)\", \n",
    "                         name=name,\n",
    "                         x=processes_evol.index\n",
    "                        ))\n",
    "\n",
    "fig.update_layout(title_text=name)\n",
    "fig.show()"
   ]
  },
  {
   "cell_type": "code",
   "execution_count": 45,
   "id": "0847cf5a-4869-4e61-856f-b4536112880c",
   "metadata": {},
   "outputs": [
    {
     "data": {
      "text/html": [
       "<iframe\n",
       "    scrolling=\"no\"\n",
       "    width=\"100%\"\n",
       "    height=\"545px\"\n",
       "    src=\"iframe_figures/figure_45.html\"\n",
       "    frameborder=\"0\"\n",
       "    allowfullscreen\n",
       "></iframe>\n"
      ]
     },
     "metadata": {},
     "output_type": "display_data"
    }
   ],
   "source": [
    "name = \"Total entities evolution\"\n",
    "fig = go.Figure(go.Indicator(\n",
    "    mode = \"number+delta\",\n",
    "    value = total_entities,\n",
    "    delta = {\"reference\": entities_evol[-1], \"valueformat\": \".0f\"},\n",
    "    domain = {'y': [0, 1], 'x': [0.25, 0.75]}))\n",
    "\n",
    "fig.add_trace(go.Scatter(y=entities_evol, \n",
    "                         marker_color=\"rgba(0, 255, 255, .8)\", \n",
    "                         name=name,\n",
    "                         x=entities_evol.index\n",
    "                        ))\n",
    "\n",
    "fig.update_layout(title_text=name)\n",
    "fig.show()"
   ]
  },
  {
   "cell_type": "code",
   "execution_count": 46,
   "id": "c9a5404d-5b0d-496f-9a9b-4dad56bf6b8f",
   "metadata": {},
   "outputs": [
    {
     "data": {
      "text/html": [
       "<iframe\n",
       "    scrolling=\"no\"\n",
       "    width=\"100%\"\n",
       "    height=\"545px\"\n",
       "    src=\"iframe_figures/figure_46.html\"\n",
       "    frameborder=\"0\"\n",
       "    allowfullscreen\n",
       "></iframe>\n"
      ]
     },
     "metadata": {},
     "output_type": "display_data"
    }
   ],
   "source": [
    "name = \"Total Votes evolution\"\n",
    "fig = go.Figure(go.Indicator(\n",
    "    mode = \"number+delta\",\n",
    "    value = total_votes,\n",
    "    delta = {\"reference\": votes_evol[-3], \"valueformat\": \".0f\"},\n",
    "    \n",
    "    domain = {'y': [0, 1], 'x': [0.25, 0.75]}))\n",
    "\n",
    "fig.add_trace(go.Scatter(y=votes_evol, \n",
    "                         marker_color=\"rgba(0, 255, 255, .8)\", \n",
    "                         name=name,\n",
    "                         x=votes_evol.index\n",
    "                        ))\n",
    "\n",
    "fig.update_layout(title_text=name)\n",
    "fig.show()"
   ]
  },
  {
   "cell_type": "code",
   "execution_count": 47,
   "id": "e5e0ddfa-e924-463b-b992-6a53982b3d94",
   "metadata": {},
   "outputs": [
    {
     "data": {
      "text/html": [
       "<iframe\n",
       "    scrolling=\"no\"\n",
       "    width=\"100%\"\n",
       "    height=\"545px\"\n",
       "    src=\"iframe_figures/figure_47.html\"\n",
       "    frameborder=\"0\"\n",
       "    allowfullscreen\n",
       "></iframe>\n"
      ]
     },
     "metadata": {},
     "output_type": "display_data"
    }
   ],
   "source": [
    "name = \"Total Votes evolution\"\n",
    "fig = go.Figure(go.Indicator(\n",
    "    mode = \"number+delta\",\n",
    "    value = total_votes,\n",
    "    delta = {\"reference\": votes_evol[-3], \"valueformat\": \".0f\"},\n",
    "    domain = {'y': [0, 1], 'x': [0.25, 0.75]}))\n",
    "\n",
    "fig.add_trace(go.Scatter(y=votes_evol, \n",
    "                         marker_color=\"rgba(0, 255, 255, .8)\", \n",
    "                         name=name,\n",
    "                         x=votes_evol.index\n",
    "                        ))\n",
    "\n",
    "fig.update_layout(title_text=name)\n",
    "fig.show()"
   ]
  },
  {
   "cell_type": "code",
   "execution_count": 48,
   "id": "84713190-a951-4856-a526-64155098f501",
   "metadata": {},
   "outputs": [
    {
     "data": {
      "text/html": [
       "<div>\n",
       "<style scoped>\n",
       "    .dataframe tbody tr th:only-of-type {\n",
       "        vertical-align: middle;\n",
       "    }\n",
       "\n",
       "    .dataframe tbody tr th {\n",
       "        vertical-align: top;\n",
       "    }\n",
       "\n",
       "    .dataframe thead th {\n",
       "        text-align: right;\n",
       "    }\n",
       "</style>\n",
       "<table border=\"1\" class=\"dataframe\">\n",
       "  <thead>\n",
       "    <tr style=\"text-align: right;\">\n",
       "      <th></th>\n",
       "      <th>creationTime</th>\n",
       "      <th>endBlock</th>\n",
       "      <th>startBlock</th>\n",
       "      <th>entityId</th>\n",
       "      <th>processId</th>\n",
       "      <th>blocks</th>\n",
       "      <th>proccess_duration_d</th>\n",
       "      <th>creationTime_ts</th>\n",
       "      <th>endingTime_ts</th>\n",
       "      <th>votes_count</th>\n",
       "    </tr>\n",
       "  </thead>\n",
       "  <tbody>\n",
       "    <tr>\n",
       "      <th>0</th>\n",
       "      <td>2021-05-12T15:23:16Z</td>\n",
       "      <td>541</td>\n",
       "      <td>41</td>\n",
       "      <td>359e67ac4c5311cbd6571a20eaf6e879a466d154</td>\n",
       "      <td>53f31a0fb02a3ea7467e80ad250d43c935d3dc15924c40...</td>\n",
       "      <td>500</td>\n",
       "      <td>0.03</td>\n",
       "      <td>2021-05-12 15:23:16+00:00</td>\n",
       "      <td>2021-05-12 16:13:16+00:00</td>\n",
       "      <td>200.00</td>\n",
       "    </tr>\n",
       "    <tr>\n",
       "      <th>1</th>\n",
       "      <td>2021-05-12T15:26:01Z</td>\n",
       "      <td>71897</td>\n",
       "      <td>317</td>\n",
       "      <td>f0f8d83cdab2f9514bef0319f1b434267be36b5c</td>\n",
       "      <td>631ada2c7b2fc4d5cb2a6cb68d945565d1471956becf63...</td>\n",
       "      <td>71580</td>\n",
       "      <td>4.97</td>\n",
       "      <td>2021-05-12 15:26:01+00:00</td>\n",
       "      <td>2021-05-17 14:44:01+00:00</td>\n",
       "      <td>3.00</td>\n",
       "    </tr>\n",
       "    <tr>\n",
       "      <th>2</th>\n",
       "      <td>2021-05-12T15:26:01Z</td>\n",
       "      <td>110178</td>\n",
       "      <td>40945</td>\n",
       "      <td>f0f8d83cdab2f9514bef0319f1b434267be36b5c</td>\n",
       "      <td>fe20607cf3f94060b3edc5d2ece161557d7359d10eb84f...</td>\n",
       "      <td>69233</td>\n",
       "      <td>4.81</td>\n",
       "      <td>2021-05-12 15:26:01+00:00</td>\n",
       "      <td>2021-05-17 10:49:19+00:00</td>\n",
       "      <td>1.00</td>\n",
       "    </tr>\n",
       "    <tr>\n",
       "      <th>3</th>\n",
       "      <td>2021-05-12T15:26:01Z</td>\n",
       "      <td>110179</td>\n",
       "      <td>39553</td>\n",
       "      <td>f0f8d83cdab2f9514bef0319f1b434267be36b5c</td>\n",
       "      <td>bf022de42ef2d7a5f9d9b2737843dfc88cf93253966124...</td>\n",
       "      <td>70626</td>\n",
       "      <td>4.90</td>\n",
       "      <td>2021-05-12 15:26:01+00:00</td>\n",
       "      <td>2021-05-17 13:08:37+00:00</td>\n",
       "      <td>0.00</td>\n",
       "    </tr>\n",
       "    <tr>\n",
       "      <th>4</th>\n",
       "      <td>2021-05-12T15:26:01Z</td>\n",
       "      <td>168676</td>\n",
       "      <td>43325</td>\n",
       "      <td>f0f8d83cdab2f9514bef0319f1b434267be36b5c</td>\n",
       "      <td>853f582a39dbb70c48468a1685fac0d9b901a3014a75eb...</td>\n",
       "      <td>125351</td>\n",
       "      <td>8.70</td>\n",
       "      <td>2021-05-12 15:26:01+00:00</td>\n",
       "      <td>2021-05-21 08:21:07+00:00</td>\n",
       "      <td>2.00</td>\n",
       "    </tr>\n",
       "  </tbody>\n",
       "</table>\n",
       "</div>"
      ],
      "text/plain": [
       "           creationTime  endBlock  startBlock  \\\n",
       "0  2021-05-12T15:23:16Z       541          41   \n",
       "1  2021-05-12T15:26:01Z     71897         317   \n",
       "2  2021-05-12T15:26:01Z    110178       40945   \n",
       "3  2021-05-12T15:26:01Z    110179       39553   \n",
       "4  2021-05-12T15:26:01Z    168676       43325   \n",
       "\n",
       "                                   entityId  \\\n",
       "0  359e67ac4c5311cbd6571a20eaf6e879a466d154   \n",
       "1  f0f8d83cdab2f9514bef0319f1b434267be36b5c   \n",
       "2  f0f8d83cdab2f9514bef0319f1b434267be36b5c   \n",
       "3  f0f8d83cdab2f9514bef0319f1b434267be36b5c   \n",
       "4  f0f8d83cdab2f9514bef0319f1b434267be36b5c   \n",
       "\n",
       "                                           processId  blocks  \\\n",
       "0  53f31a0fb02a3ea7467e80ad250d43c935d3dc15924c40...     500   \n",
       "1  631ada2c7b2fc4d5cb2a6cb68d945565d1471956becf63...   71580   \n",
       "2  fe20607cf3f94060b3edc5d2ece161557d7359d10eb84f...   69233   \n",
       "3  bf022de42ef2d7a5f9d9b2737843dfc88cf93253966124...   70626   \n",
       "4  853f582a39dbb70c48468a1685fac0d9b901a3014a75eb...  125351   \n",
       "\n",
       "   proccess_duration_d           creationTime_ts             endingTime_ts  \\\n",
       "0                 0.03 2021-05-12 15:23:16+00:00 2021-05-12 16:13:16+00:00   \n",
       "1                 4.97 2021-05-12 15:26:01+00:00 2021-05-17 14:44:01+00:00   \n",
       "2                 4.81 2021-05-12 15:26:01+00:00 2021-05-17 10:49:19+00:00   \n",
       "3                 4.90 2021-05-12 15:26:01+00:00 2021-05-17 13:08:37+00:00   \n",
       "4                 8.70 2021-05-12 15:26:01+00:00 2021-05-21 08:21:07+00:00   \n",
       "\n",
       "   votes_count  \n",
       "0       200.00  \n",
       "1         3.00  \n",
       "2         1.00  \n",
       "3         0.00  \n",
       "4         2.00  "
      ]
     },
     "execution_count": 48,
     "metadata": {},
     "output_type": "execute_result"
    }
   ],
   "source": [
    "df_processes.head()"
   ]
  },
  {
   "cell_type": "code",
   "execution_count": 49,
   "id": "fdebf703-0b49-4f31-b052-d5b5a91bb6da",
   "metadata": {},
   "outputs": [
    {
     "data": {
      "text/plain": [
       "41"
      ]
     },
     "execution_count": 49,
     "metadata": {},
     "output_type": "execute_result"
    }
   ],
   "source": [
    "df_processes[\"startBlock\"].min()"
   ]
  },
  {
   "cell_type": "code",
   "execution_count": 50,
   "id": "79aa73bd-a522-4de9-a6eb-43792f62ca93",
   "metadata": {},
   "outputs": [
    {
     "data": {
      "text/plain": [
       "count                                    166\n",
       "mean     2021-05-21 23:51:51.349397504+00:00\n",
       "min                2021-05-12 15:23:16+00:00\n",
       "25%      2021-05-13 21:24:07.249999872+00:00\n",
       "50%                2021-05-21 10:33:47+00:00\n",
       "75%      2021-05-28 11:37:12.750000128+00:00\n",
       "max                2021-06-04 12:10:21+00:00\n",
       "Name: creationTime_ts, dtype: object"
      ]
     },
     "execution_count": 50,
     "metadata": {},
     "output_type": "execute_result"
    }
   ],
   "source": [
    "df_processes[\"creationTime_ts\"].describe(datetime_is_numeric=True)"
   ]
  },
  {
   "cell_type": "code",
   "execution_count": null,
   "id": "2ba2efa0-64b9-49c1-9edb-d68731b5350d",
   "metadata": {},
   "outputs": [],
   "source": [
    "\n"
   ]
  },
  {
   "cell_type": "code",
   "execution_count": 51,
   "id": "f88a1551-56f1-4cec-adf5-ba3e278739e0",
   "metadata": {},
   "outputs": [],
   "source": [
    "cols = [\"blocks\", \"proccess_duration_d\", \"votes_count\"]"
   ]
  },
  {
   "cell_type": "code",
   "execution_count": 52,
   "id": "aac9cc2e-f78a-404c-8553-d341867741b1",
   "metadata": {},
   "outputs": [
    {
     "data": {
      "text/html": [
       "<div>\n",
       "<style scoped>\n",
       "    .dataframe tbody tr th:only-of-type {\n",
       "        vertical-align: middle;\n",
       "    }\n",
       "\n",
       "    .dataframe tbody tr th {\n",
       "        vertical-align: top;\n",
       "    }\n",
       "\n",
       "    .dataframe thead th {\n",
       "        text-align: right;\n",
       "    }\n",
       "</style>\n",
       "<table border=\"1\" class=\"dataframe\">\n",
       "  <thead>\n",
       "    <tr style=\"text-align: right;\">\n",
       "      <th></th>\n",
       "      <th>blocks</th>\n",
       "    </tr>\n",
       "  </thead>\n",
       "  <tbody>\n",
       "    <tr>\n",
       "      <th>count</th>\n",
       "      <td>166.00</td>\n",
       "    </tr>\n",
       "    <tr>\n",
       "      <th>mean</th>\n",
       "      <td>40803.50</td>\n",
       "    </tr>\n",
       "    <tr>\n",
       "      <th>std</th>\n",
       "      <td>165166.25</td>\n",
       "    </tr>\n",
       "    <tr>\n",
       "      <th>min</th>\n",
       "      <td>6.00</td>\n",
       "    </tr>\n",
       "    <tr>\n",
       "      <th>25%</th>\n",
       "      <td>351.00</td>\n",
       "    </tr>\n",
       "    <tr>\n",
       "      <th>50%</th>\n",
       "      <td>2433.50</td>\n",
       "    </tr>\n",
       "    <tr>\n",
       "      <th>75%</th>\n",
       "      <td>50140.00</td>\n",
       "    </tr>\n",
       "    <tr>\n",
       "      <th>max</th>\n",
       "      <td>2038399.00</td>\n",
       "    </tr>\n",
       "  </tbody>\n",
       "</table>\n",
       "</div>"
      ],
      "text/plain": [
       "          blocks\n",
       "count     166.00\n",
       "mean    40803.50\n",
       "std    165166.25\n",
       "min         6.00\n",
       "25%       351.00\n",
       "50%      2433.50\n",
       "75%     50140.00\n",
       "max   2038399.00"
      ]
     },
     "metadata": {},
     "output_type": "display_data"
    },
    {
     "data": {
      "text/html": [
       "<div>\n",
       "<style scoped>\n",
       "    .dataframe tbody tr th:only-of-type {\n",
       "        vertical-align: middle;\n",
       "    }\n",
       "\n",
       "    .dataframe tbody tr th {\n",
       "        vertical-align: top;\n",
       "    }\n",
       "\n",
       "    .dataframe thead th {\n",
       "        text-align: right;\n",
       "    }\n",
       "</style>\n",
       "<table border=\"1\" class=\"dataframe\">\n",
       "  <thead>\n",
       "    <tr style=\"text-align: right;\">\n",
       "      <th></th>\n",
       "      <th>proccess_duration_d</th>\n",
       "    </tr>\n",
       "  </thead>\n",
       "  <tbody>\n",
       "    <tr>\n",
       "      <th>count</th>\n",
       "      <td>166.00</td>\n",
       "    </tr>\n",
       "    <tr>\n",
       "      <th>mean</th>\n",
       "      <td>2.83</td>\n",
       "    </tr>\n",
       "    <tr>\n",
       "      <th>std</th>\n",
       "      <td>11.47</td>\n",
       "    </tr>\n",
       "    <tr>\n",
       "      <th>min</th>\n",
       "      <td>0.00</td>\n",
       "    </tr>\n",
       "    <tr>\n",
       "      <th>25%</th>\n",
       "      <td>0.02</td>\n",
       "    </tr>\n",
       "    <tr>\n",
       "      <th>50%</th>\n",
       "      <td>0.17</td>\n",
       "    </tr>\n",
       "    <tr>\n",
       "      <th>75%</th>\n",
       "      <td>3.48</td>\n",
       "    </tr>\n",
       "    <tr>\n",
       "      <th>max</th>\n",
       "      <td>141.56</td>\n",
       "    </tr>\n",
       "  </tbody>\n",
       "</table>\n",
       "</div>"
      ],
      "text/plain": [
       "       proccess_duration_d\n",
       "count               166.00\n",
       "mean                  2.83\n",
       "std                  11.47\n",
       "min                   0.00\n",
       "25%                   0.02\n",
       "50%                   0.17\n",
       "75%                   3.48\n",
       "max                 141.56"
      ]
     },
     "metadata": {},
     "output_type": "display_data"
    },
    {
     "data": {
      "text/html": [
       "<div>\n",
       "<style scoped>\n",
       "    .dataframe tbody tr th:only-of-type {\n",
       "        vertical-align: middle;\n",
       "    }\n",
       "\n",
       "    .dataframe tbody tr th {\n",
       "        vertical-align: top;\n",
       "    }\n",
       "\n",
       "    .dataframe thead th {\n",
       "        text-align: right;\n",
       "    }\n",
       "</style>\n",
       "<table border=\"1\" class=\"dataframe\">\n",
       "  <thead>\n",
       "    <tr style=\"text-align: right;\">\n",
       "      <th></th>\n",
       "      <th>votes_count</th>\n",
       "    </tr>\n",
       "  </thead>\n",
       "  <tbody>\n",
       "    <tr>\n",
       "      <th>count</th>\n",
       "      <td>166.00</td>\n",
       "    </tr>\n",
       "    <tr>\n",
       "      <th>mean</th>\n",
       "      <td>184.00</td>\n",
       "    </tr>\n",
       "    <tr>\n",
       "      <th>std</th>\n",
       "      <td>1305.46</td>\n",
       "    </tr>\n",
       "    <tr>\n",
       "      <th>min</th>\n",
       "      <td>0.00</td>\n",
       "    </tr>\n",
       "    <tr>\n",
       "      <th>25%</th>\n",
       "      <td>0.00</td>\n",
       "    </tr>\n",
       "    <tr>\n",
       "      <th>50%</th>\n",
       "      <td>0.00</td>\n",
       "    </tr>\n",
       "    <tr>\n",
       "      <th>75%</th>\n",
       "      <td>0.00</td>\n",
       "    </tr>\n",
       "    <tr>\n",
       "      <th>max</th>\n",
       "      <td>9932.00</td>\n",
       "    </tr>\n",
       "  </tbody>\n",
       "</table>\n",
       "</div>"
      ],
      "text/plain": [
       "       votes_count\n",
       "count       166.00\n",
       "mean        184.00\n",
       "std        1305.46\n",
       "min           0.00\n",
       "25%           0.00\n",
       "50%           0.00\n",
       "75%           0.00\n",
       "max        9932.00"
      ]
     },
     "metadata": {},
     "output_type": "display_data"
    }
   ],
   "source": [
    "for col in cols:\n",
    "    display(df_processes[col].describe().to_frame().round(3))"
   ]
  },
  {
   "cell_type": "markdown",
   "id": "54a2d124-bec1-4d12-8b35-57e772324b8a",
   "metadata": {},
   "source": [
    "## Envelopes"
   ]
  },
  {
   "cell_type": "code",
   "execution_count": 53,
   "id": "c89721e7-57f2-41b7-9dab-e9943fa70a91",
   "metadata": {},
   "outputs": [
    {
     "data": {
      "text/html": [
       "<div>\n",
       "<style scoped>\n",
       "    .dataframe tbody tr th:only-of-type {\n",
       "        vertical-align: middle;\n",
       "    }\n",
       "\n",
       "    .dataframe tbody tr th {\n",
       "        vertical-align: top;\n",
       "    }\n",
       "\n",
       "    .dataframe thead th {\n",
       "        text-align: right;\n",
       "    }\n",
       "</style>\n",
       "<table border=\"1\" class=\"dataframe\">\n",
       "  <thead>\n",
       "    <tr style=\"text-align: right;\">\n",
       "      <th></th>\n",
       "      <th>height</th>\n",
       "      <th>nullifier</th>\n",
       "      <th>process_id</th>\n",
       "      <th>vote_ts</th>\n",
       "    </tr>\n",
       "  </thead>\n",
       "  <tbody>\n",
       "    <tr>\n",
       "      <th>0</th>\n",
       "      <td>42</td>\n",
       "      <td>00c5a14b3aa62f810fd829e076fd8b46d52fe5a709a738...</td>\n",
       "      <td>53f31a0fb02a3ea7467e80ad250d43c935d3dc15924c40...</td>\n",
       "      <td>2021-05-12 15:27:28+00:00</td>\n",
       "    </tr>\n",
       "    <tr>\n",
       "      <th>1</th>\n",
       "      <td>42</td>\n",
       "      <td>012de59c7121f8f9d97edcfc43b7504c7e89a9312bc6ac...</td>\n",
       "      <td>53f31a0fb02a3ea7467e80ad250d43c935d3dc15924c40...</td>\n",
       "      <td>2021-05-12 15:27:28+00:00</td>\n",
       "    </tr>\n",
       "    <tr>\n",
       "      <th>2</th>\n",
       "      <td>42</td>\n",
       "      <td>01be3123076729594d89e457a46a7b3751b3fd25f1ef29...</td>\n",
       "      <td>53f31a0fb02a3ea7467e80ad250d43c935d3dc15924c40...</td>\n",
       "      <td>2021-05-12 15:27:28+00:00</td>\n",
       "    </tr>\n",
       "    <tr>\n",
       "      <th>3</th>\n",
       "      <td>42</td>\n",
       "      <td>020a34edc52b6d5281580fea3857dfc8bce9a322984b15...</td>\n",
       "      <td>53f31a0fb02a3ea7467e80ad250d43c935d3dc15924c40...</td>\n",
       "      <td>2021-05-12 15:27:28+00:00</td>\n",
       "    </tr>\n",
       "    <tr>\n",
       "      <th>4</th>\n",
       "      <td>42</td>\n",
       "      <td>0234a78af57502e716ac6ca9616359f660cdf76b33febb...</td>\n",
       "      <td>53f31a0fb02a3ea7467e80ad250d43c935d3dc15924c40...</td>\n",
       "      <td>2021-05-12 15:27:28+00:00</td>\n",
       "    </tr>\n",
       "  </tbody>\n",
       "</table>\n",
       "</div>"
      ],
      "text/plain": [
       "   height                                          nullifier  \\\n",
       "0      42  00c5a14b3aa62f810fd829e076fd8b46d52fe5a709a738...   \n",
       "1      42  012de59c7121f8f9d97edcfc43b7504c7e89a9312bc6ac...   \n",
       "2      42  01be3123076729594d89e457a46a7b3751b3fd25f1ef29...   \n",
       "3      42  020a34edc52b6d5281580fea3857dfc8bce9a322984b15...   \n",
       "4      42  0234a78af57502e716ac6ca9616359f660cdf76b33febb...   \n",
       "\n",
       "                                          process_id                   vote_ts  \n",
       "0  53f31a0fb02a3ea7467e80ad250d43c935d3dc15924c40... 2021-05-12 15:27:28+00:00  \n",
       "1  53f31a0fb02a3ea7467e80ad250d43c935d3dc15924c40... 2021-05-12 15:27:28+00:00  \n",
       "2  53f31a0fb02a3ea7467e80ad250d43c935d3dc15924c40... 2021-05-12 15:27:28+00:00  \n",
       "3  53f31a0fb02a3ea7467e80ad250d43c935d3dc15924c40... 2021-05-12 15:27:28+00:00  \n",
       "4  53f31a0fb02a3ea7467e80ad250d43c935d3dc15924c40... 2021-05-12 15:27:28+00:00  "
      ]
     },
     "execution_count": 53,
     "metadata": {},
     "output_type": "execute_result"
    }
   ],
   "source": [
    "df_envelopes.head()"
   ]
  },
  {
   "cell_type": "code",
   "execution_count": 54,
   "id": "5e2cced2-fbec-4f92-9423-70deb48761e0",
   "metadata": {},
   "outputs": [
    {
     "data": {
      "text/html": [
       "<iframe\n",
       "    scrolling=\"no\"\n",
       "    width=\"100%\"\n",
       "    height=\"545px\"\n",
       "    src=\"iframe_figures/figure_54.html\"\n",
       "    frameborder=\"0\"\n",
       "    allowfullscreen\n",
       "></iframe>\n"
      ]
     },
     "metadata": {},
     "output_type": "display_data"
    }
   ],
   "source": [
    "votes_per_day = df_envelopes.groupby(pd.Grouper(key='vote_ts',freq='D'))[\"nullifier\"].count()\n",
    "fig = px.line(votes_per_day)\n",
    "fig.update_layout(title_text=\"votes_per_day\")\n",
    "fig.show();"
   ]
  },
  {
   "cell_type": "code",
   "execution_count": 55,
   "id": "0c8d7d26-5f8b-49d9-ac15-2cc843abfe4b",
   "metadata": {},
   "outputs": [
    {
     "data": {
      "text/html": [
       "<iframe\n",
       "    scrolling=\"no\"\n",
       "    width=\"100%\"\n",
       "    height=\"545px\"\n",
       "    src=\"iframe_figures/figure_55.html\"\n",
       "    frameborder=\"0\"\n",
       "    allowfullscreen\n",
       "></iframe>\n"
      ]
     },
     "metadata": {},
     "output_type": "display_data"
    }
   ],
   "source": [
    "votes_per_day_hour = df_envelopes.groupby(pd.Grouper(key='vote_ts',freq='H'))[\"nullifier\"].count()\n",
    "fig = px.line(votes_per_day_hour)\n",
    "fig.update_layout(title_text=\"votes_per_day_hour\")\n",
    "fig.show();"
   ]
  },
  {
   "cell_type": "code",
   "execution_count": 56,
   "id": "825410de-2121-4fec-a0b8-6cd99dbc6b7f",
   "metadata": {},
   "outputs": [
    {
     "data": {
      "text/html": [
       "<iframe\n",
       "    scrolling=\"no\"\n",
       "    width=\"100%\"\n",
       "    height=\"545px\"\n",
       "    src=\"iframe_figures/figure_56.html\"\n",
       "    frameborder=\"0\"\n",
       "    allowfullscreen\n",
       "></iframe>\n"
      ]
     },
     "metadata": {},
     "output_type": "display_data"
    }
   ],
   "source": [
    "votes_per_weekday = df_envelopes.groupby(df_envelopes['vote_ts'].dt.weekday)[\"nullifier\"].count()\n",
    "fig = px.line(votes_per_weekday)\n",
    "fig.update_layout(title_text=\"votes_per_weekday\")\n",
    "fig.show();"
   ]
  },
  {
   "cell_type": "code",
   "execution_count": 57,
   "id": "8d03c890-2ffb-4361-b60b-db723daed992",
   "metadata": {},
   "outputs": [
    {
     "data": {
      "text/html": [
       "<iframe\n",
       "    scrolling=\"no\"\n",
       "    width=\"100%\"\n",
       "    height=\"545px\"\n",
       "    src=\"iframe_figures/figure_57.html\"\n",
       "    frameborder=\"0\"\n",
       "    allowfullscreen\n",
       "></iframe>\n"
      ]
     },
     "metadata": {},
     "output_type": "display_data"
    }
   ],
   "source": [
    "votes_per_hour = df_envelopes.groupby(df_envelopes['vote_ts'].dt.hour)[\"nullifier\"].count()\n",
    "fig = px.line(votes_per_hour)\n",
    "fig.update_layout(title_text=\"votes_per_hour\")\n",
    "fig.show();"
   ]
  },
  {
   "cell_type": "code",
   "execution_count": 58,
   "id": "da529d60-feed-43f1-a6ef-3d8845aa95a8",
   "metadata": {},
   "outputs": [
    {
     "data": {
      "text/html": [
       "<iframe\n",
       "    scrolling=\"no\"\n",
       "    width=\"100%\"\n",
       "    height=\"545px\"\n",
       "    src=\"iframe_figures/figure_58.html\"\n",
       "    frameborder=\"0\"\n",
       "    allowfullscreen\n",
       "></iframe>\n"
      ]
     },
     "metadata": {},
     "output_type": "display_data"
    }
   ],
   "source": [
    "votes_per_weekday = df_envelopes.groupby(df_envelopes['vote_ts'].dt.weekday)[\"nullifier\"].count()\n",
    "fig = px.line(votes_per_weekday)\n",
    "fig.update_layout(title_text=\"votes_per_weekday\")\n",
    "fig.show();"
   ]
  },
  {
   "cell_type": "markdown",
   "id": "684c57cd-3518-490c-bf57-14e299af08c6",
   "metadata": {},
   "source": [
    "- add weight\n",
    "- Time series\n",
    "  - process starting per date\n",
    "  - open processes per date\n",
    "  - aggs per week day\n",
    "  - aggs per day"
   ]
  },
  {
   "cell_type": "code",
   "execution_count": null,
   "id": "9adf0c07-c9ad-46dd-a7e2-658d99eb1b8e",
   "metadata": {},
   "outputs": [],
   "source": []
  }
 ],
 "metadata": {
  "kernelspec": {
   "display_name": "vocdoni-env",
   "language": "python",
   "name": "vocdoni-env"
  },
  "language_info": {
   "codemirror_mode": {
    "name": "ipython",
    "version": 3
   },
   "file_extension": ".py",
   "mimetype": "text/x-python",
   "name": "python",
   "nbconvert_exporter": "python",
   "pygments_lexer": "ipython3",
   "version": "3.8.5"
  }
 },
 "nbformat": 4,
 "nbformat_minor": 5
}
